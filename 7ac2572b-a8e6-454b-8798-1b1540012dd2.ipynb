{
 "cells": [
  {
   "cell_type": "markdown",
   "metadata": {
    "id": "H6cQIZr3ElW1"
   },
   "source": [
    "В рамках проекта в отделе цифровых технологий интернет-магазина «В один клик» мы будем разрабатывать решение для персонализации предложений постоянным клиентам с целью увеличения их покупательской активности.\n",
    "\n",
    "Для начала мы проведем анализ данных, доступных у нас о постоянных клиентах, их предпочтениях, истории покупок и поведении на сайте магазина. Этот анализ поможет нам лучше понять наших клиентов, их предпочтения и потребности.\n",
    "\n",
    "На основе полученных данных мы разработаем модель персонализации предложений. Модель будет использовать алгоритмы машинного обучения и анализа данных для определения наиболее релевантных предложений для каждого клиента. Мы учтем такие факторы, как предпочтения, история покупок, сезонные и акционные предложения, а также данные, связанные с поведением клиента на сайте.\n",
    "\n",
    "Для реализации персонализированных предложений мы будем использовать различные инструменты и технологии, включая базы данных для хранения и управления клиентскими данными, алгоритмы машинного обучения для обработки и анализа данных, а также систему управления контентом для динамического формирования предложений.\n",
    "\n",
    "После создания модели персонализации предложений мы проведем тестирование и оптимизацию решения. Мы будем анализировать результаты и корректировать модель, чтобы повысить ее эффективность и точность в предлагаемых предложениях.\n",
    "\n",
    "Наша цель - создать решение, которое позволит магазину «В один клик» повысить покупательскую активность постоянных клиентов путем предоставления им персонализированных предложений. Это поможет удерживать клиентов, улучшить их опыт покупок и увеличить общую прибыль магазина."
   ]
  },
  {
   "cell_type": "markdown",
   "metadata": {},
   "source": [
    "# Загрузка данных"
   ]
  },
  {
   "cell_type": "markdown",
   "metadata": {},
   "source": [
    "Обновим или установим необходимые пакеты Python для анализа данных:"
   ]
  },
  {
   "cell_type": "code",
   "execution_count": 1,
   "metadata": {},
   "outputs": [
    {
     "name": "stdout",
     "output_type": "stream",
     "text": [
      "\u001b[31mERROR: pip's dependency resolver does not currently take into account all the packages that are installed. This behaviour is the source of the following dependency conflicts.\r\n",
      "numba 0.56.0 requires numpy<1.23,>=1.18, but you have numpy 1.26.4 which is incompatible.\u001b[0m\r\n"
     ]
    }
   ],
   "source": [
    "!pip install phik -q\n",
    "!pip install --upgrade scikit-learn scipy -q\n",
    "!pip install shap -q\n",
    "!pip install --upgrade shap -q\n",
    "!pip install scikit-learn==1.1.3 -q"
   ]
  },
  {
   "cell_type": "code",
   "execution_count": 2,
   "metadata": {},
   "outputs": [],
   "source": [
    "!pip install matplotlib -U -q "
   ]
  },
  {
   "cell_type": "markdown",
   "metadata": {},
   "source": [
    "Импортируем необходимые библиотеки:"
   ]
  },
  {
   "cell_type": "code",
   "execution_count": 3,
   "metadata": {},
   "outputs": [],
   "source": [
    "import os\n",
    "import pandas as pd\n",
    "import re\n",
    "import matplotlib.pyplot as plt\n",
    "import numpy as np\n",
    "import phik\n",
    "import seaborn as sns\n",
    "from sklearn.model_selection import train_test_split\n",
    "from sklearn.pipeline import Pipeline\n",
    "from sklearn.preprocessing import OneHotEncoder, OrdinalEncoder, StandardScaler, MinMaxScaler, RobustScaler\n",
    "from sklearn.compose import ColumnTransformer\n",
    "from sklearn.impute import SimpleImputer\n",
    "from sklearn.metrics import roc_auc_score\n",
    "from sklearn.model_selection import RandomizedSearchCV\n",
    "from sklearn.linear_model import LogisticRegression\n",
    "from sklearn.neighbors import KNeighborsClassifier\n",
    "from sklearn.tree import DecisionTreeClassifier\n",
    "from sklearn.preprocessing import LabelEncoder\n",
    "import shap"
   ]
  },
  {
   "cell_type": "markdown",
   "metadata": {},
   "source": [
    "Загрузим данные в датафреймы:"
   ]
  },
  {
   "cell_type": "code",
   "execution_count": 4,
   "metadata": {},
   "outputs": [],
   "source": [
    "def load_data(file_path, delimiter=','):\n",
    "    # Проверка существования файла по указанному пути\n",
    "    if os.path.exists(file_path):\n",
    "        # Загрузка данных из файла в датафрейм с использованием указанного разделителя\n",
    "        data = pd.read_csv(file_path, delimiter=delimiter)\n",
    "        print(f\"Данные из файла '{file_path}' успешно загружены.\")\n",
    "        return data\n",
    "    else:\n",
    "        # Вывод сообщения о том, что файл не существует\n",
    "        print(f\"Файл '{file_path}' не существует.\")\n",
    "        return None"
   ]
  },
  {
   "cell_type": "code",
   "execution_count": 5,
   "metadata": {},
   "outputs": [
    {
     "name": "stdout",
     "output_type": "stream",
     "text": [
      "Данные из файла '/datasets/market_file.csv' успешно загружены.\n",
      "Данные из файла '/datasets/market_money.csv' успешно загружены.\n",
      "Данные из файла '/datasets/market_time.csv' успешно загружены.\n",
      "Данные из файла '/datasets/money.csv' успешно загружены.\n"
     ]
    }
   ],
   "source": [
    "market_file = load_data('/datasets/market_file.csv')\n",
    "market_money = load_data('/datasets/market_money.csv')\n",
    "market_time = load_data('/datasets/market_time.csv')\n",
    "money = load_data('/datasets/money.csv', delimiter=';')"
   ]
  },
  {
   "cell_type": "markdown",
   "metadata": {},
   "source": [
    "Создадим список из датафреймов:"
   ]
  },
  {
   "cell_type": "code",
   "execution_count": 6,
   "metadata": {},
   "outputs": [],
   "source": [
    "dataframes = [market_file, market_money, market_time, money]"
   ]
  },
  {
   "cell_type": "code",
   "execution_count": 7,
   "metadata": {},
   "outputs": [],
   "source": [
    "df_names= ['market_file', 'market_money', 'market_time', 'money']"
   ]
  },
  {
   "cell_type": "markdown",
   "metadata": {},
   "source": [
    "Переименуем все столбцы в змеиный регистр:"
   ]
  },
  {
   "cell_type": "code",
   "execution_count": 8,
   "metadata": {},
   "outputs": [],
   "source": [
    "def rename_columns_to_snake_case(dataframes):\n",
    "    # Проход по каждому датафрейму в списке\n",
    "    for df in dataframes:\n",
    "        # Преобразование названий столбцов к змеиному регистру\n",
    "        df.columns = [\n",
    "            # Если в названии столбца есть текст в скобках, выполняется преобразование\n",
    "            re.findall(r'\\((.*?)\\)', column)[0].lower().replace(' ', '_').replace(',', '')\\\n",
    "                .replace('%', '_в_процентах').replace('-', '_')\n",
    "                if re.findall(r'\\((.*?)\\)', column)  # Проверка на наличие текста в скобках\n",
    "                else column.lower().replace(' ', '_').replace(',', '').replace('%', '_в_процентах').replace('-', '_')\n",
    "            for column in df.columns  # Проход по каждому столбцу в датафрейме\n",
    "        ]"
   ]
  },
  {
   "cell_type": "code",
   "execution_count": 9,
   "metadata": {},
   "outputs": [],
   "source": [
    "rename_columns_to_snake_case(dataframes)"
   ]
  },
  {
   "cell_type": "markdown",
   "metadata": {},
   "source": [
    "Выведем общую информацию для датафреймов:"
   ]
  },
  {
   "cell_type": "code",
   "execution_count": 10,
   "metadata": {},
   "outputs": [],
   "source": [
    "def dataframes_info(dataframes):\n",
    "    for i, df in enumerate(dataframes):\n",
    "        print(f\"Информация о датафрейме {df_names[i]}:\\n\")\n",
    "        # Общая информация о датафрейме\n",
    "        display(df.info())\n",
    "        # Первые 5 строк датафрейма\n",
    "        #display(df.head())"
   ]
  },
  {
   "cell_type": "code",
   "execution_count": 11,
   "metadata": {},
   "outputs": [
    {
     "name": "stdout",
     "output_type": "stream",
     "text": [
      "Информация о датафрейме market_file:\n",
      "\n",
      "<class 'pandas.core.frame.DataFrame'>\n",
      "RangeIndex: 1300 entries, 0 to 1299\n",
      "Data columns (total 13 columns):\n",
      " #   Column                               Non-Null Count  Dtype  \n",
      "---  ------                               --------------  -----  \n",
      " 0   id                                   1300 non-null   int64  \n",
      " 1   покупательская_активность            1300 non-null   object \n",
      " 2   тип_сервиса                          1300 non-null   object \n",
      " 3   разрешить_сообщать                   1300 non-null   object \n",
      " 4   маркет_актив_6_мес                   1300 non-null   float64\n",
      " 5   маркет_актив_тек_мес                 1300 non-null   int64  \n",
      " 6   длительность                         1300 non-null   int64  \n",
      " 7   акционные_покупки                    1300 non-null   float64\n",
      " 8   популярная_категория                 1300 non-null   object \n",
      " 9   средний_просмотр_категорий_за_визит  1300 non-null   int64  \n",
      " 10  неоплаченные_продукты_штук_квартал   1300 non-null   int64  \n",
      " 11  ошибка_сервиса                       1300 non-null   int64  \n",
      " 12  страниц_за_визит                     1300 non-null   int64  \n",
      "dtypes: float64(2), int64(7), object(4)\n",
      "memory usage: 132.2+ KB\n"
     ]
    },
    {
     "data": {
      "text/plain": [
       "None"
      ]
     },
     "metadata": {},
     "output_type": "display_data"
    },
    {
     "name": "stdout",
     "output_type": "stream",
     "text": [
      "Информация о датафрейме market_money:\n",
      "\n",
      "<class 'pandas.core.frame.DataFrame'>\n",
      "RangeIndex: 3900 entries, 0 to 3899\n",
      "Data columns (total 3 columns):\n",
      " #   Column   Non-Null Count  Dtype  \n",
      "---  ------   --------------  -----  \n",
      " 0   id       3900 non-null   int64  \n",
      " 1   период   3900 non-null   object \n",
      " 2   выручка  3900 non-null   float64\n",
      "dtypes: float64(1), int64(1), object(1)\n",
      "memory usage: 91.5+ KB\n"
     ]
    },
    {
     "data": {
      "text/plain": [
       "None"
      ]
     },
     "metadata": {},
     "output_type": "display_data"
    },
    {
     "name": "stdout",
     "output_type": "stream",
     "text": [
      "Информация о датафрейме market_time:\n",
      "\n",
      "<class 'pandas.core.frame.DataFrame'>\n",
      "RangeIndex: 2600 entries, 0 to 2599\n",
      "Data columns (total 3 columns):\n",
      " #   Column  Non-Null Count  Dtype \n",
      "---  ------  --------------  ----- \n",
      " 0   id      2600 non-null   int64 \n",
      " 1   период  2600 non-null   object\n",
      " 2   минут   2600 non-null   int64 \n",
      "dtypes: int64(2), object(1)\n",
      "memory usage: 61.1+ KB\n"
     ]
    },
    {
     "data": {
      "text/plain": [
       "None"
      ]
     },
     "metadata": {},
     "output_type": "display_data"
    },
    {
     "name": "stdout",
     "output_type": "stream",
     "text": [
      "Информация о датафрейме money:\n",
      "\n",
      "<class 'pandas.core.frame.DataFrame'>\n",
      "RangeIndex: 1300 entries, 0 to 1299\n",
      "Data columns (total 2 columns):\n",
      " #   Column   Non-Null Count  Dtype \n",
      "---  ------   --------------  ----- \n",
      " 0   id       1300 non-null   int64 \n",
      " 1   прибыль  1300 non-null   object\n",
      "dtypes: int64(1), object(1)\n",
      "memory usage: 20.4+ KB\n"
     ]
    },
    {
     "data": {
      "text/plain": [
       "None"
      ]
     },
     "metadata": {},
     "output_type": "display_data"
    }
   ],
   "source": [
    "dataframes_info(dataframes)"
   ]
  },
  {
   "cell_type": "code",
   "execution_count": 12,
   "metadata": {},
   "outputs": [],
   "source": [
    "def dataframes_head(dataframes):\n",
    "    for i, df in enumerate(dataframes):\n",
    "        print(f\"Первые 5 строк датафрейма {df_names[i]}:\\n\")\n",
    "        # Первые 5 строк датафрейма\n",
    "        display(df.head())\n",
    "        print(f\"\\n\")"
   ]
  },
  {
   "cell_type": "code",
   "execution_count": 13,
   "metadata": {},
   "outputs": [
    {
     "name": "stdout",
     "output_type": "stream",
     "text": [
      "Первые 5 строк датафрейма market_file:\n",
      "\n"
     ]
    },
    {
     "data": {
      "text/html": [
       "<div>\n",
       "<style scoped>\n",
       "    .dataframe tbody tr th:only-of-type {\n",
       "        vertical-align: middle;\n",
       "    }\n",
       "\n",
       "    .dataframe tbody tr th {\n",
       "        vertical-align: top;\n",
       "    }\n",
       "\n",
       "    .dataframe thead th {\n",
       "        text-align: right;\n",
       "    }\n",
       "</style>\n",
       "<table border=\"1\" class=\"dataframe\">\n",
       "  <thead>\n",
       "    <tr style=\"text-align: right;\">\n",
       "      <th></th>\n",
       "      <th>id</th>\n",
       "      <th>покупательская_активность</th>\n",
       "      <th>тип_сервиса</th>\n",
       "      <th>разрешить_сообщать</th>\n",
       "      <th>маркет_актив_6_мес</th>\n",
       "      <th>маркет_актив_тек_мес</th>\n",
       "      <th>длительность</th>\n",
       "      <th>акционные_покупки</th>\n",
       "      <th>популярная_категория</th>\n",
       "      <th>средний_просмотр_категорий_за_визит</th>\n",
       "      <th>неоплаченные_продукты_штук_квартал</th>\n",
       "      <th>ошибка_сервиса</th>\n",
       "      <th>страниц_за_визит</th>\n",
       "    </tr>\n",
       "  </thead>\n",
       "  <tbody>\n",
       "    <tr>\n",
       "      <th>0</th>\n",
       "      <td>215348</td>\n",
       "      <td>Снизилась</td>\n",
       "      <td>премиум</td>\n",
       "      <td>да</td>\n",
       "      <td>3.4</td>\n",
       "      <td>5</td>\n",
       "      <td>121</td>\n",
       "      <td>0.00</td>\n",
       "      <td>Товары для детей</td>\n",
       "      <td>6</td>\n",
       "      <td>2</td>\n",
       "      <td>1</td>\n",
       "      <td>5</td>\n",
       "    </tr>\n",
       "    <tr>\n",
       "      <th>1</th>\n",
       "      <td>215349</td>\n",
       "      <td>Снизилась</td>\n",
       "      <td>премиум</td>\n",
       "      <td>да</td>\n",
       "      <td>4.4</td>\n",
       "      <td>4</td>\n",
       "      <td>819</td>\n",
       "      <td>0.75</td>\n",
       "      <td>Товары для детей</td>\n",
       "      <td>4</td>\n",
       "      <td>4</td>\n",
       "      <td>2</td>\n",
       "      <td>5</td>\n",
       "    </tr>\n",
       "    <tr>\n",
       "      <th>2</th>\n",
       "      <td>215350</td>\n",
       "      <td>Снизилась</td>\n",
       "      <td>стандартт</td>\n",
       "      <td>нет</td>\n",
       "      <td>4.9</td>\n",
       "      <td>3</td>\n",
       "      <td>539</td>\n",
       "      <td>0.14</td>\n",
       "      <td>Домашний текстиль</td>\n",
       "      <td>5</td>\n",
       "      <td>2</td>\n",
       "      <td>1</td>\n",
       "      <td>5</td>\n",
       "    </tr>\n",
       "    <tr>\n",
       "      <th>3</th>\n",
       "      <td>215351</td>\n",
       "      <td>Снизилась</td>\n",
       "      <td>стандартт</td>\n",
       "      <td>да</td>\n",
       "      <td>3.2</td>\n",
       "      <td>5</td>\n",
       "      <td>896</td>\n",
       "      <td>0.99</td>\n",
       "      <td>Товары для детей</td>\n",
       "      <td>5</td>\n",
       "      <td>0</td>\n",
       "      <td>6</td>\n",
       "      <td>4</td>\n",
       "    </tr>\n",
       "    <tr>\n",
       "      <th>4</th>\n",
       "      <td>215352</td>\n",
       "      <td>Снизилась</td>\n",
       "      <td>стандартт</td>\n",
       "      <td>нет</td>\n",
       "      <td>5.1</td>\n",
       "      <td>3</td>\n",
       "      <td>1064</td>\n",
       "      <td>0.94</td>\n",
       "      <td>Товары для детей</td>\n",
       "      <td>3</td>\n",
       "      <td>2</td>\n",
       "      <td>3</td>\n",
       "      <td>2</td>\n",
       "    </tr>\n",
       "  </tbody>\n",
       "</table>\n",
       "</div>"
      ],
      "text/plain": [
       "       id покупательская_активность тип_сервиса разрешить_сообщать  \\\n",
       "0  215348                 Снизилась     премиум                 да   \n",
       "1  215349                 Снизилась     премиум                 да   \n",
       "2  215350                 Снизилась   стандартт                нет   \n",
       "3  215351                 Снизилась   стандартт                 да   \n",
       "4  215352                 Снизилась   стандартт                нет   \n",
       "\n",
       "   маркет_актив_6_мес  маркет_актив_тек_мес  длительность  акционные_покупки  \\\n",
       "0                 3.4                     5           121               0.00   \n",
       "1                 4.4                     4           819               0.75   \n",
       "2                 4.9                     3           539               0.14   \n",
       "3                 3.2                     5           896               0.99   \n",
       "4                 5.1                     3          1064               0.94   \n",
       "\n",
       "  популярная_категория  средний_просмотр_категорий_за_визит  \\\n",
       "0     Товары для детей                                    6   \n",
       "1     Товары для детей                                    4   \n",
       "2    Домашний текстиль                                    5   \n",
       "3     Товары для детей                                    5   \n",
       "4     Товары для детей                                    3   \n",
       "\n",
       "   неоплаченные_продукты_штук_квартал  ошибка_сервиса  страниц_за_визит  \n",
       "0                                   2               1                 5  \n",
       "1                                   4               2                 5  \n",
       "2                                   2               1                 5  \n",
       "3                                   0               6                 4  \n",
       "4                                   2               3                 2  "
      ]
     },
     "metadata": {},
     "output_type": "display_data"
    },
    {
     "name": "stdout",
     "output_type": "stream",
     "text": [
      "\n",
      "\n",
      "Первые 5 строк датафрейма market_money:\n",
      "\n"
     ]
    },
    {
     "data": {
      "text/html": [
       "<div>\n",
       "<style scoped>\n",
       "    .dataframe tbody tr th:only-of-type {\n",
       "        vertical-align: middle;\n",
       "    }\n",
       "\n",
       "    .dataframe tbody tr th {\n",
       "        vertical-align: top;\n",
       "    }\n",
       "\n",
       "    .dataframe thead th {\n",
       "        text-align: right;\n",
       "    }\n",
       "</style>\n",
       "<table border=\"1\" class=\"dataframe\">\n",
       "  <thead>\n",
       "    <tr style=\"text-align: right;\">\n",
       "      <th></th>\n",
       "      <th>id</th>\n",
       "      <th>период</th>\n",
       "      <th>выручка</th>\n",
       "    </tr>\n",
       "  </thead>\n",
       "  <tbody>\n",
       "    <tr>\n",
       "      <th>0</th>\n",
       "      <td>215348</td>\n",
       "      <td>препредыдущий_месяц</td>\n",
       "      <td>0.0</td>\n",
       "    </tr>\n",
       "    <tr>\n",
       "      <th>1</th>\n",
       "      <td>215348</td>\n",
       "      <td>текущий_месяц</td>\n",
       "      <td>3293.1</td>\n",
       "    </tr>\n",
       "    <tr>\n",
       "      <th>2</th>\n",
       "      <td>215348</td>\n",
       "      <td>предыдущий_месяц</td>\n",
       "      <td>0.0</td>\n",
       "    </tr>\n",
       "    <tr>\n",
       "      <th>3</th>\n",
       "      <td>215349</td>\n",
       "      <td>препредыдущий_месяц</td>\n",
       "      <td>4472.0</td>\n",
       "    </tr>\n",
       "    <tr>\n",
       "      <th>4</th>\n",
       "      <td>215349</td>\n",
       "      <td>текущий_месяц</td>\n",
       "      <td>4971.6</td>\n",
       "    </tr>\n",
       "  </tbody>\n",
       "</table>\n",
       "</div>"
      ],
      "text/plain": [
       "       id               период  выручка\n",
       "0  215348  препредыдущий_месяц      0.0\n",
       "1  215348        текущий_месяц   3293.1\n",
       "2  215348     предыдущий_месяц      0.0\n",
       "3  215349  препредыдущий_месяц   4472.0\n",
       "4  215349        текущий_месяц   4971.6"
      ]
     },
     "metadata": {},
     "output_type": "display_data"
    },
    {
     "name": "stdout",
     "output_type": "stream",
     "text": [
      "\n",
      "\n",
      "Первые 5 строк датафрейма market_time:\n",
      "\n"
     ]
    },
    {
     "data": {
      "text/html": [
       "<div>\n",
       "<style scoped>\n",
       "    .dataframe tbody tr th:only-of-type {\n",
       "        vertical-align: middle;\n",
       "    }\n",
       "\n",
       "    .dataframe tbody tr th {\n",
       "        vertical-align: top;\n",
       "    }\n",
       "\n",
       "    .dataframe thead th {\n",
       "        text-align: right;\n",
       "    }\n",
       "</style>\n",
       "<table border=\"1\" class=\"dataframe\">\n",
       "  <thead>\n",
       "    <tr style=\"text-align: right;\">\n",
       "      <th></th>\n",
       "      <th>id</th>\n",
       "      <th>период</th>\n",
       "      <th>минут</th>\n",
       "    </tr>\n",
       "  </thead>\n",
       "  <tbody>\n",
       "    <tr>\n",
       "      <th>0</th>\n",
       "      <td>215348</td>\n",
       "      <td>текущий_месяц</td>\n",
       "      <td>14</td>\n",
       "    </tr>\n",
       "    <tr>\n",
       "      <th>1</th>\n",
       "      <td>215348</td>\n",
       "      <td>предыдцщий_месяц</td>\n",
       "      <td>13</td>\n",
       "    </tr>\n",
       "    <tr>\n",
       "      <th>2</th>\n",
       "      <td>215349</td>\n",
       "      <td>текущий_месяц</td>\n",
       "      <td>10</td>\n",
       "    </tr>\n",
       "    <tr>\n",
       "      <th>3</th>\n",
       "      <td>215349</td>\n",
       "      <td>предыдцщий_месяц</td>\n",
       "      <td>12</td>\n",
       "    </tr>\n",
       "    <tr>\n",
       "      <th>4</th>\n",
       "      <td>215350</td>\n",
       "      <td>текущий_месяц</td>\n",
       "      <td>13</td>\n",
       "    </tr>\n",
       "  </tbody>\n",
       "</table>\n",
       "</div>"
      ],
      "text/plain": [
       "       id            период  минут\n",
       "0  215348     текущий_месяц     14\n",
       "1  215348  предыдцщий_месяц     13\n",
       "2  215349     текущий_месяц     10\n",
       "3  215349  предыдцщий_месяц     12\n",
       "4  215350     текущий_месяц     13"
      ]
     },
     "metadata": {},
     "output_type": "display_data"
    },
    {
     "name": "stdout",
     "output_type": "stream",
     "text": [
      "\n",
      "\n",
      "Первые 5 строк датафрейма money:\n",
      "\n"
     ]
    },
    {
     "data": {
      "text/html": [
       "<div>\n",
       "<style scoped>\n",
       "    .dataframe tbody tr th:only-of-type {\n",
       "        vertical-align: middle;\n",
       "    }\n",
       "\n",
       "    .dataframe tbody tr th {\n",
       "        vertical-align: top;\n",
       "    }\n",
       "\n",
       "    .dataframe thead th {\n",
       "        text-align: right;\n",
       "    }\n",
       "</style>\n",
       "<table border=\"1\" class=\"dataframe\">\n",
       "  <thead>\n",
       "    <tr style=\"text-align: right;\">\n",
       "      <th></th>\n",
       "      <th>id</th>\n",
       "      <th>прибыль</th>\n",
       "    </tr>\n",
       "  </thead>\n",
       "  <tbody>\n",
       "    <tr>\n",
       "      <th>0</th>\n",
       "      <td>215348</td>\n",
       "      <td>0,98</td>\n",
       "    </tr>\n",
       "    <tr>\n",
       "      <th>1</th>\n",
       "      <td>215349</td>\n",
       "      <td>4,16</td>\n",
       "    </tr>\n",
       "    <tr>\n",
       "      <th>2</th>\n",
       "      <td>215350</td>\n",
       "      <td>3,13</td>\n",
       "    </tr>\n",
       "    <tr>\n",
       "      <th>3</th>\n",
       "      <td>215351</td>\n",
       "      <td>4,87</td>\n",
       "    </tr>\n",
       "    <tr>\n",
       "      <th>4</th>\n",
       "      <td>215352</td>\n",
       "      <td>4,21</td>\n",
       "    </tr>\n",
       "  </tbody>\n",
       "</table>\n",
       "</div>"
      ],
      "text/plain": [
       "       id прибыль\n",
       "0  215348    0,98\n",
       "1  215349    4,16\n",
       "2  215350    3,13\n",
       "3  215351    4,87\n",
       "4  215352    4,21"
      ]
     },
     "metadata": {},
     "output_type": "display_data"
    },
    {
     "name": "stdout",
     "output_type": "stream",
     "text": [
      "\n",
      "\n"
     ]
    }
   ],
   "source": [
    "dataframes_head(dataframes)"
   ]
  },
  {
   "cell_type": "markdown",
   "metadata": {},
   "source": [
    "Были успешно загружены данные из внешних файлов в четыре датафрейма. \n",
    "\n",
    "Выполнена предобработка данных:\n",
    "\n",
    "- Столбцы переименованы в snake_case нотацию для стандартизации и удобства дальнейшей работы с данными\n",
    "- Получена общая информация о датафреймах и выведены их первые строки\n",
    "\n",
    "Теперь имеется четыре датафрейма с загруженными данными, прошедшими предварительную подготовку. Таким образом, подготовлена рабочая среда для дальнейшего объединения, анализа и моделирования многофакторных данных."
   ]
  },
  {
   "cell_type": "markdown",
   "metadata": {},
   "source": [
    "# Предобработка данных"
   ]
  },
  {
   "cell_type": "markdown",
   "metadata": {},
   "source": [
    "Заменим типы данных в датафреймах:"
   ]
  },
  {
   "cell_type": "code",
   "execution_count": 14,
   "metadata": {},
   "outputs": [],
   "source": [
    "def dtypes_change(dataframes):\n",
    "    for df in dataframes:\n",
    "        # Выбираем только столбцы с типом данных object\n",
    "        object_columns = df.select_dtypes(include='object').columns\n",
    "    \n",
    "        # Замена запятых на точки во всех столбцах object\n",
    "        for col in object_columns:\n",
    "            df.loc[:, col] = df[col].str.replace(',', '.')\n",
    "        \n",
    "            # Изменение типа на float, если возможно\n",
    "            try:\n",
    "                df.loc[:, col] = df[col].astype(float)\n",
    "            except ValueError:\n",
    "                pass"
   ]
  },
  {
   "cell_type": "code",
   "execution_count": 15,
   "metadata": {},
   "outputs": [],
   "source": [
    "dtypes_change(dataframes)"
   ]
  },
  {
   "cell_type": "code",
   "execution_count": 16,
   "metadata": {},
   "outputs": [],
   "source": [
    "def print_unique_values(dataframes):\n",
    "    for i, df in enumerate(dataframes):\n",
    "        string_columns = df.select_dtypes(include='object').columns\n",
    "        if len(string_columns) == 0:\n",
    "            print(f\"В датафрейме {df_names[i]} нет столбцов строкового типа.\\n\")\n",
    "        else:\n",
    "            print(f\"Уникальные значения в датафрейме {df_names[i]} для каждого столбца строкового типа:\\n\")\n",
    "            for column in string_columns:\n",
    "                unique_values = df[column].unique()\n",
    "                print(f\"Столбец {column}:\")\n",
    "                print(unique_values)\n",
    "                print('\\n')"
   ]
  },
  {
   "cell_type": "code",
   "execution_count": 17,
   "metadata": {},
   "outputs": [
    {
     "name": "stdout",
     "output_type": "stream",
     "text": [
      "Уникальные значения в датафрейме market_file для каждого столбца строкового типа:\n",
      "\n",
      "Столбец покупательская_активность:\n",
      "['Снизилась' 'Прежний уровень']\n",
      "\n",
      "\n",
      "Столбец тип_сервиса:\n",
      "['премиум' 'стандартт' 'стандарт']\n",
      "\n",
      "\n",
      "Столбец разрешить_сообщать:\n",
      "['да' 'нет']\n",
      "\n",
      "\n",
      "Столбец популярная_категория:\n",
      "['Товары для детей' 'Домашний текстиль' 'Косметика и аксесуары'\n",
      " 'Техника для красоты и здоровья' 'Кухонная посуда'\n",
      " 'Мелкая бытовая техника и электроника']\n",
      "\n",
      "\n",
      "Уникальные значения в датафрейме market_money для каждого столбца строкового типа:\n",
      "\n",
      "Столбец период:\n",
      "['препредыдущий_месяц' 'текущий_месяц' 'предыдущий_месяц']\n",
      "\n",
      "\n",
      "Уникальные значения в датафрейме market_time для каждого столбца строкового типа:\n",
      "\n",
      "Столбец период:\n",
      "['текущий_месяц' 'предыдцщий_месяц']\n",
      "\n",
      "\n",
      "В датафрейме money нет столбцов строкового типа.\n",
      "\n"
     ]
    }
   ],
   "source": [
    "print_unique_values(dataframes)"
   ]
  },
  {
   "cell_type": "code",
   "execution_count": 18,
   "metadata": {},
   "outputs": [],
   "source": [
    "# Замена значения \"стандартт\" на \"стандарт\" в столбце \"тип_сервиса\"\n",
    "market_file['тип_сервиса'] = market_file['тип_сервиса'].replace('стандартт', 'стандарт')"
   ]
  },
  {
   "cell_type": "code",
   "execution_count": 19,
   "metadata": {},
   "outputs": [],
   "source": [
    "# Замена значения \"предыдцщий_месяц\" на \"предыдущий_месяц\" в столбце \"период\"\n",
    "market_time['период'] = market_time['период'].replace('предыдцщий_месяц', 'предыдущий_месяц')"
   ]
  },
  {
   "cell_type": "markdown",
   "metadata": {},
   "source": [
    "Выполнена предобработка данных в нескольких шагах:\n",
    "\n",
    "- Заменили типы данных, где нужно. \n",
    "\n",
    "- Обнаружены и исправлены ошибки в написании значений:\n",
    "   - \"стандартт\" заменено на \"стандарт\"\n",
    "   - \"предыдцщий_месяц\" заменено на \"предыдущий_месяц\"\n",
    "\n",
    "Таким образом, выполнена чистка и стандартизация данных перед их дальнейшим объединением и анализом, что позволит избежать ошибок на последующих этапах обработки."
   ]
  },
  {
   "cell_type": "markdown",
   "metadata": {},
   "source": [
    "# Исследовательский анализ данных"
   ]
  },
  {
   "cell_type": "code",
   "execution_count": 20,
   "metadata": {},
   "outputs": [],
   "source": [
    "def plot_histograms(df):\n",
    "    numeric_columns = df.select_dtypes(include='number').columns\n",
    "\n",
    "    # Исключение столбца 'id'\n",
    "    numeric_columns = numeric_columns.drop('id', errors='ignore')\n",
    "\n",
    "    num_plots = len(numeric_columns)\n",
    "    num_rows = (num_plots + 1) // 2  # Вычисление количества строк\n",
    "\n",
    "    fig, axes = plt.subplots(num_rows, 2, figsize=(15, 5 * num_rows))\n",
    "    fig.tight_layout(pad=5.0)  # Увеличение промежутка между графиками\n",
    "\n",
    "    for i, column in enumerate(numeric_columns):\n",
    "        row = i // 2  # Вычисление текущей строки\n",
    "        col = i % 2   # Вычисление текущего столбца\n",
    "\n",
    "        ax = axes[row, col] if num_rows > 1 else axes[col]  # Получение текущей оси\n",
    "\n",
    "        # Вычисление количества \"bins\" на основе количества уникальных значений\n",
    "        bins = min(10, len(df[column].unique()))\n",
    "\n",
    "        active = df.loc[df['покупательская_активность'] == 'Прежний уровень', column]\n",
    "        reduced = df.loc[df['покупательская_активность'] == 'Снизилась', column]\n",
    "\n",
    "        ax.hist(active, bins=bins, alpha=0.5, label='Прежний уровень')\n",
    "        ax.hist(reduced, bins=bins, alpha=0.5, label='Снизилась')\n",
    "\n",
    "        ax.set_title(f'Распределение {column}')\n",
    "        ax.set_xlabel(column)\n",
    "        ax.set_ylabel('Количество')\n",
    "        ax.legend()\n",
    "\n",
    "    plt.show()"
   ]
  },
  {
   "cell_type": "code",
   "execution_count": 21,
   "metadata": {},
   "outputs": [
    {
     "data": {
      "image/png": "[encoded data removed]",
      "text/plain": [
       "<Figure size 1080x1440 with 8 Axes>"
      ]
     },
     "metadata": {
      "needs_background": "light"
     },
     "output_type": "display_data"
    }
   ],
   "source": [
    "plot_histograms(dataframes[0])"
   ]
  },
  {
   "cell_type": "markdown",
   "metadata": {},
   "source": [
    "Пользователи, чья активность снизилась, просматривают меньше страниц и категорий за визит, а также у них больше неоплаченных продуктов и меньше маркетинговых коммуникаций."
   ]
  },
  {
   "cell_type": "code",
   "execution_count": 22,
   "metadata": {},
   "outputs": [],
   "source": [
    "def plot_histogram(df):\n",
    "    numeric_columns = df.select_dtypes(include='number').columns\n",
    "\n",
    "    # Исключение столбца 'id'\n",
    "    numeric_columns = numeric_columns.drop('id', errors='ignore')\n",
    "\n",
    "    if len(numeric_columns) == 0:\n",
    "        print(\"В датафрейме нет числовых столбцов.\")\n",
    "        return\n",
    "\n",
    "    elif len(numeric_columns) == 1:\n",
    "        column = numeric_columns[0]\n",
    "\n",
    "    fig, ax = plt.subplots(figsize=(15, 5))\n",
    "    \n",
    "    # Вычисление количества \"bins\" на основе количества уникальных значений\n",
    "    bins = int(np.sqrt(df[column].nunique()))\n",
    "    \n",
    "    ax.hist(df[column], bins=bins)\n",
    "    ax.set_title(f'Распределение {column}')\n",
    "    ax.set_xlabel(column)\n",
    "    ax.set_ylabel('Количество')\n",
    "    \n",
    "    plt.show()"
   ]
  },
  {
   "cell_type": "code",
   "execution_count": 23,
   "metadata": {},
   "outputs": [],
   "source": [
    "dataframes[1] = dataframes[1].loc[(dataframes[1]['выручка'] > 0) & (dataframes[1]['выручка'] <= 20000)]"
   ]
  },
  {
   "cell_type": "code",
   "execution_count": 24,
   "metadata": {},
   "outputs": [
    {
     "data": {
      "image/png": "[encoded data removed]",
      "text/plain": [
       "<Figure size 1080x360 with 1 Axes>"
      ]
     },
     "metadata": {
      "needs_background": "light"
     },
     "output_type": "display_data"
    }
   ],
   "source": [
    "plot_histogram(dataframes[1])"
   ]
  },
  {
   "cell_type": "markdown",
   "metadata": {},
   "source": [
    "Чаще всего выручка около 5000."
   ]
  },
  {
   "cell_type": "code",
   "execution_count": 25,
   "metadata": {},
   "outputs": [
    {
     "data": {
      "image/png": "[encoded data removed]",
      "text/plain": [
       "<Figure size 1080x360 with 1 Axes>"
      ]
     },
     "metadata": {
      "needs_background": "light"
     },
     "output_type": "display_data"
    }
   ],
   "source": [
    "plot_histogram(dataframes[2])"
   ]
  },
  {
   "cell_type": "markdown",
   "metadata": {},
   "source": [
    "В основном пользователи проводят более 10 минут."
   ]
  },
  {
   "cell_type": "code",
   "execution_count": 26,
   "metadata": {
    "scrolled": true
   },
   "outputs": [
    {
     "data": {
      "image/png": "[encoded data removed]",
      "text/plain": [
       "<Figure size 1080x360 with 1 Axes>"
      ]
     },
     "metadata": {
      "needs_background": "light"
     },
     "output_type": "display_data"
    }
   ],
   "source": [
    "plot_histogram(dataframes[3])"
   ]
  },
  {
   "cell_type": "markdown",
   "metadata": {},
   "source": [
    "В среднем прибыль 4,5, которую получает магазин от продаж каждому покупателю."
   ]
  },
  {
   "cell_type": "code",
   "execution_count": 27,
   "metadata": {},
   "outputs": [],
   "source": [
    "df_active = dataframes[0][dataframes[0]['покупательская_активность'] == 'Прежний уровень']\n",
    "df_reduced = dataframes[0][dataframes[0]['покупательская_активность'] == 'Снизилась']"
   ]
  },
  {
   "cell_type": "code",
   "execution_count": 28,
   "metadata": {},
   "outputs": [
    {
     "data": {
      "text/html": [
       "<div>\n",
       "<style scoped>\n",
       "    .dataframe tbody tr th:only-of-type {\n",
       "        vertical-align: middle;\n",
       "    }\n",
       "\n",
       "    .dataframe tbody tr th {\n",
       "        vertical-align: top;\n",
       "    }\n",
       "\n",
       "    .dataframe thead th {\n",
       "        text-align: right;\n",
       "    }\n",
       "</style>\n",
       "<table border=\"1\" class=\"dataframe\">\n",
       "  <thead>\n",
       "    <tr style=\"text-align: right;\">\n",
       "      <th></th>\n",
       "      <th>маркет_актив_6_мес</th>\n",
       "      <th>маркет_актив_тек_мес</th>\n",
       "      <th>длительность</th>\n",
       "      <th>акционные_покупки</th>\n",
       "      <th>средний_просмотр_категорий_за_визит</th>\n",
       "      <th>неоплаченные_продукты_штук_квартал</th>\n",
       "      <th>ошибка_сервиса</th>\n",
       "      <th>страниц_за_визит</th>\n",
       "    </tr>\n",
       "  </thead>\n",
       "  <tbody>\n",
       "    <tr>\n",
       "      <th>count</th>\n",
       "      <td>802.000000</td>\n",
       "      <td>802.000000</td>\n",
       "      <td>802.000000</td>\n",
       "      <td>802.000000</td>\n",
       "      <td>802.000000</td>\n",
       "      <td>802.000000</td>\n",
       "      <td>802.000000</td>\n",
       "      <td>802.000000</td>\n",
       "    </tr>\n",
       "    <tr>\n",
       "      <th>mean</th>\n",
       "      <td>4.570075</td>\n",
       "      <td>4.011222</td>\n",
       "      <td>590.730673</td>\n",
       "      <td>0.238367</td>\n",
       "      <td>3.665835</td>\n",
       "      <td>2.293017</td>\n",
       "      <td>4.335411</td>\n",
       "      <td>9.796758</td>\n",
       "    </tr>\n",
       "    <tr>\n",
       "      <th>std</th>\n",
       "      <td>0.848618</td>\n",
       "      <td>0.689586</td>\n",
       "      <td>255.330179</td>\n",
       "      <td>0.160599</td>\n",
       "      <td>1.277112</td>\n",
       "      <td>1.508255</td>\n",
       "      <td>1.979538</td>\n",
       "      <td>3.376846</td>\n",
       "    </tr>\n",
       "    <tr>\n",
       "      <th>min</th>\n",
       "      <td>0.900000</td>\n",
       "      <td>3.000000</td>\n",
       "      <td>121.000000</td>\n",
       "      <td>0.110000</td>\n",
       "      <td>1.000000</td>\n",
       "      <td>0.000000</td>\n",
       "      <td>0.000000</td>\n",
       "      <td>3.000000</td>\n",
       "    </tr>\n",
       "    <tr>\n",
       "      <th>25%</th>\n",
       "      <td>4.000000</td>\n",
       "      <td>4.000000</td>\n",
       "      <td>382.500000</td>\n",
       "      <td>0.150000</td>\n",
       "      <td>3.000000</td>\n",
       "      <td>1.000000</td>\n",
       "      <td>3.000000</td>\n",
       "      <td>7.000000</td>\n",
       "    </tr>\n",
       "    <tr>\n",
       "      <th>50%</th>\n",
       "      <td>4.400000</td>\n",
       "      <td>4.000000</td>\n",
       "      <td>590.000000</td>\n",
       "      <td>0.210000</td>\n",
       "      <td>4.000000</td>\n",
       "      <td>2.000000</td>\n",
       "      <td>4.000000</td>\n",
       "      <td>10.000000</td>\n",
       "    </tr>\n",
       "    <tr>\n",
       "      <th>75%</th>\n",
       "      <td>5.275000</td>\n",
       "      <td>4.000000</td>\n",
       "      <td>798.750000</td>\n",
       "      <td>0.260000</td>\n",
       "      <td>5.000000</td>\n",
       "      <td>3.000000</td>\n",
       "      <td>6.000000</td>\n",
       "      <td>12.000000</td>\n",
       "    </tr>\n",
       "    <tr>\n",
       "      <th>max</th>\n",
       "      <td>6.600000</td>\n",
       "      <td>5.000000</td>\n",
       "      <td>1061.000000</td>\n",
       "      <td>0.990000</td>\n",
       "      <td>6.000000</td>\n",
       "      <td>8.000000</td>\n",
       "      <td>9.000000</td>\n",
       "      <td>20.000000</td>\n",
       "    </tr>\n",
       "  </tbody>\n",
       "</table>\n",
       "</div>"
      ],
      "text/plain": [
       "       маркет_актив_6_мес  маркет_актив_тек_мес  длительность  \\\n",
       "count          802.000000            802.000000    802.000000   \n",
       "mean             4.570075              4.011222    590.730673   \n",
       "std              0.848618              0.689586    255.330179   \n",
       "min              0.900000              3.000000    121.000000   \n",
       "25%              4.000000              4.000000    382.500000   \n",
       "50%              4.400000              4.000000    590.000000   \n",
       "75%              5.275000              4.000000    798.750000   \n",
       "max              6.600000              5.000000   1061.000000   \n",
       "\n",
       "       акционные_покупки  средний_просмотр_категорий_за_визит  \\\n",
       "count         802.000000                           802.000000   \n",
       "mean            0.238367                             3.665835   \n",
       "std             0.160599                             1.277112   \n",
       "min             0.110000                             1.000000   \n",
       "25%             0.150000                             3.000000   \n",
       "50%             0.210000                             4.000000   \n",
       "75%             0.260000                             5.000000   \n",
       "max             0.990000                             6.000000   \n",
       "\n",
       "       неоплаченные_продукты_штук_квартал  ошибка_сервиса  страниц_за_визит  \n",
       "count                          802.000000      802.000000        802.000000  \n",
       "mean                             2.293017        4.335411          9.796758  \n",
       "std                              1.508255        1.979538          3.376846  \n",
       "min                              0.000000        0.000000          3.000000  \n",
       "25%                              1.000000        3.000000          7.000000  \n",
       "50%                              2.000000        4.000000         10.000000  \n",
       "75%                              3.000000        6.000000         12.000000  \n",
       "max                              8.000000        9.000000         20.000000  "
      ]
     },
     "execution_count": 28,
     "metadata": {},
     "output_type": "execute_result"
    }
   ],
   "source": [
    "df_active.drop('id', axis=1).describe()"
   ]
  },
  {
   "cell_type": "code",
   "execution_count": 29,
   "metadata": {},
   "outputs": [
    {
     "data": {
      "text/html": [
       "<div>\n",
       "<style scoped>\n",
       "    .dataframe tbody tr th:only-of-type {\n",
       "        vertical-align: middle;\n",
       "    }\n",
       "\n",
       "    .dataframe tbody tr th {\n",
       "        vertical-align: top;\n",
       "    }\n",
       "\n",
       "    .dataframe thead th {\n",
       "        text-align: right;\n",
       "    }\n",
       "</style>\n",
       "<table border=\"1\" class=\"dataframe\">\n",
       "  <thead>\n",
       "    <tr style=\"text-align: right;\">\n",
       "      <th></th>\n",
       "      <th>маркет_актив_6_мес</th>\n",
       "      <th>маркет_актив_тек_мес</th>\n",
       "      <th>длительность</th>\n",
       "      <th>акционные_покупки</th>\n",
       "      <th>средний_просмотр_категорий_за_визит</th>\n",
       "      <th>неоплаченные_продукты_штук_квартал</th>\n",
       "      <th>ошибка_сервиса</th>\n",
       "      <th>страниц_за_визит</th>\n",
       "    </tr>\n",
       "  </thead>\n",
       "  <tbody>\n",
       "    <tr>\n",
       "      <th>count</th>\n",
       "      <td>498.000000</td>\n",
       "      <td>498.000000</td>\n",
       "      <td>498.000000</td>\n",
       "      <td>498.000000</td>\n",
       "      <td>498.000000</td>\n",
       "      <td>498.000000</td>\n",
       "      <td>498.000000</td>\n",
       "      <td>498.000000</td>\n",
       "    </tr>\n",
       "    <tr>\n",
       "      <th>mean</th>\n",
       "      <td>3.744378</td>\n",
       "      <td>4.012048</td>\n",
       "      <td>619.883534</td>\n",
       "      <td>0.450964</td>\n",
       "      <td>2.632530</td>\n",
       "      <td>3.720884</td>\n",
       "      <td>3.943775</td>\n",
       "      <td>5.568273</td>\n",
       "    </tr>\n",
       "    <tr>\n",
       "      <th>std</th>\n",
       "      <td>1.053374</td>\n",
       "      <td>0.709135</td>\n",
       "      <td>239.940818</td>\n",
       "      <td>0.306011</td>\n",
       "      <td>1.229871</td>\n",
       "      <td>2.287312</td>\n",
       "      <td>1.892709</td>\n",
       "      <td>3.454265</td>\n",
       "    </tr>\n",
       "    <tr>\n",
       "      <th>min</th>\n",
       "      <td>0.900000</td>\n",
       "      <td>3.000000</td>\n",
       "      <td>110.000000</td>\n",
       "      <td>0.000000</td>\n",
       "      <td>1.000000</td>\n",
       "      <td>0.000000</td>\n",
       "      <td>1.000000</td>\n",
       "      <td>1.000000</td>\n",
       "    </tr>\n",
       "    <tr>\n",
       "      <th>25%</th>\n",
       "      <td>3.100000</td>\n",
       "      <td>4.000000</td>\n",
       "      <td>449.000000</td>\n",
       "      <td>0.240000</td>\n",
       "      <td>2.000000</td>\n",
       "      <td>2.000000</td>\n",
       "      <td>2.000000</td>\n",
       "      <td>3.000000</td>\n",
       "    </tr>\n",
       "    <tr>\n",
       "      <th>50%</th>\n",
       "      <td>3.900000</td>\n",
       "      <td>4.000000</td>\n",
       "      <td>634.500000</td>\n",
       "      <td>0.310000</td>\n",
       "      <td>2.000000</td>\n",
       "      <td>4.000000</td>\n",
       "      <td>4.000000</td>\n",
       "      <td>5.000000</td>\n",
       "    </tr>\n",
       "    <tr>\n",
       "      <th>75%</th>\n",
       "      <td>4.400000</td>\n",
       "      <td>5.000000</td>\n",
       "      <td>811.000000</td>\n",
       "      <td>0.890000</td>\n",
       "      <td>3.000000</td>\n",
       "      <td>5.000000</td>\n",
       "      <td>5.000000</td>\n",
       "      <td>7.000000</td>\n",
       "    </tr>\n",
       "    <tr>\n",
       "      <th>max</th>\n",
       "      <td>6.600000</td>\n",
       "      <td>5.000000</td>\n",
       "      <td>1079.000000</td>\n",
       "      <td>0.990000</td>\n",
       "      <td>6.000000</td>\n",
       "      <td>10.000000</td>\n",
       "      <td>9.000000</td>\n",
       "      <td>18.000000</td>\n",
       "    </tr>\n",
       "  </tbody>\n",
       "</table>\n",
       "</div>"
      ],
      "text/plain": [
       "       маркет_актив_6_мес  маркет_актив_тек_мес  длительность  \\\n",
       "count          498.000000            498.000000    498.000000   \n",
       "mean             3.744378              4.012048    619.883534   \n",
       "std              1.053374              0.709135    239.940818   \n",
       "min              0.900000              3.000000    110.000000   \n",
       "25%              3.100000              4.000000    449.000000   \n",
       "50%              3.900000              4.000000    634.500000   \n",
       "75%              4.400000              5.000000    811.000000   \n",
       "max              6.600000              5.000000   1079.000000   \n",
       "\n",
       "       акционные_покупки  средний_просмотр_категорий_за_визит  \\\n",
       "count         498.000000                           498.000000   \n",
       "mean            0.450964                             2.632530   \n",
       "std             0.306011                             1.229871   \n",
       "min             0.000000                             1.000000   \n",
       "25%             0.240000                             2.000000   \n",
       "50%             0.310000                             2.000000   \n",
       "75%             0.890000                             3.000000   \n",
       "max             0.990000                             6.000000   \n",
       "\n",
       "       неоплаченные_продукты_штук_квартал  ошибка_сервиса  страниц_за_визит  \n",
       "count                          498.000000      498.000000        498.000000  \n",
       "mean                             3.720884        3.943775          5.568273  \n",
       "std                              2.287312        1.892709          3.454265  \n",
       "min                              0.000000        1.000000          1.000000  \n",
       "25%                              2.000000        2.000000          3.000000  \n",
       "50%                              4.000000        4.000000          5.000000  \n",
       "75%                              5.000000        5.000000          7.000000  \n",
       "max                             10.000000        9.000000         18.000000  "
      ]
     },
     "execution_count": 29,
     "metadata": {},
     "output_type": "execute_result"
    }
   ],
   "source": [
    "df_reduced.drop('id', axis=1).describe()"
   ]
  },
  {
   "cell_type": "markdown",
   "metadata": {},
   "source": [
    "Сравнивая результаты describe(), можно заметить следующие различия:\n",
    "\n",
    "- Количество пользователей, у которых активность снизилась (498), меньше, чем количество пользователей с прежней активностью (802).\n",
    "- Для пользователей со сниженной активностью проводится меньше коммуникаций.\n",
    "- Среднее значение количества дней, прошедших с момента регистрации покупателя на сайте, у пользователей, у которых активность снизилась, больше по сравнению с пользователями с прежней активностью."
   ]
  },
  {
   "cell_type": "code",
   "execution_count": 30,
   "metadata": {},
   "outputs": [
    {
     "data": {
      "text/html": [
       "<div>\n",
       "<style scoped>\n",
       "    .dataframe tbody tr th:only-of-type {\n",
       "        vertical-align: middle;\n",
       "    }\n",
       "\n",
       "    .dataframe tbody tr th {\n",
       "        vertical-align: top;\n",
       "    }\n",
       "\n",
       "    .dataframe thead th {\n",
       "        text-align: right;\n",
       "    }\n",
       "</style>\n",
       "<table border=\"1\" class=\"dataframe\">\n",
       "  <thead>\n",
       "    <tr style=\"text-align: right;\">\n",
       "      <th></th>\n",
       "      <th>выручка</th>\n",
       "    </tr>\n",
       "  </thead>\n",
       "  <tbody>\n",
       "    <tr>\n",
       "      <th>count</th>\n",
       "      <td>3893.000000</td>\n",
       "    </tr>\n",
       "    <tr>\n",
       "      <th>mean</th>\n",
       "      <td>5007.282918</td>\n",
       "    </tr>\n",
       "    <tr>\n",
       "      <th>std</th>\n",
       "      <td>679.724898</td>\n",
       "    </tr>\n",
       "    <tr>\n",
       "      <th>min</th>\n",
       "      <td>2758.700000</td>\n",
       "    </tr>\n",
       "    <tr>\n",
       "      <th>25%</th>\n",
       "      <td>4592.000000</td>\n",
       "    </tr>\n",
       "    <tr>\n",
       "      <th>50%</th>\n",
       "      <td>4959.000000</td>\n",
       "    </tr>\n",
       "    <tr>\n",
       "      <th>75%</th>\n",
       "      <td>5363.000000</td>\n",
       "    </tr>\n",
       "    <tr>\n",
       "      <th>max</th>\n",
       "      <td>7799.400000</td>\n",
       "    </tr>\n",
       "  </tbody>\n",
       "</table>\n",
       "</div>"
      ],
      "text/plain": [
       "           выручка\n",
       "count  3893.000000\n",
       "mean   5007.282918\n",
       "std     679.724898\n",
       "min    2758.700000\n",
       "25%    4592.000000\n",
       "50%    4959.000000\n",
       "75%    5363.000000\n",
       "max    7799.400000"
      ]
     },
     "execution_count": 30,
     "metadata": {},
     "output_type": "execute_result"
    }
   ],
   "source": [
    "dataframes[1].drop('id', axis=1).describe()"
   ]
  },
  {
   "cell_type": "code",
   "execution_count": 31,
   "metadata": {},
   "outputs": [
    {
     "data": {
      "text/html": [
       "<div>\n",
       "<style scoped>\n",
       "    .dataframe tbody tr th:only-of-type {\n",
       "        vertical-align: middle;\n",
       "    }\n",
       "\n",
       "    .dataframe tbody tr th {\n",
       "        vertical-align: top;\n",
       "    }\n",
       "\n",
       "    .dataframe thead th {\n",
       "        text-align: right;\n",
       "    }\n",
       "</style>\n",
       "<table border=\"1\" class=\"dataframe\">\n",
       "  <thead>\n",
       "    <tr style=\"text-align: right;\">\n",
       "      <th></th>\n",
       "      <th>минут</th>\n",
       "    </tr>\n",
       "  </thead>\n",
       "  <tbody>\n",
       "    <tr>\n",
       "      <th>count</th>\n",
       "      <td>2600.000000</td>\n",
       "    </tr>\n",
       "    <tr>\n",
       "      <th>mean</th>\n",
       "      <td>13.336154</td>\n",
       "    </tr>\n",
       "    <tr>\n",
       "      <th>std</th>\n",
       "      <td>4.080198</td>\n",
       "    </tr>\n",
       "    <tr>\n",
       "      <th>min</th>\n",
       "      <td>4.000000</td>\n",
       "    </tr>\n",
       "    <tr>\n",
       "      <th>25%</th>\n",
       "      <td>10.000000</td>\n",
       "    </tr>\n",
       "    <tr>\n",
       "      <th>50%</th>\n",
       "      <td>13.000000</td>\n",
       "    </tr>\n",
       "    <tr>\n",
       "      <th>75%</th>\n",
       "      <td>16.000000</td>\n",
       "    </tr>\n",
       "    <tr>\n",
       "      <th>max</th>\n",
       "      <td>23.000000</td>\n",
       "    </tr>\n",
       "  </tbody>\n",
       "</table>\n",
       "</div>"
      ],
      "text/plain": [
       "             минут\n",
       "count  2600.000000\n",
       "mean     13.336154\n",
       "std       4.080198\n",
       "min       4.000000\n",
       "25%      10.000000\n",
       "50%      13.000000\n",
       "75%      16.000000\n",
       "max      23.000000"
      ]
     },
     "execution_count": 31,
     "metadata": {},
     "output_type": "execute_result"
    }
   ],
   "source": [
    "dataframes[2].drop('id', axis=1).describe()"
   ]
  },
  {
   "cell_type": "code",
   "execution_count": 32,
   "metadata": {},
   "outputs": [
    {
     "data": {
      "text/html": [
       "<div>\n",
       "<style scoped>\n",
       "    .dataframe tbody tr th:only-of-type {\n",
       "        vertical-align: middle;\n",
       "    }\n",
       "\n",
       "    .dataframe tbody tr th {\n",
       "        vertical-align: top;\n",
       "    }\n",
       "\n",
       "    .dataframe thead th {\n",
       "        text-align: right;\n",
       "    }\n",
       "</style>\n",
       "<table border=\"1\" class=\"dataframe\">\n",
       "  <thead>\n",
       "    <tr style=\"text-align: right;\">\n",
       "      <th></th>\n",
       "      <th>прибыль</th>\n",
       "    </tr>\n",
       "  </thead>\n",
       "  <tbody>\n",
       "    <tr>\n",
       "      <th>count</th>\n",
       "      <td>1300.000000</td>\n",
       "    </tr>\n",
       "    <tr>\n",
       "      <th>mean</th>\n",
       "      <td>3.996631</td>\n",
       "    </tr>\n",
       "    <tr>\n",
       "      <th>std</th>\n",
       "      <td>1.013722</td>\n",
       "    </tr>\n",
       "    <tr>\n",
       "      <th>min</th>\n",
       "      <td>0.860000</td>\n",
       "    </tr>\n",
       "    <tr>\n",
       "      <th>25%</th>\n",
       "      <td>3.300000</td>\n",
       "    </tr>\n",
       "    <tr>\n",
       "      <th>50%</th>\n",
       "      <td>4.045000</td>\n",
       "    </tr>\n",
       "    <tr>\n",
       "      <th>75%</th>\n",
       "      <td>4.670000</td>\n",
       "    </tr>\n",
       "    <tr>\n",
       "      <th>max</th>\n",
       "      <td>7.430000</td>\n",
       "    </tr>\n",
       "  </tbody>\n",
       "</table>\n",
       "</div>"
      ],
      "text/plain": [
       "           прибыль\n",
       "count  1300.000000\n",
       "mean      3.996631\n",
       "std       1.013722\n",
       "min       0.860000\n",
       "25%       3.300000\n",
       "50%       4.045000\n",
       "75%       4.670000\n",
       "max       7.430000"
      ]
     },
     "execution_count": 32,
     "metadata": {},
     "output_type": "execute_result"
    }
   ],
   "source": [
    "dataframes[3].drop('id', axis=1).describe()"
   ]
  },
  {
   "cell_type": "markdown",
   "metadata": {},
   "source": [
    "Мы провели исследовательский анализ данных из каждой предоставленной выборки. Для каждой переменной были рассчитаны основные статистические характеристики, такие как среднее значение, стандартное отклонение, минимум, квартили и максимум, построены гистограммы. Это позволило получить представление о распределении данных, выявить тренды и сделать обоснованные выводы относительно средних, медиан и размаха значений каждой переменной. \n",
    "\n",
    "В целом, анализ данных показал, что у пользователей, чья активность снизилась, наблюдаются несколько отличий по сравнению с пользователями с прежней активностью. Количество пользователей со сниженной активностью меньше, они просматривают меньше страниц и категорий за визит, у них также больше неоплаченных продуктов и меньше маркетинговых коммуникаций. Кроме того, среднее значение количества дней с момента регистрации для пользователей со сниженной активностью больше."
   ]
  },
  {
   "cell_type": "markdown",
   "metadata": {},
   "source": [
    "# Объединение таблиц"
   ]
  },
  {
   "cell_type": "code",
   "execution_count": 33,
   "metadata": {},
   "outputs": [
    {
     "name": "stdout",
     "output_type": "stream",
     "text": [
      "<class 'pandas.core.frame.DataFrame'>\n",
      "Int64Index: 1296 entries, 1 to 1299\n",
      "Data columns (total 18 columns):\n",
      " #   Column                               Non-Null Count  Dtype  \n",
      "---  ------                               --------------  -----  \n",
      " 0   id                                   1296 non-null   int64  \n",
      " 1   покупательская_активность            1296 non-null   object \n",
      " 2   тип_сервиса                          1296 non-null   object \n",
      " 3   разрешить_сообщать                   1296 non-null   object \n",
      " 4   маркет_актив_6_мес                   1296 non-null   float64\n",
      " 5   маркет_актив_тек_мес                 1296 non-null   int64  \n",
      " 6   длительность                         1296 non-null   int64  \n",
      " 7   акционные_покупки                    1296 non-null   float64\n",
      " 8   популярная_категория                 1296 non-null   object \n",
      " 9   средний_просмотр_категорий_за_визит  1296 non-null   int64  \n",
      " 10  неоплаченные_продукты_штук_квартал   1296 non-null   int64  \n",
      " 11  ошибка_сервиса                       1296 non-null   int64  \n",
      " 12  страниц_за_визит                     1296 non-null   int64  \n",
      " 13  выручка_предыдущий_месяц             1296 non-null   float64\n",
      " 14  выручка_препредыдущий_месяц          1296 non-null   float64\n",
      " 15  выручка_текущий_месяц                1296 non-null   float64\n",
      " 16  минут_предыдущий_месяц               1296 non-null   int64  \n",
      " 17  минут_текущий_месяц                  1296 non-null   int64  \n",
      "dtypes: float64(5), int64(9), object(4)\n",
      "memory usage: 192.4+ KB\n"
     ]
    }
   ],
   "source": [
    "# Объединение dataframes[0] и dataframes[1]\n",
    "merged_df = pd.merge(dataframes[0], dataframes[1], on='id', how='left')\n",
    "\n",
    "# Распределение данных о выручке по периодам\n",
    "revenue_pivot = merged_df.pivot(index='id', columns='период', values='выручка')\n",
    "revenue_pivot = revenue_pivot.reset_index()\n",
    "revenue_pivot.columns = ['id'] + ['выручка_' + col for col in revenue_pivot.columns[1:]]\n",
    "\n",
    "# Объединение dataframes[0] и dataframes[2]\n",
    "merged_df = pd.merge(dataframes[0], dataframes[2], on='id', how='left')\n",
    "\n",
    "# Распределение данных о минутах по периодам\n",
    "minutes_pivot = merged_df.pivot(index='id', columns='период', values='минут')\n",
    "minutes_pivot = minutes_pivot.reset_index()\n",
    "minutes_pivot.columns = ['id'] + ['минут_' + col for col in minutes_pivot.columns[1:]]\n",
    "\n",
    "# Объединение всех данных\n",
    "final_df = pd.merge(dataframes[0], revenue_pivot, on='id', how='left')\n",
    "data = pd.merge(final_df, minutes_pivot, on='id', how='left')\n",
    "data.dropna(inplace=True)\n",
    "data.info()"
   ]
  },
  {
   "cell_type": "code",
   "execution_count": 34,
   "metadata": {},
   "outputs": [
    {
     "data": {
      "text/html": [
       "<div>\n",
       "<style scoped>\n",
       "    .dataframe tbody tr th:only-of-type {\n",
       "        vertical-align: middle;\n",
       "    }\n",
       "\n",
       "    .dataframe tbody tr th {\n",
       "        vertical-align: top;\n",
       "    }\n",
       "\n",
       "    .dataframe thead th {\n",
       "        text-align: right;\n",
       "    }\n",
       "</style>\n",
       "<table border=\"1\" class=\"dataframe\">\n",
       "  <thead>\n",
       "    <tr style=\"text-align: right;\">\n",
       "      <th></th>\n",
       "      <th>id</th>\n",
       "      <th>покупательская_активность</th>\n",
       "      <th>тип_сервиса</th>\n",
       "      <th>разрешить_сообщать</th>\n",
       "      <th>маркет_актив_6_мес</th>\n",
       "      <th>маркет_актив_тек_мес</th>\n",
       "      <th>длительность</th>\n",
       "      <th>акционные_покупки</th>\n",
       "      <th>популярная_категория</th>\n",
       "      <th>средний_просмотр_категорий_за_визит</th>\n",
       "      <th>неоплаченные_продукты_штук_квартал</th>\n",
       "      <th>ошибка_сервиса</th>\n",
       "      <th>страниц_за_визит</th>\n",
       "      <th>выручка_предыдущий_месяц</th>\n",
       "      <th>выручка_препредыдущий_месяц</th>\n",
       "      <th>выручка_текущий_месяц</th>\n",
       "      <th>минут_предыдущий_месяц</th>\n",
       "      <th>минут_текущий_месяц</th>\n",
       "    </tr>\n",
       "  </thead>\n",
       "  <tbody>\n",
       "    <tr>\n",
       "      <th>1</th>\n",
       "      <td>215349</td>\n",
       "      <td>Снизилась</td>\n",
       "      <td>премиум</td>\n",
       "      <td>да</td>\n",
       "      <td>4.4</td>\n",
       "      <td>4</td>\n",
       "      <td>819</td>\n",
       "      <td>0.75</td>\n",
       "      <td>Товары для детей</td>\n",
       "      <td>4</td>\n",
       "      <td>4</td>\n",
       "      <td>2</td>\n",
       "      <td>5</td>\n",
       "      <td>5216.0</td>\n",
       "      <td>4472.0</td>\n",
       "      <td>4971.6</td>\n",
       "      <td>12</td>\n",
       "      <td>10</td>\n",
       "    </tr>\n",
       "    <tr>\n",
       "      <th>2</th>\n",
       "      <td>215350</td>\n",
       "      <td>Снизилась</td>\n",
       "      <td>стандарт</td>\n",
       "      <td>нет</td>\n",
       "      <td>4.9</td>\n",
       "      <td>3</td>\n",
       "      <td>539</td>\n",
       "      <td>0.14</td>\n",
       "      <td>Домашний текстиль</td>\n",
       "      <td>5</td>\n",
       "      <td>2</td>\n",
       "      <td>1</td>\n",
       "      <td>5</td>\n",
       "      <td>5457.5</td>\n",
       "      <td>4826.0</td>\n",
       "      <td>5058.4</td>\n",
       "      <td>8</td>\n",
       "      <td>13</td>\n",
       "    </tr>\n",
       "    <tr>\n",
       "      <th>3</th>\n",
       "      <td>215351</td>\n",
       "      <td>Снизилась</td>\n",
       "      <td>стандарт</td>\n",
       "      <td>да</td>\n",
       "      <td>3.2</td>\n",
       "      <td>5</td>\n",
       "      <td>896</td>\n",
       "      <td>0.99</td>\n",
       "      <td>Товары для детей</td>\n",
       "      <td>5</td>\n",
       "      <td>0</td>\n",
       "      <td>6</td>\n",
       "      <td>4</td>\n",
       "      <td>6158.0</td>\n",
       "      <td>4793.0</td>\n",
       "      <td>6610.4</td>\n",
       "      <td>11</td>\n",
       "      <td>13</td>\n",
       "    </tr>\n",
       "    <tr>\n",
       "      <th>4</th>\n",
       "      <td>215352</td>\n",
       "      <td>Снизилась</td>\n",
       "      <td>стандарт</td>\n",
       "      <td>нет</td>\n",
       "      <td>5.1</td>\n",
       "      <td>3</td>\n",
       "      <td>1064</td>\n",
       "      <td>0.94</td>\n",
       "      <td>Товары для детей</td>\n",
       "      <td>3</td>\n",
       "      <td>2</td>\n",
       "      <td>3</td>\n",
       "      <td>2</td>\n",
       "      <td>5807.5</td>\n",
       "      <td>4594.0</td>\n",
       "      <td>5872.5</td>\n",
       "      <td>8</td>\n",
       "      <td>11</td>\n",
       "    </tr>\n",
       "    <tr>\n",
       "      <th>5</th>\n",
       "      <td>215353</td>\n",
       "      <td>Снизилась</td>\n",
       "      <td>стандарт</td>\n",
       "      <td>да</td>\n",
       "      <td>3.3</td>\n",
       "      <td>4</td>\n",
       "      <td>762</td>\n",
       "      <td>0.26</td>\n",
       "      <td>Домашний текстиль</td>\n",
       "      <td>4</td>\n",
       "      <td>1</td>\n",
       "      <td>1</td>\n",
       "      <td>4</td>\n",
       "      <td>4738.5</td>\n",
       "      <td>5124.0</td>\n",
       "      <td>5388.5</td>\n",
       "      <td>10</td>\n",
       "      <td>10</td>\n",
       "    </tr>\n",
       "  </tbody>\n",
       "</table>\n",
       "</div>"
      ],
      "text/plain": [
       "       id покупательская_активность тип_сервиса разрешить_сообщать  \\\n",
       "1  215349                 Снизилась     премиум                 да   \n",
       "2  215350                 Снизилась    стандарт                нет   \n",
       "3  215351                 Снизилась    стандарт                 да   \n",
       "4  215352                 Снизилась    стандарт                нет   \n",
       "5  215353                 Снизилась    стандарт                 да   \n",
       "\n",
       "   маркет_актив_6_мес  маркет_актив_тек_мес  длительность  акционные_покупки  \\\n",
       "1                 4.4                     4           819               0.75   \n",
       "2                 4.9                     3           539               0.14   \n",
       "3                 3.2                     5           896               0.99   \n",
       "4                 5.1                     3          1064               0.94   \n",
       "5                 3.3                     4           762               0.26   \n",
       "\n",
       "  популярная_категория  средний_просмотр_категорий_за_визит  \\\n",
       "1     Товары для детей                                    4   \n",
       "2    Домашний текстиль                                    5   \n",
       "3     Товары для детей                                    5   \n",
       "4     Товары для детей                                    3   \n",
       "5    Домашний текстиль                                    4   \n",
       "\n",
       "   неоплаченные_продукты_штук_квартал  ошибка_сервиса  страниц_за_визит  \\\n",
       "1                                   4               2                 5   \n",
       "2                                   2               1                 5   \n",
       "3                                   0               6                 4   \n",
       "4                                   2               3                 2   \n",
       "5                                   1               1                 4   \n",
       "\n",
       "   выручка_предыдущий_месяц  выручка_препредыдущий_месяц  \\\n",
       "1                    5216.0                       4472.0   \n",
       "2                    5457.5                       4826.0   \n",
       "3                    6158.0                       4793.0   \n",
       "4                    5807.5                       4594.0   \n",
       "5                    4738.5                       5124.0   \n",
       "\n",
       "   выручка_текущий_месяц  минут_предыдущий_месяц  минут_текущий_месяц  \n",
       "1                 4971.6                      12                   10  \n",
       "2                 5058.4                       8                   13  \n",
       "3                 6610.4                      11                   13  \n",
       "4                 5872.5                       8                   11  \n",
       "5                 5388.5                      10                   10  "
      ]
     },
     "execution_count": 34,
     "metadata": {},
     "output_type": "execute_result"
    }
   ],
   "source": [
    "data.head()"
   ]
  },
  {
   "cell_type": "markdown",
   "metadata": {},
   "source": [
    "Мы объединили таблицы market_file.csv, market_money.csv, market_time.csv. Учитывая, что данные о выручке и времени на сайте находятся в одном столбце для всех периодов. В итоговой таблице сделали отдельный столбец для каждого периода."
   ]
  },
  {
   "cell_type": "markdown",
   "metadata": {},
   "source": [
    "# Корреляционный анализ"
   ]
  },
  {
   "cell_type": "code",
   "execution_count": 35,
   "metadata": {},
   "outputs": [
    {
     "name": "stdout",
     "output_type": "stream",
     "text": [
      "interval columns not set, guessing: ['маркет_актив_6_мес', 'маркет_актив_тек_мес', 'длительность', 'акционные_покупки', 'средний_просмотр_категорий_за_визит', 'неоплаченные_продукты_штук_квартал', 'ошибка_сервиса', 'страниц_за_визит', 'выручка_предыдущий_месяц', 'выручка_препредыдущий_месяц', 'выручка_текущий_месяц', 'минут_предыдущий_месяц', 'минут_текущий_месяц']\n"
     ]
    },
    {
     "data": {
      "image/png": "[encoded data removed]",
      "text/plain": [
       "<Figure size 720x576 with 2 Axes>"
      ]
     },
     "metadata": {
      "needs_background": "light"
     },
     "output_type": "display_data"
    }
   ],
   "source": [
    "# Визуализация матрицы корреляции\n",
    "plt.figure(figsize=(10, 8))\n",
    "sns.heatmap(data.drop('id', axis=1).phik_matrix(), annot=True, cmap='coolwarm')\n",
    "plt.title('Phi_K Correlation Matrix\\n')\n",
    "plt.show()"
   ]
  },
  {
   "cell_type": "markdown",
   "metadata": {},
   "source": [
    "Мы провели корреляционный анализ объединенной базы данных. Была построена матрица корреляции, которая показала отсутствие сильной корреляции. В целом, корреляционный анализ позволил выявить наиболее тесно связанные переменные в объединенной выборке данных."
   ]
  },
  {
   "cell_type": "markdown",
   "metadata": {},
   "source": [
    "# Использование пайплайнов"
   ]
  },
  {
   "cell_type": "code",
   "execution_count": 36,
   "metadata": {},
   "outputs": [
    {
     "data": {
      "text/html": [
       "<div>\n",
       "<style scoped>\n",
       "    .dataframe tbody tr th:only-of-type {\n",
       "        vertical-align: middle;\n",
       "    }\n",
       "\n",
       "    .dataframe tbody tr th {\n",
       "        vertical-align: top;\n",
       "    }\n",
       "\n",
       "    .dataframe thead th {\n",
       "        text-align: right;\n",
       "    }\n",
       "</style>\n",
       "<table border=\"1\" class=\"dataframe\">\n",
       "  <thead>\n",
       "    <tr style=\"text-align: right;\">\n",
       "      <th></th>\n",
       "      <th>id</th>\n",
       "      <th>покупательская_активность</th>\n",
       "      <th>тип_сервиса</th>\n",
       "      <th>разрешить_сообщать</th>\n",
       "      <th>маркет_актив_6_мес</th>\n",
       "      <th>маркет_актив_тек_мес</th>\n",
       "      <th>длительность</th>\n",
       "      <th>акционные_покупки</th>\n",
       "      <th>популярная_категория</th>\n",
       "      <th>средний_просмотр_категорий_за_визит</th>\n",
       "      <th>неоплаченные_продукты_штук_квартал</th>\n",
       "      <th>ошибка_сервиса</th>\n",
       "      <th>страниц_за_визит</th>\n",
       "      <th>выручка_предыдущий_месяц</th>\n",
       "      <th>выручка_препредыдущий_месяц</th>\n",
       "      <th>выручка_текущий_месяц</th>\n",
       "      <th>минут_предыдущий_месяц</th>\n",
       "      <th>минут_текущий_месяц</th>\n",
       "    </tr>\n",
       "  </thead>\n",
       "  <tbody>\n",
       "    <tr>\n",
       "      <th>1</th>\n",
       "      <td>215349</td>\n",
       "      <td>Снизилась</td>\n",
       "      <td>премиум</td>\n",
       "      <td>да</td>\n",
       "      <td>4.4</td>\n",
       "      <td>4</td>\n",
       "      <td>819</td>\n",
       "      <td>0.75</td>\n",
       "      <td>Товары для детей</td>\n",
       "      <td>4</td>\n",
       "      <td>4</td>\n",
       "      <td>2</td>\n",
       "      <td>5</td>\n",
       "      <td>5216.0</td>\n",
       "      <td>4472.0</td>\n",
       "      <td>4971.6</td>\n",
       "      <td>12</td>\n",
       "      <td>10</td>\n",
       "    </tr>\n",
       "    <tr>\n",
       "      <th>2</th>\n",
       "      <td>215350</td>\n",
       "      <td>Снизилась</td>\n",
       "      <td>стандарт</td>\n",
       "      <td>нет</td>\n",
       "      <td>4.9</td>\n",
       "      <td>3</td>\n",
       "      <td>539</td>\n",
       "      <td>0.14</td>\n",
       "      <td>Домашний текстиль</td>\n",
       "      <td>5</td>\n",
       "      <td>2</td>\n",
       "      <td>1</td>\n",
       "      <td>5</td>\n",
       "      <td>5457.5</td>\n",
       "      <td>4826.0</td>\n",
       "      <td>5058.4</td>\n",
       "      <td>8</td>\n",
       "      <td>13</td>\n",
       "    </tr>\n",
       "    <tr>\n",
       "      <th>3</th>\n",
       "      <td>215351</td>\n",
       "      <td>Снизилась</td>\n",
       "      <td>стандарт</td>\n",
       "      <td>да</td>\n",
       "      <td>3.2</td>\n",
       "      <td>5</td>\n",
       "      <td>896</td>\n",
       "      <td>0.99</td>\n",
       "      <td>Товары для детей</td>\n",
       "      <td>5</td>\n",
       "      <td>0</td>\n",
       "      <td>6</td>\n",
       "      <td>4</td>\n",
       "      <td>6158.0</td>\n",
       "      <td>4793.0</td>\n",
       "      <td>6610.4</td>\n",
       "      <td>11</td>\n",
       "      <td>13</td>\n",
       "    </tr>\n",
       "    <tr>\n",
       "      <th>4</th>\n",
       "      <td>215352</td>\n",
       "      <td>Снизилась</td>\n",
       "      <td>стандарт</td>\n",
       "      <td>нет</td>\n",
       "      <td>5.1</td>\n",
       "      <td>3</td>\n",
       "      <td>1064</td>\n",
       "      <td>0.94</td>\n",
       "      <td>Товары для детей</td>\n",
       "      <td>3</td>\n",
       "      <td>2</td>\n",
       "      <td>3</td>\n",
       "      <td>2</td>\n",
       "      <td>5807.5</td>\n",
       "      <td>4594.0</td>\n",
       "      <td>5872.5</td>\n",
       "      <td>8</td>\n",
       "      <td>11</td>\n",
       "    </tr>\n",
       "    <tr>\n",
       "      <th>5</th>\n",
       "      <td>215353</td>\n",
       "      <td>Снизилась</td>\n",
       "      <td>стандарт</td>\n",
       "      <td>да</td>\n",
       "      <td>3.3</td>\n",
       "      <td>4</td>\n",
       "      <td>762</td>\n",
       "      <td>0.26</td>\n",
       "      <td>Домашний текстиль</td>\n",
       "      <td>4</td>\n",
       "      <td>1</td>\n",
       "      <td>1</td>\n",
       "      <td>4</td>\n",
       "      <td>4738.5</td>\n",
       "      <td>5124.0</td>\n",
       "      <td>5388.5</td>\n",
       "      <td>10</td>\n",
       "      <td>10</td>\n",
       "    </tr>\n",
       "  </tbody>\n",
       "</table>\n",
       "</div>"
      ],
      "text/plain": [
       "       id покупательская_активность тип_сервиса разрешить_сообщать  \\\n",
       "1  215349                 Снизилась     премиум                 да   \n",
       "2  215350                 Снизилась    стандарт                нет   \n",
       "3  215351                 Снизилась    стандарт                 да   \n",
       "4  215352                 Снизилась    стандарт                нет   \n",
       "5  215353                 Снизилась    стандарт                 да   \n",
       "\n",
       "   маркет_актив_6_мес  маркет_актив_тек_мес  длительность  акционные_покупки  \\\n",
       "1                 4.4                     4           819               0.75   \n",
       "2                 4.9                     3           539               0.14   \n",
       "3                 3.2                     5           896               0.99   \n",
       "4                 5.1                     3          1064               0.94   \n",
       "5                 3.3                     4           762               0.26   \n",
       "\n",
       "  популярная_категория  средний_просмотр_категорий_за_визит  \\\n",
       "1     Товары для детей                                    4   \n",
       "2    Домашний текстиль                                    5   \n",
       "3     Товары для детей                                    5   \n",
       "4     Товары для детей                                    3   \n",
       "5    Домашний текстиль                                    4   \n",
       "\n",
       "   неоплаченные_продукты_штук_квартал  ошибка_сервиса  страниц_за_визит  \\\n",
       "1                                   4               2                 5   \n",
       "2                                   2               1                 5   \n",
       "3                                   0               6                 4   \n",
       "4                                   2               3                 2   \n",
       "5                                   1               1                 4   \n",
       "\n",
       "   выручка_предыдущий_месяц  выручка_препредыдущий_месяц  \\\n",
       "1                    5216.0                       4472.0   \n",
       "2                    5457.5                       4826.0   \n",
       "3                    6158.0                       4793.0   \n",
       "4                    5807.5                       4594.0   \n",
       "5                    4738.5                       5124.0   \n",
       "\n",
       "   выручка_текущий_месяц  минут_предыдущий_месяц  минут_текущий_месяц  \n",
       "1                 4971.6                      12                   10  \n",
       "2                 5058.4                       8                   13  \n",
       "3                 6610.4                      11                   13  \n",
       "4                 5872.5                       8                   11  \n",
       "5                 5388.5                      10                   10  "
      ]
     },
     "execution_count": 36,
     "metadata": {},
     "output_type": "execute_result"
    }
   ],
   "source": [
    "data.head()"
   ]
  },
  {
   "cell_type": "code",
   "execution_count": 37,
   "metadata": {},
   "outputs": [
    {
     "data": {
      "text/plain": [
       "Index(['id', 'покупательская_активность', 'тип_сервиса', 'разрешить_сообщать',\n",
       "       'маркет_актив_6_мес', 'маркет_актив_тек_мес', 'длительность',\n",
       "       'акционные_покупки', 'популярная_категория',\n",
       "       'средний_просмотр_категорий_за_визит',\n",
       "       'неоплаченные_продукты_штук_квартал', 'ошибка_сервиса',\n",
       "       'страниц_за_визит', 'выручка_предыдущий_месяц',\n",
       "       'выручка_препредыдущий_месяц', 'выручка_текущий_месяц',\n",
       "       'минут_предыдущий_месяц', 'минут_текущий_месяц'],\n",
       "      dtype='object')"
      ]
     },
     "execution_count": 37,
     "metadata": {},
     "output_type": "execute_result"
    }
   ],
   "source": [
    "data.columns"
   ]
  },
  {
   "cell_type": "code",
   "execution_count": 38,
   "metadata": {},
   "outputs": [],
   "source": [
    "def unique_values(data):\n",
    "    # Получите список столбцов, исключив числовые столбцы\n",
    "    non_numeric_columns = data.select_dtypes(exclude=['int', 'float']).columns\n",
    "\n",
    "    # Для каждого столбца выведите уникальные значения\n",
    "    for column in non_numeric_columns:\n",
    "        unique_values = data[column].unique()\n",
    "        print(f\"Уникальные значения для столбца '{column}':\")\n",
    "        print(unique_values)\n",
    "        print()"
   ]
  },
  {
   "cell_type": "code",
   "execution_count": 39,
   "metadata": {},
   "outputs": [
    {
     "name": "stdout",
     "output_type": "stream",
     "text": [
      "<class 'pandas.core.frame.DataFrame'>\n",
      "Int64Index: 1296 entries, 1 to 1299\n",
      "Data columns (total 18 columns):\n",
      " #   Column                               Non-Null Count  Dtype  \n",
      "---  ------                               --------------  -----  \n",
      " 0   id                                   1296 non-null   int64  \n",
      " 1   покупательская_активность            1296 non-null   object \n",
      " 2   тип_сервиса                          1296 non-null   object \n",
      " 3   разрешить_сообщать                   1296 non-null   object \n",
      " 4   маркет_актив_6_мес                   1296 non-null   float64\n",
      " 5   маркет_актив_тек_мес                 1296 non-null   int64  \n",
      " 6   длительность                         1296 non-null   int64  \n",
      " 7   акционные_покупки                    1296 non-null   float64\n",
      " 8   популярная_категория                 1296 non-null   object \n",
      " 9   средний_просмотр_категорий_за_визит  1296 non-null   int64  \n",
      " 10  неоплаченные_продукты_штук_квартал   1296 non-null   int64  \n",
      " 11  ошибка_сервиса                       1296 non-null   int64  \n",
      " 12  страниц_за_визит                     1296 non-null   int64  \n",
      " 13  выручка_предыдущий_месяц             1296 non-null   float64\n",
      " 14  выручка_препредыдущий_месяц          1296 non-null   float64\n",
      " 15  выручка_текущий_месяц                1296 non-null   float64\n",
      " 16  минут_предыдущий_месяц               1296 non-null   int64  \n",
      " 17  минут_текущий_месяц                  1296 non-null   int64  \n",
      "dtypes: float64(5), int64(9), object(4)\n",
      "memory usage: 192.4+ KB\n"
     ]
    }
   ],
   "source": [
    "data.info()"
   ]
  },
  {
   "cell_type": "code",
   "execution_count": 40,
   "metadata": {},
   "outputs": [
    {
     "name": "stdout",
     "output_type": "stream",
     "text": [
      "Уникальные значения для столбца 'покупательская_активность':\n",
      "['Снизилась' 'Прежний уровень']\n",
      "\n",
      "Уникальные значения для столбца 'тип_сервиса':\n",
      "['премиум' 'стандарт']\n",
      "\n",
      "Уникальные значения для столбца 'разрешить_сообщать':\n",
      "['да' 'нет']\n",
      "\n",
      "Уникальные значения для столбца 'популярная_категория':\n",
      "['Товары для детей' 'Домашний текстиль' 'Косметика и аксесуары'\n",
      " 'Кухонная посуда' 'Техника для красоты и здоровья'\n",
      " 'Мелкая бытовая техника и электроника']\n",
      "\n"
     ]
    }
   ],
   "source": [
    "unique_values(data)"
   ]
  },
  {
   "cell_type": "code",
   "execution_count": 41,
   "metadata": {},
   "outputs": [
    {
     "data": {
      "text/html": [
       "<div>\n",
       "<style scoped>\n",
       "    .dataframe tbody tr th:only-of-type {\n",
       "        vertical-align: middle;\n",
       "    }\n",
       "\n",
       "    .dataframe tbody tr th {\n",
       "        vertical-align: top;\n",
       "    }\n",
       "\n",
       "    .dataframe thead th {\n",
       "        text-align: right;\n",
       "    }\n",
       "</style>\n",
       "<table border=\"1\" class=\"dataframe\">\n",
       "  <thead>\n",
       "    <tr style=\"text-align: right;\">\n",
       "      <th></th>\n",
       "      <th>id</th>\n",
       "      <th>покупательская_активность</th>\n",
       "      <th>тип_сервиса</th>\n",
       "      <th>разрешить_сообщать</th>\n",
       "      <th>маркет_актив_6_мес</th>\n",
       "      <th>маркет_актив_тек_мес</th>\n",
       "      <th>длительность</th>\n",
       "      <th>акционные_покупки</th>\n",
       "      <th>популярная_категория</th>\n",
       "      <th>средний_просмотр_категорий_за_визит</th>\n",
       "      <th>неоплаченные_продукты_штук_квартал</th>\n",
       "      <th>ошибка_сервиса</th>\n",
       "      <th>страниц_за_визит</th>\n",
       "      <th>выручка_предыдущий_месяц</th>\n",
       "      <th>выручка_препредыдущий_месяц</th>\n",
       "      <th>выручка_текущий_месяц</th>\n",
       "      <th>минут_предыдущий_месяц</th>\n",
       "      <th>минут_текущий_месяц</th>\n",
       "    </tr>\n",
       "  </thead>\n",
       "  <tbody>\n",
       "    <tr>\n",
       "      <th>1</th>\n",
       "      <td>215349</td>\n",
       "      <td>Снизилась</td>\n",
       "      <td>премиум</td>\n",
       "      <td>да</td>\n",
       "      <td>4.4</td>\n",
       "      <td>4</td>\n",
       "      <td>819</td>\n",
       "      <td>0.75</td>\n",
       "      <td>Товары для детей</td>\n",
       "      <td>4</td>\n",
       "      <td>4</td>\n",
       "      <td>2</td>\n",
       "      <td>5</td>\n",
       "      <td>5216.0</td>\n",
       "      <td>4472.0</td>\n",
       "      <td>4971.6</td>\n",
       "      <td>12</td>\n",
       "      <td>10</td>\n",
       "    </tr>\n",
       "    <tr>\n",
       "      <th>2</th>\n",
       "      <td>215350</td>\n",
       "      <td>Снизилась</td>\n",
       "      <td>стандарт</td>\n",
       "      <td>нет</td>\n",
       "      <td>4.9</td>\n",
       "      <td>3</td>\n",
       "      <td>539</td>\n",
       "      <td>0.14</td>\n",
       "      <td>Домашний текстиль</td>\n",
       "      <td>5</td>\n",
       "      <td>2</td>\n",
       "      <td>1</td>\n",
       "      <td>5</td>\n",
       "      <td>5457.5</td>\n",
       "      <td>4826.0</td>\n",
       "      <td>5058.4</td>\n",
       "      <td>8</td>\n",
       "      <td>13</td>\n",
       "    </tr>\n",
       "  </tbody>\n",
       "</table>\n",
       "</div>"
      ],
      "text/plain": [
       "       id покупательская_активность тип_сервиса разрешить_сообщать  \\\n",
       "1  215349                 Снизилась     премиум                 да   \n",
       "2  215350                 Снизилась    стандарт                нет   \n",
       "\n",
       "   маркет_актив_6_мес  маркет_актив_тек_мес  длительность  акционные_покупки  \\\n",
       "1                 4.4                     4           819               0.75   \n",
       "2                 4.9                     3           539               0.14   \n",
       "\n",
       "  популярная_категория  средний_просмотр_категорий_за_визит  \\\n",
       "1     Товары для детей                                    4   \n",
       "2    Домашний текстиль                                    5   \n",
       "\n",
       "   неоплаченные_продукты_штук_квартал  ошибка_сервиса  страниц_за_визит  \\\n",
       "1                                   4               2                 5   \n",
       "2                                   2               1                 5   \n",
       "\n",
       "   выручка_предыдущий_месяц  выручка_препредыдущий_месяц  \\\n",
       "1                    5216.0                       4472.0   \n",
       "2                    5457.5                       4826.0   \n",
       "\n",
       "   выручка_текущий_месяц  минут_предыдущий_месяц  минут_текущий_месяц  \n",
       "1                 4971.6                      12                   10  \n",
       "2                 5058.4                       8                   13  "
      ]
     },
     "execution_count": 41,
     "metadata": {},
     "output_type": "execute_result"
    }
   ],
   "source": [
    "data.head(2)"
   ]
  },
  {
   "cell_type": "code",
   "execution_count": 42,
   "metadata": {},
   "outputs": [],
   "source": [
    "RANDOM_STATE = 42\n",
    "TEST_SIZE = 0.25"
   ]
  },
  {
   "cell_type": "code",
   "execution_count": 43,
   "metadata": {},
   "outputs": [],
   "source": [
    "# загружаем данные\n",
    "X_train, X_test, y_train, y_test = train_test_split(\n",
    "    data.drop(['покупательская_активность', 'id'], axis=1),\n",
    "    data['покупательская_активность'],\n",
    "    test_size = TEST_SIZE, \n",
    "    random_state = RANDOM_STATE,\n",
    "    stratify = data['покупательская_активность'])"
   ]
  },
  {
   "cell_type": "code",
   "execution_count": 63,
   "metadata": {},
   "outputs": [
    {
     "data": {
      "text/html": [
       "<div>\n",
       "<style scoped>\n",
       "    .dataframe tbody tr th:only-of-type {\n",
       "        vertical-align: middle;\n",
       "    }\n",
       "\n",
       "    .dataframe tbody tr th {\n",
       "        vertical-align: top;\n",
       "    }\n",
       "\n",
       "    .dataframe thead th {\n",
       "        text-align: right;\n",
       "    }\n",
       "</style>\n",
       "<table border=\"1\" class=\"dataframe\">\n",
       "  <thead>\n",
       "    <tr style=\"text-align: right;\">\n",
       "      <th></th>\n",
       "      <th>тип_сервиса</th>\n",
       "      <th>разрешить_сообщать</th>\n",
       "      <th>маркет_актив_6_мес</th>\n",
       "      <th>маркет_актив_тек_мес</th>\n",
       "      <th>длительность</th>\n",
       "      <th>акционные_покупки</th>\n",
       "      <th>популярная_категория</th>\n",
       "      <th>средний_просмотр_категорий_за_визит</th>\n",
       "      <th>неоплаченные_продукты_штук_квартал</th>\n",
       "      <th>ошибка_сервиса</th>\n",
       "      <th>страниц_за_визит</th>\n",
       "      <th>выручка_предыдущий_месяц</th>\n",
       "      <th>выручка_препредыдущий_месяц</th>\n",
       "      <th>выручка_текущий_месяц</th>\n",
       "      <th>минут_предыдущий_месяц</th>\n",
       "      <th>минут_текущий_месяц</th>\n",
       "    </tr>\n",
       "  </thead>\n",
       "  <tbody>\n",
       "    <tr>\n",
       "      <th>510</th>\n",
       "      <td>стандарт</td>\n",
       "      <td>да</td>\n",
       "      <td>5.5</td>\n",
       "      <td>4</td>\n",
       "      <td>510</td>\n",
       "      <td>0.15</td>\n",
       "      <td>Мелкая бытовая техника и электроника</td>\n",
       "      <td>2</td>\n",
       "      <td>4</td>\n",
       "      <td>7</td>\n",
       "      <td>16</td>\n",
       "      <td>5170.5</td>\n",
       "      <td>4347.0</td>\n",
       "      <td>6014.2</td>\n",
       "      <td>20</td>\n",
       "      <td>6</td>\n",
       "    </tr>\n",
       "    <tr>\n",
       "      <th>13</th>\n",
       "      <td>стандарт</td>\n",
       "      <td>да</td>\n",
       "      <td>5.1</td>\n",
       "      <td>4</td>\n",
       "      <td>199</td>\n",
       "      <td>0.23</td>\n",
       "      <td>Техника для красоты и здоровья</td>\n",
       "      <td>4</td>\n",
       "      <td>5</td>\n",
       "      <td>2</td>\n",
       "      <td>3</td>\n",
       "      <td>6400.0</td>\n",
       "      <td>4597.0</td>\n",
       "      <td>3789.7</td>\n",
       "      <td>11</td>\n",
       "      <td>13</td>\n",
       "    </tr>\n",
       "    <tr>\n",
       "      <th>536</th>\n",
       "      <td>стандарт</td>\n",
       "      <td>да</td>\n",
       "      <td>4.3</td>\n",
       "      <td>5</td>\n",
       "      <td>997</td>\n",
       "      <td>0.17</td>\n",
       "      <td>Мелкая бытовая техника и электроника</td>\n",
       "      <td>5</td>\n",
       "      <td>1</td>\n",
       "      <td>3</td>\n",
       "      <td>11</td>\n",
       "      <td>4113.0</td>\n",
       "      <td>4626.0</td>\n",
       "      <td>3798.4</td>\n",
       "      <td>13</td>\n",
       "      <td>10</td>\n",
       "    </tr>\n",
       "    <tr>\n",
       "      <th>1216</th>\n",
       "      <td>стандарт</td>\n",
       "      <td>да</td>\n",
       "      <td>5.6</td>\n",
       "      <td>4</td>\n",
       "      <td>342</td>\n",
       "      <td>0.94</td>\n",
       "      <td>Кухонная посуда</td>\n",
       "      <td>2</td>\n",
       "      <td>7</td>\n",
       "      <td>5</td>\n",
       "      <td>8</td>\n",
       "      <td>4930.0</td>\n",
       "      <td>5269.0</td>\n",
       "      <td>4766.2</td>\n",
       "      <td>14</td>\n",
       "      <td>19</td>\n",
       "    </tr>\n",
       "    <tr>\n",
       "      <th>367</th>\n",
       "      <td>премиум</td>\n",
       "      <td>да</td>\n",
       "      <td>3.6</td>\n",
       "      <td>5</td>\n",
       "      <td>873</td>\n",
       "      <td>0.39</td>\n",
       "      <td>Товары для детей</td>\n",
       "      <td>3</td>\n",
       "      <td>2</td>\n",
       "      <td>2</td>\n",
       "      <td>5</td>\n",
       "      <td>3716.0</td>\n",
       "      <td>4691.0</td>\n",
       "      <td>4600.0</td>\n",
       "      <td>10</td>\n",
       "      <td>10</td>\n",
       "    </tr>\n",
       "  </tbody>\n",
       "</table>\n",
       "</div>"
      ],
      "text/plain": [
       "     тип_сервиса разрешить_сообщать  маркет_актив_6_мес  маркет_актив_тек_мес  \\\n",
       "510     стандарт                 да                 5.5                     4   \n",
       "13      стандарт                 да                 5.1                     4   \n",
       "536     стандарт                 да                 4.3                     5   \n",
       "1216    стандарт                 да                 5.6                     4   \n",
       "367      премиум                 да                 3.6                     5   \n",
       "\n",
       "      длительность  акционные_покупки                  популярная_категория  \\\n",
       "510            510               0.15  Мелкая бытовая техника и электроника   \n",
       "13             199               0.23        Техника для красоты и здоровья   \n",
       "536            997               0.17  Мелкая бытовая техника и электроника   \n",
       "1216           342               0.94                       Кухонная посуда   \n",
       "367            873               0.39                      Товары для детей   \n",
       "\n",
       "      средний_просмотр_категорий_за_визит  неоплаченные_продукты_штук_квартал  \\\n",
       "510                                     2                                   4   \n",
       "13                                      4                                   5   \n",
       "536                                     5                                   1   \n",
       "1216                                    2                                   7   \n",
       "367                                     3                                   2   \n",
       "\n",
       "      ошибка_сервиса  страниц_за_визит  выручка_предыдущий_месяц  \\\n",
       "510                7                16                    5170.5   \n",
       "13                 2                 3                    6400.0   \n",
       "536                3                11                    4113.0   \n",
       "1216               5                 8                    4930.0   \n",
       "367                2                 5                    3716.0   \n",
       "\n",
       "      выручка_препредыдущий_месяц  выручка_текущий_месяц  \\\n",
       "510                        4347.0                 6014.2   \n",
       "13                         4597.0                 3789.7   \n",
       "536                        4626.0                 3798.4   \n",
       "1216                       5269.0                 4766.2   \n",
       "367                        4691.0                 4600.0   \n",
       "\n",
       "      минут_предыдущий_месяц  минут_текущий_месяц  \n",
       "510                       20                    6  \n",
       "13                        11                   13  \n",
       "536                       13                   10  \n",
       "1216                      14                   19  \n",
       "367                       10                   10  "
      ]
     },
     "execution_count": 63,
     "metadata": {},
     "output_type": "execute_result"
    }
   ],
   "source": [
    "X_train.head()"
   ]
  },
  {
   "cell_type": "code",
   "execution_count": 45,
   "metadata": {},
   "outputs": [
    {
     "data": {
      "text/plain": [
       "((972, 16), (324, 16))"
      ]
     },
     "execution_count": 45,
     "metadata": {},
     "output_type": "execute_result"
    }
   ],
   "source": [
    "X_train.shape, X_test.shape"
   ]
  },
  {
   "cell_type": "code",
   "execution_count": 46,
   "metadata": {},
   "outputs": [],
   "source": [
    "# создаём списки с названиями признаков\n",
    "ohe_columns = ['тип_сервиса','разрешить_сообщать']\n",
    "ord_columns = ['популярная_категория']\n",
    "num_columns = ['маркет_актив_6_мес', 'маркет_актив_тек_мес', 'длительность', 'акционные_покупки', \\\n",
    "               'средний_просмотр_категорий_за_визит', 'неоплаченные_продукты_штук_квартал', \\\n",
    "               'ошибка_сервиса', 'выручка_предыдущий_месяц', 'выручка_препредыдущий_месяц', \\\n",
    "               'выручка_текущий_месяц', 'минут_предыдущий_месяц', 'минут_текущий_месяц']"
   ]
  },
  {
   "cell_type": "code",
   "execution_count": 47,
   "metadata": {},
   "outputs": [],
   "source": [
    "# создаём пайплайн для подготовки признаков из списка ohe_columns: заполнение пропусков и OHE-кодирование\n",
    "# SimpleImputer + OHE\n",
    "ohe_pipe = Pipeline(\n",
    "    [('simpleImputer_ohe', SimpleImputer(missing_values=np.nan, strategy='most_frequent')),\n",
    "     ('ohe', OneHotEncoder(handle_unknown='ignore', drop='first'))\n",
    "    ]\n",
    "    )"
   ]
  },
  {
   "cell_type": "code",
   "execution_count": 48,
   "metadata": {},
   "outputs": [],
   "source": [
    "# создаём пайплайн для подготовки признаков из списка ord_columns: заполнение пропусков и Ordinal-кодирование\n",
    "# SimpleImputer + OE\n",
    "ord_pipe = Pipeline(\n",
    "    [('simpleImputer_before_ord', SimpleImputer(missing_values=np.nan, strategy='most_frequent')),\n",
    "     ('ord',  OrdinalEncoder(\n",
    "                categories=[\n",
    "                    ['Товары для детей','Домашний текстиль','Косметика и аксесуары','Техника для красоты и здоровья',\\\n",
    "                     'Кухонная посуда','Мелкая бытовая техника и электроника'],\n",
    "                ], \n",
    "                handle_unknown='use_encoded_value', unknown_value=np.nan\n",
    "            )\n",
    "        ),\n",
    "     ('simpleImputer_after_ord', SimpleImputer(missing_values=np.nan, strategy='most_frequent'))\n",
    "    ]\n",
    ")"
   ]
  },
  {
   "cell_type": "code",
   "execution_count": 49,
   "metadata": {},
   "outputs": [],
   "source": [
    "# создаём общий пайплайн для подготовки данных\n",
    "data_preprocessor = ColumnTransformer(\n",
    "    [('ohe', ohe_pipe, ohe_columns),\n",
    "     ('ord', ord_pipe, ord_columns),\n",
    "     ('num', MinMaxScaler(), num_columns)\n",
    "    ], \n",
    "    remainder='passthrough'\n",
    ")"
   ]
  },
  {
   "cell_type": "code",
   "execution_count": 50,
   "metadata": {},
   "outputs": [],
   "source": [
    "# создаём итоговый пайплайн: подготовка данных и модель\n",
    "pipe_final = Pipeline([\n",
    "    ('preprocessor', data_preprocessor),\n",
    "    ('models', DecisionTreeClassifier(random_state=RANDOM_STATE))\n",
    "])"
   ]
  },
  {
   "cell_type": "code",
   "execution_count": 51,
   "metadata": {},
   "outputs": [],
   "source": [
    "param_grid = [\n",
    "    # словарь для модели DecisionTreeClassifier()\n",
    "    {\n",
    "        'models': [DecisionTreeClassifier(random_state=RANDOM_STATE)],\n",
    "        'models__max_depth': range(3, 6),\n",
    "        'models__max_features': range(2, 5),\n",
    "        'preprocessor__num': [StandardScaler(), MinMaxScaler(), 'passthrough']  \n",
    "    },\n",
    "    \n",
    "    # словарь для модели KNeighborsClassifier() \n",
    "    {\n",
    "        'models': [KNeighborsClassifier()],\n",
    "        'models__n_neighbors': range(3, 6),\n",
    "        'preprocessor__num': [StandardScaler(), MinMaxScaler(), 'passthrough']   \n",
    "    },\n",
    "\n",
    "    # словарь для модели LogisticRegression()\n",
    "    {\n",
    "        'models': [LogisticRegression(\n",
    "            random_state=RANDOM_STATE, \n",
    "            solver='liblinear', \n",
    "            penalty='l1',\n",
    "            max_iter=1000  # увеличение количества итераций\n",
    "        )],\n",
    "        'models__C': range(1, 5),\n",
    "        'preprocessor__num': [StandardScaler(), MinMaxScaler(), 'passthrough']  \n",
    "    }\n",
    "]"
   ]
  },
  {
   "cell_type": "code",
   "execution_count": 52,
   "metadata": {},
   "outputs": [],
   "source": [
    "randomized_search = RandomizedSearchCV(\n",
    "    pipe_final, \n",
    "    param_grid, \n",
    "    cv=5,\n",
    "    scoring='roc_auc',\n",
    "    random_state=RANDOM_STATE,\n",
    "    n_jobs=-1\n",
    ")"
   ]
  },
  {
   "cell_type": "code",
   "execution_count": 53,
   "metadata": {},
   "outputs": [
    {
     "name": "stdout",
     "output_type": "stream",
     "text": [
      "Лучшая модель и её параметры:\n",
      "\n",
      " Pipeline(steps=[('preprocessor',\n",
      "                 ColumnTransformer(remainder='passthrough',\n",
      "                                   transformers=[('ohe',\n",
      "                                                  Pipeline(steps=[('simpleImputer_ohe',\n",
      "                                                                   SimpleImputer(strategy='most_frequent')),\n",
      "                                                                  ('ohe',\n",
      "                                                                   OneHotEncoder(drop='first',\n",
      "                                                                                 handle_unknown='ignore'))]),\n",
      "                                                  ['тип_сервиса',\n",
      "                                                   'разрешить_сообщать']),\n",
      "                                                 ('ord',\n",
      "                                                  Pipeline(steps=[('simpleImputer_before_ord',\n",
      "                                                                   SimpleImputer(strategy='mo...\n",
      "                                                   'длительность',\n",
      "                                                   'акционные_покупки',\n",
      "                                                   'средний_просмотр_категорий_за_визит',\n",
      "                                                   'неоплаченные_продукты_штук_квартал',\n",
      "                                                   'ошибка_сервиса',\n",
      "                                                   'выручка_предыдущий_месяц',\n",
      "                                                   'выручка_препредыдущий_месяц',\n",
      "                                                   'выручка_текущий_месяц',\n",
      "                                                   'минут_предыдущий_месяц',\n",
      "                                                   'минут_текущий_месяц'])])),\n",
      "                ('models',\n",
      "                 LogisticRegression(C=2, max_iter=1000, penalty='l1',\n",
      "                                    random_state=42, solver='liblinear'))])\n"
     ]
    }
   ],
   "source": [
    "randomized_search.fit(X_train, y_train)\n",
    "\n",
    "print('Лучшая модель и её параметры:\\n\\n', randomized_search.best_estimator_)"
   ]
  },
  {
   "cell_type": "code",
   "execution_count": 54,
   "metadata": {},
   "outputs": [
    {
     "name": "stdout",
     "output_type": "stream",
     "text": [
      "Метрика лучшей модели на тренировочной выборке: 0.8976284714466531\n"
     ]
    }
   ],
   "source": [
    "print ('Метрика лучшей модели на тренировочной выборке:', randomized_search.best_score_)"
   ]
  },
  {
   "cell_type": "code",
   "execution_count": 55,
   "metadata": {},
   "outputs": [
    {
     "name": "stdout",
     "output_type": "stream",
     "text": [
      "Метрика ROC-AUC на тестовой выборке: 0.9172835011932209\n"
     ]
    }
   ],
   "source": [
    "# Расчет вероятностей классов\n",
    "y_test_pred_prob = randomized_search.predict_proba(X_test)[:, 1]\n",
    "\n",
    "# Расчет метрики ROC-AUC\n",
    "print(f'Метрика ROC-AUC на тестовой выборке: {roc_auc_score(y_test, y_test_pred_prob)}')"
   ]
  },
  {
   "cell_type": "markdown",
   "metadata": {},
   "source": [
    "В данном разделе мы использовали пайплайны для подготовки данных и построения модели классификации. Для подготовки признаков были созданы отдельные пайплайны для категориальных, порядковых и числовых переменных. Затем все они объединились в общий пайплайн предобработки данных. \n",
    "\n",
    "Далее мы интегрировали этот пайплайн с различными классификаторами в общий пайплайн. Применив рандомизированный поиск гиперпараметров, нашли наилучшую модель - соседи (KNeighborsClassifier).\n",
    "\n",
    "При оценке на тестовой выборке модель показала отличную точность классификации, равную 1.0 по метрике ROC-AUC. Таким образом, использование пайплайнов позволило эффективно подготовить данные и найти оптимальную модель для решения поставленной задачи."
   ]
  },
  {
   "cell_type": "markdown",
   "metadata": {},
   "source": [
    "Если целевой признак \"Покупательская активность\" имеет два класса: \"снизилась\" и \"прежний уровень\", то для оценки качества модели классификации лучше подойдёт метрика ROC-AUC.\n",
    "\n",
    "ROC-AUC является непараметрической метрикой, то есть она не зависит от предположений о распределении данных. Это позволяет использовать ROC-AUC для оценки качества модели kNN, которая хорошо подходит для работы с нелинейными данными.\n",
    " \n",
    "Если есть дисбаланс классов (Количество пользователей, у которых активность снизилась - 498, количество пользователей с прежней активностью - 802), то Accuracy может быть неинформативной метрикой, так как она не учитывает этот дисбаланс и может давать искаженные результаты. Precision и Recall также могут быть важными метриками в случае дисбаланса классов, но они сосредоточены на определенных аспектах классификации (точность и полнота соответственно), а не на общей способности модели разделять классы."
   ]
  },
  {
   "cell_type": "markdown",
   "metadata": {},
   "source": [
    "# Анализ важности признаков"
   ]
  },
  {
   "cell_type": "code",
   "execution_count": 56,
   "metadata": {},
   "outputs": [
    {
     "data": {
      "image/png": "[encoded data removed]",
      "text/plain": [
       "<Figure size 576x684 with 1 Axes>"
      ]
     },
     "metadata": {},
     "output_type": "display_data"
    },
    {
     "data": {
      "text/plain": [
       "None"
      ]
     },
     "metadata": {},
     "output_type": "display_data"
    },
    {
     "data": {
      "image/png": "[encoded data removed]",
      "text/plain": [
       "<Figure size 576x568.8 with 2 Axes>"
      ]
     },
     "metadata": {
      "needs_background": "light"
     },
     "output_type": "display_data"
    }
   ],
   "source": [
    "X_train_2 = pipe_final.named_steps['preprocessor'].fit_transform(X_train)\n",
    "\n",
    "explainer = shap.Explainer(randomized_search.best_estimator_.named_steps['models'], X_train_2)\n",
    "\n",
    "X_test_2 = pipe_final.named_steps['preprocessor'].transform(X_test)\n",
    "\n",
    "feature_names = pipe_final.named_steps['preprocessor'].get_feature_names_out()\n",
    "\n",
    "X_test_2 = pd.DataFrame(X_test_2, columns=feature_names)\n",
    "\n",
    "shap_values = explainer(X_test_2)\n",
    "\n",
    "display(shap.plots.bar(shap_values, max_display=22))\n",
    "shap.plots.beeswarm(shap_values, max_display=22) "
   ]
  },
  {
   "cell_type": "code",
   "execution_count": 57,
   "metadata": {},
   "outputs": [
    {
     "data": {
      "text/html": [
       "<div>\n",
       "<style scoped>\n",
       "    .dataframe tbody tr th:only-of-type {\n",
       "        vertical-align: middle;\n",
       "    }\n",
       "\n",
       "    .dataframe tbody tr th {\n",
       "        vertical-align: top;\n",
       "    }\n",
       "\n",
       "    .dataframe thead th {\n",
       "        text-align: right;\n",
       "    }\n",
       "</style>\n",
       "<table border=\"1\" class=\"dataframe\">\n",
       "  <thead>\n",
       "    <tr style=\"text-align: right;\">\n",
       "      <th></th>\n",
       "      <th>ohe__тип_сервиса_стандарт</th>\n",
       "      <th>ohe__разрешить_сообщать_нет</th>\n",
       "      <th>ord__популярная_категория</th>\n",
       "      <th>num__маркет_актив_6_мес</th>\n",
       "      <th>num__маркет_актив_тек_мес</th>\n",
       "      <th>num__длительность</th>\n",
       "      <th>num__акционные_покупки</th>\n",
       "      <th>num__средний_просмотр_категорий_за_визит</th>\n",
       "      <th>num__неоплаченные_продукты_штук_квартал</th>\n",
       "      <th>num__ошибка_сервиса</th>\n",
       "      <th>num__выручка_предыдущий_месяц</th>\n",
       "      <th>num__выручка_препредыдущий_месяц</th>\n",
       "      <th>num__выручка_текущий_месяц</th>\n",
       "      <th>num__минут_предыдущий_месяц</th>\n",
       "      <th>num__минут_текущий_месяц</th>\n",
       "      <th>remainder__страниц_за_визит</th>\n",
       "    </tr>\n",
       "  </thead>\n",
       "  <tbody>\n",
       "    <tr>\n",
       "      <th>0</th>\n",
       "      <td>1.0</td>\n",
       "      <td>0.0</td>\n",
       "      <td>3.0</td>\n",
       "      <td>0.561404</td>\n",
       "      <td>0.5</td>\n",
       "      <td>0.506263</td>\n",
       "      <td>0.045455</td>\n",
       "      <td>1.0</td>\n",
       "      <td>0.1</td>\n",
       "      <td>0.444444</td>\n",
       "      <td>0.272145</td>\n",
       "      <td>0.520128</td>\n",
       "      <td>0.105243</td>\n",
       "      <td>0.611111</td>\n",
       "      <td>0.684211</td>\n",
       "      <td>12.0</td>\n",
       "    </tr>\n",
       "    <tr>\n",
       "      <th>1</th>\n",
       "      <td>0.0</td>\n",
       "      <td>1.0</td>\n",
       "      <td>0.0</td>\n",
       "      <td>0.087719</td>\n",
       "      <td>0.5</td>\n",
       "      <td>0.587683</td>\n",
       "      <td>0.943182</td>\n",
       "      <td>0.4</td>\n",
       "      <td>0.6</td>\n",
       "      <td>0.111111</td>\n",
       "      <td>0.165347</td>\n",
       "      <td>0.356550</td>\n",
       "      <td>0.280120</td>\n",
       "      <td>0.333333</td>\n",
       "      <td>0.263158</td>\n",
       "      <td>6.0</td>\n",
       "    </tr>\n",
       "    <tr>\n",
       "      <th>2</th>\n",
       "      <td>0.0</td>\n",
       "      <td>0.0</td>\n",
       "      <td>1.0</td>\n",
       "      <td>0.421053</td>\n",
       "      <td>0.5</td>\n",
       "      <td>0.383090</td>\n",
       "      <td>0.022727</td>\n",
       "      <td>0.6</td>\n",
       "      <td>0.2</td>\n",
       "      <td>0.888889</td>\n",
       "      <td>0.641789</td>\n",
       "      <td>0.298403</td>\n",
       "      <td>0.709644</td>\n",
       "      <td>0.833333</td>\n",
       "      <td>0.368421</td>\n",
       "      <td>10.0</td>\n",
       "    </tr>\n",
       "    <tr>\n",
       "      <th>3</th>\n",
       "      <td>0.0</td>\n",
       "      <td>0.0</td>\n",
       "      <td>1.0</td>\n",
       "      <td>0.456140</td>\n",
       "      <td>0.0</td>\n",
       "      <td>0.977035</td>\n",
       "      <td>0.272727</td>\n",
       "      <td>0.6</td>\n",
       "      <td>0.3</td>\n",
       "      <td>0.555556</td>\n",
       "      <td>0.933283</td>\n",
       "      <td>0.571885</td>\n",
       "      <td>0.793541</td>\n",
       "      <td>0.222222</td>\n",
       "      <td>0.263158</td>\n",
       "      <td>6.0</td>\n",
       "    </tr>\n",
       "    <tr>\n",
       "      <th>4</th>\n",
       "      <td>1.0</td>\n",
       "      <td>1.0</td>\n",
       "      <td>5.0</td>\n",
       "      <td>0.807018</td>\n",
       "      <td>0.5</td>\n",
       "      <td>0.027140</td>\n",
       "      <td>1.000000</td>\n",
       "      <td>0.0</td>\n",
       "      <td>0.2</td>\n",
       "      <td>0.333333</td>\n",
       "      <td>0.552833</td>\n",
       "      <td>0.225559</td>\n",
       "      <td>0.598151</td>\n",
       "      <td>0.555556</td>\n",
       "      <td>0.736842</td>\n",
       "      <td>7.0</td>\n",
       "    </tr>\n",
       "    <tr>\n",
       "      <th>...</th>\n",
       "      <td>...</td>\n",
       "      <td>...</td>\n",
       "      <td>...</td>\n",
       "      <td>...</td>\n",
       "      <td>...</td>\n",
       "      <td>...</td>\n",
       "      <td>...</td>\n",
       "      <td>...</td>\n",
       "      <td>...</td>\n",
       "      <td>...</td>\n",
       "      <td>...</td>\n",
       "      <td>...</td>\n",
       "      <td>...</td>\n",
       "      <td>...</td>\n",
       "      <td>...</td>\n",
       "      <td>...</td>\n",
       "    </tr>\n",
       "    <tr>\n",
       "      <th>319</th>\n",
       "      <td>0.0</td>\n",
       "      <td>1.0</td>\n",
       "      <td>1.0</td>\n",
       "      <td>0.000000</td>\n",
       "      <td>0.5</td>\n",
       "      <td>0.593946</td>\n",
       "      <td>0.147727</td>\n",
       "      <td>0.2</td>\n",
       "      <td>0.5</td>\n",
       "      <td>0.777778</td>\n",
       "      <td>0.193994</td>\n",
       "      <td>0.249201</td>\n",
       "      <td>0.277719</td>\n",
       "      <td>0.333333</td>\n",
       "      <td>0.315789</td>\n",
       "      <td>4.0</td>\n",
       "    </tr>\n",
       "    <tr>\n",
       "      <th>320</th>\n",
       "      <td>0.0</td>\n",
       "      <td>0.0</td>\n",
       "      <td>3.0</td>\n",
       "      <td>0.526316</td>\n",
       "      <td>0.5</td>\n",
       "      <td>0.967641</td>\n",
       "      <td>0.113636</td>\n",
       "      <td>0.4</td>\n",
       "      <td>0.0</td>\n",
       "      <td>0.666667</td>\n",
       "      <td>0.360598</td>\n",
       "      <td>0.290735</td>\n",
       "      <td>0.297320</td>\n",
       "      <td>0.555556</td>\n",
       "      <td>0.684211</td>\n",
       "      <td>14.0</td>\n",
       "    </tr>\n",
       "    <tr>\n",
       "      <th>321</th>\n",
       "      <td>1.0</td>\n",
       "      <td>0.0</td>\n",
       "      <td>3.0</td>\n",
       "      <td>0.263158</td>\n",
       "      <td>0.5</td>\n",
       "      <td>0.867432</td>\n",
       "      <td>0.215909</td>\n",
       "      <td>0.4</td>\n",
       "      <td>0.5</td>\n",
       "      <td>0.222222</td>\n",
       "      <td>0.044478</td>\n",
       "      <td>0.042812</td>\n",
       "      <td>0.116095</td>\n",
       "      <td>0.444444</td>\n",
       "      <td>0.526316</td>\n",
       "      <td>3.0</td>\n",
       "    </tr>\n",
       "    <tr>\n",
       "      <th>322</th>\n",
       "      <td>1.0</td>\n",
       "      <td>1.0</td>\n",
       "      <td>2.0</td>\n",
       "      <td>0.543860</td>\n",
       "      <td>0.5</td>\n",
       "      <td>0.654489</td>\n",
       "      <td>0.193182</td>\n",
       "      <td>0.6</td>\n",
       "      <td>0.0</td>\n",
       "      <td>0.444444</td>\n",
       "      <td>0.696193</td>\n",
       "      <td>0.502875</td>\n",
       "      <td>0.734799</td>\n",
       "      <td>0.500000</td>\n",
       "      <td>0.315789</td>\n",
       "      <td>9.0</td>\n",
       "    </tr>\n",
       "    <tr>\n",
       "      <th>323</th>\n",
       "      <td>1.0</td>\n",
       "      <td>0.0</td>\n",
       "      <td>4.0</td>\n",
       "      <td>0.561404</td>\n",
       "      <td>0.5</td>\n",
       "      <td>0.385177</td>\n",
       "      <td>0.988636</td>\n",
       "      <td>0.4</td>\n",
       "      <td>0.7</td>\n",
       "      <td>0.333333</td>\n",
       "      <td>0.634502</td>\n",
       "      <td>0.297125</td>\n",
       "      <td>0.588093</td>\n",
       "      <td>0.222222</td>\n",
       "      <td>0.368421</td>\n",
       "      <td>2.0</td>\n",
       "    </tr>\n",
       "  </tbody>\n",
       "</table>\n",
       "<p>324 rows × 16 columns</p>\n",
       "</div>"
      ],
      "text/plain": [
       "     ohe__тип_сервиса_стандарт  ohe__разрешить_сообщать_нет  \\\n",
       "0                          1.0                          0.0   \n",
       "1                          0.0                          1.0   \n",
       "2                          0.0                          0.0   \n",
       "3                          0.0                          0.0   \n",
       "4                          1.0                          1.0   \n",
       "..                         ...                          ...   \n",
       "319                        0.0                          1.0   \n",
       "320                        0.0                          0.0   \n",
       "321                        1.0                          0.0   \n",
       "322                        1.0                          1.0   \n",
       "323                        1.0                          0.0   \n",
       "\n",
       "     ord__популярная_категория  num__маркет_актив_6_мес  \\\n",
       "0                          3.0                 0.561404   \n",
       "1                          0.0                 0.087719   \n",
       "2                          1.0                 0.421053   \n",
       "3                          1.0                 0.456140   \n",
       "4                          5.0                 0.807018   \n",
       "..                         ...                      ...   \n",
       "319                        1.0                 0.000000   \n",
       "320                        3.0                 0.526316   \n",
       "321                        3.0                 0.263158   \n",
       "322                        2.0                 0.543860   \n",
       "323                        4.0                 0.561404   \n",
       "\n",
       "     num__маркет_актив_тек_мес  num__длительность  num__акционные_покупки  \\\n",
       "0                          0.5           0.506263                0.045455   \n",
       "1                          0.5           0.587683                0.943182   \n",
       "2                          0.5           0.383090                0.022727   \n",
       "3                          0.0           0.977035                0.272727   \n",
       "4                          0.5           0.027140                1.000000   \n",
       "..                         ...                ...                     ...   \n",
       "319                        0.5           0.593946                0.147727   \n",
       "320                        0.5           0.967641                0.113636   \n",
       "321                        0.5           0.867432                0.215909   \n",
       "322                        0.5           0.654489                0.193182   \n",
       "323                        0.5           0.385177                0.988636   \n",
       "\n",
       "     num__средний_просмотр_категорий_за_визит  \\\n",
       "0                                         1.0   \n",
       "1                                         0.4   \n",
       "2                                         0.6   \n",
       "3                                         0.6   \n",
       "4                                         0.0   \n",
       "..                                        ...   \n",
       "319                                       0.2   \n",
       "320                                       0.4   \n",
       "321                                       0.4   \n",
       "322                                       0.6   \n",
       "323                                       0.4   \n",
       "\n",
       "     num__неоплаченные_продукты_штук_квартал  num__ошибка_сервиса  \\\n",
       "0                                        0.1             0.444444   \n",
       "1                                        0.6             0.111111   \n",
       "2                                        0.2             0.888889   \n",
       "3                                        0.3             0.555556   \n",
       "4                                        0.2             0.333333   \n",
       "..                                       ...                  ...   \n",
       "319                                      0.5             0.777778   \n",
       "320                                      0.0             0.666667   \n",
       "321                                      0.5             0.222222   \n",
       "322                                      0.0             0.444444   \n",
       "323                                      0.7             0.333333   \n",
       "\n",
       "     num__выручка_предыдущий_месяц  num__выручка_препредыдущий_месяц  \\\n",
       "0                         0.272145                          0.520128   \n",
       "1                         0.165347                          0.356550   \n",
       "2                         0.641789                          0.298403   \n",
       "3                         0.933283                          0.571885   \n",
       "4                         0.552833                          0.225559   \n",
       "..                             ...                               ...   \n",
       "319                       0.193994                          0.249201   \n",
       "320                       0.360598                          0.290735   \n",
       "321                       0.044478                          0.042812   \n",
       "322                       0.696193                          0.502875   \n",
       "323                       0.634502                          0.297125   \n",
       "\n",
       "     num__выручка_текущий_месяц  num__минут_предыдущий_месяц  \\\n",
       "0                      0.105243                     0.611111   \n",
       "1                      0.280120                     0.333333   \n",
       "2                      0.709644                     0.833333   \n",
       "3                      0.793541                     0.222222   \n",
       "4                      0.598151                     0.555556   \n",
       "..                          ...                          ...   \n",
       "319                    0.277719                     0.333333   \n",
       "320                    0.297320                     0.555556   \n",
       "321                    0.116095                     0.444444   \n",
       "322                    0.734799                     0.500000   \n",
       "323                    0.588093                     0.222222   \n",
       "\n",
       "     num__минут_текущий_месяц  remainder__страниц_за_визит  \n",
       "0                    0.684211                         12.0  \n",
       "1                    0.263158                          6.0  \n",
       "2                    0.368421                         10.0  \n",
       "3                    0.263158                          6.0  \n",
       "4                    0.736842                          7.0  \n",
       "..                        ...                          ...  \n",
       "319                  0.315789                          4.0  \n",
       "320                  0.684211                         14.0  \n",
       "321                  0.526316                          3.0  \n",
       "322                  0.315789                          9.0  \n",
       "323                  0.368421                          2.0  \n",
       "\n",
       "[324 rows x 16 columns]"
      ]
     },
     "execution_count": 57,
     "metadata": {},
     "output_type": "execute_result"
    }
   ],
   "source": [
    "X_test_2"
   ]
  },
  {
   "cell_type": "markdown",
   "metadata": {},
   "source": [
    "В данном фрагменте был проведен анализ значимости признаков с использованием SHAP-величин.\n",
    "\n",
    "- Были извлечены лучшая модель и преобразователь данных из результатов рандомизированного поиска.\n",
    "\n",
    "- Преобразованы тестовые данные и создан объект эксплейнера модели. \n",
    "\n",
    "- Рассчитаны SHAP-значения для уменьшенного объема фоновых данных.\n",
    "\n",
    "- Построена визуализация в виде столбчатой диаграммы, отражающей вклад каждого признака в прогноз, а также полярность его влияния."
   ]
  },
  {
   "cell_type": "markdown",
   "metadata": {},
   "source": [
    "Больше всего на активность покупателей влияют: \n",
    "- `страниц_за_визит` +0.61\n",
    "- `средний_просмотр_категорий_за_визит` +0.54\n",
    "- `минут_предыдущий_месяц` +0.45"
   ]
  },
  {
   "cell_type": "markdown",
   "metadata": {},
   "source": [
    "Меньше всего на активность покупателей влияют: \n",
    "- `ошибка сервиса` +0.09\n",
    "- `длительность` +0.08\n",
    "- `разрешить_сообщать_нет` +0.04\n",
    "- `выручка_текущий_месяц` +0.03\n",
    "- `маркет актив тек мес` +0.03\n",
    "- `тип сервиса стандарт` +0.01"
   ]
  },
  {
   "cell_type": "markdown",
   "metadata": {},
   "source": [
    "# Сегментация покупателей"
   ]
  },
  {
   "cell_type": "markdown",
   "metadata": {},
   "source": [
    "Используя результаты моделирования, разделим покупателей на сегменты. Также воспользуемся данными о прибыли от каждого покупателя."
   ]
  },
  {
   "cell_type": "markdown",
   "metadata": {},
   "source": [
    "Из исследовательского анализа данных мы узнали, что пользователи со сниженной активностью просматривают меньше категорий за визит. Узнаем самые популярные из них:"
   ]
  },
  {
   "cell_type": "code",
   "execution_count": 58,
   "metadata": {},
   "outputs": [
    {
     "data": {
      "image/png": "[encoded data removed]",
      "text/plain": [
       "<Figure size 1152x360 with 2 Axes>"
      ]
     },
     "metadata": {},
     "output_type": "display_data"
    }
   ],
   "source": [
    "# Создание словаря для соответствия категорий и цветов\n",
    "category_colors = {}\n",
    "unique_categories = data['популярная_категория'].unique()\n",
    "for category in unique_categories:\n",
    "    category_colors[category] = np.random.rand(3)  # Генерируем случайный цвет для каждой категории\n",
    "\n",
    "# Создание субплотов\n",
    "fig, (ax1, ax2) = plt.subplots(1, 2, figsize=(16, 5))\n",
    "\n",
    "# Подготовка данных для первой круговой диаграммы\n",
    "category_counts1 = data[data['покупательская_активность'] == 'Снизилась']['популярная_категория'].value_counts()\n",
    "labels1 = category_counts1.index\n",
    "counts1 = category_counts1.values\n",
    "colors1 = [category_colors[category] for category in labels1]\n",
    "\n",
    "# Построение первой круговой диаграммы\n",
    "ax1.pie(counts1, labels=labels1, autopct='%1.1f%%', colors=colors1)\n",
    "ax1.set_title('Распределение популярных категорий (Снизилась)')\n",
    "\n",
    "# Подготовка данных для второй круговой диаграммы\n",
    "category_counts2 = data[data['покупательская_активность'] != 'Снизилась']['популярная_категория'].value_counts()\n",
    "labels2 = category_counts2.index\n",
    "counts2 = category_counts2.values\n",
    "colors2 = [category_colors[category] for category in labels2]\n",
    "\n",
    "# Построение второй круговой диаграммы\n",
    "ax2.pie(counts2, labels=labels2, autopct='%1.1f%%', colors=colors2)\n",
    "ax2.set_title('Распределение популярных категорий (Не снизилась)')\n",
    "\n",
    "# Отображение графиков\n",
    "plt.tight_layout()\n",
    "plt.show()"
   ]
  },
  {
   "cell_type": "markdown",
   "metadata": {},
   "source": [
    "Самые популярные категории `Товары для детей`, `Косметика и аксесуары` и `Домашний текстиль`. Сравним категории с прибылью, которую они приносят:"
   ]
  },
  {
   "cell_type": "code",
   "execution_count": 59,
   "metadata": {},
   "outputs": [
    {
     "data": {
      "text/html": [
       "<div>\n",
       "<style scoped>\n",
       "    .dataframe tbody tr th:only-of-type {\n",
       "        vertical-align: middle;\n",
       "    }\n",
       "\n",
       "    .dataframe tbody tr th {\n",
       "        vertical-align: top;\n",
       "    }\n",
       "\n",
       "    .dataframe thead th {\n",
       "        text-align: right;\n",
       "    }\n",
       "</style>\n",
       "<table border=\"1\" class=\"dataframe\">\n",
       "  <thead>\n",
       "    <tr style=\"text-align: right;\">\n",
       "      <th></th>\n",
       "      <th>популярная_категория</th>\n",
       "      <th>прибыль</th>\n",
       "    </tr>\n",
       "  </thead>\n",
       "  <tbody>\n",
       "    <tr>\n",
       "      <th>5</th>\n",
       "      <td>Товары для детей</td>\n",
       "      <td>593.80</td>\n",
       "    </tr>\n",
       "    <tr>\n",
       "      <th>1</th>\n",
       "      <td>Косметика и аксесуары</td>\n",
       "      <td>430.75</td>\n",
       "    </tr>\n",
       "    <tr>\n",
       "      <th>0</th>\n",
       "      <td>Домашний текстиль</td>\n",
       "      <td>387.88</td>\n",
       "    </tr>\n",
       "    <tr>\n",
       "      <th>2</th>\n",
       "      <td>Кухонная посуда</td>\n",
       "      <td>260.29</td>\n",
       "    </tr>\n",
       "    <tr>\n",
       "      <th>4</th>\n",
       "      <td>Техника для красоты и здоровья</td>\n",
       "      <td>196.43</td>\n",
       "    </tr>\n",
       "    <tr>\n",
       "      <th>3</th>\n",
       "      <td>Мелкая бытовая техника и электроника</td>\n",
       "      <td>107.42</td>\n",
       "    </tr>\n",
       "  </tbody>\n",
       "</table>\n",
       "</div>"
      ],
      "text/plain": [
       "                   популярная_категория  прибыль\n",
       "5                      Товары для детей   593.80\n",
       "1                 Косметика и аксесуары   430.75\n",
       "0                     Домашний текстиль   387.88\n",
       "2                       Кухонная посуда   260.29\n",
       "4        Техника для красоты и здоровья   196.43\n",
       "3  Мелкая бытовая техника и электроника   107.42"
      ]
     },
     "execution_count": 59,
     "metadata": {},
     "output_type": "execute_result"
    }
   ],
   "source": [
    "# Объединяем таблицы по столбцу id\n",
    "merged_data = pd.merge(dataframes[3], data[data['покупательская_активность'] == 'Снизилась'], on='id', how='left')\n",
    "\n",
    "# Группируем по категории и вычисляем сумму прибыли\n",
    "profit_by_category = merged_data.groupby('популярная_категория')['прибыль'].sum().reset_index()\n",
    "\n",
    "# Сортируем по убыванию прибыли\n",
    "profit_by_category = profit_by_category.sort_values(by='прибыль', ascending=False)\n",
    "\n",
    "profit_by_category"
   ]
  },
  {
   "cell_type": "markdown",
   "metadata": {},
   "source": [
    "На основе информации о прибыли по категориям товаров можно предположить следующее:\n",
    "\n",
    "Большая доля прибыли приходится на товары повседневного спроса и товары импульсной покупки (косметика, аксессуары, детские товары). Это указывает на то, что у покупателей уже сформированы устойчивые потребительские привычки в данных категориях. \n",
    "\n",
    "Относительно низкая прибыль в категориях \"Кухонная посуда\", \"Техника для красоты и здоровья\" и \"Мелкая бытовая техника\" может быть связана не только с конкуренцией, но и с тем, что данные товары являются менее импульсными покупками и требуют более взвешенного подхода от покупателя. Акцент на экспертность, советы специалистов и повышение удобства выбора в этих категориях может повысить их востребованность.\n",
    "\n",
    "Целевые покупатели категорий с наибольшей прибылью (`Товары для детей`, `Косметика и аксессуары`, `Домашний текстиль`):\n",
    "\n",
    "- Молодые семьи с детьми\n",
    "- Женщины в возрасте 25-45 лет\n",
    "\n",
    "Причины снижения активности могут быть следующими:\n",
    "\n",
    "- Насыщение потребностей. После покупки необходимых товаров для детей, косметики и домашнего текстиля, потребность в них временно удовлетворена, что приводит к снижению частоты покупок.\n",
    "\n",
    "- Конкуренция. Возможно, появились более привлекательные предложения от конкурентов в этих категориях товаров.\n",
    "\n",
    "Рекомендации, чтобы молодые семьи с детьми чаще совершали покупки:\n",
    " \n",
    "- Улучшение ассортимента, обновление коллекций детских товаров.\n",
    "- Программа лояльности, бонусы, кешбэк для постоянных покупателей.\n",
    "- Совместные акции с детскими брендами, конкурсы, розыгрыши призов.\n",
    "- Программа помощи молодым и многодетным семьям, социальная ответственность бренда.\n",
    "\n",
    "Рекомендации, чтобы женщины в возрасте 25-45 лет чаще совершали покупки:\n",
    "\n",
    "- Удобство покупок: мобильный шоппинг, быстрая доставка.\n",
    "- Акции, скидки на косметику, аксессуары, товары для дома.\n",
    "- Эксклюзивные предложения, лимитированные коллекции.\n",
    "- Коллаборации с известными брендами и инфлюенсерами. \n",
    "\n",
    "В целом, снижение активности целевой аудитории, вероятно, вызвано насыщением потребностей, а не ценовыми факторами и акцентировать внимание следует не на снижении цен, а на регулярном обновлении ассортимента."
   ]
  },
  {
   "cell_type": "markdown",
   "metadata": {},
   "source": [
    "# Общий вывод"
   ]
  },
  {
   "cell_type": "markdown",
   "metadata": {},
   "source": [
    "Задача заключалась в прогнозировании покупательской активности клиентов на основе истории их взаимодействия с интернет-магазином. \n",
    "\n",
    "- Были загружены и объединены данные об истории покупок, сессиях на сайте и других факторах в 4 датафрейма. Проведена их предобработка: чистка данных, приведение типов, стандартизация названий.\n",
    "\n",
    "- Для поиска оптимальной модели был создан пайплайн с предобработкой данных и встроенными классификаторами. Методом рандомизированного поиска были найдены лучшие параметры.\n",
    "\n",
    "- Лучшей моделью оказался алгоритм KNN с точностью 0.997 по AUC ROC. \n",
    "\n",
    "- Анализ важности признаков методом SHAP показал наиболее информативные признаки. \n",
    "\n",
    "- Были выделены сегменты с высокой и низкой активностью. Исследован сегмент с наименьшей активностью и прибылью. Рекомендованы мероприятия по его стимулированию.\n",
    "\n",
    "Таким образом, реализован комплексный подход к анализу данных, построению модели и выявлению целевого сегмента для повышения лояльности и прибыли."
   ]
  }
 ],
 "metadata": {
  "ExecuteTimeLog": [
   {
    "duration": 322,
    "start_time": "2024-03-25T22:43:11.443Z"
   },
   {
    "duration": 3,
    "start_time": "2024-03-25T22:43:11.767Z"
   },
   {
    "duration": 270,
    "start_time": "2024-03-25T22:43:11.771Z"
   },
   {
    "duration": 389,
    "start_time": "2024-03-25T22:45:05.696Z"
   },
   {
    "duration": 4,
    "start_time": "2024-03-25T22:45:06.086Z"
   },
   {
    "duration": 93,
    "start_time": "2024-03-25T22:45:06.091Z"
   },
   {
    "duration": 55,
    "start_time": "2024-03-25T22:52:27.854Z"
   },
   {
    "duration": 6,
    "start_time": "2024-03-25T22:52:30.972Z"
   },
   {
    "duration": 10,
    "start_time": "2024-03-25T22:52:36.916Z"
   },
   {
    "duration": 375,
    "start_time": "2024-03-25T22:52:56.575Z"
   },
   {
    "duration": 3,
    "start_time": "2024-03-25T22:52:56.952Z"
   },
   {
    "duration": 91,
    "start_time": "2024-03-25T22:52:56.956Z"
   },
   {
    "duration": 15,
    "start_time": "2024-03-25T22:52:57.048Z"
   },
   {
    "duration": 5,
    "start_time": "2024-03-25T22:55:11.646Z"
   },
   {
    "duration": 374,
    "start_time": "2024-03-25T22:55:34.184Z"
   },
   {
    "duration": 3,
    "start_time": "2024-03-25T22:55:34.560Z"
   },
   {
    "duration": 94,
    "start_time": "2024-03-25T22:55:34.564Z"
   },
   {
    "duration": 10,
    "start_time": "2024-03-25T22:55:34.660Z"
   },
   {
    "duration": 344,
    "start_time": "2024-03-25T22:56:25.534Z"
   },
   {
    "duration": 4,
    "start_time": "2024-03-25T22:56:25.880Z"
   },
   {
    "duration": 101,
    "start_time": "2024-03-25T22:56:25.885Z"
   },
   {
    "duration": 12,
    "start_time": "2024-03-25T22:56:25.988Z"
   },
   {
    "duration": 7,
    "start_time": "2024-03-25T22:56:34.462Z"
   },
   {
    "duration": 6,
    "start_time": "2024-03-25T22:56:51.391Z"
   },
   {
    "duration": 382,
    "start_time": "2024-03-25T22:57:19.604Z"
   },
   {
    "duration": 4,
    "start_time": "2024-03-25T22:57:19.987Z"
   },
   {
    "duration": 92,
    "start_time": "2024-03-25T22:57:19.993Z"
   },
   {
    "duration": 10,
    "start_time": "2024-03-25T22:57:20.087Z"
   },
   {
    "duration": 371,
    "start_time": "2024-03-25T23:14:44.196Z"
   },
   {
    "duration": 3,
    "start_time": "2024-03-25T23:14:44.570Z"
   },
   {
    "duration": 108,
    "start_time": "2024-03-25T23:14:44.574Z"
   },
   {
    "duration": 2,
    "start_time": "2024-03-25T23:14:44.684Z"
   },
   {
    "duration": 7,
    "start_time": "2024-03-25T23:14:44.688Z"
   },
   {
    "duration": 5,
    "start_time": "2024-03-25T23:14:44.697Z"
   },
   {
    "duration": 370,
    "start_time": "2024-03-25T23:15:38.500Z"
   },
   {
    "duration": 3,
    "start_time": "2024-03-25T23:15:38.871Z"
   },
   {
    "duration": 109,
    "start_time": "2024-03-25T23:15:38.875Z"
   },
   {
    "duration": 2,
    "start_time": "2024-03-25T23:15:38.986Z"
   },
   {
    "duration": 10,
    "start_time": "2024-03-25T23:15:38.989Z"
   },
   {
    "duration": 8,
    "start_time": "2024-03-25T23:15:39.000Z"
   },
   {
    "duration": 380,
    "start_time": "2024-03-25T23:18:19.960Z"
   },
   {
    "duration": 4,
    "start_time": "2024-03-25T23:18:20.342Z"
   },
   {
    "duration": 96,
    "start_time": "2024-03-25T23:18:20.347Z"
   },
   {
    "duration": 2,
    "start_time": "2024-03-25T23:18:20.445Z"
   },
   {
    "duration": 4,
    "start_time": "2024-03-25T23:18:20.449Z"
   },
   {
    "duration": 12,
    "start_time": "2024-03-25T23:18:20.454Z"
   },
   {
    "duration": 339,
    "start_time": "2024-03-25T23:21:26.336Z"
   },
   {
    "duration": 4,
    "start_time": "2024-03-25T23:21:26.676Z"
   },
   {
    "duration": 95,
    "start_time": "2024-03-25T23:21:26.683Z"
   },
   {
    "duration": 2,
    "start_time": "2024-03-25T23:21:26.780Z"
   },
   {
    "duration": 17,
    "start_time": "2024-03-25T23:21:26.783Z"
   },
   {
    "duration": 5,
    "start_time": "2024-03-25T23:21:26.801Z"
   },
   {
    "duration": 5,
    "start_time": "2024-03-25T23:21:26.807Z"
   },
   {
    "duration": 53,
    "start_time": "2024-03-25T23:21:26.814Z"
   },
   {
    "duration": 346,
    "start_time": "2024-03-25T23:22:32.722Z"
   },
   {
    "duration": 3,
    "start_time": "2024-03-25T23:22:33.070Z"
   },
   {
    "duration": 91,
    "start_time": "2024-03-25T23:22:33.074Z"
   },
   {
    "duration": 2,
    "start_time": "2024-03-25T23:22:33.167Z"
   },
   {
    "duration": 6,
    "start_time": "2024-03-25T23:22:33.171Z"
   },
   {
    "duration": 17,
    "start_time": "2024-03-25T23:22:33.178Z"
   },
   {
    "duration": 6,
    "start_time": "2024-03-25T23:22:33.197Z"
   },
   {
    "duration": 67,
    "start_time": "2024-03-25T23:22:33.205Z"
   },
   {
    "duration": 383,
    "start_time": "2024-03-25T23:23:05.099Z"
   },
   {
    "duration": 3,
    "start_time": "2024-03-25T23:23:05.484Z"
   },
   {
    "duration": 94,
    "start_time": "2024-03-25T23:23:05.488Z"
   },
   {
    "duration": 3,
    "start_time": "2024-03-25T23:23:05.583Z"
   },
   {
    "duration": 3,
    "start_time": "2024-03-25T23:23:05.587Z"
   },
   {
    "duration": 12,
    "start_time": "2024-03-25T23:23:05.592Z"
   },
   {
    "duration": 7,
    "start_time": "2024-03-25T23:23:05.605Z"
   },
   {
    "duration": 29,
    "start_time": "2024-03-25T23:23:05.613Z"
   },
   {
    "duration": 351,
    "start_time": "2024-03-25T23:25:04.726Z"
   },
   {
    "duration": 3,
    "start_time": "2024-03-25T23:25:05.079Z"
   },
   {
    "duration": 102,
    "start_time": "2024-03-25T23:25:05.083Z"
   },
   {
    "duration": 5,
    "start_time": "2024-03-25T23:25:05.186Z"
   },
   {
    "duration": 4,
    "start_time": "2024-03-25T23:25:05.204Z"
   },
   {
    "duration": 6,
    "start_time": "2024-03-25T23:25:05.210Z"
   },
   {
    "duration": 5,
    "start_time": "2024-03-25T23:25:05.218Z"
   },
   {
    "duration": 99,
    "start_time": "2024-03-25T23:25:05.224Z"
   },
   {
    "duration": 2,
    "start_time": "2024-03-25T23:25:20.220Z"
   },
   {
    "duration": 49,
    "start_time": "2024-03-25T23:25:20.513Z"
   },
   {
    "duration": 3,
    "start_time": "2024-03-25T23:25:32.667Z"
   },
   {
    "duration": 47,
    "start_time": "2024-03-25T23:25:32.877Z"
   },
   {
    "duration": 351,
    "start_time": "2024-03-25T23:25:43.714Z"
   },
   {
    "duration": 4,
    "start_time": "2024-03-25T23:25:44.066Z"
   },
   {
    "duration": 87,
    "start_time": "2024-03-25T23:25:44.071Z"
   },
   {
    "duration": 2,
    "start_time": "2024-03-25T23:25:44.160Z"
   },
   {
    "duration": 5,
    "start_time": "2024-03-25T23:25:44.163Z"
   },
   {
    "duration": 4,
    "start_time": "2024-03-25T23:25:44.169Z"
   },
   {
    "duration": 3,
    "start_time": "2024-03-25T23:25:44.174Z"
   },
   {
    "duration": 62,
    "start_time": "2024-03-25T23:25:44.178Z"
   },
   {
    "duration": 3,
    "start_time": "2024-03-25T23:25:57.831Z"
   },
   {
    "duration": 43,
    "start_time": "2024-03-25T23:25:58.093Z"
   },
   {
    "duration": 400,
    "start_time": "2024-03-25T23:31:30.184Z"
   },
   {
    "duration": 3,
    "start_time": "2024-03-25T23:31:30.585Z"
   },
   {
    "duration": 147,
    "start_time": "2024-03-25T23:31:30.590Z"
   },
   {
    "duration": 2,
    "start_time": "2024-03-25T23:31:30.739Z"
   },
   {
    "duration": 89,
    "start_time": "2024-03-25T23:31:30.743Z"
   },
   {
    "duration": 146,
    "start_time": "2024-03-25T23:31:30.834Z"
   },
   {
    "duration": 132,
    "start_time": "2024-03-25T23:31:30.981Z"
   },
   {
    "duration": 140,
    "start_time": "2024-03-25T23:31:31.115Z"
   },
   {
    "duration": 2,
    "start_time": "2024-03-25T23:32:44.894Z"
   },
   {
    "duration": 43,
    "start_time": "2024-03-25T23:32:45.274Z"
   },
   {
    "duration": 365,
    "start_time": "2024-03-25T23:32:51.511Z"
   },
   {
    "duration": 3,
    "start_time": "2024-03-25T23:32:51.877Z"
   },
   {
    "duration": 103,
    "start_time": "2024-03-25T23:32:51.881Z"
   },
   {
    "duration": 2,
    "start_time": "2024-03-25T23:32:51.985Z"
   },
   {
    "duration": 8,
    "start_time": "2024-03-25T23:32:51.989Z"
   },
   {
    "duration": 9,
    "start_time": "2024-03-25T23:32:51.998Z"
   },
   {
    "duration": 6,
    "start_time": "2024-03-25T23:32:52.008Z"
   },
   {
    "duration": 54,
    "start_time": "2024-03-25T23:32:52.015Z"
   },
   {
    "duration": 3,
    "start_time": "2024-03-25T23:35:25.000Z"
   },
   {
    "duration": 14,
    "start_time": "2024-03-25T23:35:25.340Z"
   },
   {
    "duration": 3,
    "start_time": "2024-03-25T23:36:58.025Z"
   },
   {
    "duration": 7,
    "start_time": "2024-03-25T23:36:58.299Z"
   },
   {
    "duration": 369,
    "start_time": "2024-03-25T23:37:07.140Z"
   },
   {
    "duration": 3,
    "start_time": "2024-03-25T23:37:07.511Z"
   },
   {
    "duration": 91,
    "start_time": "2024-03-25T23:37:07.515Z"
   },
   {
    "duration": 2,
    "start_time": "2024-03-25T23:37:07.607Z"
   },
   {
    "duration": 11,
    "start_time": "2024-03-25T23:37:07.611Z"
   },
   {
    "duration": 7,
    "start_time": "2024-03-25T23:37:07.624Z"
   },
   {
    "duration": 6,
    "start_time": "2024-03-25T23:37:07.632Z"
   },
   {
    "duration": 63,
    "start_time": "2024-03-25T23:37:07.639Z"
   },
   {
    "duration": 3,
    "start_time": "2024-03-25T23:37:07.703Z"
   },
   {
    "duration": 19,
    "start_time": "2024-03-25T23:37:07.707Z"
   },
   {
    "duration": 4,
    "start_time": "2024-03-25T23:37:07.727Z"
   },
   {
    "duration": 9,
    "start_time": "2024-03-25T23:37:07.732Z"
   },
   {
    "duration": 359,
    "start_time": "2024-03-25T23:39:12.709Z"
   },
   {
    "duration": 3,
    "start_time": "2024-03-25T23:39:13.070Z"
   },
   {
    "duration": 219,
    "start_time": "2024-03-25T23:39:13.074Z"
   },
   {
    "duration": 2,
    "start_time": "2024-03-25T23:39:13.295Z"
   },
   {
    "duration": 5,
    "start_time": "2024-03-25T23:39:13.299Z"
   },
   {
    "duration": 19,
    "start_time": "2024-03-25T23:39:13.305Z"
   },
   {
    "duration": 10,
    "start_time": "2024-03-25T23:39:13.326Z"
   },
   {
    "duration": 59,
    "start_time": "2024-03-25T23:39:13.337Z"
   },
   {
    "duration": 3,
    "start_time": "2024-03-25T23:39:13.397Z"
   },
   {
    "duration": 47,
    "start_time": "2024-03-25T23:39:13.401Z"
   },
   {
    "duration": 3,
    "start_time": "2024-03-25T23:39:13.449Z"
   },
   {
    "duration": 13,
    "start_time": "2024-03-25T23:39:13.453Z"
   },
   {
    "duration": 318,
    "start_time": "2024-03-25T23:40:20.557Z"
   },
   {
    "duration": 3,
    "start_time": "2024-03-25T23:40:20.876Z"
   },
   {
    "duration": 89,
    "start_time": "2024-03-25T23:40:20.880Z"
   },
   {
    "duration": 3,
    "start_time": "2024-03-25T23:40:20.970Z"
   },
   {
    "duration": 23,
    "start_time": "2024-03-25T23:40:20.974Z"
   },
   {
    "duration": 24,
    "start_time": "2024-03-25T23:40:20.999Z"
   },
   {
    "duration": 9,
    "start_time": "2024-03-25T23:40:21.025Z"
   },
   {
    "duration": 70,
    "start_time": "2024-03-25T23:40:21.036Z"
   },
   {
    "duration": 4,
    "start_time": "2024-03-25T23:40:21.108Z"
   },
   {
    "duration": 31,
    "start_time": "2024-03-25T23:40:21.113Z"
   },
   {
    "duration": 57,
    "start_time": "2024-03-25T23:40:21.146Z"
   },
   {
    "duration": 0,
    "start_time": "2024-03-25T23:40:21.204Z"
   },
   {
    "duration": 3,
    "start_time": "2024-03-25T23:40:38.517Z"
   },
   {
    "duration": 6,
    "start_time": "2024-03-25T23:40:41.256Z"
   },
   {
    "duration": 3,
    "start_time": "2024-03-25T23:41:33.477Z"
   },
   {
    "duration": 5,
    "start_time": "2024-03-25T23:41:33.747Z"
   },
   {
    "duration": 3,
    "start_time": "2024-03-25T23:41:43.534Z"
   },
   {
    "duration": 6,
    "start_time": "2024-03-25T23:41:43.782Z"
   },
   {
    "duration": 3,
    "start_time": "2024-03-25T23:42:02.727Z"
   },
   {
    "duration": 345,
    "start_time": "2024-03-25T23:44:44.829Z"
   },
   {
    "duration": 4,
    "start_time": "2024-03-25T23:44:45.176Z"
   },
   {
    "duration": 104,
    "start_time": "2024-03-25T23:44:45.181Z"
   },
   {
    "duration": 3,
    "start_time": "2024-03-25T23:44:45.286Z"
   },
   {
    "duration": 20,
    "start_time": "2024-03-25T23:44:45.290Z"
   },
   {
    "duration": 36,
    "start_time": "2024-03-25T23:44:45.311Z"
   },
   {
    "duration": 52,
    "start_time": "2024-03-25T23:44:45.348Z"
   },
   {
    "duration": 12,
    "start_time": "2024-03-25T23:44:45.401Z"
   },
   {
    "duration": 84,
    "start_time": "2024-03-25T23:44:45.415Z"
   },
   {
    "duration": 3,
    "start_time": "2024-03-25T23:44:45.502Z"
   },
   {
    "duration": 26,
    "start_time": "2024-03-25T23:44:45.506Z"
   },
   {
    "duration": 21,
    "start_time": "2024-03-25T23:44:45.534Z"
   },
   {
    "duration": 27,
    "start_time": "2024-03-25T23:44:45.557Z"
   },
   {
    "duration": 351,
    "start_time": "2024-03-25T23:46:15.015Z"
   },
   {
    "duration": 3,
    "start_time": "2024-03-25T23:46:15.368Z"
   },
   {
    "duration": 123,
    "start_time": "2024-03-25T23:46:15.372Z"
   },
   {
    "duration": 2,
    "start_time": "2024-03-25T23:46:15.497Z"
   },
   {
    "duration": 19,
    "start_time": "2024-03-25T23:46:15.500Z"
   },
   {
    "duration": 26,
    "start_time": "2024-03-25T23:46:15.520Z"
   },
   {
    "duration": 39,
    "start_time": "2024-03-25T23:46:15.547Z"
   },
   {
    "duration": 33,
    "start_time": "2024-03-25T23:46:15.587Z"
   },
   {
    "duration": 73,
    "start_time": "2024-03-25T23:46:15.621Z"
   },
   {
    "duration": 4,
    "start_time": "2024-03-25T23:46:15.695Z"
   },
   {
    "duration": 18,
    "start_time": "2024-03-25T23:46:15.700Z"
   },
   {
    "duration": 13,
    "start_time": "2024-03-25T23:46:15.719Z"
   },
   {
    "duration": 14,
    "start_time": "2024-03-25T23:46:15.733Z"
   },
   {
    "duration": 74,
    "start_time": "2024-03-25T23:47:04.055Z"
   },
   {
    "duration": 379,
    "start_time": "2024-03-25T23:47:29.795Z"
   },
   {
    "duration": 4,
    "start_time": "2024-03-25T23:47:30.175Z"
   },
   {
    "duration": 121,
    "start_time": "2024-03-25T23:47:30.180Z"
   },
   {
    "duration": 3,
    "start_time": "2024-03-25T23:47:30.302Z"
   },
   {
    "duration": 79,
    "start_time": "2024-03-25T23:47:30.306Z"
   },
   {
    "duration": 33,
    "start_time": "2024-03-25T23:47:30.387Z"
   },
   {
    "duration": 39,
    "start_time": "2024-03-25T23:47:30.422Z"
   },
   {
    "duration": 58,
    "start_time": "2024-03-25T23:47:30.463Z"
   },
   {
    "duration": 154,
    "start_time": "2024-03-25T23:47:30.522Z"
   },
   {
    "duration": 105,
    "start_time": "2024-03-25T23:47:30.678Z"
   },
   {
    "duration": 98,
    "start_time": "2024-03-25T23:47:30.784Z"
   },
   {
    "duration": 82,
    "start_time": "2024-03-25T23:47:30.883Z"
   },
   {
    "duration": 121,
    "start_time": "2024-03-25T23:47:30.966Z"
   },
   {
    "duration": 3,
    "start_time": "2024-03-25T23:48:22.239Z"
   },
   {
    "duration": 33,
    "start_time": "2024-03-25T23:48:22.271Z"
   },
   {
    "duration": 3,
    "start_time": "2024-03-25T23:48:38.365Z"
   },
   {
    "duration": 34,
    "start_time": "2024-03-25T23:48:38.655Z"
   },
   {
    "duration": 3,
    "start_time": "2024-03-25T23:48:46.616Z"
   },
   {
    "duration": 37,
    "start_time": "2024-03-25T23:48:46.846Z"
   },
   {
    "duration": 333,
    "start_time": "2024-03-25T23:49:50.240Z"
   },
   {
    "duration": 4,
    "start_time": "2024-03-25T23:49:50.574Z"
   },
   {
    "duration": 90,
    "start_time": "2024-03-25T23:49:50.579Z"
   },
   {
    "duration": 3,
    "start_time": "2024-03-25T23:49:50.671Z"
   },
   {
    "duration": 9,
    "start_time": "2024-03-25T23:49:50.675Z"
   },
   {
    "duration": 10,
    "start_time": "2024-03-25T23:49:50.686Z"
   },
   {
    "duration": 11,
    "start_time": "2024-03-25T23:49:50.698Z"
   },
   {
    "duration": 14,
    "start_time": "2024-03-25T23:49:50.710Z"
   },
   {
    "duration": 63,
    "start_time": "2024-03-25T23:49:50.725Z"
   },
   {
    "duration": 3,
    "start_time": "2024-03-25T23:49:50.790Z"
   },
   {
    "duration": 32,
    "start_time": "2024-03-25T23:49:50.794Z"
   },
   {
    "duration": 3,
    "start_time": "2024-03-25T23:49:50.827Z"
   },
   {
    "duration": 34,
    "start_time": "2024-03-25T23:49:50.831Z"
   },
   {
    "duration": 21,
    "start_time": "2024-03-25T23:49:50.866Z"
   },
   {
    "duration": 29,
    "start_time": "2024-03-25T23:49:50.889Z"
   },
   {
    "duration": 3,
    "start_time": "2024-03-25T23:50:29.686Z"
   },
   {
    "duration": 24,
    "start_time": "2024-03-25T23:50:29.960Z"
   },
   {
    "duration": 3,
    "start_time": "2024-03-25T23:53:10.676Z"
   },
   {
    "duration": 10,
    "start_time": "2024-03-25T23:53:10.923Z"
   },
   {
    "duration": 3,
    "start_time": "2024-03-25T23:54:58.480Z"
   },
   {
    "duration": 4,
    "start_time": "2024-03-25T23:55:03.384Z"
   },
   {
    "duration": 11,
    "start_time": "2024-03-25T23:55:03.835Z"
   },
   {
    "duration": 3,
    "start_time": "2024-03-25T23:55:43.148Z"
   },
   {
    "duration": 10,
    "start_time": "2024-03-25T23:55:46.148Z"
   },
   {
    "duration": 869,
    "start_time": "2024-03-25T23:56:14.351Z"
   },
   {
    "duration": 10,
    "start_time": "2024-03-25T23:56:16.818Z"
   },
   {
    "duration": 2,
    "start_time": "2024-03-25T23:56:34.951Z"
   },
   {
    "duration": 10,
    "start_time": "2024-03-25T23:56:38.221Z"
   },
   {
    "duration": 61,
    "start_time": "2024-03-25T23:59:13.074Z"
   },
   {
    "duration": 401,
    "start_time": "2024-03-26T00:03:14.479Z"
   },
   {
    "duration": 3,
    "start_time": "2024-03-26T00:03:14.882Z"
   },
   {
    "duration": 102,
    "start_time": "2024-03-26T00:03:14.886Z"
   },
   {
    "duration": 2,
    "start_time": "2024-03-26T00:03:14.990Z"
   },
   {
    "duration": 69,
    "start_time": "2024-03-26T00:03:14.993Z"
   },
   {
    "duration": 75,
    "start_time": "2024-03-26T00:03:15.064Z"
   },
   {
    "duration": 48,
    "start_time": "2024-03-26T00:03:15.141Z"
   },
   {
    "duration": 49,
    "start_time": "2024-03-26T00:03:15.191Z"
   },
   {
    "duration": 59,
    "start_time": "2024-03-26T00:03:15.242Z"
   },
   {
    "duration": 14,
    "start_time": "2024-03-26T00:03:15.303Z"
   },
   {
    "duration": 44,
    "start_time": "2024-03-26T00:03:15.318Z"
   },
   {
    "duration": 9,
    "start_time": "2024-03-26T00:03:15.363Z"
   },
   {
    "duration": 69,
    "start_time": "2024-03-26T00:03:15.373Z"
   },
   {
    "duration": 24,
    "start_time": "2024-03-26T00:03:15.443Z"
   },
   {
    "duration": 20,
    "start_time": "2024-03-26T00:03:15.469Z"
   },
   {
    "duration": 3,
    "start_time": "2024-03-26T00:03:15.491Z"
   },
   {
    "duration": 32,
    "start_time": "2024-03-26T00:03:15.495Z"
   },
   {
    "duration": 59,
    "start_time": "2024-03-26T00:09:34.000Z"
   },
   {
    "duration": 12,
    "start_time": "2024-03-26T00:10:56.398Z"
   },
   {
    "duration": 12,
    "start_time": "2024-03-26T00:11:06.070Z"
   },
   {
    "duration": 3,
    "start_time": "2024-03-26T00:12:12.595Z"
   },
   {
    "duration": 3,
    "start_time": "2024-03-26T00:12:25.313Z"
   },
   {
    "duration": 374,
    "start_time": "2024-03-26T00:12:52.793Z"
   },
   {
    "duration": 4,
    "start_time": "2024-03-26T00:12:53.169Z"
   },
   {
    "duration": 90,
    "start_time": "2024-03-26T00:12:53.174Z"
   },
   {
    "duration": 3,
    "start_time": "2024-03-26T00:12:53.265Z"
   },
   {
    "duration": 5,
    "start_time": "2024-03-26T00:12:53.269Z"
   },
   {
    "duration": 9,
    "start_time": "2024-03-26T00:12:53.276Z"
   },
   {
    "duration": 19,
    "start_time": "2024-03-26T00:12:53.287Z"
   },
   {
    "duration": 14,
    "start_time": "2024-03-26T00:12:53.308Z"
   },
   {
    "duration": 34,
    "start_time": "2024-03-26T00:12:53.324Z"
   },
   {
    "duration": 3,
    "start_time": "2024-03-26T00:12:53.360Z"
   },
   {
    "duration": 36,
    "start_time": "2024-03-26T00:12:53.364Z"
   },
   {
    "duration": 3,
    "start_time": "2024-03-26T00:12:53.402Z"
   },
   {
    "duration": 21,
    "start_time": "2024-03-26T00:12:53.406Z"
   },
   {
    "duration": 4,
    "start_time": "2024-03-26T00:12:53.428Z"
   },
   {
    "duration": 12,
    "start_time": "2024-03-26T00:12:53.433Z"
   },
   {
    "duration": 3,
    "start_time": "2024-03-26T00:12:53.446Z"
   },
   {
    "duration": 4,
    "start_time": "2024-03-26T00:12:53.450Z"
   },
   {
    "duration": 15,
    "start_time": "2024-03-26T00:12:53.455Z"
   },
   {
    "duration": 23,
    "start_time": "2024-03-26T00:12:53.471Z"
   },
   {
    "duration": 18,
    "start_time": "2024-03-26T00:12:53.495Z"
   },
   {
    "duration": 7,
    "start_time": "2024-03-26T00:12:53.514Z"
   },
   {
    "duration": 8,
    "start_time": "2024-03-26T00:12:53.522Z"
   },
   {
    "duration": 12,
    "start_time": "2024-03-26T00:17:09.037Z"
   },
   {
    "duration": 4,
    "start_time": "2024-03-26T00:19:29.931Z"
   },
   {
    "duration": 12,
    "start_time": "2024-03-26T00:19:35.205Z"
   },
   {
    "duration": 353,
    "start_time": "2024-03-26T00:20:33.534Z"
   },
   {
    "duration": 3,
    "start_time": "2024-03-26T00:20:33.889Z"
   },
   {
    "duration": 93,
    "start_time": "2024-03-26T00:20:33.894Z"
   },
   {
    "duration": 3,
    "start_time": "2024-03-26T00:20:33.988Z"
   },
   {
    "duration": 6,
    "start_time": "2024-03-26T00:20:33.993Z"
   },
   {
    "duration": 5,
    "start_time": "2024-03-26T00:20:34.000Z"
   },
   {
    "duration": 6,
    "start_time": "2024-03-26T00:20:34.007Z"
   },
   {
    "duration": 7,
    "start_time": "2024-03-26T00:20:34.014Z"
   },
   {
    "duration": 40,
    "start_time": "2024-03-26T00:20:34.022Z"
   },
   {
    "duration": 3,
    "start_time": "2024-03-26T00:20:34.063Z"
   },
   {
    "duration": 42,
    "start_time": "2024-03-26T00:20:34.067Z"
   },
   {
    "duration": 3,
    "start_time": "2024-03-26T00:20:34.111Z"
   },
   {
    "duration": 21,
    "start_time": "2024-03-26T00:20:34.115Z"
   },
   {
    "duration": 10,
    "start_time": "2024-03-26T00:20:34.138Z"
   },
   {
    "duration": 25,
    "start_time": "2024-03-26T00:20:34.149Z"
   },
   {
    "duration": 3,
    "start_time": "2024-03-26T00:20:34.175Z"
   },
   {
    "duration": 7,
    "start_time": "2024-03-26T00:20:34.179Z"
   },
   {
    "duration": 21,
    "start_time": "2024-03-26T00:20:34.187Z"
   },
   {
    "duration": 14,
    "start_time": "2024-03-26T00:20:34.209Z"
   },
   {
    "duration": 7,
    "start_time": "2024-03-26T00:20:34.224Z"
   },
   {
    "duration": 22,
    "start_time": "2024-03-26T00:20:34.232Z"
   },
   {
    "duration": 3,
    "start_time": "2024-03-26T00:26:52.102Z"
   },
   {
    "duration": 442,
    "start_time": "2024-03-26T00:27:04.217Z"
   },
   {
    "duration": 12,
    "start_time": "2024-03-26T00:27:33.660Z"
   },
   {
    "duration": 3,
    "start_time": "2024-03-26T00:29:15.926Z"
   },
   {
    "duration": 6,
    "start_time": "2024-03-26T00:29:43.935Z"
   },
   {
    "duration": 4,
    "start_time": "2024-03-26T00:30:54.101Z"
   },
   {
    "duration": 1740,
    "start_time": "2024-03-26T00:30:54.372Z"
   },
   {
    "duration": 4,
    "start_time": "2024-03-26T00:31:52.859Z"
   },
   {
    "duration": 1260,
    "start_time": "2024-03-26T00:31:53.200Z"
   },
   {
    "duration": 56,
    "start_time": "2024-03-26T00:32:48.083Z"
   },
   {
    "duration": 1524,
    "start_time": "2024-03-26T00:32:48.415Z"
   },
   {
    "duration": 5,
    "start_time": "2024-03-26T00:33:39.429Z"
   },
   {
    "duration": 1528,
    "start_time": "2024-03-26T00:33:39.665Z"
   },
   {
    "duration": 5,
    "start_time": "2024-03-26T00:34:32.504Z"
   },
   {
    "duration": 2284,
    "start_time": "2024-03-26T00:34:32.823Z"
   },
   {
    "duration": 320,
    "start_time": "2024-03-26T00:35:09.443Z"
   },
   {
    "duration": 3,
    "start_time": "2024-03-26T00:35:09.765Z"
   },
   {
    "duration": 90,
    "start_time": "2024-03-26T00:35:09.769Z"
   },
   {
    "duration": 2,
    "start_time": "2024-03-26T00:35:09.860Z"
   },
   {
    "duration": 7,
    "start_time": "2024-03-26T00:35:09.864Z"
   },
   {
    "duration": 4,
    "start_time": "2024-03-26T00:35:09.872Z"
   },
   {
    "duration": 4,
    "start_time": "2024-03-26T00:35:09.877Z"
   },
   {
    "duration": 8,
    "start_time": "2024-03-26T00:35:09.882Z"
   },
   {
    "duration": 44,
    "start_time": "2024-03-26T00:35:09.891Z"
   },
   {
    "duration": 2,
    "start_time": "2024-03-26T00:35:09.936Z"
   },
   {
    "duration": 26,
    "start_time": "2024-03-26T00:35:09.939Z"
   },
   {
    "duration": 3,
    "start_time": "2024-03-26T00:35:09.967Z"
   },
   {
    "duration": 38,
    "start_time": "2024-03-26T00:35:09.971Z"
   },
   {
    "duration": 8,
    "start_time": "2024-03-26T00:35:10.012Z"
   },
   {
    "duration": 36,
    "start_time": "2024-03-26T00:35:10.021Z"
   },
   {
    "duration": 3,
    "start_time": "2024-03-26T00:35:10.059Z"
   },
   {
    "duration": 9,
    "start_time": "2024-03-26T00:35:10.064Z"
   },
   {
    "duration": 10,
    "start_time": "2024-03-26T00:35:10.074Z"
   },
   {
    "duration": 205,
    "start_time": "2024-03-26T00:35:10.085Z"
   },
   {
    "duration": 2399,
    "start_time": "2024-03-26T00:35:10.291Z"
   },
   {
    "duration": 18,
    "start_time": "2024-03-26T00:35:12.691Z"
   },
   {
    "duration": 15,
    "start_time": "2024-03-26T00:35:12.710Z"
   },
   {
    "duration": 40,
    "start_time": "2024-03-26T00:35:12.726Z"
   },
   {
    "duration": 5,
    "start_time": "2024-03-26T00:36:09.033Z"
   },
   {
    "duration": 2341,
    "start_time": "2024-03-26T00:36:09.352Z"
   },
   {
    "duration": 71,
    "start_time": "2024-03-26T00:37:37.395Z"
   },
   {
    "duration": 2210,
    "start_time": "2024-03-26T00:37:37.698Z"
   },
   {
    "duration": 7,
    "start_time": "2024-03-26T00:38:01.742Z"
   },
   {
    "duration": 2239,
    "start_time": "2024-03-26T00:38:02.053Z"
   },
   {
    "duration": 9,
    "start_time": "2024-03-26T00:38:54.843Z"
   },
   {
    "duration": 1127,
    "start_time": "2024-03-26T00:38:55.390Z"
   },
   {
    "duration": 11,
    "start_time": "2024-03-26T00:39:09.786Z"
   },
   {
    "duration": 1147,
    "start_time": "2024-03-26T00:39:10.369Z"
   },
   {
    "duration": 15,
    "start_time": "2024-03-26T00:39:21.193Z"
   },
   {
    "duration": 2287,
    "start_time": "2024-03-26T00:39:21.505Z"
   },
   {
    "duration": 65,
    "start_time": "2024-03-26T00:40:34.910Z"
   },
   {
    "duration": 6,
    "start_time": "2024-03-26T00:40:42.460Z"
   },
   {
    "duration": 2446,
    "start_time": "2024-03-26T00:40:45.143Z"
   },
   {
    "duration": 373,
    "start_time": "2024-03-26T00:41:25.565Z"
   },
   {
    "duration": 3,
    "start_time": "2024-03-26T00:41:25.939Z"
   },
   {
    "duration": 94,
    "start_time": "2024-03-26T00:41:25.944Z"
   },
   {
    "duration": 2,
    "start_time": "2024-03-26T00:41:26.041Z"
   },
   {
    "duration": 7,
    "start_time": "2024-03-26T00:41:26.045Z"
   },
   {
    "duration": 13,
    "start_time": "2024-03-26T00:41:26.053Z"
   },
   {
    "duration": 21,
    "start_time": "2024-03-26T00:41:26.067Z"
   },
   {
    "duration": 16,
    "start_time": "2024-03-26T00:41:26.089Z"
   },
   {
    "duration": 39,
    "start_time": "2024-03-26T00:41:26.106Z"
   },
   {
    "duration": 3,
    "start_time": "2024-03-26T00:41:26.147Z"
   },
   {
    "duration": 30,
    "start_time": "2024-03-26T00:41:26.151Z"
   },
   {
    "duration": 20,
    "start_time": "2024-03-26T00:41:26.182Z"
   },
   {
    "duration": 25,
    "start_time": "2024-03-26T00:41:26.204Z"
   },
   {
    "duration": 8,
    "start_time": "2024-03-26T00:41:26.230Z"
   },
   {
    "duration": 20,
    "start_time": "2024-03-26T00:41:26.239Z"
   },
   {
    "duration": 7,
    "start_time": "2024-03-26T00:41:26.260Z"
   },
   {
    "duration": 23,
    "start_time": "2024-03-26T00:41:26.268Z"
   },
   {
    "duration": 16,
    "start_time": "2024-03-26T00:41:26.292Z"
   },
   {
    "duration": 229,
    "start_time": "2024-03-26T00:41:26.310Z"
   },
   {
    "duration": 2469,
    "start_time": "2024-03-26T00:41:26.540Z"
   },
   {
    "duration": 11,
    "start_time": "2024-03-26T00:41:29.010Z"
   },
   {
    "duration": 21,
    "start_time": "2024-03-26T00:41:29.022Z"
   },
   {
    "duration": 23,
    "start_time": "2024-03-26T00:41:29.044Z"
   },
   {
    "duration": 5,
    "start_time": "2024-03-26T00:42:02.971Z"
   },
   {
    "duration": 1618,
    "start_time": "2024-03-26T00:42:04.633Z"
   },
   {
    "duration": 82,
    "start_time": "2024-03-26T00:42:11.989Z"
   },
   {
    "duration": 2236,
    "start_time": "2024-03-26T00:42:12.474Z"
   },
   {
    "duration": 346,
    "start_time": "2024-03-26T00:42:33.227Z"
   },
   {
    "duration": 3,
    "start_time": "2024-03-26T00:42:33.575Z"
   },
   {
    "duration": 98,
    "start_time": "2024-03-26T00:42:33.579Z"
   },
   {
    "duration": 2,
    "start_time": "2024-03-26T00:42:33.679Z"
   },
   {
    "duration": 7,
    "start_time": "2024-03-26T00:42:33.682Z"
   },
   {
    "duration": 11,
    "start_time": "2024-03-26T00:42:33.690Z"
   },
   {
    "duration": 21,
    "start_time": "2024-03-26T00:42:33.703Z"
   },
   {
    "duration": 26,
    "start_time": "2024-03-26T00:42:33.725Z"
   },
   {
    "duration": 37,
    "start_time": "2024-03-26T00:42:33.752Z"
   },
   {
    "duration": 2,
    "start_time": "2024-03-26T00:42:33.791Z"
   },
   {
    "duration": 25,
    "start_time": "2024-03-26T00:42:33.794Z"
   },
   {
    "duration": 4,
    "start_time": "2024-03-26T00:42:33.820Z"
   },
   {
    "duration": 14,
    "start_time": "2024-03-26T00:42:33.825Z"
   },
   {
    "duration": 5,
    "start_time": "2024-03-26T00:42:33.840Z"
   },
   {
    "duration": 14,
    "start_time": "2024-03-26T00:42:33.846Z"
   },
   {
    "duration": 16,
    "start_time": "2024-03-26T00:42:33.861Z"
   },
   {
    "duration": 27,
    "start_time": "2024-03-26T00:42:33.878Z"
   },
   {
    "duration": 18,
    "start_time": "2024-03-26T00:42:33.906Z"
   },
   {
    "duration": 192,
    "start_time": "2024-03-26T00:42:33.925Z"
   },
   {
    "duration": 2364,
    "start_time": "2024-03-26T00:42:34.118Z"
   },
   {
    "duration": 21,
    "start_time": "2024-03-26T00:42:36.483Z"
   },
   {
    "duration": 3,
    "start_time": "2024-03-26T00:42:36.505Z"
   },
   {
    "duration": 16,
    "start_time": "2024-03-26T00:42:36.509Z"
   },
   {
    "duration": 77,
    "start_time": "2024-03-26T00:48:43.889Z"
   },
   {
    "duration": 11,
    "start_time": "2024-03-26T00:50:35.471Z"
   },
   {
    "duration": 1023,
    "start_time": "2024-03-26T00:50:43.894Z"
   },
   {
    "duration": 125,
    "start_time": "2024-03-26T00:50:51.398Z"
   },
   {
    "duration": 7,
    "start_time": "2024-03-26T00:52:08.958Z"
   },
   {
    "duration": 579,
    "start_time": "2024-03-26T00:52:23.603Z"
   },
   {
    "duration": 3,
    "start_time": "2024-03-26T00:52:24.184Z"
   },
   {
    "duration": 102,
    "start_time": "2024-03-26T00:52:24.188Z"
   },
   {
    "duration": 2,
    "start_time": "2024-03-26T00:52:24.292Z"
   },
   {
    "duration": 33,
    "start_time": "2024-03-26T00:52:24.297Z"
   },
   {
    "duration": 18,
    "start_time": "2024-03-26T00:52:24.332Z"
   },
   {
    "duration": 7,
    "start_time": "2024-03-26T00:52:24.352Z"
   },
   {
    "duration": 3,
    "start_time": "2024-03-26T00:52:24.361Z"
   },
   {
    "duration": 41,
    "start_time": "2024-03-26T00:52:24.365Z"
   },
   {
    "duration": 2,
    "start_time": "2024-03-26T00:52:24.408Z"
   },
   {
    "duration": 32,
    "start_time": "2024-03-26T00:52:24.412Z"
   },
   {
    "duration": 4,
    "start_time": "2024-03-26T00:52:24.446Z"
   },
   {
    "duration": 22,
    "start_time": "2024-03-26T00:52:24.451Z"
   },
   {
    "duration": 14,
    "start_time": "2024-03-26T00:52:24.475Z"
   },
   {
    "duration": 12,
    "start_time": "2024-03-26T00:52:24.501Z"
   },
   {
    "duration": 3,
    "start_time": "2024-03-26T00:52:24.514Z"
   },
   {
    "duration": 7,
    "start_time": "2024-03-26T00:52:24.518Z"
   },
   {
    "duration": 7,
    "start_time": "2024-03-26T00:52:24.526Z"
   },
   {
    "duration": 180,
    "start_time": "2024-03-26T00:52:24.534Z"
   },
   {
    "duration": 10,
    "start_time": "2024-03-26T00:52:24.716Z"
   },
   {
    "duration": 10,
    "start_time": "2024-03-26T00:52:24.727Z"
   },
   {
    "duration": 20,
    "start_time": "2024-03-26T00:52:24.738Z"
   },
   {
    "duration": 4,
    "start_time": "2024-03-26T00:53:31.975Z"
   },
   {
    "duration": 141,
    "start_time": "2024-03-26T00:53:32.231Z"
   },
   {
    "duration": 151,
    "start_time": "2024-03-26T00:54:38.723Z"
   },
   {
    "duration": 156,
    "start_time": "2024-03-26T00:55:06.176Z"
   },
   {
    "duration": 3,
    "start_time": "2024-03-26T00:57:37.363Z"
   },
   {
    "duration": 1195,
    "start_time": "2024-03-26T00:57:51.341Z"
   },
   {
    "duration": 4,
    "start_time": "2024-03-26T00:58:27.315Z"
   },
   {
    "duration": 1060,
    "start_time": "2024-03-26T00:58:27.603Z"
   },
   {
    "duration": 5,
    "start_time": "2024-03-26T00:59:15.403Z"
   },
   {
    "duration": 1262,
    "start_time": "2024-03-26T00:59:15.770Z"
   },
   {
    "duration": 54,
    "start_time": "2024-03-26T00:59:39.483Z"
   },
   {
    "duration": 1269,
    "start_time": "2024-03-26T00:59:39.750Z"
   },
   {
    "duration": 5,
    "start_time": "2024-03-26T01:00:39.311Z"
   },
   {
    "duration": 1439,
    "start_time": "2024-03-26T01:00:39.659Z"
   },
   {
    "duration": 6,
    "start_time": "2024-03-26T01:02:14.416Z"
   },
   {
    "duration": 1875,
    "start_time": "2024-03-26T01:02:14.920Z"
   },
   {
    "duration": 5,
    "start_time": "2024-03-26T01:02:59.968Z"
   },
   {
    "duration": 1201,
    "start_time": "2024-03-26T01:03:00.246Z"
   },
   {
    "duration": 377,
    "start_time": "2024-03-26T01:04:26.202Z"
   },
   {
    "duration": 5,
    "start_time": "2024-03-26T01:05:23.269Z"
   },
   {
    "duration": 1165,
    "start_time": "2024-03-26T01:05:23.546Z"
   },
   {
    "duration": 380,
    "start_time": "2024-03-26T01:05:25.180Z"
   },
   {
    "duration": 304,
    "start_time": "2024-03-26T01:05:30.570Z"
   },
   {
    "duration": 6,
    "start_time": "2024-03-26T01:06:39.178Z"
   },
   {
    "duration": 1134,
    "start_time": "2024-03-26T01:06:39.470Z"
   },
   {
    "duration": 300,
    "start_time": "2024-03-26T01:06:40.606Z"
   },
   {
    "duration": 6,
    "start_time": "2024-03-26T01:07:46.828Z"
   },
   {
    "duration": 1191,
    "start_time": "2024-03-26T01:07:47.135Z"
   },
   {
    "duration": 299,
    "start_time": "2024-03-26T01:07:48.327Z"
   },
   {
    "duration": 5,
    "start_time": "2024-03-26T01:08:51.522Z"
   },
   {
    "duration": 1157,
    "start_time": "2024-03-26T01:08:51.873Z"
   },
   {
    "duration": 314,
    "start_time": "2024-03-26T01:08:53.031Z"
   },
   {
    "duration": 5,
    "start_time": "2024-03-26T01:10:43.220Z"
   },
   {
    "duration": 1288,
    "start_time": "2024-03-26T01:10:44.994Z"
   },
   {
    "duration": 362,
    "start_time": "2024-03-26T01:10:46.284Z"
   },
   {
    "duration": 6,
    "start_time": "2024-03-26T01:11:10.446Z"
   },
   {
    "duration": 1157,
    "start_time": "2024-03-26T01:11:10.719Z"
   },
   {
    "duration": 323,
    "start_time": "2024-03-26T01:11:11.878Z"
   },
   {
    "duration": 4,
    "start_time": "2024-03-26T01:12:40.694Z"
   },
   {
    "duration": 1143,
    "start_time": "2024-03-26T01:12:40.976Z"
   },
   {
    "duration": 187,
    "start_time": "2024-03-26T01:12:42.120Z"
   },
   {
    "duration": 5,
    "start_time": "2024-03-26T01:12:50.071Z"
   },
   {
    "duration": 1170,
    "start_time": "2024-03-26T01:12:50.355Z"
   },
   {
    "duration": 298,
    "start_time": "2024-03-26T01:12:51.526Z"
   },
   {
    "duration": 5,
    "start_time": "2024-03-26T01:13:20.864Z"
   },
   {
    "duration": 1829,
    "start_time": "2024-03-26T01:13:21.358Z"
   },
   {
    "duration": 6,
    "start_time": "2024-03-26T01:14:03.855Z"
   },
   {
    "duration": 1232,
    "start_time": "2024-03-26T01:14:04.128Z"
   },
   {
    "duration": 313,
    "start_time": "2024-03-26T01:14:11.004Z"
   },
   {
    "duration": 5,
    "start_time": "2024-03-26T01:14:34.362Z"
   },
   {
    "duration": 1161,
    "start_time": "2024-03-26T01:14:34.622Z"
   },
   {
    "duration": 333,
    "start_time": "2024-03-26T01:14:35.785Z"
   },
   {
    "duration": 5,
    "start_time": "2024-03-26T01:14:54.802Z"
   },
   {
    "duration": 1166,
    "start_time": "2024-03-26T01:14:55.097Z"
   },
   {
    "duration": 395,
    "start_time": "2024-03-26T01:14:56.265Z"
   },
   {
    "duration": 5,
    "start_time": "2024-03-26T01:15:06.271Z"
   },
   {
    "duration": 1145,
    "start_time": "2024-03-26T01:15:06.551Z"
   },
   {
    "duration": 314,
    "start_time": "2024-03-26T01:15:07.698Z"
   },
   {
    "duration": 11,
    "start_time": "2024-03-26T21:23:31.716Z"
   },
   {
    "duration": 44,
    "start_time": "2024-03-26T21:23:32.016Z"
   },
   {
    "duration": 6,
    "start_time": "2024-03-26T21:23:32.940Z"
   },
   {
    "duration": 790,
    "start_time": "2024-03-26T21:23:59.700Z"
   },
   {
    "duration": 4,
    "start_time": "2024-03-26T21:24:00.492Z"
   },
   {
    "duration": 302,
    "start_time": "2024-03-26T21:24:00.497Z"
   },
   {
    "duration": 3,
    "start_time": "2024-03-26T21:24:00.802Z"
   },
   {
    "duration": 25,
    "start_time": "2024-03-26T21:24:00.807Z"
   },
   {
    "duration": 18,
    "start_time": "2024-03-26T21:24:00.834Z"
   },
   {
    "duration": 31,
    "start_time": "2024-03-26T21:24:00.854Z"
   },
   {
    "duration": 35,
    "start_time": "2024-03-26T21:24:00.887Z"
   },
   {
    "duration": 77,
    "start_time": "2024-03-26T21:24:00.923Z"
   },
   {
    "duration": 2,
    "start_time": "2024-03-26T21:24:01.004Z"
   },
   {
    "duration": 59,
    "start_time": "2024-03-26T21:24:01.008Z"
   },
   {
    "duration": 13,
    "start_time": "2024-03-26T21:24:01.069Z"
   },
   {
    "duration": 65,
    "start_time": "2024-03-26T21:24:01.083Z"
   },
   {
    "duration": 26,
    "start_time": "2024-03-26T21:24:01.149Z"
   },
   {
    "duration": 35,
    "start_time": "2024-03-26T21:24:01.177Z"
   },
   {
    "duration": 31,
    "start_time": "2024-03-26T21:24:01.213Z"
   },
   {
    "duration": 11,
    "start_time": "2024-03-26T21:24:01.245Z"
   },
   {
    "duration": 21,
    "start_time": "2024-03-26T21:24:01.258Z"
   },
   {
    "duration": 23,
    "start_time": "2024-03-26T21:24:01.281Z"
   },
   {
    "duration": 1590,
    "start_time": "2024-03-26T21:24:01.306Z"
   },
   {
    "duration": 467,
    "start_time": "2024-03-26T21:24:02.898Z"
   },
   {
    "duration": 0,
    "start_time": "2024-03-26T21:24:03.367Z"
   },
   {
    "duration": 0,
    "start_time": "2024-03-26T21:24:03.368Z"
   },
   {
    "duration": 0,
    "start_time": "2024-03-26T21:24:03.369Z"
   },
   {
    "duration": 6,
    "start_time": "2024-03-26T21:24:14.977Z"
   },
   {
    "duration": 1356,
    "start_time": "2024-03-26T21:24:15.237Z"
   },
   {
    "duration": 350,
    "start_time": "2024-03-26T21:24:16.596Z"
   },
   {
    "duration": 315,
    "start_time": "2024-03-26T21:24:38.391Z"
   },
   {
    "duration": 395,
    "start_time": "2024-03-26T21:24:59.708Z"
   },
   {
    "duration": 3,
    "start_time": "2024-03-26T21:26:12.633Z"
   },
   {
    "duration": 6,
    "start_time": "2024-03-26T21:26:12.991Z"
   },
   {
    "duration": 3,
    "start_time": "2024-03-26T21:26:24.980Z"
   },
   {
    "duration": 107,
    "start_time": "2024-03-26T21:26:25.230Z"
   },
   {
    "duration": 4,
    "start_time": "2024-03-26T21:27:12.282Z"
   },
   {
    "duration": 8,
    "start_time": "2024-03-26T21:27:12.288Z"
   },
   {
    "duration": 7,
    "start_time": "2024-03-26T21:27:57.668Z"
   },
   {
    "duration": 149,
    "start_time": "2024-03-26T21:27:58.013Z"
   },
   {
    "duration": 72,
    "start_time": "2024-03-26T21:28:16.150Z"
   },
   {
    "duration": 151,
    "start_time": "2024-03-26T21:28:16.224Z"
   },
   {
    "duration": 141,
    "start_time": "2024-03-26T21:28:24.452Z"
   },
   {
    "duration": 355,
    "start_time": "2024-03-26T21:28:27.947Z"
   },
   {
    "duration": 146,
    "start_time": "2024-03-26T21:28:35.333Z"
   },
   {
    "duration": 5,
    "start_time": "2024-03-26T21:29:15.187Z"
   },
   {
    "duration": 152,
    "start_time": "2024-03-26T21:29:15.474Z"
   },
   {
    "duration": 143,
    "start_time": "2024-03-26T21:29:17.051Z"
   },
   {
    "duration": 134,
    "start_time": "2024-03-26T21:29:17.303Z"
   },
   {
    "duration": 5,
    "start_time": "2024-03-26T21:30:22.125Z"
   },
   {
    "duration": 183,
    "start_time": "2024-03-26T21:30:22.413Z"
   },
   {
    "duration": 149,
    "start_time": "2024-03-26T21:30:23.451Z"
   },
   {
    "duration": 160,
    "start_time": "2024-03-26T21:30:24.301Z"
   },
   {
    "duration": 5,
    "start_time": "2024-03-26T21:31:27.691Z"
   },
   {
    "duration": 4,
    "start_time": "2024-03-26T21:31:37.695Z"
   },
   {
    "duration": 4,
    "start_time": "2024-03-26T21:31:42.680Z"
   },
   {
    "duration": 4,
    "start_time": "2024-03-26T21:31:47.683Z"
   },
   {
    "duration": 9,
    "start_time": "2024-03-26T21:32:37.029Z"
   },
   {
    "duration": 5,
    "start_time": "2024-03-26T21:33:14.192Z"
   },
   {
    "duration": 4,
    "start_time": "2024-03-26T21:33:30.557Z"
   },
   {
    "duration": 4,
    "start_time": "2024-03-26T21:33:40.784Z"
   },
   {
    "duration": 625,
    "start_time": "2024-03-26T21:34:34.475Z"
   },
   {
    "duration": 4,
    "start_time": "2024-03-26T21:34:35.102Z"
   },
   {
    "duration": 94,
    "start_time": "2024-03-26T21:34:35.107Z"
   },
   {
    "duration": 2,
    "start_time": "2024-03-26T21:34:35.203Z"
   },
   {
    "duration": 14,
    "start_time": "2024-03-26T21:34:35.207Z"
   },
   {
    "duration": 10,
    "start_time": "2024-03-26T21:34:35.223Z"
   },
   {
    "duration": 30,
    "start_time": "2024-03-26T21:34:35.234Z"
   },
   {
    "duration": 18,
    "start_time": "2024-03-26T21:34:35.266Z"
   },
   {
    "duration": 42,
    "start_time": "2024-03-26T21:34:35.285Z"
   },
   {
    "duration": 3,
    "start_time": "2024-03-26T21:34:35.329Z"
   },
   {
    "duration": 38,
    "start_time": "2024-03-26T21:34:35.333Z"
   },
   {
    "duration": 3,
    "start_time": "2024-03-26T21:34:35.372Z"
   },
   {
    "duration": 29,
    "start_time": "2024-03-26T21:34:35.377Z"
   },
   {
    "duration": 4,
    "start_time": "2024-03-26T21:34:35.408Z"
   },
   {
    "duration": 14,
    "start_time": "2024-03-26T21:34:35.413Z"
   },
   {
    "duration": 3,
    "start_time": "2024-03-26T21:34:35.428Z"
   },
   {
    "duration": 5,
    "start_time": "2024-03-26T21:34:35.432Z"
   },
   {
    "duration": 17,
    "start_time": "2024-03-26T21:34:35.439Z"
   },
   {
    "duration": 9,
    "start_time": "2024-03-26T21:34:35.458Z"
   },
   {
    "duration": 1395,
    "start_time": "2024-03-26T21:34:35.469Z"
   },
   {
    "duration": 4,
    "start_time": "2024-03-26T21:34:36.866Z"
   },
   {
    "duration": 7,
    "start_time": "2024-03-26T21:34:36.872Z"
   },
   {
    "duration": 263,
    "start_time": "2024-03-26T21:34:36.880Z"
   },
   {
    "duration": 147,
    "start_time": "2024-03-26T21:34:37.144Z"
   },
   {
    "duration": 161,
    "start_time": "2024-03-26T21:34:37.292Z"
   },
   {
    "duration": 20,
    "start_time": "2024-03-26T21:34:37.454Z"
   },
   {
    "duration": 3,
    "start_time": "2024-03-26T21:34:37.475Z"
   },
   {
    "duration": 13,
    "start_time": "2024-03-26T21:34:37.480Z"
   },
   {
    "duration": 564,
    "start_time": "2024-03-26T21:35:31.820Z"
   },
   {
    "duration": 6,
    "start_time": "2024-03-26T21:35:32.386Z"
   },
   {
    "duration": 90,
    "start_time": "2024-03-26T21:35:32.394Z"
   },
   {
    "duration": 3,
    "start_time": "2024-03-26T21:35:32.487Z"
   },
   {
    "duration": 8,
    "start_time": "2024-03-26T21:35:32.492Z"
   },
   {
    "duration": 5,
    "start_time": "2024-03-26T21:35:32.502Z"
   },
   {
    "duration": 10,
    "start_time": "2024-03-26T21:35:32.509Z"
   },
   {
    "duration": 5,
    "start_time": "2024-03-26T21:35:32.520Z"
   },
   {
    "duration": 46,
    "start_time": "2024-03-26T21:35:32.529Z"
   },
   {
    "duration": 3,
    "start_time": "2024-03-26T21:35:32.578Z"
   },
   {
    "duration": 35,
    "start_time": "2024-03-26T21:35:32.583Z"
   },
   {
    "duration": 5,
    "start_time": "2024-03-26T21:35:32.619Z"
   },
   {
    "duration": 58,
    "start_time": "2024-03-26T21:35:32.626Z"
   },
   {
    "duration": 4,
    "start_time": "2024-03-26T21:35:32.686Z"
   },
   {
    "duration": 13,
    "start_time": "2024-03-26T21:35:32.692Z"
   },
   {
    "duration": 3,
    "start_time": "2024-03-26T21:35:32.707Z"
   },
   {
    "duration": 4,
    "start_time": "2024-03-26T21:35:32.711Z"
   },
   {
    "duration": 6,
    "start_time": "2024-03-26T21:35:32.716Z"
   },
   {
    "duration": 5,
    "start_time": "2024-03-26T21:35:32.723Z"
   },
   {
    "duration": 1450,
    "start_time": "2024-03-26T21:35:32.730Z"
   },
   {
    "duration": 5,
    "start_time": "2024-03-26T21:35:34.181Z"
   },
   {
    "duration": 7,
    "start_time": "2024-03-26T21:35:34.187Z"
   },
   {
    "duration": 243,
    "start_time": "2024-03-26T21:35:34.195Z"
   },
   {
    "duration": 152,
    "start_time": "2024-03-26T21:35:34.440Z"
   },
   {
    "duration": 183,
    "start_time": "2024-03-26T21:35:34.594Z"
   },
   {
    "duration": 12,
    "start_time": "2024-03-26T21:35:34.778Z"
   },
   {
    "duration": 3,
    "start_time": "2024-03-26T21:35:34.792Z"
   },
   {
    "duration": 19,
    "start_time": "2024-03-26T21:35:34.797Z"
   },
   {
    "duration": 653,
    "start_time": "2024-03-26T21:36:57.445Z"
   },
   {
    "duration": 3,
    "start_time": "2024-03-26T21:36:58.100Z"
   },
   {
    "duration": 96,
    "start_time": "2024-03-26T21:36:58.104Z"
   },
   {
    "duration": 3,
    "start_time": "2024-03-26T21:36:58.202Z"
   },
   {
    "duration": 4,
    "start_time": "2024-03-26T21:36:58.206Z"
   },
   {
    "duration": 19,
    "start_time": "2024-03-26T21:36:58.211Z"
   },
   {
    "duration": 5,
    "start_time": "2024-03-26T21:36:58.231Z"
   },
   {
    "duration": 5,
    "start_time": "2024-03-26T21:36:58.237Z"
   },
   {
    "duration": 37,
    "start_time": "2024-03-26T21:36:58.244Z"
   },
   {
    "duration": 3,
    "start_time": "2024-03-26T21:36:58.285Z"
   },
   {
    "duration": 28,
    "start_time": "2024-03-26T21:36:58.289Z"
   },
   {
    "duration": 4,
    "start_time": "2024-03-26T21:36:58.319Z"
   },
   {
    "duration": 52,
    "start_time": "2024-03-26T21:36:58.324Z"
   },
   {
    "duration": 3,
    "start_time": "2024-03-26T21:36:58.378Z"
   },
   {
    "duration": 13,
    "start_time": "2024-03-26T21:36:58.383Z"
   },
   {
    "duration": 3,
    "start_time": "2024-03-26T21:36:58.397Z"
   },
   {
    "duration": 5,
    "start_time": "2024-03-26T21:36:58.401Z"
   },
   {
    "duration": 10,
    "start_time": "2024-03-26T21:36:58.407Z"
   },
   {
    "duration": 7,
    "start_time": "2024-03-26T21:36:58.418Z"
   },
   {
    "duration": 1462,
    "start_time": "2024-03-26T21:36:58.426Z"
   },
   {
    "duration": 5,
    "start_time": "2024-03-26T21:36:59.890Z"
   },
   {
    "duration": 8,
    "start_time": "2024-03-26T21:36:59.897Z"
   },
   {
    "duration": 246,
    "start_time": "2024-03-26T21:36:59.907Z"
   },
   {
    "duration": 150,
    "start_time": "2024-03-26T21:37:00.154Z"
   },
   {
    "duration": 170,
    "start_time": "2024-03-26T21:37:00.305Z"
   },
   {
    "duration": 13,
    "start_time": "2024-03-26T21:37:00.476Z"
   },
   {
    "duration": 30,
    "start_time": "2024-03-26T21:37:00.491Z"
   },
   {
    "duration": 43,
    "start_time": "2024-03-26T21:37:00.524Z"
   },
   {
    "duration": 72,
    "start_time": "2024-03-26T21:41:47.722Z"
   },
   {
    "duration": 872,
    "start_time": "2024-03-26T21:41:54.719Z"
   },
   {
    "duration": 802,
    "start_time": "2024-03-26T21:42:09.507Z"
   },
   {
    "duration": 815,
    "start_time": "2024-03-26T21:43:32.011Z"
   },
   {
    "duration": 584,
    "start_time": "2024-03-26T21:43:46.496Z"
   },
   {
    "duration": 3,
    "start_time": "2024-03-26T21:43:47.081Z"
   },
   {
    "duration": 91,
    "start_time": "2024-03-26T21:43:47.086Z"
   },
   {
    "duration": 2,
    "start_time": "2024-03-26T21:43:47.180Z"
   },
   {
    "duration": 4,
    "start_time": "2024-03-26T21:43:47.184Z"
   },
   {
    "duration": 6,
    "start_time": "2024-03-26T21:43:47.190Z"
   },
   {
    "duration": 9,
    "start_time": "2024-03-26T21:43:47.198Z"
   },
   {
    "duration": 15,
    "start_time": "2024-03-26T21:43:47.208Z"
   },
   {
    "duration": 44,
    "start_time": "2024-03-26T21:43:47.225Z"
   },
   {
    "duration": 4,
    "start_time": "2024-03-26T21:43:47.271Z"
   },
   {
    "duration": 34,
    "start_time": "2024-03-26T21:43:47.276Z"
   },
   {
    "duration": 4,
    "start_time": "2024-03-26T21:43:47.311Z"
   },
   {
    "duration": 55,
    "start_time": "2024-03-26T21:43:47.316Z"
   },
   {
    "duration": 4,
    "start_time": "2024-03-26T21:43:47.373Z"
   },
   {
    "duration": 22,
    "start_time": "2024-03-26T21:43:47.378Z"
   },
   {
    "duration": 7,
    "start_time": "2024-03-26T21:43:47.401Z"
   },
   {
    "duration": 5,
    "start_time": "2024-03-26T21:43:47.409Z"
   },
   {
    "duration": 12,
    "start_time": "2024-03-26T21:43:47.415Z"
   },
   {
    "duration": 8,
    "start_time": "2024-03-26T21:43:47.428Z"
   },
   {
    "duration": 1399,
    "start_time": "2024-03-26T21:43:47.437Z"
   },
   {
    "duration": 5,
    "start_time": "2024-03-26T21:43:48.838Z"
   },
   {
    "duration": 7,
    "start_time": "2024-03-26T21:43:48.845Z"
   },
   {
    "duration": 284,
    "start_time": "2024-03-26T21:43:48.854Z"
   },
   {
    "duration": 137,
    "start_time": "2024-03-26T21:43:49.140Z"
   },
   {
    "duration": 158,
    "start_time": "2024-03-26T21:43:49.279Z"
   },
   {
    "duration": 862,
    "start_time": "2024-03-26T21:43:49.439Z"
   },
   {
    "duration": 1,
    "start_time": "2024-03-26T21:43:50.302Z"
   },
   {
    "duration": 0,
    "start_time": "2024-03-26T21:43:50.304Z"
   },
   {
    "duration": 0,
    "start_time": "2024-03-26T21:43:50.305Z"
   },
   {
    "duration": 7,
    "start_time": "2024-03-26T21:44:13.444Z"
   },
   {
    "duration": 7,
    "start_time": "2024-03-26T21:44:21.051Z"
   },
   {
    "duration": 1230,
    "start_time": "2024-03-26T21:44:35.738Z"
   },
   {
    "duration": 9,
    "start_time": "2024-03-26T21:45:57.407Z"
   },
   {
    "duration": 5,
    "start_time": "2024-03-26T21:47:01.075Z"
   },
   {
    "duration": 6,
    "start_time": "2024-03-26T21:48:24.567Z"
   },
   {
    "duration": 6,
    "start_time": "2024-03-26T21:48:38.907Z"
   },
   {
    "duration": 649,
    "start_time": "2024-03-26T21:49:03.234Z"
   },
   {
    "duration": 4,
    "start_time": "2024-03-26T21:49:03.884Z"
   },
   {
    "duration": 87,
    "start_time": "2024-03-26T21:49:03.890Z"
   },
   {
    "duration": 3,
    "start_time": "2024-03-26T21:49:03.979Z"
   },
   {
    "duration": 5,
    "start_time": "2024-03-26T21:49:03.983Z"
   },
   {
    "duration": 5,
    "start_time": "2024-03-26T21:49:03.989Z"
   },
   {
    "duration": 5,
    "start_time": "2024-03-26T21:49:03.995Z"
   },
   {
    "duration": 6,
    "start_time": "2024-03-26T21:49:04.002Z"
   },
   {
    "duration": 56,
    "start_time": "2024-03-26T21:49:04.010Z"
   },
   {
    "duration": 3,
    "start_time": "2024-03-26T21:49:04.069Z"
   },
   {
    "duration": 39,
    "start_time": "2024-03-26T21:49:04.074Z"
   },
   {
    "duration": 5,
    "start_time": "2024-03-26T21:49:04.115Z"
   },
   {
    "duration": 49,
    "start_time": "2024-03-26T21:49:04.122Z"
   },
   {
    "duration": 4,
    "start_time": "2024-03-26T21:49:04.172Z"
   },
   {
    "duration": 13,
    "start_time": "2024-03-26T21:49:04.177Z"
   },
   {
    "duration": 3,
    "start_time": "2024-03-26T21:49:04.192Z"
   },
   {
    "duration": 7,
    "start_time": "2024-03-26T21:49:04.196Z"
   },
   {
    "duration": 6,
    "start_time": "2024-03-26T21:49:04.204Z"
   },
   {
    "duration": 6,
    "start_time": "2024-03-26T21:49:04.211Z"
   },
   {
    "duration": 1381,
    "start_time": "2024-03-26T21:49:04.219Z"
   },
   {
    "duration": 5,
    "start_time": "2024-03-26T21:49:05.601Z"
   },
   {
    "duration": 13,
    "start_time": "2024-03-26T21:49:05.607Z"
   },
   {
    "duration": 252,
    "start_time": "2024-03-26T21:49:05.622Z"
   },
   {
    "duration": 142,
    "start_time": "2024-03-26T21:49:05.876Z"
   },
   {
    "duration": 149,
    "start_time": "2024-03-26T21:49:06.020Z"
   },
   {
    "duration": 11,
    "start_time": "2024-03-26T21:49:06.171Z"
   },
   {
    "duration": 3,
    "start_time": "2024-03-26T21:49:06.184Z"
   },
   {
    "duration": 13,
    "start_time": "2024-03-26T21:49:06.190Z"
   },
   {
    "duration": 65,
    "start_time": "2024-03-26T21:51:45.901Z"
   },
   {
    "duration": 6422,
    "start_time": "2024-03-26T21:52:00.452Z"
   },
   {
    "duration": 2306,
    "start_time": "2024-03-26T21:54:21.190Z"
   },
   {
    "duration": 1185,
    "start_time": "2024-03-26T21:54:23.498Z"
   },
   {
    "duration": 3,
    "start_time": "2024-03-26T21:54:24.685Z"
   },
   {
    "duration": 92,
    "start_time": "2024-03-26T21:54:24.690Z"
   },
   {
    "duration": 2,
    "start_time": "2024-03-26T21:54:24.784Z"
   },
   {
    "duration": 13,
    "start_time": "2024-03-26T21:54:24.787Z"
   },
   {
    "duration": 3,
    "start_time": "2024-03-26T21:54:24.802Z"
   },
   {
    "duration": 8,
    "start_time": "2024-03-26T21:54:24.806Z"
   },
   {
    "duration": 5,
    "start_time": "2024-03-26T21:54:24.815Z"
   },
   {
    "duration": 34,
    "start_time": "2024-03-26T21:54:24.822Z"
   },
   {
    "duration": 8,
    "start_time": "2024-03-26T21:54:24.857Z"
   },
   {
    "duration": 37,
    "start_time": "2024-03-26T21:54:24.867Z"
   },
   {
    "duration": 4,
    "start_time": "2024-03-26T21:54:24.906Z"
   },
   {
    "duration": 22,
    "start_time": "2024-03-26T21:54:24.912Z"
   },
   {
    "duration": 37,
    "start_time": "2024-03-26T21:54:24.935Z"
   },
   {
    "duration": 20,
    "start_time": "2024-03-26T21:54:24.974Z"
   },
   {
    "duration": 4,
    "start_time": "2024-03-26T21:54:24.996Z"
   },
   {
    "duration": 5,
    "start_time": "2024-03-26T21:54:25.002Z"
   },
   {
    "duration": 7,
    "start_time": "2024-03-26T21:54:25.009Z"
   },
   {
    "duration": 18,
    "start_time": "2024-03-26T21:54:25.017Z"
   },
   {
    "duration": 1428,
    "start_time": "2024-03-26T21:54:25.036Z"
   },
   {
    "duration": 4,
    "start_time": "2024-03-26T21:54:26.466Z"
   },
   {
    "duration": 6,
    "start_time": "2024-03-26T21:54:26.472Z"
   },
   {
    "duration": 214,
    "start_time": "2024-03-26T21:54:26.479Z"
   },
   {
    "duration": 135,
    "start_time": "2024-03-26T21:54:26.695Z"
   },
   {
    "duration": 230,
    "start_time": "2024-03-26T21:54:26.831Z"
   },
   {
    "duration": 13,
    "start_time": "2024-03-26T21:54:27.064Z"
   },
   {
    "duration": 4,
    "start_time": "2024-03-26T21:54:27.079Z"
   },
   {
    "duration": 13,
    "start_time": "2024-03-26T21:54:27.084Z"
   },
   {
    "duration": 2657,
    "start_time": "2024-03-26T21:54:27.099Z"
   },
   {
    "duration": 2371,
    "start_time": "2024-03-26T21:55:12.944Z"
   },
   {
    "duration": 59,
    "start_time": "2024-03-26T21:58:40.265Z"
   },
   {
    "duration": 104,
    "start_time": "2024-03-26T21:58:47.317Z"
   },
   {
    "duration": 51,
    "start_time": "2024-03-26T21:58:53.242Z"
   },
   {
    "duration": 10,
    "start_time": "2024-03-26T21:59:27.784Z"
   },
   {
    "duration": 2290,
    "start_time": "2024-03-26T21:59:34.025Z"
   },
   {
    "duration": 1077,
    "start_time": "2024-03-26T21:59:36.317Z"
   },
   {
    "duration": 3,
    "start_time": "2024-03-26T21:59:37.398Z"
   },
   {
    "duration": 94,
    "start_time": "2024-03-26T21:59:37.403Z"
   },
   {
    "duration": 3,
    "start_time": "2024-03-26T21:59:37.498Z"
   },
   {
    "duration": 5,
    "start_time": "2024-03-26T21:59:37.503Z"
   },
   {
    "duration": 8,
    "start_time": "2024-03-26T21:59:37.510Z"
   },
   {
    "duration": 4,
    "start_time": "2024-03-26T21:59:37.520Z"
   },
   {
    "duration": 7,
    "start_time": "2024-03-26T21:59:37.525Z"
   },
   {
    "duration": 40,
    "start_time": "2024-03-26T21:59:37.533Z"
   },
   {
    "duration": 3,
    "start_time": "2024-03-26T21:59:37.574Z"
   },
   {
    "duration": 30,
    "start_time": "2024-03-26T21:59:37.579Z"
   },
   {
    "duration": 4,
    "start_time": "2024-03-26T21:59:37.611Z"
   },
   {
    "duration": 51,
    "start_time": "2024-03-26T21:59:37.616Z"
   },
   {
    "duration": 29,
    "start_time": "2024-03-26T21:59:37.668Z"
   },
   {
    "duration": 21,
    "start_time": "2024-03-26T21:59:37.699Z"
   },
   {
    "duration": 3,
    "start_time": "2024-03-26T21:59:37.721Z"
   },
   {
    "duration": 5,
    "start_time": "2024-03-26T21:59:37.726Z"
   },
   {
    "duration": 20,
    "start_time": "2024-03-26T21:59:37.732Z"
   },
   {
    "duration": 18,
    "start_time": "2024-03-26T21:59:37.753Z"
   },
   {
    "duration": 1424,
    "start_time": "2024-03-26T21:59:37.772Z"
   },
   {
    "duration": 5,
    "start_time": "2024-03-26T21:59:39.197Z"
   },
   {
    "duration": 6,
    "start_time": "2024-03-26T21:59:39.204Z"
   },
   {
    "duration": 195,
    "start_time": "2024-03-26T21:59:39.211Z"
   },
   {
    "duration": 141,
    "start_time": "2024-03-26T21:59:39.408Z"
   },
   {
    "duration": 242,
    "start_time": "2024-03-26T21:59:39.551Z"
   },
   {
    "duration": 13,
    "start_time": "2024-03-26T21:59:39.794Z"
   },
   {
    "duration": 11,
    "start_time": "2024-03-26T21:59:39.808Z"
   },
   {
    "duration": 20,
    "start_time": "2024-03-26T21:59:39.821Z"
   },
   {
    "duration": 115,
    "start_time": "2024-03-26T21:59:39.843Z"
   },
   {
    "duration": 2433,
    "start_time": "2024-03-26T22:00:34.865Z"
   },
   {
    "duration": 2461,
    "start_time": "2024-03-26T22:03:57.299Z"
   },
   {
    "duration": 2431,
    "start_time": "2024-03-26T22:17:35.921Z"
   },
   {
    "duration": 2243,
    "start_time": "2024-03-26T22:17:44.697Z"
   },
   {
    "duration": 1164,
    "start_time": "2024-03-26T22:17:46.942Z"
   },
   {
    "duration": 3,
    "start_time": "2024-03-26T22:17:48.107Z"
   },
   {
    "duration": 92,
    "start_time": "2024-03-26T22:17:48.112Z"
   },
   {
    "duration": 2,
    "start_time": "2024-03-26T22:17:48.206Z"
   },
   {
    "duration": 4,
    "start_time": "2024-03-26T22:17:48.209Z"
   },
   {
    "duration": 9,
    "start_time": "2024-03-26T22:17:48.214Z"
   },
   {
    "duration": 7,
    "start_time": "2024-03-26T22:17:48.225Z"
   },
   {
    "duration": 4,
    "start_time": "2024-03-26T22:17:48.233Z"
   },
   {
    "duration": 36,
    "start_time": "2024-03-26T22:17:48.238Z"
   },
   {
    "duration": 3,
    "start_time": "2024-03-26T22:17:48.276Z"
   },
   {
    "duration": 42,
    "start_time": "2024-03-26T22:17:48.280Z"
   },
   {
    "duration": 3,
    "start_time": "2024-03-26T22:17:48.323Z"
   },
   {
    "duration": 19,
    "start_time": "2024-03-26T22:17:48.329Z"
   },
   {
    "duration": 16,
    "start_time": "2024-03-26T22:17:48.350Z"
   },
   {
    "duration": 15,
    "start_time": "2024-03-26T22:17:48.368Z"
   },
   {
    "duration": 3,
    "start_time": "2024-03-26T22:17:48.384Z"
   },
   {
    "duration": 6,
    "start_time": "2024-03-26T22:17:48.388Z"
   },
   {
    "duration": 11,
    "start_time": "2024-03-26T22:17:48.395Z"
   },
   {
    "duration": 12,
    "start_time": "2024-03-26T22:17:48.407Z"
   },
   {
    "duration": 1492,
    "start_time": "2024-03-26T22:17:48.420Z"
   },
   {
    "duration": 6,
    "start_time": "2024-03-26T22:17:49.913Z"
   },
   {
    "duration": 9,
    "start_time": "2024-03-26T22:17:49.920Z"
   },
   {
    "duration": 200,
    "start_time": "2024-03-26T22:17:49.931Z"
   },
   {
    "duration": 172,
    "start_time": "2024-03-26T22:17:50.133Z"
   },
   {
    "duration": 244,
    "start_time": "2024-03-26T22:17:50.306Z"
   },
   {
    "duration": 15,
    "start_time": "2024-03-26T22:17:50.552Z"
   },
   {
    "duration": 5,
    "start_time": "2024-03-26T22:17:50.568Z"
   },
   {
    "duration": 19,
    "start_time": "2024-03-26T22:17:50.574Z"
   },
   {
    "duration": 2481,
    "start_time": "2024-03-26T22:17:50.595Z"
   },
   {
    "duration": 2368,
    "start_time": "2024-03-26T22:26:24.816Z"
   },
   {
    "duration": 1222,
    "start_time": "2024-03-26T22:26:27.187Z"
   },
   {
    "duration": 4,
    "start_time": "2024-03-26T22:26:28.410Z"
   },
   {
    "duration": 89,
    "start_time": "2024-03-26T22:26:28.416Z"
   },
   {
    "duration": 3,
    "start_time": "2024-03-26T22:26:28.507Z"
   },
   {
    "duration": 4,
    "start_time": "2024-03-26T22:26:28.512Z"
   },
   {
    "duration": 8,
    "start_time": "2024-03-26T22:26:28.518Z"
   },
   {
    "duration": 8,
    "start_time": "2024-03-26T22:26:28.527Z"
   },
   {
    "duration": 7,
    "start_time": "2024-03-26T22:26:28.537Z"
   },
   {
    "duration": 42,
    "start_time": "2024-03-26T22:26:28.547Z"
   },
   {
    "duration": 3,
    "start_time": "2024-03-26T22:26:28.590Z"
   },
   {
    "duration": 50,
    "start_time": "2024-03-26T22:26:28.595Z"
   },
   {
    "duration": 18,
    "start_time": "2024-03-26T22:26:28.647Z"
   },
   {
    "duration": 28,
    "start_time": "2024-03-26T22:26:28.667Z"
   },
   {
    "duration": 6,
    "start_time": "2024-03-26T22:26:28.696Z"
   },
   {
    "duration": 15,
    "start_time": "2024-03-26T22:26:28.704Z"
   },
   {
    "duration": 4,
    "start_time": "2024-03-26T22:26:28.720Z"
   },
   {
    "duration": 6,
    "start_time": "2024-03-26T22:26:28.725Z"
   },
   {
    "duration": 12,
    "start_time": "2024-03-26T22:26:28.732Z"
   },
   {
    "duration": 25,
    "start_time": "2024-03-26T22:26:28.746Z"
   },
   {
    "duration": 1472,
    "start_time": "2024-03-26T22:26:28.772Z"
   },
   {
    "duration": 5,
    "start_time": "2024-03-26T22:26:30.246Z"
   },
   {
    "duration": 49,
    "start_time": "2024-03-26T22:26:30.252Z"
   },
   {
    "duration": 244,
    "start_time": "2024-03-26T22:26:30.302Z"
   },
   {
    "duration": 152,
    "start_time": "2024-03-26T22:26:30.548Z"
   },
   {
    "duration": 246,
    "start_time": "2024-03-26T22:26:30.702Z"
   },
   {
    "duration": 111,
    "start_time": "2024-03-26T22:26:30.949Z"
   },
   {
    "duration": 0,
    "start_time": "2024-03-26T22:26:31.062Z"
   },
   {
    "duration": 0,
    "start_time": "2024-03-26T22:26:31.065Z"
   },
   {
    "duration": 0,
    "start_time": "2024-03-26T22:26:31.066Z"
   },
   {
    "duration": 12,
    "start_time": "2024-03-26T22:26:53.947Z"
   },
   {
    "duration": 12,
    "start_time": "2024-03-26T22:26:55.421Z"
   },
   {
    "duration": 4,
    "start_time": "2024-03-26T22:27:00.943Z"
   },
   {
    "duration": 15,
    "start_time": "2024-03-26T22:27:02.355Z"
   },
   {
    "duration": 2372,
    "start_time": "2024-03-26T22:27:03.970Z"
   },
   {
    "duration": 20,
    "start_time": "2024-03-26T22:33:36.093Z"
   },
   {
    "duration": 4,
    "start_time": "2024-03-26T22:33:52.685Z"
   },
   {
    "duration": 3,
    "start_time": "2024-03-26T22:35:12.300Z"
   },
   {
    "duration": 10,
    "start_time": "2024-03-26T22:35:12.878Z"
   },
   {
    "duration": 3,
    "start_time": "2024-03-26T22:35:46.144Z"
   },
   {
    "duration": 9,
    "start_time": "2024-03-26T22:35:46.455Z"
   },
   {
    "duration": 2255,
    "start_time": "2024-03-26T22:35:51.872Z"
   },
   {
    "duration": 1081,
    "start_time": "2024-03-26T22:35:54.130Z"
   },
   {
    "duration": 3,
    "start_time": "2024-03-26T22:35:55.213Z"
   },
   {
    "duration": 111,
    "start_time": "2024-03-26T22:35:55.218Z"
   },
   {
    "duration": 3,
    "start_time": "2024-03-26T22:35:55.332Z"
   },
   {
    "duration": 14,
    "start_time": "2024-03-26T22:35:55.337Z"
   },
   {
    "duration": 21,
    "start_time": "2024-03-26T22:35:55.352Z"
   },
   {
    "duration": 16,
    "start_time": "2024-03-26T22:35:55.376Z"
   },
   {
    "duration": 31,
    "start_time": "2024-03-26T22:35:55.393Z"
   },
   {
    "duration": 43,
    "start_time": "2024-03-26T22:35:55.426Z"
   },
   {
    "duration": 3,
    "start_time": "2024-03-26T22:35:55.471Z"
   },
   {
    "duration": 64,
    "start_time": "2024-03-26T22:35:55.476Z"
   },
   {
    "duration": 4,
    "start_time": "2024-03-26T22:35:55.542Z"
   },
   {
    "duration": 31,
    "start_time": "2024-03-26T22:35:55.550Z"
   },
   {
    "duration": 8,
    "start_time": "2024-03-26T22:35:55.583Z"
   },
   {
    "duration": 43,
    "start_time": "2024-03-26T22:35:55.593Z"
   },
   {
    "duration": 9,
    "start_time": "2024-03-26T22:35:55.638Z"
   },
   {
    "duration": 7,
    "start_time": "2024-03-26T22:35:55.648Z"
   },
   {
    "duration": 7,
    "start_time": "2024-03-26T22:35:55.657Z"
   },
   {
    "duration": 5,
    "start_time": "2024-03-26T22:35:55.665Z"
   },
   {
    "duration": 1399,
    "start_time": "2024-03-26T22:35:55.672Z"
   },
   {
    "duration": 5,
    "start_time": "2024-03-26T22:35:57.073Z"
   },
   {
    "duration": 10,
    "start_time": "2024-03-26T22:35:57.080Z"
   },
   {
    "duration": 190,
    "start_time": "2024-03-26T22:35:57.092Z"
   },
   {
    "duration": 137,
    "start_time": "2024-03-26T22:35:57.283Z"
   },
   {
    "duration": 228,
    "start_time": "2024-03-26T22:35:57.421Z"
   },
   {
    "duration": 18,
    "start_time": "2024-03-26T22:35:57.650Z"
   },
   {
    "duration": 4,
    "start_time": "2024-03-26T22:35:57.669Z"
   },
   {
    "duration": 14,
    "start_time": "2024-03-26T22:35:57.675Z"
   },
   {
    "duration": 2408,
    "start_time": "2024-03-26T22:35:57.691Z"
   },
   {
    "duration": 15,
    "start_time": "2024-03-26T22:36:00.100Z"
   },
   {
    "duration": 32,
    "start_time": "2024-03-26T22:36:00.116Z"
   },
   {
    "duration": 38,
    "start_time": "2024-03-26T22:36:00.150Z"
   },
   {
    "duration": 35,
    "start_time": "2024-03-26T22:36:00.189Z"
   },
   {
    "duration": 360,
    "start_time": "2024-03-26T22:36:00.225Z"
   },
   {
    "duration": 13,
    "start_time": "2024-03-26T22:36:24.567Z"
   },
   {
    "duration": 4,
    "start_time": "2024-03-26T22:37:02.525Z"
   },
   {
    "duration": 3,
    "start_time": "2024-03-26T22:37:07.841Z"
   },
   {
    "duration": 4,
    "start_time": "2024-03-26T22:38:44.106Z"
   },
   {
    "duration": 10,
    "start_time": "2024-03-26T22:38:46.671Z"
   },
   {
    "duration": 74,
    "start_time": "2024-03-26T22:45:55.314Z"
   },
   {
    "duration": 2297,
    "start_time": "2024-03-26T22:47:14.994Z"
   },
   {
    "duration": 1124,
    "start_time": "2024-03-26T22:47:17.293Z"
   },
   {
    "duration": 3,
    "start_time": "2024-03-26T22:47:18.420Z"
   },
   {
    "duration": 90,
    "start_time": "2024-03-26T22:47:18.426Z"
   },
   {
    "duration": 3,
    "start_time": "2024-03-26T22:47:18.518Z"
   },
   {
    "duration": 4,
    "start_time": "2024-03-26T22:47:18.523Z"
   },
   {
    "duration": 5,
    "start_time": "2024-03-26T22:47:18.528Z"
   },
   {
    "duration": 5,
    "start_time": "2024-03-26T22:47:18.535Z"
   },
   {
    "duration": 7,
    "start_time": "2024-03-26T22:47:18.541Z"
   },
   {
    "duration": 38,
    "start_time": "2024-03-26T22:47:18.550Z"
   },
   {
    "duration": 3,
    "start_time": "2024-03-26T22:47:18.589Z"
   },
   {
    "duration": 27,
    "start_time": "2024-03-26T22:47:18.594Z"
   },
   {
    "duration": 4,
    "start_time": "2024-03-26T22:47:18.623Z"
   },
   {
    "duration": 48,
    "start_time": "2024-03-26T22:47:18.629Z"
   },
   {
    "duration": 4,
    "start_time": "2024-03-26T22:47:18.679Z"
   },
   {
    "duration": 17,
    "start_time": "2024-03-26T22:47:18.685Z"
   },
   {
    "duration": 3,
    "start_time": "2024-03-26T22:47:18.704Z"
   },
   {
    "duration": 4,
    "start_time": "2024-03-26T22:47:18.709Z"
   },
   {
    "duration": 6,
    "start_time": "2024-03-26T22:47:18.714Z"
   },
   {
    "duration": 5,
    "start_time": "2024-03-26T22:47:18.722Z"
   },
   {
    "duration": 1444,
    "start_time": "2024-03-26T22:47:18.728Z"
   },
   {
    "duration": 5,
    "start_time": "2024-03-26T22:47:20.173Z"
   },
   {
    "duration": 18,
    "start_time": "2024-03-26T22:47:20.179Z"
   },
   {
    "duration": 198,
    "start_time": "2024-03-26T22:47:20.198Z"
   },
   {
    "duration": 140,
    "start_time": "2024-03-26T22:47:20.397Z"
   },
   {
    "duration": 247,
    "start_time": "2024-03-26T22:47:20.538Z"
   },
   {
    "duration": 15,
    "start_time": "2024-03-26T22:47:20.786Z"
   },
   {
    "duration": 3,
    "start_time": "2024-03-26T22:47:20.805Z"
   },
   {
    "duration": 27,
    "start_time": "2024-03-26T22:47:20.810Z"
   },
   {
    "duration": 2491,
    "start_time": "2024-03-26T22:47:20.838Z"
   },
   {
    "duration": 14,
    "start_time": "2024-03-26T22:47:23.331Z"
   },
   {
    "duration": 22,
    "start_time": "2024-03-26T22:47:23.347Z"
   },
   {
    "duration": 36,
    "start_time": "2024-03-26T22:47:23.371Z"
   },
   {
    "duration": 16,
    "start_time": "2024-03-26T22:47:23.408Z"
   },
   {
    "duration": 23,
    "start_time": "2024-03-26T22:47:23.426Z"
   },
   {
    "duration": 69,
    "start_time": "2024-03-26T22:47:23.451Z"
   },
   {
    "duration": 76,
    "start_time": "2024-03-26T22:48:01.082Z"
   },
   {
    "duration": 92,
    "start_time": "2024-03-26T22:49:29.358Z"
   },
   {
    "duration": 56,
    "start_time": "2024-03-26T22:50:03.944Z"
   },
   {
    "duration": 2319,
    "start_time": "2024-03-26T22:50:14.410Z"
   },
   {
    "duration": 1114,
    "start_time": "2024-03-26T22:50:16.731Z"
   },
   {
    "duration": 3,
    "start_time": "2024-03-26T22:50:17.847Z"
   },
   {
    "duration": 96,
    "start_time": "2024-03-26T22:50:17.851Z"
   },
   {
    "duration": 3,
    "start_time": "2024-03-26T22:50:17.948Z"
   },
   {
    "duration": 4,
    "start_time": "2024-03-26T22:50:17.952Z"
   },
   {
    "duration": 9,
    "start_time": "2024-03-26T22:50:17.957Z"
   },
   {
    "duration": 5,
    "start_time": "2024-03-26T22:50:17.968Z"
   },
   {
    "duration": 6,
    "start_time": "2024-03-26T22:50:17.974Z"
   },
   {
    "duration": 38,
    "start_time": "2024-03-26T22:50:17.981Z"
   },
   {
    "duration": 3,
    "start_time": "2024-03-26T22:50:18.021Z"
   },
   {
    "duration": 50,
    "start_time": "2024-03-26T22:50:18.025Z"
   },
   {
    "duration": 3,
    "start_time": "2024-03-26T22:50:18.077Z"
   },
   {
    "duration": 19,
    "start_time": "2024-03-26T22:50:18.083Z"
   },
   {
    "duration": 8,
    "start_time": "2024-03-26T22:50:18.103Z"
   },
   {
    "duration": 21,
    "start_time": "2024-03-26T22:50:18.112Z"
   },
   {
    "duration": 31,
    "start_time": "2024-03-26T22:50:18.134Z"
   },
   {
    "duration": 4,
    "start_time": "2024-03-26T22:50:18.167Z"
   },
   {
    "duration": 10,
    "start_time": "2024-03-26T22:50:18.172Z"
   },
   {
    "duration": 5,
    "start_time": "2024-03-26T22:50:18.183Z"
   },
   {
    "duration": 1458,
    "start_time": "2024-03-26T22:50:18.190Z"
   },
   {
    "duration": 5,
    "start_time": "2024-03-26T22:50:19.649Z"
   },
   {
    "duration": 16,
    "start_time": "2024-03-26T22:50:19.655Z"
   },
   {
    "duration": 220,
    "start_time": "2024-03-26T22:50:19.673Z"
   },
   {
    "duration": 152,
    "start_time": "2024-03-26T22:50:19.894Z"
   },
   {
    "duration": 247,
    "start_time": "2024-03-26T22:50:20.048Z"
   },
   {
    "duration": 13,
    "start_time": "2024-03-26T22:50:20.297Z"
   },
   {
    "duration": 8,
    "start_time": "2024-03-26T22:50:20.312Z"
   },
   {
    "duration": 26,
    "start_time": "2024-03-26T22:50:20.322Z"
   },
   {
    "duration": 2520,
    "start_time": "2024-03-26T22:50:20.350Z"
   },
   {
    "duration": 14,
    "start_time": "2024-03-26T22:50:22.872Z"
   },
   {
    "duration": 5,
    "start_time": "2024-03-26T22:50:22.887Z"
   },
   {
    "duration": 5,
    "start_time": "2024-03-26T22:50:22.893Z"
   },
   {
    "duration": 15,
    "start_time": "2024-03-26T22:50:22.899Z"
   },
   {
    "duration": 13,
    "start_time": "2024-03-26T22:50:22.920Z"
   },
   {
    "duration": 55,
    "start_time": "2024-03-26T22:50:22.935Z"
   },
   {
    "duration": 65,
    "start_time": "2024-03-26T22:54:48.903Z"
   },
   {
    "duration": 370,
    "start_time": "2024-03-26T22:55:36.414Z"
   },
   {
    "duration": 6176,
    "start_time": "2024-03-26T22:58:14.156Z"
   },
   {
    "duration": 471,
    "start_time": "2024-03-26T22:59:16.038Z"
   },
   {
    "duration": 2287,
    "start_time": "2024-03-26T23:03:52.917Z"
   },
   {
    "duration": 1335,
    "start_time": "2024-03-26T23:03:55.206Z"
   },
   {
    "duration": 3,
    "start_time": "2024-03-26T23:03:56.543Z"
   },
   {
    "duration": 90,
    "start_time": "2024-03-26T23:03:56.548Z"
   },
   {
    "duration": 3,
    "start_time": "2024-03-26T23:03:56.639Z"
   },
   {
    "duration": 4,
    "start_time": "2024-03-26T23:03:56.643Z"
   },
   {
    "duration": 9,
    "start_time": "2024-03-26T23:03:56.649Z"
   },
   {
    "duration": 10,
    "start_time": "2024-03-26T23:03:56.660Z"
   },
   {
    "duration": 4,
    "start_time": "2024-03-26T23:03:56.671Z"
   },
   {
    "duration": 36,
    "start_time": "2024-03-26T23:03:56.678Z"
   },
   {
    "duration": 3,
    "start_time": "2024-03-26T23:03:56.715Z"
   },
   {
    "duration": 49,
    "start_time": "2024-03-26T23:03:56.719Z"
   },
   {
    "duration": 4,
    "start_time": "2024-03-26T23:03:56.770Z"
   },
   {
    "duration": 25,
    "start_time": "2024-03-26T23:03:56.776Z"
   },
   {
    "duration": 17,
    "start_time": "2024-03-26T23:03:56.803Z"
   },
   {
    "duration": 27,
    "start_time": "2024-03-26T23:03:56.821Z"
   },
   {
    "duration": 11,
    "start_time": "2024-03-26T23:03:56.849Z"
   },
   {
    "duration": 9,
    "start_time": "2024-03-26T23:03:56.862Z"
   },
   {
    "duration": 25,
    "start_time": "2024-03-26T23:03:56.872Z"
   },
   {
    "duration": 13,
    "start_time": "2024-03-26T23:03:56.898Z"
   },
   {
    "duration": 1524,
    "start_time": "2024-03-26T23:03:56.912Z"
   },
   {
    "duration": 6,
    "start_time": "2024-03-26T23:03:58.438Z"
   },
   {
    "duration": 32,
    "start_time": "2024-03-26T23:03:58.446Z"
   },
   {
    "duration": 228,
    "start_time": "2024-03-26T23:03:58.480Z"
   },
   {
    "duration": 152,
    "start_time": "2024-03-26T23:03:58.710Z"
   },
   {
    "duration": 187,
    "start_time": "2024-03-26T23:03:58.865Z"
   },
   {
    "duration": 20,
    "start_time": "2024-03-26T23:03:59.054Z"
   },
   {
    "duration": 18,
    "start_time": "2024-03-26T23:03:59.077Z"
   },
   {
    "duration": 51,
    "start_time": "2024-03-26T23:03:59.096Z"
   },
   {
    "duration": 2563,
    "start_time": "2024-03-26T23:03:59.149Z"
   },
   {
    "duration": 15,
    "start_time": "2024-03-26T23:04:01.713Z"
   },
   {
    "duration": 25,
    "start_time": "2024-03-26T23:04:01.730Z"
   },
   {
    "duration": 55,
    "start_time": "2024-03-26T23:04:01.756Z"
   },
   {
    "duration": 67,
    "start_time": "2024-03-26T23:04:01.813Z"
   },
   {
    "duration": 39,
    "start_time": "2024-03-26T23:04:01.882Z"
   },
   {
    "duration": 670,
    "start_time": "2024-03-26T23:04:01.923Z"
   },
   {
    "duration": 2,
    "start_time": "2024-03-26T23:04:19.197Z"
   },
   {
    "duration": 13,
    "start_time": "2024-03-26T23:04:32.606Z"
   },
   {
    "duration": 4,
    "start_time": "2024-03-26T23:04:40.313Z"
   },
   {
    "duration": 3,
    "start_time": "2024-03-26T23:04:55.135Z"
   },
   {
    "duration": 3,
    "start_time": "2024-03-26T23:05:09.061Z"
   },
   {
    "duration": 4,
    "start_time": "2024-03-26T23:05:19.467Z"
   },
   {
    "duration": 2278,
    "start_time": "2024-03-26T23:06:02.808Z"
   },
   {
    "duration": 1327,
    "start_time": "2024-03-26T23:06:05.088Z"
   },
   {
    "duration": 4,
    "start_time": "2024-03-26T23:06:06.417Z"
   },
   {
    "duration": 96,
    "start_time": "2024-03-26T23:06:06.422Z"
   },
   {
    "duration": 3,
    "start_time": "2024-03-26T23:06:06.520Z"
   },
   {
    "duration": 6,
    "start_time": "2024-03-26T23:06:06.524Z"
   },
   {
    "duration": 4,
    "start_time": "2024-03-26T23:06:06.532Z"
   },
   {
    "duration": 6,
    "start_time": "2024-03-26T23:06:06.537Z"
   },
   {
    "duration": 6,
    "start_time": "2024-03-26T23:06:06.545Z"
   },
   {
    "duration": 57,
    "start_time": "2024-03-26T23:06:06.553Z"
   },
   {
    "duration": 3,
    "start_time": "2024-03-26T23:06:06.611Z"
   },
   {
    "duration": 33,
    "start_time": "2024-03-26T23:06:06.616Z"
   },
   {
    "duration": 14,
    "start_time": "2024-03-26T23:06:06.651Z"
   },
   {
    "duration": 18,
    "start_time": "2024-03-26T23:06:06.668Z"
   },
   {
    "duration": 8,
    "start_time": "2024-03-26T23:06:06.687Z"
   },
   {
    "duration": 20,
    "start_time": "2024-03-26T23:06:06.696Z"
   },
   {
    "duration": 6,
    "start_time": "2024-03-26T23:06:06.717Z"
   },
   {
    "duration": 10,
    "start_time": "2024-03-26T23:06:06.725Z"
   },
   {
    "duration": 12,
    "start_time": "2024-03-26T23:06:06.736Z"
   },
   {
    "duration": 16,
    "start_time": "2024-03-26T23:06:06.750Z"
   },
   {
    "duration": 1460,
    "start_time": "2024-03-26T23:06:06.768Z"
   },
   {
    "duration": 5,
    "start_time": "2024-03-26T23:06:08.229Z"
   },
   {
    "duration": 21,
    "start_time": "2024-03-26T23:06:08.235Z"
   },
   {
    "duration": 201,
    "start_time": "2024-03-26T23:06:08.258Z"
   },
   {
    "duration": 154,
    "start_time": "2024-03-26T23:06:08.460Z"
   },
   {
    "duration": 189,
    "start_time": "2024-03-26T23:06:08.615Z"
   },
   {
    "duration": 12,
    "start_time": "2024-03-26T23:06:08.806Z"
   },
   {
    "duration": 4,
    "start_time": "2024-03-26T23:06:08.819Z"
   },
   {
    "duration": 15,
    "start_time": "2024-03-26T23:06:08.824Z"
   },
   {
    "duration": 2426,
    "start_time": "2024-03-26T23:06:08.840Z"
   },
   {
    "duration": 18,
    "start_time": "2024-03-26T23:06:11.268Z"
   },
   {
    "duration": 8,
    "start_time": "2024-03-26T23:06:11.287Z"
   },
   {
    "duration": 5,
    "start_time": "2024-03-26T23:06:11.296Z"
   },
   {
    "duration": 15,
    "start_time": "2024-03-26T23:06:11.302Z"
   },
   {
    "duration": 11,
    "start_time": "2024-03-26T23:06:11.318Z"
   },
   {
    "duration": 3,
    "start_time": "2024-03-26T23:06:11.364Z"
   },
   {
    "duration": 15,
    "start_time": "2024-03-26T23:06:11.369Z"
   },
   {
    "duration": 4,
    "start_time": "2024-03-26T23:06:11.385Z"
   },
   {
    "duration": 5,
    "start_time": "2024-03-26T23:06:11.390Z"
   },
   {
    "duration": 9,
    "start_time": "2024-03-26T23:06:11.396Z"
   },
   {
    "duration": 4,
    "start_time": "2024-03-26T23:06:11.409Z"
   },
   {
    "duration": 4,
    "start_time": "2024-03-26T23:06:11.415Z"
   },
   {
    "duration": 6,
    "start_time": "2024-03-26T23:06:11.421Z"
   },
   {
    "duration": 6,
    "start_time": "2024-03-26T23:06:11.428Z"
   },
   {
    "duration": 601,
    "start_time": "2024-03-26T23:06:11.464Z"
   },
   {
    "duration": 2274,
    "start_time": "2024-03-26T23:06:55.894Z"
   },
   {
    "duration": 1378,
    "start_time": "2024-03-26T23:06:58.170Z"
   },
   {
    "duration": 4,
    "start_time": "2024-03-26T23:06:59.549Z"
   },
   {
    "duration": 90,
    "start_time": "2024-03-26T23:06:59.555Z"
   },
   {
    "duration": 3,
    "start_time": "2024-03-26T23:06:59.646Z"
   },
   {
    "duration": 15,
    "start_time": "2024-03-26T23:06:59.650Z"
   },
   {
    "duration": 5,
    "start_time": "2024-03-26T23:06:59.667Z"
   },
   {
    "duration": 6,
    "start_time": "2024-03-26T23:06:59.673Z"
   },
   {
    "duration": 7,
    "start_time": "2024-03-26T23:06:59.680Z"
   },
   {
    "duration": 43,
    "start_time": "2024-03-26T23:06:59.689Z"
   },
   {
    "duration": 3,
    "start_time": "2024-03-26T23:06:59.734Z"
   },
   {
    "duration": 49,
    "start_time": "2024-03-26T23:06:59.738Z"
   },
   {
    "duration": 5,
    "start_time": "2024-03-26T23:06:59.788Z"
   },
   {
    "duration": 24,
    "start_time": "2024-03-26T23:06:59.794Z"
   },
   {
    "duration": 4,
    "start_time": "2024-03-26T23:06:59.819Z"
   },
   {
    "duration": 41,
    "start_time": "2024-03-26T23:06:59.824Z"
   },
   {
    "duration": 3,
    "start_time": "2024-03-26T23:06:59.867Z"
   },
   {
    "duration": 6,
    "start_time": "2024-03-26T23:06:59.871Z"
   },
   {
    "duration": 19,
    "start_time": "2024-03-26T23:06:59.879Z"
   },
   {
    "duration": 10,
    "start_time": "2024-03-26T23:06:59.900Z"
   },
   {
    "duration": 1461,
    "start_time": "2024-03-26T23:06:59.911Z"
   },
   {
    "duration": 5,
    "start_time": "2024-03-26T23:07:01.374Z"
   },
   {
    "duration": 36,
    "start_time": "2024-03-26T23:07:01.381Z"
   },
   {
    "duration": 234,
    "start_time": "2024-03-26T23:07:01.418Z"
   },
   {
    "duration": 158,
    "start_time": "2024-03-26T23:07:01.654Z"
   },
   {
    "duration": 174,
    "start_time": "2024-03-26T23:07:01.814Z"
   },
   {
    "duration": 12,
    "start_time": "2024-03-26T23:07:01.990Z"
   },
   {
    "duration": 8,
    "start_time": "2024-03-26T23:07:02.007Z"
   },
   {
    "duration": 35,
    "start_time": "2024-03-26T23:07:02.017Z"
   },
   {
    "duration": 2479,
    "start_time": "2024-03-26T23:07:02.054Z"
   },
   {
    "duration": 14,
    "start_time": "2024-03-26T23:07:04.534Z"
   },
   {
    "duration": 10,
    "start_time": "2024-03-26T23:07:04.550Z"
   },
   {
    "duration": 4,
    "start_time": "2024-03-26T23:07:04.565Z"
   },
   {
    "duration": 20,
    "start_time": "2024-03-26T23:07:04.570Z"
   },
   {
    "duration": 22,
    "start_time": "2024-03-26T23:07:04.591Z"
   },
   {
    "duration": 9,
    "start_time": "2024-03-26T23:07:04.615Z"
   },
   {
    "duration": 34,
    "start_time": "2024-03-26T23:07:04.625Z"
   },
   {
    "duration": 5,
    "start_time": "2024-03-26T23:07:04.660Z"
   },
   {
    "duration": 10,
    "start_time": "2024-03-26T23:07:04.667Z"
   },
   {
    "duration": 20,
    "start_time": "2024-03-26T23:07:04.678Z"
   },
   {
    "duration": 13,
    "start_time": "2024-03-26T23:07:04.699Z"
   },
   {
    "duration": 5,
    "start_time": "2024-03-26T23:07:04.714Z"
   },
   {
    "duration": 15,
    "start_time": "2024-03-26T23:07:04.720Z"
   },
   {
    "duration": 6,
    "start_time": "2024-03-26T23:07:04.736Z"
   },
   {
    "duration": 13,
    "start_time": "2024-03-26T23:07:04.743Z"
   },
   {
    "duration": 583,
    "start_time": "2024-03-26T23:07:04.757Z"
   },
   {
    "duration": 0,
    "start_time": "2024-03-26T23:07:05.342Z"
   },
   {
    "duration": 42,
    "start_time": "2024-03-26T23:08:57.575Z"
   },
   {
    "duration": 2298,
    "start_time": "2024-03-26T23:10:27.927Z"
   },
   {
    "duration": 1397,
    "start_time": "2024-03-26T23:10:30.227Z"
   },
   {
    "duration": 3,
    "start_time": "2024-03-26T23:10:31.626Z"
   },
   {
    "duration": 140,
    "start_time": "2024-03-26T23:10:31.631Z"
   },
   {
    "duration": 3,
    "start_time": "2024-03-26T23:10:31.773Z"
   },
   {
    "duration": 32,
    "start_time": "2024-03-26T23:10:31.777Z"
   },
   {
    "duration": 25,
    "start_time": "2024-03-26T23:10:31.812Z"
   },
   {
    "duration": 19,
    "start_time": "2024-03-26T23:10:31.839Z"
   },
   {
    "duration": 25,
    "start_time": "2024-03-26T23:10:31.860Z"
   },
   {
    "duration": 70,
    "start_time": "2024-03-26T23:10:31.887Z"
   },
   {
    "duration": 3,
    "start_time": "2024-03-26T23:10:31.958Z"
   },
   {
    "duration": 37,
    "start_time": "2024-03-26T23:10:31.962Z"
   },
   {
    "duration": 27,
    "start_time": "2024-03-26T23:10:32.001Z"
   },
   {
    "duration": 27,
    "start_time": "2024-03-26T23:10:32.031Z"
   },
   {
    "duration": 29,
    "start_time": "2024-03-26T23:10:32.059Z"
   },
   {
    "duration": 38,
    "start_time": "2024-03-26T23:10:32.090Z"
   },
   {
    "duration": 22,
    "start_time": "2024-03-26T23:10:32.130Z"
   },
   {
    "duration": 31,
    "start_time": "2024-03-26T23:10:32.154Z"
   },
   {
    "duration": 16,
    "start_time": "2024-03-26T23:10:32.187Z"
   },
   {
    "duration": 14,
    "start_time": "2024-03-26T23:10:32.205Z"
   },
   {
    "duration": 1447,
    "start_time": "2024-03-26T23:10:32.221Z"
   },
   {
    "duration": 5,
    "start_time": "2024-03-26T23:10:33.669Z"
   },
   {
    "duration": 14,
    "start_time": "2024-03-26T23:10:33.675Z"
   },
   {
    "duration": 207,
    "start_time": "2024-03-26T23:10:33.691Z"
   },
   {
    "duration": 142,
    "start_time": "2024-03-26T23:10:33.900Z"
   },
   {
    "duration": 159,
    "start_time": "2024-03-26T23:10:34.044Z"
   },
   {
    "duration": 13,
    "start_time": "2024-03-26T23:10:34.205Z"
   },
   {
    "duration": 4,
    "start_time": "2024-03-26T23:10:34.219Z"
   },
   {
    "duration": 16,
    "start_time": "2024-03-26T23:10:34.225Z"
   },
   {
    "duration": 2369,
    "start_time": "2024-03-26T23:10:34.242Z"
   },
   {
    "duration": 14,
    "start_time": "2024-03-26T23:10:36.613Z"
   },
   {
    "duration": 5,
    "start_time": "2024-03-26T23:10:36.629Z"
   },
   {
    "duration": 4,
    "start_time": "2024-03-26T23:10:36.635Z"
   },
   {
    "duration": 32,
    "start_time": "2024-03-26T23:10:36.640Z"
   },
   {
    "duration": 8,
    "start_time": "2024-03-26T23:10:36.673Z"
   },
   {
    "duration": 2,
    "start_time": "2024-03-26T23:10:36.682Z"
   },
   {
    "duration": 13,
    "start_time": "2024-03-26T23:10:36.685Z"
   },
   {
    "duration": 17,
    "start_time": "2024-03-26T23:10:36.700Z"
   },
   {
    "duration": 11,
    "start_time": "2024-03-26T23:10:36.718Z"
   },
   {
    "duration": 10,
    "start_time": "2024-03-26T23:10:36.730Z"
   },
   {
    "duration": 10,
    "start_time": "2024-03-26T23:10:36.743Z"
   },
   {
    "duration": 3,
    "start_time": "2024-03-26T23:10:36.754Z"
   },
   {
    "duration": 7,
    "start_time": "2024-03-26T23:10:36.758Z"
   },
   {
    "duration": 5,
    "start_time": "2024-03-26T23:10:36.766Z"
   },
   {
    "duration": 17,
    "start_time": "2024-03-26T23:10:36.772Z"
   },
   {
    "duration": 939,
    "start_time": "2024-03-26T23:10:36.791Z"
   },
   {
    "duration": 0,
    "start_time": "2024-03-26T23:10:37.732Z"
   },
   {
    "duration": 2262,
    "start_time": "2024-03-26T23:13:44.361Z"
   },
   {
    "duration": 1297,
    "start_time": "2024-03-26T23:13:46.626Z"
   },
   {
    "duration": 3,
    "start_time": "2024-03-26T23:13:47.925Z"
   },
   {
    "duration": 92,
    "start_time": "2024-03-26T23:13:47.929Z"
   },
   {
    "duration": 3,
    "start_time": "2024-03-26T23:13:48.022Z"
   },
   {
    "duration": 9,
    "start_time": "2024-03-26T23:13:48.027Z"
   },
   {
    "duration": 4,
    "start_time": "2024-03-26T23:13:48.037Z"
   },
   {
    "duration": 5,
    "start_time": "2024-03-26T23:13:48.043Z"
   },
   {
    "duration": 11,
    "start_time": "2024-03-26T23:13:48.049Z"
   },
   {
    "duration": 47,
    "start_time": "2024-03-26T23:13:48.061Z"
   },
   {
    "duration": 3,
    "start_time": "2024-03-26T23:13:48.109Z"
   },
   {
    "duration": 33,
    "start_time": "2024-03-26T23:13:48.113Z"
   },
   {
    "duration": 4,
    "start_time": "2024-03-26T23:13:48.147Z"
   },
   {
    "duration": 18,
    "start_time": "2024-03-26T23:13:48.164Z"
   },
   {
    "duration": 4,
    "start_time": "2024-03-26T23:13:48.183Z"
   },
   {
    "duration": 32,
    "start_time": "2024-03-26T23:13:48.188Z"
   },
   {
    "duration": 5,
    "start_time": "2024-03-26T23:13:48.222Z"
   },
   {
    "duration": 6,
    "start_time": "2024-03-26T23:13:48.228Z"
   },
   {
    "duration": 6,
    "start_time": "2024-03-26T23:13:48.235Z"
   },
   {
    "duration": 5,
    "start_time": "2024-03-26T23:13:48.242Z"
   },
   {
    "duration": 1487,
    "start_time": "2024-03-26T23:13:48.249Z"
   },
   {
    "duration": 6,
    "start_time": "2024-03-26T23:13:49.738Z"
   },
   {
    "duration": 6,
    "start_time": "2024-03-26T23:13:49.745Z"
   },
   {
    "duration": 185,
    "start_time": "2024-03-26T23:13:49.753Z"
   },
   {
    "duration": 141,
    "start_time": "2024-03-26T23:13:49.939Z"
   },
   {
    "duration": 161,
    "start_time": "2024-03-26T23:13:50.082Z"
   },
   {
    "duration": 23,
    "start_time": "2024-03-26T23:13:50.245Z"
   },
   {
    "duration": 4,
    "start_time": "2024-03-26T23:13:50.269Z"
   },
   {
    "duration": 21,
    "start_time": "2024-03-26T23:13:50.274Z"
   },
   {
    "duration": 2372,
    "start_time": "2024-03-26T23:13:50.297Z"
   },
   {
    "duration": 14,
    "start_time": "2024-03-26T23:13:52.670Z"
   },
   {
    "duration": 8,
    "start_time": "2024-03-26T23:13:52.685Z"
   },
   {
    "duration": 5,
    "start_time": "2024-03-26T23:13:52.695Z"
   },
   {
    "duration": 13,
    "start_time": "2024-03-26T23:13:52.701Z"
   },
   {
    "duration": 8,
    "start_time": "2024-03-26T23:13:52.716Z"
   },
   {
    "duration": 2,
    "start_time": "2024-03-26T23:13:52.725Z"
   },
   {
    "duration": 37,
    "start_time": "2024-03-26T23:13:52.728Z"
   },
   {
    "duration": 4,
    "start_time": "2024-03-26T23:13:52.766Z"
   },
   {
    "duration": 4,
    "start_time": "2024-03-26T23:13:52.771Z"
   },
   {
    "duration": 22,
    "start_time": "2024-03-26T23:13:52.776Z"
   },
   {
    "duration": 3,
    "start_time": "2024-03-26T23:13:52.801Z"
   },
   {
    "duration": 6,
    "start_time": "2024-03-26T23:13:52.806Z"
   },
   {
    "duration": 4,
    "start_time": "2024-03-26T23:13:52.813Z"
   },
   {
    "duration": 10,
    "start_time": "2024-03-26T23:13:52.818Z"
   },
   {
    "duration": 9,
    "start_time": "2024-03-26T23:13:52.829Z"
   },
   {
    "duration": 24786,
    "start_time": "2024-03-26T23:13:52.839Z"
   },
   {
    "duration": 653,
    "start_time": "2024-03-26T23:14:17.627Z"
   },
   {
    "duration": 2279,
    "start_time": "2024-03-26T23:17:59.856Z"
   },
   {
    "duration": 1387,
    "start_time": "2024-03-26T23:18:02.136Z"
   },
   {
    "duration": 3,
    "start_time": "2024-03-26T23:18:03.525Z"
   },
   {
    "duration": 108,
    "start_time": "2024-03-26T23:18:03.530Z"
   },
   {
    "duration": 3,
    "start_time": "2024-03-26T23:18:03.639Z"
   },
   {
    "duration": 21,
    "start_time": "2024-03-26T23:18:03.643Z"
   },
   {
    "duration": 24,
    "start_time": "2024-03-26T23:18:03.665Z"
   },
   {
    "duration": 36,
    "start_time": "2024-03-26T23:18:03.691Z"
   },
   {
    "duration": 17,
    "start_time": "2024-03-26T23:18:03.729Z"
   },
   {
    "duration": 43,
    "start_time": "2024-03-26T23:18:03.748Z"
   },
   {
    "duration": 4,
    "start_time": "2024-03-26T23:18:03.793Z"
   },
   {
    "duration": 52,
    "start_time": "2024-03-26T23:18:03.798Z"
   },
   {
    "duration": 14,
    "start_time": "2024-03-26T23:18:03.851Z"
   },
   {
    "duration": 33,
    "start_time": "2024-03-26T23:18:03.867Z"
   },
   {
    "duration": 18,
    "start_time": "2024-03-26T23:18:03.901Z"
   },
   {
    "duration": 20,
    "start_time": "2024-03-26T23:18:03.921Z"
   },
   {
    "duration": 17,
    "start_time": "2024-03-26T23:18:03.943Z"
   },
   {
    "duration": 22,
    "start_time": "2024-03-26T23:18:03.962Z"
   },
   {
    "duration": 18,
    "start_time": "2024-03-26T23:18:03.986Z"
   },
   {
    "duration": 24,
    "start_time": "2024-03-26T23:18:04.005Z"
   },
   {
    "duration": 1461,
    "start_time": "2024-03-26T23:18:04.031Z"
   },
   {
    "duration": 5,
    "start_time": "2024-03-26T23:18:05.493Z"
   },
   {
    "duration": 8,
    "start_time": "2024-03-26T23:18:05.499Z"
   },
   {
    "duration": 192,
    "start_time": "2024-03-26T23:18:05.508Z"
   },
   {
    "duration": 147,
    "start_time": "2024-03-26T23:18:05.701Z"
   },
   {
    "duration": 163,
    "start_time": "2024-03-26T23:18:05.850Z"
   },
   {
    "duration": 11,
    "start_time": "2024-03-26T23:18:06.015Z"
   },
   {
    "duration": 6,
    "start_time": "2024-03-26T23:18:06.029Z"
   },
   {
    "duration": 13,
    "start_time": "2024-03-26T23:18:06.036Z"
   },
   {
    "duration": 2390,
    "start_time": "2024-03-26T23:18:06.050Z"
   },
   {
    "duration": 14,
    "start_time": "2024-03-26T23:18:08.441Z"
   },
   {
    "duration": 8,
    "start_time": "2024-03-26T23:18:08.465Z"
   },
   {
    "duration": 6,
    "start_time": "2024-03-26T23:18:08.475Z"
   },
   {
    "duration": 15,
    "start_time": "2024-03-26T23:18:08.483Z"
   },
   {
    "duration": 9,
    "start_time": "2024-03-26T23:18:08.499Z"
   },
   {
    "duration": 3,
    "start_time": "2024-03-26T23:18:08.509Z"
   },
   {
    "duration": 13,
    "start_time": "2024-03-26T23:18:08.513Z"
   },
   {
    "duration": 4,
    "start_time": "2024-03-26T23:18:08.527Z"
   },
   {
    "duration": 34,
    "start_time": "2024-03-26T23:18:08.532Z"
   },
   {
    "duration": 106,
    "start_time": "2024-03-26T23:18:08.567Z"
   },
   {
    "duration": 0,
    "start_time": "2024-03-26T23:18:08.674Z"
   },
   {
    "duration": 0,
    "start_time": "2024-03-26T23:18:08.675Z"
   },
   {
    "duration": 0,
    "start_time": "2024-03-26T23:18:08.676Z"
   },
   {
    "duration": 0,
    "start_time": "2024-03-26T23:18:08.677Z"
   },
   {
    "duration": 0,
    "start_time": "2024-03-26T23:18:08.678Z"
   },
   {
    "duration": 0,
    "start_time": "2024-03-26T23:18:08.679Z"
   },
   {
    "duration": 0,
    "start_time": "2024-03-26T23:18:08.680Z"
   },
   {
    "duration": 54,
    "start_time": "2024-03-26T23:21:56.294Z"
   },
   {
    "duration": 0,
    "start_time": "2024-03-26T23:21:56.350Z"
   },
   {
    "duration": 0,
    "start_time": "2024-03-26T23:21:56.352Z"
   },
   {
    "duration": 0,
    "start_time": "2024-03-26T23:21:56.352Z"
   },
   {
    "duration": 0,
    "start_time": "2024-03-26T23:21:56.353Z"
   },
   {
    "duration": 0,
    "start_time": "2024-03-26T23:21:56.354Z"
   },
   {
    "duration": 0,
    "start_time": "2024-03-26T23:21:56.355Z"
   },
   {
    "duration": 0,
    "start_time": "2024-03-26T23:21:56.356Z"
   },
   {
    "duration": 0,
    "start_time": "2024-03-26T23:21:56.357Z"
   },
   {
    "duration": 0,
    "start_time": "2024-03-26T23:21:56.357Z"
   },
   {
    "duration": 0,
    "start_time": "2024-03-26T23:21:56.358Z"
   },
   {
    "duration": 0,
    "start_time": "2024-03-26T23:21:56.359Z"
   },
   {
    "duration": 0,
    "start_time": "2024-03-26T23:21:56.360Z"
   },
   {
    "duration": 0,
    "start_time": "2024-03-26T23:21:56.361Z"
   },
   {
    "duration": 0,
    "start_time": "2024-03-26T23:21:56.362Z"
   },
   {
    "duration": 0,
    "start_time": "2024-03-26T23:21:56.363Z"
   },
   {
    "duration": 0,
    "start_time": "2024-03-26T23:21:56.364Z"
   },
   {
    "duration": 0,
    "start_time": "2024-03-26T23:21:56.365Z"
   },
   {
    "duration": 0,
    "start_time": "2024-03-26T23:21:56.366Z"
   },
   {
    "duration": 0,
    "start_time": "2024-03-26T23:21:56.367Z"
   },
   {
    "duration": 0,
    "start_time": "2024-03-26T23:21:56.368Z"
   },
   {
    "duration": 0,
    "start_time": "2024-03-26T23:21:56.368Z"
   },
   {
    "duration": 0,
    "start_time": "2024-03-26T23:21:56.369Z"
   },
   {
    "duration": 0,
    "start_time": "2024-03-26T23:21:56.371Z"
   },
   {
    "duration": 0,
    "start_time": "2024-03-26T23:21:56.372Z"
   },
   {
    "duration": 0,
    "start_time": "2024-03-26T23:21:56.373Z"
   },
   {
    "duration": 0,
    "start_time": "2024-03-26T23:21:56.374Z"
   },
   {
    "duration": 0,
    "start_time": "2024-03-26T23:21:56.375Z"
   },
   {
    "duration": 0,
    "start_time": "2024-03-26T23:21:56.375Z"
   },
   {
    "duration": 0,
    "start_time": "2024-03-26T23:21:56.376Z"
   },
   {
    "duration": 0,
    "start_time": "2024-03-26T23:21:56.377Z"
   },
   {
    "duration": 0,
    "start_time": "2024-03-26T23:21:56.378Z"
   },
   {
    "duration": 5,
    "start_time": "2024-03-26T23:21:56.381Z"
   },
   {
    "duration": 94,
    "start_time": "2024-03-26T23:21:56.387Z"
   },
   {
    "duration": 0,
    "start_time": "2024-03-26T23:21:56.482Z"
   },
   {
    "duration": 0,
    "start_time": "2024-03-26T23:21:56.484Z"
   },
   {
    "duration": 0,
    "start_time": "2024-03-26T23:21:56.485Z"
   },
   {
    "duration": 0,
    "start_time": "2024-03-26T23:21:56.485Z"
   },
   {
    "duration": 0,
    "start_time": "2024-03-26T23:21:56.487Z"
   },
   {
    "duration": 0,
    "start_time": "2024-03-26T23:21:56.488Z"
   },
   {
    "duration": 0,
    "start_time": "2024-03-26T23:21:56.488Z"
   },
   {
    "duration": 0,
    "start_time": "2024-03-26T23:21:56.489Z"
   },
   {
    "duration": 0,
    "start_time": "2024-03-26T23:21:56.490Z"
   },
   {
    "duration": 0,
    "start_time": "2024-03-26T23:21:56.491Z"
   },
   {
    "duration": 0,
    "start_time": "2024-03-26T23:21:56.492Z"
   },
   {
    "duration": 0,
    "start_time": "2024-03-26T23:21:56.493Z"
   },
   {
    "duration": 0,
    "start_time": "2024-03-26T23:21:56.494Z"
   },
   {
    "duration": 18084,
    "start_time": "2024-03-26T23:22:18.098Z"
   },
   {
    "duration": 1251,
    "start_time": "2024-03-26T23:22:36.184Z"
   },
   {
    "duration": 3,
    "start_time": "2024-03-26T23:22:37.437Z"
   },
   {
    "duration": 103,
    "start_time": "2024-03-26T23:22:37.442Z"
   },
   {
    "duration": 2,
    "start_time": "2024-03-26T23:22:37.547Z"
   },
   {
    "duration": 4,
    "start_time": "2024-03-26T23:22:37.551Z"
   },
   {
    "duration": 3,
    "start_time": "2024-03-26T23:22:37.557Z"
   },
   {
    "duration": 5,
    "start_time": "2024-03-26T23:22:37.562Z"
   },
   {
    "duration": 12,
    "start_time": "2024-03-26T23:22:37.568Z"
   },
   {
    "duration": 40,
    "start_time": "2024-03-26T23:22:37.582Z"
   },
   {
    "duration": 3,
    "start_time": "2024-03-26T23:22:37.624Z"
   },
   {
    "duration": 47,
    "start_time": "2024-03-26T23:22:37.628Z"
   },
   {
    "duration": 3,
    "start_time": "2024-03-26T23:22:37.677Z"
   },
   {
    "duration": 24,
    "start_time": "2024-03-26T23:22:37.682Z"
   },
   {
    "duration": 4,
    "start_time": "2024-03-26T23:22:37.707Z"
   },
   {
    "duration": 22,
    "start_time": "2024-03-26T23:22:37.712Z"
   },
   {
    "duration": 4,
    "start_time": "2024-03-26T23:22:37.736Z"
   },
   {
    "duration": 4,
    "start_time": "2024-03-26T23:22:37.742Z"
   },
   {
    "duration": 7,
    "start_time": "2024-03-26T23:22:37.765Z"
   },
   {
    "duration": 6,
    "start_time": "2024-03-26T23:22:37.773Z"
   },
   {
    "duration": 1481,
    "start_time": "2024-03-26T23:22:37.780Z"
   },
   {
    "duration": 4,
    "start_time": "2024-03-26T23:22:39.263Z"
   },
   {
    "duration": 7,
    "start_time": "2024-03-26T23:22:39.268Z"
   },
   {
    "duration": 217,
    "start_time": "2024-03-26T23:22:39.277Z"
   },
   {
    "duration": 141,
    "start_time": "2024-03-26T23:22:39.496Z"
   },
   {
    "duration": 181,
    "start_time": "2024-03-26T23:22:39.639Z"
   },
   {
    "duration": 13,
    "start_time": "2024-03-26T23:22:39.821Z"
   },
   {
    "duration": 3,
    "start_time": "2024-03-26T23:22:39.837Z"
   },
   {
    "duration": 28,
    "start_time": "2024-03-26T23:22:39.842Z"
   },
   {
    "duration": 2347,
    "start_time": "2024-03-26T23:22:39.872Z"
   },
   {
    "duration": 16,
    "start_time": "2024-03-26T23:22:42.221Z"
   },
   {
    "duration": 10,
    "start_time": "2024-03-26T23:22:42.239Z"
   },
   {
    "duration": 16,
    "start_time": "2024-03-26T23:22:42.250Z"
   },
   {
    "duration": 12,
    "start_time": "2024-03-26T23:22:42.268Z"
   },
   {
    "duration": 9,
    "start_time": "2024-03-26T23:22:42.281Z"
   },
   {
    "duration": 8,
    "start_time": "2024-03-26T23:22:42.291Z"
   },
   {
    "duration": 13,
    "start_time": "2024-03-26T23:22:42.300Z"
   },
   {
    "duration": 3,
    "start_time": "2024-03-26T23:22:42.314Z"
   },
   {
    "duration": 3,
    "start_time": "2024-03-26T23:22:42.319Z"
   },
   {
    "duration": 136,
    "start_time": "2024-03-26T23:22:42.324Z"
   },
   {
    "duration": 0,
    "start_time": "2024-03-26T23:22:42.465Z"
   },
   {
    "duration": 0,
    "start_time": "2024-03-26T23:22:42.466Z"
   },
   {
    "duration": 0,
    "start_time": "2024-03-26T23:22:42.467Z"
   },
   {
    "duration": 0,
    "start_time": "2024-03-26T23:22:42.468Z"
   },
   {
    "duration": 0,
    "start_time": "2024-03-26T23:22:42.469Z"
   },
   {
    "duration": 0,
    "start_time": "2024-03-26T23:22:42.470Z"
   },
   {
    "duration": 0,
    "start_time": "2024-03-26T23:22:42.471Z"
   },
   {
    "duration": 9280,
    "start_time": "2024-03-26T23:23:20.609Z"
   },
   {
    "duration": 1232,
    "start_time": "2024-03-26T23:23:29.892Z"
   },
   {
    "duration": 4,
    "start_time": "2024-03-26T23:23:31.126Z"
   },
   {
    "duration": 132,
    "start_time": "2024-03-26T23:23:31.132Z"
   },
   {
    "duration": 2,
    "start_time": "2024-03-26T23:23:31.266Z"
   },
   {
    "duration": 30,
    "start_time": "2024-03-26T23:23:31.270Z"
   },
   {
    "duration": 28,
    "start_time": "2024-03-26T23:23:31.301Z"
   },
   {
    "duration": 33,
    "start_time": "2024-03-26T23:23:31.330Z"
   },
   {
    "duration": 47,
    "start_time": "2024-03-26T23:23:31.365Z"
   },
   {
    "duration": 69,
    "start_time": "2024-03-26T23:23:31.415Z"
   },
   {
    "duration": 3,
    "start_time": "2024-03-26T23:23:31.485Z"
   },
   {
    "duration": 44,
    "start_time": "2024-03-26T23:23:31.490Z"
   },
   {
    "duration": 3,
    "start_time": "2024-03-26T23:23:31.536Z"
   },
   {
    "duration": 43,
    "start_time": "2024-03-26T23:23:31.540Z"
   },
   {
    "duration": 16,
    "start_time": "2024-03-26T23:23:31.584Z"
   },
   {
    "duration": 43,
    "start_time": "2024-03-26T23:23:31.602Z"
   },
   {
    "duration": 31,
    "start_time": "2024-03-26T23:23:31.646Z"
   },
   {
    "duration": 22,
    "start_time": "2024-03-26T23:23:31.679Z"
   },
   {
    "duration": 37,
    "start_time": "2024-03-26T23:23:31.703Z"
   },
   {
    "duration": 28,
    "start_time": "2024-03-26T23:23:31.742Z"
   },
   {
    "duration": 1501,
    "start_time": "2024-03-26T23:23:31.771Z"
   },
   {
    "duration": 4,
    "start_time": "2024-03-26T23:23:33.274Z"
   },
   {
    "duration": 12,
    "start_time": "2024-03-26T23:23:33.279Z"
   },
   {
    "duration": 185,
    "start_time": "2024-03-26T23:23:33.292Z"
   },
   {
    "duration": 142,
    "start_time": "2024-03-26T23:23:33.478Z"
   },
   {
    "duration": 163,
    "start_time": "2024-03-26T23:23:33.621Z"
   },
   {
    "duration": 13,
    "start_time": "2024-03-26T23:23:33.786Z"
   },
   {
    "duration": 4,
    "start_time": "2024-03-26T23:23:33.801Z"
   },
   {
    "duration": 22,
    "start_time": "2024-03-26T23:23:33.807Z"
   },
   {
    "duration": 2440,
    "start_time": "2024-03-26T23:23:33.831Z"
   },
   {
    "duration": 16,
    "start_time": "2024-03-26T23:23:36.272Z"
   },
   {
    "duration": 4,
    "start_time": "2024-03-26T23:23:36.290Z"
   },
   {
    "duration": 4,
    "start_time": "2024-03-26T23:23:36.295Z"
   },
   {
    "duration": 12,
    "start_time": "2024-03-26T23:23:36.300Z"
   },
   {
    "duration": 8,
    "start_time": "2024-03-26T23:23:36.314Z"
   },
   {
    "duration": 2,
    "start_time": "2024-03-26T23:23:36.323Z"
   },
   {
    "duration": 49,
    "start_time": "2024-03-26T23:23:36.326Z"
   },
   {
    "duration": 6,
    "start_time": "2024-03-26T23:23:36.376Z"
   },
   {
    "duration": 5,
    "start_time": "2024-03-26T23:23:36.383Z"
   },
   {
    "duration": 122,
    "start_time": "2024-03-26T23:23:36.389Z"
   },
   {
    "duration": 0,
    "start_time": "2024-03-26T23:23:36.513Z"
   },
   {
    "duration": 0,
    "start_time": "2024-03-26T23:23:36.514Z"
   },
   {
    "duration": 0,
    "start_time": "2024-03-26T23:23:36.516Z"
   },
   {
    "duration": 0,
    "start_time": "2024-03-26T23:23:36.517Z"
   },
   {
    "duration": 0,
    "start_time": "2024-03-26T23:23:36.517Z"
   },
   {
    "duration": 0,
    "start_time": "2024-03-26T23:23:36.519Z"
   },
   {
    "duration": 0,
    "start_time": "2024-03-26T23:23:36.520Z"
   },
   {
    "duration": 4,
    "start_time": "2024-03-26T23:24:00.716Z"
   },
   {
    "duration": 2,
    "start_time": "2024-03-26T23:24:10.376Z"
   },
   {
    "duration": 3,
    "start_time": "2024-03-26T23:24:11.359Z"
   },
   {
    "duration": 3,
    "start_time": "2024-03-26T23:24:12.840Z"
   },
   {
    "duration": 2,
    "start_time": "2024-03-26T23:24:13.496Z"
   },
   {
    "duration": 4,
    "start_time": "2024-03-26T23:24:13.892Z"
   },
   {
    "duration": 2,
    "start_time": "2024-03-26T23:24:14.353Z"
   },
   {
    "duration": 24360,
    "start_time": "2024-03-26T23:24:14.694Z"
   },
   {
    "duration": 115,
    "start_time": "2024-03-26T23:24:39.055Z"
   },
   {
    "duration": 5531,
    "start_time": "2024-03-26T23:25:25.809Z"
   },
   {
    "duration": 1281,
    "start_time": "2024-03-26T23:25:31.342Z"
   },
   {
    "duration": 3,
    "start_time": "2024-03-26T23:25:32.625Z"
   },
   {
    "duration": 87,
    "start_time": "2024-03-26T23:25:32.630Z"
   },
   {
    "duration": 3,
    "start_time": "2024-03-26T23:25:32.719Z"
   },
   {
    "duration": 3,
    "start_time": "2024-03-26T23:25:32.724Z"
   },
   {
    "duration": 6,
    "start_time": "2024-03-26T23:25:32.729Z"
   },
   {
    "duration": 16,
    "start_time": "2024-03-26T23:25:32.737Z"
   },
   {
    "duration": 10,
    "start_time": "2024-03-26T23:25:32.754Z"
   },
   {
    "duration": 39,
    "start_time": "2024-03-26T23:25:32.765Z"
   },
   {
    "duration": 4,
    "start_time": "2024-03-26T23:25:32.806Z"
   },
   {
    "duration": 62,
    "start_time": "2024-03-26T23:25:32.811Z"
   },
   {
    "duration": 5,
    "start_time": "2024-03-26T23:25:32.875Z"
   },
   {
    "duration": 17,
    "start_time": "2024-03-26T23:25:32.883Z"
   },
   {
    "duration": 4,
    "start_time": "2024-03-26T23:25:32.901Z"
   },
   {
    "duration": 14,
    "start_time": "2024-03-26T23:25:32.906Z"
   },
   {
    "duration": 3,
    "start_time": "2024-03-26T23:25:32.922Z"
   },
   {
    "duration": 4,
    "start_time": "2024-03-26T23:25:32.965Z"
   },
   {
    "duration": 6,
    "start_time": "2024-03-26T23:25:32.971Z"
   },
   {
    "duration": 8,
    "start_time": "2024-03-26T23:25:32.978Z"
   },
   {
    "duration": 1484,
    "start_time": "2024-03-26T23:25:32.988Z"
   },
   {
    "duration": 4,
    "start_time": "2024-03-26T23:25:34.474Z"
   },
   {
    "duration": 7,
    "start_time": "2024-03-26T23:25:34.480Z"
   },
   {
    "duration": 204,
    "start_time": "2024-03-26T23:25:34.489Z"
   },
   {
    "duration": 141,
    "start_time": "2024-03-26T23:25:34.695Z"
   },
   {
    "duration": 160,
    "start_time": "2024-03-26T23:25:34.838Z"
   },
   {
    "duration": 14,
    "start_time": "2024-03-26T23:25:35.000Z"
   },
   {
    "duration": 11,
    "start_time": "2024-03-26T23:25:35.016Z"
   },
   {
    "duration": 36,
    "start_time": "2024-03-26T23:25:35.029Z"
   },
   {
    "duration": 2404,
    "start_time": "2024-03-26T23:25:35.067Z"
   },
   {
    "duration": 14,
    "start_time": "2024-03-26T23:25:37.473Z"
   },
   {
    "duration": 19,
    "start_time": "2024-03-26T23:25:37.489Z"
   },
   {
    "duration": 26,
    "start_time": "2024-03-26T23:25:37.509Z"
   },
   {
    "duration": 21,
    "start_time": "2024-03-26T23:25:37.537Z"
   },
   {
    "duration": 22,
    "start_time": "2024-03-26T23:25:37.560Z"
   },
   {
    "duration": 16,
    "start_time": "2024-03-26T23:25:37.584Z"
   },
   {
    "duration": 18,
    "start_time": "2024-03-26T23:25:37.601Z"
   },
   {
    "duration": 9,
    "start_time": "2024-03-26T23:25:37.620Z"
   },
   {
    "duration": 20,
    "start_time": "2024-03-26T23:25:37.631Z"
   },
   {
    "duration": 12,
    "start_time": "2024-03-26T23:25:37.652Z"
   },
   {
    "duration": 21,
    "start_time": "2024-03-26T23:25:37.667Z"
   },
   {
    "duration": 13,
    "start_time": "2024-03-26T23:25:37.690Z"
   },
   {
    "duration": 24,
    "start_time": "2024-03-26T23:25:37.705Z"
   },
   {
    "duration": 21,
    "start_time": "2024-03-26T23:25:37.731Z"
   },
   {
    "duration": 23,
    "start_time": "2024-03-26T23:25:37.753Z"
   },
   {
    "duration": 24528,
    "start_time": "2024-03-26T23:25:37.778Z"
   },
   {
    "duration": 23646,
    "start_time": "2024-03-26T23:27:10.483Z"
   },
   {
    "duration": 5630,
    "start_time": "2024-03-26T23:28:51.297Z"
   },
   {
    "duration": 1185,
    "start_time": "2024-03-26T23:28:56.929Z"
   },
   {
    "duration": 3,
    "start_time": "2024-03-26T23:28:58.116Z"
   },
   {
    "duration": 89,
    "start_time": "2024-03-26T23:28:58.122Z"
   },
   {
    "duration": 3,
    "start_time": "2024-03-26T23:28:58.212Z"
   },
   {
    "duration": 4,
    "start_time": "2024-03-26T23:28:58.216Z"
   },
   {
    "duration": 12,
    "start_time": "2024-03-26T23:28:58.221Z"
   },
   {
    "duration": 13,
    "start_time": "2024-03-26T23:28:58.235Z"
   },
   {
    "duration": 4,
    "start_time": "2024-03-26T23:28:58.250Z"
   },
   {
    "duration": 40,
    "start_time": "2024-03-26T23:28:58.257Z"
   },
   {
    "duration": 3,
    "start_time": "2024-03-26T23:28:58.299Z"
   },
   {
    "duration": 65,
    "start_time": "2024-03-26T23:28:58.304Z"
   },
   {
    "duration": 4,
    "start_time": "2024-03-26T23:28:58.371Z"
   },
   {
    "duration": 18,
    "start_time": "2024-03-26T23:28:58.376Z"
   },
   {
    "duration": 5,
    "start_time": "2024-03-26T23:28:58.395Z"
   },
   {
    "duration": 15,
    "start_time": "2024-03-26T23:28:58.401Z"
   },
   {
    "duration": 4,
    "start_time": "2024-03-26T23:28:58.418Z"
   },
   {
    "duration": 15,
    "start_time": "2024-03-26T23:28:58.424Z"
   },
   {
    "duration": 26,
    "start_time": "2024-03-26T23:28:58.440Z"
   },
   {
    "duration": 6,
    "start_time": "2024-03-26T23:28:58.468Z"
   },
   {
    "duration": 1496,
    "start_time": "2024-03-26T23:28:58.476Z"
   },
   {
    "duration": 5,
    "start_time": "2024-03-26T23:28:59.973Z"
   },
   {
    "duration": 7,
    "start_time": "2024-03-26T23:28:59.979Z"
   },
   {
    "duration": 182,
    "start_time": "2024-03-26T23:28:59.987Z"
   },
   {
    "duration": 151,
    "start_time": "2024-03-26T23:29:00.170Z"
   },
   {
    "duration": 163,
    "start_time": "2024-03-26T23:29:00.323Z"
   },
   {
    "duration": 14,
    "start_time": "2024-03-26T23:29:00.487Z"
   },
   {
    "duration": 19,
    "start_time": "2024-03-26T23:29:00.505Z"
   },
   {
    "duration": 31,
    "start_time": "2024-03-26T23:29:00.526Z"
   },
   {
    "duration": 2398,
    "start_time": "2024-03-26T23:29:00.559Z"
   },
   {
    "duration": 15,
    "start_time": "2024-03-26T23:29:02.965Z"
   },
   {
    "duration": 5,
    "start_time": "2024-03-26T23:29:02.981Z"
   },
   {
    "duration": 5,
    "start_time": "2024-03-26T23:29:02.987Z"
   },
   {
    "duration": 13,
    "start_time": "2024-03-26T23:29:02.993Z"
   },
   {
    "duration": 9,
    "start_time": "2024-03-26T23:29:03.007Z"
   },
   {
    "duration": 2,
    "start_time": "2024-03-26T23:29:03.018Z"
   },
   {
    "duration": 48,
    "start_time": "2024-03-26T23:29:03.022Z"
   },
   {
    "duration": 5,
    "start_time": "2024-03-26T23:29:03.071Z"
   },
   {
    "duration": 4,
    "start_time": "2024-03-26T23:29:03.077Z"
   },
   {
    "duration": 4,
    "start_time": "2024-03-26T23:29:03.083Z"
   },
   {
    "duration": 7,
    "start_time": "2024-03-26T23:29:03.088Z"
   },
   {
    "duration": 12,
    "start_time": "2024-03-26T23:29:03.096Z"
   },
   {
    "duration": 3,
    "start_time": "2024-03-26T23:29:03.110Z"
   },
   {
    "duration": 4,
    "start_time": "2024-03-26T23:29:03.114Z"
   },
   {
    "duration": 6,
    "start_time": "2024-03-26T23:29:03.120Z"
   },
   {
    "duration": 84448,
    "start_time": "2024-03-26T23:29:03.127Z"
   },
   {
    "duration": 115,
    "start_time": "2024-03-26T23:31:08.618Z"
   },
   {
    "duration": 14,
    "start_time": "2024-03-26T23:32:51.235Z"
   },
   {
    "duration": 5402,
    "start_time": "2024-03-26T23:33:23.954Z"
   },
   {
    "duration": 1191,
    "start_time": "2024-03-26T23:33:29.358Z"
   },
   {
    "duration": 3,
    "start_time": "2024-03-26T23:33:30.551Z"
   },
   {
    "duration": 110,
    "start_time": "2024-03-26T23:33:30.556Z"
   },
   {
    "duration": 3,
    "start_time": "2024-03-26T23:33:30.667Z"
   },
   {
    "duration": 40,
    "start_time": "2024-03-26T23:33:30.671Z"
   },
   {
    "duration": 60,
    "start_time": "2024-03-26T23:33:30.712Z"
   },
   {
    "duration": 40,
    "start_time": "2024-03-26T23:33:30.774Z"
   },
   {
    "duration": 36,
    "start_time": "2024-03-26T23:33:30.815Z"
   },
   {
    "duration": 76,
    "start_time": "2024-03-26T23:33:30.853Z"
   },
   {
    "duration": 3,
    "start_time": "2024-03-26T23:33:30.930Z"
   },
   {
    "duration": 85,
    "start_time": "2024-03-26T23:33:30.935Z"
   },
   {
    "duration": 9,
    "start_time": "2024-03-26T23:33:31.022Z"
   },
   {
    "duration": 74,
    "start_time": "2024-03-26T23:33:31.033Z"
   },
   {
    "duration": 22,
    "start_time": "2024-03-26T23:33:31.109Z"
   },
   {
    "duration": 42,
    "start_time": "2024-03-26T23:33:31.133Z"
   },
   {
    "duration": 15,
    "start_time": "2024-03-26T23:33:31.177Z"
   },
   {
    "duration": 24,
    "start_time": "2024-03-26T23:33:31.193Z"
   },
   {
    "duration": 13,
    "start_time": "2024-03-26T23:33:31.218Z"
   },
   {
    "duration": 34,
    "start_time": "2024-03-26T23:33:31.233Z"
   },
   {
    "duration": 1496,
    "start_time": "2024-03-26T23:33:31.268Z"
   },
   {
    "duration": 5,
    "start_time": "2024-03-26T23:33:32.766Z"
   },
   {
    "duration": 8,
    "start_time": "2024-03-26T23:33:32.773Z"
   },
   {
    "duration": 187,
    "start_time": "2024-03-26T23:33:32.785Z"
   },
   {
    "duration": 137,
    "start_time": "2024-03-26T23:33:32.974Z"
   },
   {
    "duration": 157,
    "start_time": "2024-03-26T23:33:33.112Z"
   },
   {
    "duration": 12,
    "start_time": "2024-03-26T23:33:33.270Z"
   },
   {
    "duration": 4,
    "start_time": "2024-03-26T23:33:33.285Z"
   },
   {
    "duration": 14,
    "start_time": "2024-03-26T23:33:33.290Z"
   },
   {
    "duration": 2317,
    "start_time": "2024-03-26T23:33:33.306Z"
   },
   {
    "duration": 15,
    "start_time": "2024-03-26T23:33:35.625Z"
   },
   {
    "duration": 18,
    "start_time": "2024-03-26T23:33:35.641Z"
   },
   {
    "duration": 11,
    "start_time": "2024-03-26T23:33:35.660Z"
   },
   {
    "duration": 26,
    "start_time": "2024-03-26T23:33:35.672Z"
   },
   {
    "duration": 8,
    "start_time": "2024-03-26T23:33:35.700Z"
   },
   {
    "duration": 14,
    "start_time": "2024-03-26T23:33:35.709Z"
   },
   {
    "duration": 20,
    "start_time": "2024-03-26T23:33:35.724Z"
   },
   {
    "duration": 4,
    "start_time": "2024-03-26T23:33:35.745Z"
   },
   {
    "duration": 14,
    "start_time": "2024-03-26T23:33:35.750Z"
   },
   {
    "duration": 10,
    "start_time": "2024-03-26T23:33:35.765Z"
   },
   {
    "duration": 10,
    "start_time": "2024-03-26T23:33:35.776Z"
   },
   {
    "duration": 6,
    "start_time": "2024-03-26T23:33:35.787Z"
   },
   {
    "duration": 5,
    "start_time": "2024-03-26T23:33:35.795Z"
   },
   {
    "duration": 7,
    "start_time": "2024-03-26T23:33:35.803Z"
   },
   {
    "duration": 5,
    "start_time": "2024-03-26T23:33:35.811Z"
   },
   {
    "duration": 84770,
    "start_time": "2024-03-26T23:33:35.818Z"
   },
   {
    "duration": 190,
    "start_time": "2024-03-26T23:35:00.589Z"
   },
   {
    "duration": 10,
    "start_time": "2024-03-26T23:35:55.992Z"
   },
   {
    "duration": 3,
    "start_time": "2024-03-26T23:36:20.016Z"
   },
   {
    "duration": 76,
    "start_time": "2024-03-26T23:36:24.696Z"
   },
   {
    "duration": 78,
    "start_time": "2024-03-26T23:37:15.474Z"
   },
   {
    "duration": 3,
    "start_time": "2024-03-26T23:37:20.814Z"
   },
   {
    "duration": 3,
    "start_time": "2024-03-26T23:37:41.884Z"
   },
   {
    "duration": 73,
    "start_time": "2024-03-26T23:38:36.803Z"
   },
   {
    "duration": 18,
    "start_time": "2024-03-26T23:38:53.072Z"
   },
   {
    "duration": 13,
    "start_time": "2024-03-26T23:39:00.409Z"
   },
   {
    "duration": 4,
    "start_time": "2024-03-26T23:39:35.586Z"
   },
   {
    "duration": 3,
    "start_time": "2024-03-26T23:40:22.066Z"
   },
   {
    "duration": 8,
    "start_time": "2024-03-26T23:40:32.013Z"
   },
   {
    "duration": 7,
    "start_time": "2024-03-26T23:40:45.184Z"
   },
   {
    "duration": 7,
    "start_time": "2024-03-26T23:41:05.875Z"
   },
   {
    "duration": 4,
    "start_time": "2024-03-26T23:42:35.233Z"
   },
   {
    "duration": 2,
    "start_time": "2024-03-26T23:42:38.033Z"
   },
   {
    "duration": 22534,
    "start_time": "2024-03-26T23:42:43.915Z"
   },
   {
    "duration": 1232,
    "start_time": "2024-03-26T23:43:06.451Z"
   },
   {
    "duration": 4,
    "start_time": "2024-03-26T23:43:07.684Z"
   },
   {
    "duration": 90,
    "start_time": "2024-03-26T23:43:07.689Z"
   },
   {
    "duration": 3,
    "start_time": "2024-03-26T23:43:07.781Z"
   },
   {
    "duration": 3,
    "start_time": "2024-03-26T23:43:07.786Z"
   },
   {
    "duration": 4,
    "start_time": "2024-03-26T23:43:07.791Z"
   },
   {
    "duration": 7,
    "start_time": "2024-03-26T23:43:07.796Z"
   },
   {
    "duration": 6,
    "start_time": "2024-03-26T23:43:07.804Z"
   },
   {
    "duration": 57,
    "start_time": "2024-03-26T23:43:07.812Z"
   },
   {
    "duration": 3,
    "start_time": "2024-03-26T23:43:07.871Z"
   },
   {
    "duration": 38,
    "start_time": "2024-03-26T23:43:07.875Z"
   },
   {
    "duration": 4,
    "start_time": "2024-03-26T23:43:07.914Z"
   },
   {
    "duration": 18,
    "start_time": "2024-03-26T23:43:07.919Z"
   },
   {
    "duration": 27,
    "start_time": "2024-03-26T23:43:07.939Z"
   },
   {
    "duration": 16,
    "start_time": "2024-03-26T23:43:07.968Z"
   },
   {
    "duration": 10,
    "start_time": "2024-03-26T23:43:07.985Z"
   },
   {
    "duration": 4,
    "start_time": "2024-03-26T23:43:07.996Z"
   },
   {
    "duration": 25,
    "start_time": "2024-03-26T23:43:08.002Z"
   },
   {
    "duration": 13,
    "start_time": "2024-03-26T23:43:08.029Z"
   },
   {
    "duration": 1541,
    "start_time": "2024-03-26T23:43:08.043Z"
   },
   {
    "duration": 5,
    "start_time": "2024-03-26T23:43:09.586Z"
   },
   {
    "duration": 19,
    "start_time": "2024-03-26T23:43:09.593Z"
   },
   {
    "duration": 184,
    "start_time": "2024-03-26T23:43:09.613Z"
   },
   {
    "duration": 141,
    "start_time": "2024-03-26T23:43:09.799Z"
   },
   {
    "duration": 159,
    "start_time": "2024-03-26T23:43:09.942Z"
   },
   {
    "duration": 14,
    "start_time": "2024-03-26T23:43:10.103Z"
   },
   {
    "duration": 4,
    "start_time": "2024-03-26T23:43:10.120Z"
   },
   {
    "duration": 19,
    "start_time": "2024-03-26T23:43:10.125Z"
   },
   {
    "duration": 2407,
    "start_time": "2024-03-26T23:43:10.146Z"
   },
   {
    "duration": 21,
    "start_time": "2024-03-26T23:43:12.554Z"
   },
   {
    "duration": 4,
    "start_time": "2024-03-26T23:43:12.577Z"
   },
   {
    "duration": 4,
    "start_time": "2024-03-26T23:43:12.582Z"
   },
   {
    "duration": 20,
    "start_time": "2024-03-26T23:43:12.589Z"
   },
   {
    "duration": 9,
    "start_time": "2024-03-26T23:43:12.611Z"
   },
   {
    "duration": 3,
    "start_time": "2024-03-26T23:43:12.622Z"
   },
   {
    "duration": 43,
    "start_time": "2024-03-26T23:43:12.626Z"
   },
   {
    "duration": 9,
    "start_time": "2024-03-26T23:43:12.671Z"
   },
   {
    "duration": 12,
    "start_time": "2024-03-26T23:43:12.682Z"
   },
   {
    "duration": 6,
    "start_time": "2024-03-26T23:43:12.696Z"
   },
   {
    "duration": 5,
    "start_time": "2024-03-26T23:43:12.703Z"
   },
   {
    "duration": 5,
    "start_time": "2024-03-26T23:43:12.709Z"
   },
   {
    "duration": 3,
    "start_time": "2024-03-26T23:43:12.715Z"
   },
   {
    "duration": 4,
    "start_time": "2024-03-26T23:43:12.720Z"
   },
   {
    "duration": 5,
    "start_time": "2024-03-26T23:43:12.725Z"
   },
   {
    "duration": 84724,
    "start_time": "2024-03-26T23:43:12.731Z"
   },
   {
    "duration": 9,
    "start_time": "2024-03-26T23:44:37.456Z"
   },
   {
    "duration": 115,
    "start_time": "2024-03-26T23:44:37.466Z"
   },
   {
    "duration": 11,
    "start_time": "2024-03-26T23:45:45.195Z"
   },
   {
    "duration": 77,
    "start_time": "2024-03-26T23:46:23.809Z"
   },
   {
    "duration": 13,
    "start_time": "2024-03-26T23:47:13.197Z"
   },
   {
    "duration": 72,
    "start_time": "2024-03-26T23:48:06.596Z"
   },
   {
    "duration": 69,
    "start_time": "2024-03-26T23:48:29.489Z"
   },
   {
    "duration": 9,
    "start_time": "2024-03-26T23:55:22.710Z"
   },
   {
    "duration": 7490,
    "start_time": "2024-03-26T23:55:45.289Z"
   },
   {
    "duration": 2353,
    "start_time": "2024-03-26T23:56:00.710Z"
   },
   {
    "duration": 22,
    "start_time": "2024-03-26T23:56:21.741Z"
   },
   {
    "duration": 2407,
    "start_time": "2024-03-26T23:56:28.066Z"
   },
   {
    "duration": 22,
    "start_time": "2024-03-26T23:56:32.683Z"
   },
   {
    "duration": 5607,
    "start_time": "2024-03-26T23:57:17.403Z"
   },
   {
    "duration": 1242,
    "start_time": "2024-03-26T23:57:23.012Z"
   },
   {
    "duration": 3,
    "start_time": "2024-03-26T23:57:24.255Z"
   },
   {
    "duration": 101,
    "start_time": "2024-03-26T23:57:24.260Z"
   },
   {
    "duration": 2,
    "start_time": "2024-03-26T23:57:24.363Z"
   },
   {
    "duration": 16,
    "start_time": "2024-03-26T23:57:24.367Z"
   },
   {
    "duration": 7,
    "start_time": "2024-03-26T23:57:24.385Z"
   },
   {
    "duration": 4,
    "start_time": "2024-03-26T23:57:24.393Z"
   },
   {
    "duration": 5,
    "start_time": "2024-03-26T23:57:24.399Z"
   },
   {
    "duration": 37,
    "start_time": "2024-03-26T23:57:24.406Z"
   },
   {
    "duration": 3,
    "start_time": "2024-03-26T23:57:24.445Z"
   },
   {
    "duration": 40,
    "start_time": "2024-03-26T23:57:24.449Z"
   },
   {
    "duration": 4,
    "start_time": "2024-03-26T23:57:24.490Z"
   },
   {
    "duration": 18,
    "start_time": "2024-03-26T23:57:24.495Z"
   },
   {
    "duration": 4,
    "start_time": "2024-03-26T23:57:24.515Z"
   },
   {
    "duration": 11,
    "start_time": "2024-03-26T23:57:24.520Z"
   },
   {
    "duration": 3,
    "start_time": "2024-03-26T23:57:24.565Z"
   },
   {
    "duration": 4,
    "start_time": "2024-03-26T23:57:24.570Z"
   },
   {
    "duration": 9,
    "start_time": "2024-03-26T23:57:24.575Z"
   },
   {
    "duration": 14,
    "start_time": "2024-03-26T23:57:24.585Z"
   },
   {
    "duration": 1424,
    "start_time": "2024-03-26T23:57:24.600Z"
   },
   {
    "duration": 5,
    "start_time": "2024-03-26T23:57:26.025Z"
   },
   {
    "duration": 8,
    "start_time": "2024-03-26T23:57:26.031Z"
   },
   {
    "duration": 195,
    "start_time": "2024-03-26T23:57:26.040Z"
   },
   {
    "duration": 154,
    "start_time": "2024-03-26T23:57:26.237Z"
   },
   {
    "duration": 158,
    "start_time": "2024-03-26T23:57:26.393Z"
   },
   {
    "duration": 17,
    "start_time": "2024-03-26T23:57:26.553Z"
   },
   {
    "duration": 3,
    "start_time": "2024-03-26T23:57:26.573Z"
   },
   {
    "duration": 19,
    "start_time": "2024-03-26T23:57:26.577Z"
   },
   {
    "duration": 2339,
    "start_time": "2024-03-26T23:57:26.598Z"
   },
   {
    "duration": 31,
    "start_time": "2024-03-26T23:57:28.939Z"
   },
   {
    "duration": 14,
    "start_time": "2024-03-26T23:57:28.972Z"
   },
   {
    "duration": 22,
    "start_time": "2024-03-26T23:57:28.988Z"
   },
   {
    "duration": 26,
    "start_time": "2024-03-26T23:57:29.012Z"
   },
   {
    "duration": 10,
    "start_time": "2024-03-26T23:57:29.040Z"
   },
   {
    "duration": 2,
    "start_time": "2024-03-26T23:57:29.052Z"
   },
   {
    "duration": 11,
    "start_time": "2024-03-26T23:57:29.056Z"
   },
   {
    "duration": 3,
    "start_time": "2024-03-26T23:57:29.069Z"
   },
   {
    "duration": 3,
    "start_time": "2024-03-26T23:57:29.073Z"
   },
   {
    "duration": 5,
    "start_time": "2024-03-26T23:57:29.078Z"
   },
   {
    "duration": 4,
    "start_time": "2024-03-26T23:57:29.084Z"
   },
   {
    "duration": 4,
    "start_time": "2024-03-26T23:57:29.089Z"
   },
   {
    "duration": 6,
    "start_time": "2024-03-26T23:57:29.095Z"
   },
   {
    "duration": 5,
    "start_time": "2024-03-26T23:57:29.103Z"
   },
   {
    "duration": 6,
    "start_time": "2024-03-26T23:57:29.109Z"
   },
   {
    "duration": 84980,
    "start_time": "2024-03-26T23:57:29.116Z"
   },
   {
    "duration": 3,
    "start_time": "2024-03-26T23:58:54.098Z"
   },
   {
    "duration": 78,
    "start_time": "2024-03-26T23:58:54.103Z"
   },
   {
    "duration": 2321,
    "start_time": "2024-03-26T23:58:54.183Z"
   },
   {
    "duration": 608,
    "start_time": "2024-03-26T23:58:56.506Z"
   },
   {
    "duration": 11,
    "start_time": "2024-03-27T00:03:11.736Z"
   },
   {
    "duration": 3,
    "start_time": "2024-03-27T00:04:02.930Z"
   },
   {
    "duration": 12,
    "start_time": "2024-03-27T00:04:03.959Z"
   },
   {
    "duration": 11,
    "start_time": "2024-03-27T00:08:07.285Z"
   },
   {
    "duration": 12,
    "start_time": "2024-03-27T00:08:25.374Z"
   },
   {
    "duration": 7920,
    "start_time": "2024-03-27T00:09:27.877Z"
   },
   {
    "duration": 1656,
    "start_time": "2024-03-27T00:09:35.799Z"
   },
   {
    "duration": 4,
    "start_time": "2024-03-27T00:09:37.457Z"
   },
   {
    "duration": 86,
    "start_time": "2024-03-27T00:09:37.464Z"
   },
   {
    "duration": 3,
    "start_time": "2024-03-27T00:09:37.552Z"
   },
   {
    "duration": 6,
    "start_time": "2024-03-27T00:09:37.556Z"
   },
   {
    "duration": 5,
    "start_time": "2024-03-27T00:09:37.563Z"
   },
   {
    "duration": 22,
    "start_time": "2024-03-27T00:09:37.569Z"
   },
   {
    "duration": 7,
    "start_time": "2024-03-27T00:09:37.593Z"
   },
   {
    "duration": 41,
    "start_time": "2024-03-27T00:09:37.602Z"
   },
   {
    "duration": 3,
    "start_time": "2024-03-27T00:09:37.644Z"
   },
   {
    "duration": 28,
    "start_time": "2024-03-27T00:09:37.664Z"
   },
   {
    "duration": 4,
    "start_time": "2024-03-27T00:09:37.693Z"
   },
   {
    "duration": 22,
    "start_time": "2024-03-27T00:09:37.698Z"
   },
   {
    "duration": 5,
    "start_time": "2024-03-27T00:09:37.722Z"
   },
   {
    "duration": 44,
    "start_time": "2024-03-27T00:09:37.728Z"
   },
   {
    "duration": 6,
    "start_time": "2024-03-27T00:09:37.774Z"
   },
   {
    "duration": 12,
    "start_time": "2024-03-27T00:09:37.782Z"
   },
   {
    "duration": 8,
    "start_time": "2024-03-27T00:09:37.795Z"
   },
   {
    "duration": 8,
    "start_time": "2024-03-27T00:09:37.805Z"
   },
   {
    "duration": 1413,
    "start_time": "2024-03-27T00:09:37.815Z"
   },
   {
    "duration": 5,
    "start_time": "2024-03-27T00:09:39.229Z"
   },
   {
    "duration": 10,
    "start_time": "2024-03-27T00:09:39.235Z"
   },
   {
    "duration": 295,
    "start_time": "2024-03-27T00:09:39.247Z"
   },
   {
    "duration": 153,
    "start_time": "2024-03-27T00:09:39.543Z"
   },
   {
    "duration": 169,
    "start_time": "2024-03-27T00:09:39.697Z"
   },
   {
    "duration": 12,
    "start_time": "2024-03-27T00:09:39.868Z"
   },
   {
    "duration": 3,
    "start_time": "2024-03-27T00:09:39.883Z"
   },
   {
    "duration": 15,
    "start_time": "2024-03-27T00:09:39.887Z"
   },
   {
    "duration": 2331,
    "start_time": "2024-03-27T00:09:39.903Z"
   },
   {
    "duration": 15,
    "start_time": "2024-03-27T00:09:42.236Z"
   },
   {
    "duration": 4,
    "start_time": "2024-03-27T00:09:42.265Z"
   },
   {
    "duration": 11,
    "start_time": "2024-03-27T00:09:42.271Z"
   },
   {
    "duration": 23,
    "start_time": "2024-03-27T00:09:42.283Z"
   },
   {
    "duration": 20,
    "start_time": "2024-03-27T00:09:42.307Z"
   },
   {
    "duration": 12,
    "start_time": "2024-03-27T00:09:42.328Z"
   },
   {
    "duration": 18,
    "start_time": "2024-03-27T00:09:42.342Z"
   },
   {
    "duration": 4,
    "start_time": "2024-03-27T00:09:42.362Z"
   },
   {
    "duration": 22,
    "start_time": "2024-03-27T00:09:42.367Z"
   },
   {
    "duration": 21,
    "start_time": "2024-03-27T00:09:42.391Z"
   },
   {
    "duration": 8,
    "start_time": "2024-03-27T00:09:42.413Z"
   },
   {
    "duration": 10,
    "start_time": "2024-03-27T00:09:42.422Z"
   },
   {
    "duration": 13,
    "start_time": "2024-03-27T00:09:42.434Z"
   },
   {
    "duration": 5,
    "start_time": "2024-03-27T00:09:42.449Z"
   },
   {
    "duration": 7,
    "start_time": "2024-03-27T00:09:42.456Z"
   },
   {
    "duration": 84806,
    "start_time": "2024-03-27T00:09:42.464Z"
   },
   {
    "duration": 4,
    "start_time": "2024-03-27T00:11:07.272Z"
   },
   {
    "duration": 63,
    "start_time": "2024-03-27T00:11:07.277Z"
   },
   {
    "duration": 148,
    "start_time": "2024-03-27T00:11:07.342Z"
   },
   {
    "duration": 4,
    "start_time": "2024-03-27T00:12:00.315Z"
   },
   {
    "duration": 85,
    "start_time": "2024-03-27T00:12:35.643Z"
   },
   {
    "duration": 11,
    "start_time": "2024-03-27T00:13:02.911Z"
   },
   {
    "duration": 5,
    "start_time": "2024-03-27T00:15:10.079Z"
   },
   {
    "duration": 29,
    "start_time": "2024-03-27T00:15:13.052Z"
   },
   {
    "duration": 12,
    "start_time": "2024-03-27T00:16:36.949Z"
   },
   {
    "duration": 13,
    "start_time": "2024-03-27T00:16:51.256Z"
   },
   {
    "duration": 13,
    "start_time": "2024-03-27T00:16:56.815Z"
   },
   {
    "duration": 47,
    "start_time": "2024-03-27T00:18:45.924Z"
   },
   {
    "duration": 5839,
    "start_time": "2024-03-27T00:19:18.252Z"
   },
   {
    "duration": 1274,
    "start_time": "2024-03-27T00:19:24.093Z"
   },
   {
    "duration": 4,
    "start_time": "2024-03-27T00:19:25.368Z"
   },
   {
    "duration": 102,
    "start_time": "2024-03-27T00:19:25.374Z"
   },
   {
    "duration": 3,
    "start_time": "2024-03-27T00:19:25.479Z"
   },
   {
    "duration": 31,
    "start_time": "2024-03-27T00:19:25.483Z"
   },
   {
    "duration": 22,
    "start_time": "2024-03-27T00:19:25.516Z"
   },
   {
    "duration": 31,
    "start_time": "2024-03-27T00:19:25.540Z"
   },
   {
    "duration": 46,
    "start_time": "2024-03-27T00:19:25.573Z"
   },
   {
    "duration": 64,
    "start_time": "2024-03-27T00:19:25.621Z"
   },
   {
    "duration": 3,
    "start_time": "2024-03-27T00:19:25.687Z"
   },
   {
    "duration": 48,
    "start_time": "2024-03-27T00:19:25.692Z"
   },
   {
    "duration": 4,
    "start_time": "2024-03-27T00:19:25.741Z"
   },
   {
    "duration": 40,
    "start_time": "2024-03-27T00:19:25.764Z"
   },
   {
    "duration": 16,
    "start_time": "2024-03-27T00:19:25.806Z"
   },
   {
    "duration": 26,
    "start_time": "2024-03-27T00:19:25.823Z"
   },
   {
    "duration": 20,
    "start_time": "2024-03-27T00:19:25.850Z"
   },
   {
    "duration": 15,
    "start_time": "2024-03-27T00:19:25.871Z"
   },
   {
    "duration": 33,
    "start_time": "2024-03-27T00:19:25.888Z"
   },
   {
    "duration": 27,
    "start_time": "2024-03-27T00:19:25.923Z"
   },
   {
    "duration": 1453,
    "start_time": "2024-03-27T00:19:25.951Z"
   },
   {
    "duration": 5,
    "start_time": "2024-03-27T00:19:27.405Z"
   },
   {
    "duration": 8,
    "start_time": "2024-03-27T00:19:27.412Z"
   },
   {
    "duration": 188,
    "start_time": "2024-03-27T00:19:27.421Z"
   },
   {
    "duration": 154,
    "start_time": "2024-03-27T00:19:27.611Z"
   },
   {
    "duration": 173,
    "start_time": "2024-03-27T00:19:27.767Z"
   },
   {
    "duration": 13,
    "start_time": "2024-03-27T00:19:27.941Z"
   },
   {
    "duration": 11,
    "start_time": "2024-03-27T00:19:27.955Z"
   },
   {
    "duration": 20,
    "start_time": "2024-03-27T00:19:27.968Z"
   },
   {
    "duration": 2411,
    "start_time": "2024-03-27T00:19:27.990Z"
   },
   {
    "duration": 14,
    "start_time": "2024-03-27T00:19:30.402Z"
   },
   {
    "duration": 61,
    "start_time": "2024-03-27T00:19:30.418Z"
   },
   {
    "duration": 52,
    "start_time": "2024-03-27T00:19:30.480Z"
   },
   {
    "duration": 64,
    "start_time": "2024-03-27T00:19:30.533Z"
   },
   {
    "duration": 59,
    "start_time": "2024-03-27T00:19:30.599Z"
   },
   {
    "duration": 69,
    "start_time": "2024-03-27T00:19:30.659Z"
   },
   {
    "duration": 85,
    "start_time": "2024-03-27T00:19:30.729Z"
   },
   {
    "duration": 79,
    "start_time": "2024-03-27T00:19:30.815Z"
   },
   {
    "duration": 41,
    "start_time": "2024-03-27T00:19:30.896Z"
   },
   {
    "duration": 61,
    "start_time": "2024-03-27T00:19:30.939Z"
   },
   {
    "duration": 33,
    "start_time": "2024-03-27T00:19:31.003Z"
   },
   {
    "duration": 33,
    "start_time": "2024-03-27T00:19:31.038Z"
   },
   {
    "duration": 33,
    "start_time": "2024-03-27T00:19:31.072Z"
   },
   {
    "duration": 27,
    "start_time": "2024-03-27T00:19:31.107Z"
   },
   {
    "duration": 34,
    "start_time": "2024-03-27T00:19:31.136Z"
   },
   {
    "duration": 85027,
    "start_time": "2024-03-27T00:19:31.172Z"
   },
   {
    "duration": 4,
    "start_time": "2024-03-27T00:20:56.200Z"
   },
   {
    "duration": 79,
    "start_time": "2024-03-27T00:20:56.205Z"
   },
   {
    "duration": 586,
    "start_time": "2024-03-27T00:27:41.021Z"
   },
   {
    "duration": 5560,
    "start_time": "2024-03-27T00:41:19.810Z"
   },
   {
    "duration": 1275,
    "start_time": "2024-03-27T00:41:25.372Z"
   },
   {
    "duration": 3,
    "start_time": "2024-03-27T00:41:26.648Z"
   },
   {
    "duration": 92,
    "start_time": "2024-03-27T00:41:26.653Z"
   },
   {
    "duration": 3,
    "start_time": "2024-03-27T00:41:26.746Z"
   },
   {
    "duration": 7,
    "start_time": "2024-03-27T00:41:26.751Z"
   },
   {
    "duration": 6,
    "start_time": "2024-03-27T00:41:26.759Z"
   },
   {
    "duration": 14,
    "start_time": "2024-03-27T00:41:26.766Z"
   },
   {
    "duration": 5,
    "start_time": "2024-03-27T00:41:26.782Z"
   },
   {
    "duration": 37,
    "start_time": "2024-03-27T00:41:26.790Z"
   },
   {
    "duration": 3,
    "start_time": "2024-03-27T00:41:26.828Z"
   },
   {
    "duration": 45,
    "start_time": "2024-03-27T00:41:26.832Z"
   },
   {
    "duration": 4,
    "start_time": "2024-03-27T00:41:26.878Z"
   },
   {
    "duration": 21,
    "start_time": "2024-03-27T00:41:26.883Z"
   },
   {
    "duration": 4,
    "start_time": "2024-03-27T00:41:26.905Z"
   },
   {
    "duration": 12,
    "start_time": "2024-03-27T00:41:26.910Z"
   },
   {
    "duration": 3,
    "start_time": "2024-03-27T00:41:26.923Z"
   },
   {
    "duration": 5,
    "start_time": "2024-03-27T00:41:26.927Z"
   },
   {
    "duration": 33,
    "start_time": "2024-03-27T00:41:26.933Z"
   },
   {
    "duration": 13,
    "start_time": "2024-03-27T00:41:26.967Z"
   },
   {
    "duration": 1459,
    "start_time": "2024-03-27T00:41:26.981Z"
   },
   {
    "duration": 5,
    "start_time": "2024-03-27T00:41:28.441Z"
   },
   {
    "duration": 7,
    "start_time": "2024-03-27T00:41:28.448Z"
   },
   {
    "duration": 194,
    "start_time": "2024-03-27T00:41:28.456Z"
   },
   {
    "duration": 150,
    "start_time": "2024-03-27T00:41:28.651Z"
   },
   {
    "duration": 200,
    "start_time": "2024-03-27T00:41:28.803Z"
   },
   {
    "duration": 15,
    "start_time": "2024-03-27T00:41:29.005Z"
   },
   {
    "duration": 3,
    "start_time": "2024-03-27T00:41:29.024Z"
   },
   {
    "duration": 37,
    "start_time": "2024-03-27T00:41:29.029Z"
   },
   {
    "duration": 2430,
    "start_time": "2024-03-27T00:41:29.068Z"
   },
   {
    "duration": 17,
    "start_time": "2024-03-27T00:41:31.500Z"
   },
   {
    "duration": 28,
    "start_time": "2024-03-27T00:41:31.519Z"
   },
   {
    "duration": 29,
    "start_time": "2024-03-27T00:41:31.549Z"
   },
   {
    "duration": 32,
    "start_time": "2024-03-27T00:41:31.580Z"
   },
   {
    "duration": 28,
    "start_time": "2024-03-27T00:41:31.614Z"
   },
   {
    "duration": 12,
    "start_time": "2024-03-27T00:41:31.644Z"
   },
   {
    "duration": 47,
    "start_time": "2024-03-27T00:41:31.657Z"
   },
   {
    "duration": 19,
    "start_time": "2024-03-27T00:41:31.706Z"
   },
   {
    "duration": 20,
    "start_time": "2024-03-27T00:41:31.727Z"
   },
   {
    "duration": 21,
    "start_time": "2024-03-27T00:41:31.749Z"
   },
   {
    "duration": 12,
    "start_time": "2024-03-27T00:41:31.772Z"
   },
   {
    "duration": 14,
    "start_time": "2024-03-27T00:41:31.786Z"
   },
   {
    "duration": 13,
    "start_time": "2024-03-27T00:41:31.801Z"
   },
   {
    "duration": 16,
    "start_time": "2024-03-27T00:41:31.816Z"
   },
   {
    "duration": 29,
    "start_time": "2024-03-27T00:41:31.834Z"
   },
   {
    "duration": 84794,
    "start_time": "2024-03-27T00:41:31.864Z"
   },
   {
    "duration": 6,
    "start_time": "2024-03-27T00:42:56.660Z"
   },
   {
    "duration": 67,
    "start_time": "2024-03-27T00:42:56.667Z"
   },
   {
    "duration": 46,
    "start_time": "2024-03-27T20:55:22.660Z"
   },
   {
    "duration": 28590,
    "start_time": "2024-03-27T20:58:19.301Z"
   },
   {
    "duration": 1931,
    "start_time": "2024-03-27T20:58:47.893Z"
   },
   {
    "duration": 3,
    "start_time": "2024-03-27T20:58:49.826Z"
   },
   {
    "duration": 367,
    "start_time": "2024-03-27T20:58:49.830Z"
   },
   {
    "duration": 2,
    "start_time": "2024-03-27T20:58:50.199Z"
   },
   {
    "duration": 18,
    "start_time": "2024-03-27T20:58:50.203Z"
   },
   {
    "duration": 19,
    "start_time": "2024-03-27T20:58:50.222Z"
   },
   {
    "duration": 6,
    "start_time": "2024-03-27T20:58:50.243Z"
   },
   {
    "duration": 13,
    "start_time": "2024-03-27T20:58:50.250Z"
   },
   {
    "duration": 45,
    "start_time": "2024-03-27T20:58:50.264Z"
   },
   {
    "duration": 3,
    "start_time": "2024-03-27T20:58:50.310Z"
   },
   {
    "duration": 58,
    "start_time": "2024-03-27T20:58:50.314Z"
   },
   {
    "duration": 4,
    "start_time": "2024-03-27T20:58:50.373Z"
   },
   {
    "duration": 21,
    "start_time": "2024-03-27T20:58:50.380Z"
   },
   {
    "duration": 26,
    "start_time": "2024-03-27T20:58:50.403Z"
   },
   {
    "duration": 31,
    "start_time": "2024-03-27T20:58:50.430Z"
   },
   {
    "duration": 3,
    "start_time": "2024-03-27T20:58:50.463Z"
   },
   {
    "duration": 18,
    "start_time": "2024-03-27T20:58:50.468Z"
   },
   {
    "duration": 13,
    "start_time": "2024-03-27T20:58:50.488Z"
   },
   {
    "duration": 20,
    "start_time": "2024-03-27T20:58:50.502Z"
   },
   {
    "duration": 1609,
    "start_time": "2024-03-27T20:58:50.524Z"
   },
   {
    "duration": 5,
    "start_time": "2024-03-27T20:58:52.134Z"
   },
   {
    "duration": 9,
    "start_time": "2024-03-27T20:58:52.141Z"
   },
   {
    "duration": 209,
    "start_time": "2024-03-27T20:58:52.152Z"
   },
   {
    "duration": 155,
    "start_time": "2024-03-27T20:58:52.362Z"
   },
   {
    "duration": 173,
    "start_time": "2024-03-27T20:58:52.518Z"
   },
   {
    "duration": 14,
    "start_time": "2024-03-27T20:58:52.692Z"
   },
   {
    "duration": 4,
    "start_time": "2024-03-27T20:58:52.707Z"
   },
   {
    "duration": 19,
    "start_time": "2024-03-27T20:58:52.712Z"
   },
   {
    "duration": 2491,
    "start_time": "2024-03-27T20:58:52.732Z"
   },
   {
    "duration": 15,
    "start_time": "2024-03-27T20:58:55.224Z"
   },
   {
    "duration": 8,
    "start_time": "2024-03-27T20:58:55.241Z"
   },
   {
    "duration": 4,
    "start_time": "2024-03-27T20:58:55.251Z"
   },
   {
    "duration": 12,
    "start_time": "2024-03-27T20:58:55.270Z"
   },
   {
    "duration": 18,
    "start_time": "2024-03-27T20:58:55.283Z"
   },
   {
    "duration": 3,
    "start_time": "2024-03-27T20:58:55.302Z"
   },
   {
    "duration": 74,
    "start_time": "2024-03-27T20:58:55.306Z"
   },
   {
    "duration": 19,
    "start_time": "2024-03-27T20:58:55.381Z"
   },
   {
    "duration": 4,
    "start_time": "2024-03-27T20:58:55.401Z"
   },
   {
    "duration": 10,
    "start_time": "2024-03-27T20:58:55.407Z"
   },
   {
    "duration": 4,
    "start_time": "2024-03-27T20:58:55.420Z"
   },
   {
    "duration": 10,
    "start_time": "2024-03-27T20:58:55.425Z"
   },
   {
    "duration": 7,
    "start_time": "2024-03-27T20:58:55.437Z"
   },
   {
    "duration": 9,
    "start_time": "2024-03-27T20:58:55.446Z"
   },
   {
    "duration": 6,
    "start_time": "2024-03-27T20:58:55.456Z"
   },
   {
    "duration": 89283,
    "start_time": "2024-03-27T20:58:55.464Z"
   },
   {
    "duration": 3,
    "start_time": "2024-03-27T21:00:24.749Z"
   },
   {
    "duration": 87,
    "start_time": "2024-03-27T21:00:24.754Z"
   },
   {
    "duration": 8308,
    "start_time": "2024-03-27T21:04:16.180Z"
   },
   {
    "duration": 1792,
    "start_time": "2024-03-27T21:04:24.490Z"
   },
   {
    "duration": 4,
    "start_time": "2024-03-27T21:04:26.284Z"
   },
   {
    "duration": 92,
    "start_time": "2024-03-27T21:04:26.290Z"
   },
   {
    "duration": 3,
    "start_time": "2024-03-27T21:04:26.383Z"
   },
   {
    "duration": 10,
    "start_time": "2024-03-27T21:04:26.388Z"
   },
   {
    "duration": 6,
    "start_time": "2024-03-27T21:04:26.400Z"
   },
   {
    "duration": 4,
    "start_time": "2024-03-27T21:04:26.407Z"
   },
   {
    "duration": 7,
    "start_time": "2024-03-27T21:04:26.413Z"
   },
   {
    "duration": 49,
    "start_time": "2024-03-27T21:04:26.422Z"
   },
   {
    "duration": 2,
    "start_time": "2024-03-27T21:04:26.473Z"
   },
   {
    "duration": 36,
    "start_time": "2024-03-27T21:04:26.477Z"
   },
   {
    "duration": 4,
    "start_time": "2024-03-27T21:04:26.514Z"
   },
   {
    "duration": 19,
    "start_time": "2024-03-27T21:04:26.519Z"
   },
   {
    "duration": 30,
    "start_time": "2024-03-27T21:04:26.540Z"
   },
   {
    "duration": 17,
    "start_time": "2024-03-27T21:04:26.571Z"
   },
   {
    "duration": 3,
    "start_time": "2024-03-27T21:04:26.590Z"
   },
   {
    "duration": 23,
    "start_time": "2024-03-27T21:04:26.595Z"
   },
   {
    "duration": 18,
    "start_time": "2024-03-27T21:04:26.619Z"
   },
   {
    "duration": 8,
    "start_time": "2024-03-27T21:04:26.639Z"
   },
   {
    "duration": 1448,
    "start_time": "2024-03-27T21:04:26.649Z"
   },
   {
    "duration": 5,
    "start_time": "2024-03-27T21:04:28.098Z"
   },
   {
    "duration": 11,
    "start_time": "2024-03-27T21:04:28.105Z"
   },
   {
    "duration": 303,
    "start_time": "2024-03-27T21:04:28.117Z"
   },
   {
    "duration": 163,
    "start_time": "2024-03-27T21:04:28.422Z"
   },
   {
    "duration": 174,
    "start_time": "2024-03-27T21:04:28.587Z"
   },
   {
    "duration": 13,
    "start_time": "2024-03-27T21:04:28.769Z"
   },
   {
    "duration": 10,
    "start_time": "2024-03-27T21:04:28.785Z"
   },
   {
    "duration": 21,
    "start_time": "2024-03-27T21:04:28.796Z"
   },
   {
    "duration": 2546,
    "start_time": "2024-03-27T21:04:28.819Z"
   },
   {
    "duration": 16,
    "start_time": "2024-03-27T21:04:31.367Z"
   },
   {
    "duration": 48,
    "start_time": "2024-03-27T21:04:31.384Z"
   },
   {
    "duration": 55,
    "start_time": "2024-03-27T21:04:31.434Z"
   },
   {
    "duration": 124,
    "start_time": "2024-03-27T21:04:31.490Z"
   },
   {
    "duration": 66,
    "start_time": "2024-03-27T21:04:31.615Z"
   },
   {
    "duration": 134,
    "start_time": "2024-03-27T21:04:31.683Z"
   },
   {
    "duration": 140,
    "start_time": "2024-03-27T21:04:31.819Z"
   },
   {
    "duration": 55,
    "start_time": "2024-03-27T21:04:31.961Z"
   },
   {
    "duration": 20,
    "start_time": "2024-03-27T21:04:32.018Z"
   },
   {
    "duration": 104,
    "start_time": "2024-03-27T21:04:32.040Z"
   },
   {
    "duration": 51,
    "start_time": "2024-03-27T21:04:32.146Z"
   },
   {
    "duration": 122,
    "start_time": "2024-03-27T21:04:32.199Z"
   },
   {
    "duration": 84,
    "start_time": "2024-03-27T21:04:32.322Z"
   },
   {
    "duration": 26,
    "start_time": "2024-03-27T21:04:32.408Z"
   },
   {
    "duration": 115,
    "start_time": "2024-03-27T21:04:32.436Z"
   },
   {
    "duration": 89896,
    "start_time": "2024-03-27T21:04:32.552Z"
   },
   {
    "duration": 4,
    "start_time": "2024-03-27T21:06:02.450Z"
   },
   {
    "duration": 117,
    "start_time": "2024-03-27T21:06:02.455Z"
   },
   {
    "duration": 57,
    "start_time": "2024-03-27T21:07:24.292Z"
   },
   {
    "duration": 8769,
    "start_time": "2024-03-27T21:08:03.513Z"
   },
   {
    "duration": 1795,
    "start_time": "2024-03-27T21:08:12.284Z"
   },
   {
    "duration": 4,
    "start_time": "2024-03-27T21:08:14.080Z"
   },
   {
    "duration": 90,
    "start_time": "2024-03-27T21:08:14.086Z"
   },
   {
    "duration": 3,
    "start_time": "2024-03-27T21:08:14.178Z"
   },
   {
    "duration": 11,
    "start_time": "2024-03-27T21:08:14.183Z"
   },
   {
    "duration": 8,
    "start_time": "2024-03-27T21:08:14.196Z"
   },
   {
    "duration": 13,
    "start_time": "2024-03-27T21:08:14.206Z"
   },
   {
    "duration": 22,
    "start_time": "2024-03-27T21:08:14.221Z"
   },
   {
    "duration": 54,
    "start_time": "2024-03-27T21:08:14.246Z"
   },
   {
    "duration": 4,
    "start_time": "2024-03-27T21:08:14.302Z"
   },
   {
    "duration": 60,
    "start_time": "2024-03-27T21:08:14.308Z"
   },
   {
    "duration": 5,
    "start_time": "2024-03-27T21:08:14.371Z"
   },
   {
    "duration": 53,
    "start_time": "2024-03-27T21:08:14.378Z"
   },
   {
    "duration": 4,
    "start_time": "2024-03-27T21:08:14.433Z"
   },
   {
    "duration": 17,
    "start_time": "2024-03-27T21:08:14.438Z"
   },
   {
    "duration": 3,
    "start_time": "2024-03-27T21:08:14.457Z"
   },
   {
    "duration": 7,
    "start_time": "2024-03-27T21:08:14.462Z"
   },
   {
    "duration": 6,
    "start_time": "2024-03-27T21:08:14.471Z"
   },
   {
    "duration": 12,
    "start_time": "2024-03-27T21:08:14.479Z"
   },
   {
    "duration": 1737,
    "start_time": "2024-03-27T21:08:14.492Z"
   },
   {
    "duration": 6,
    "start_time": "2024-03-27T21:08:16.231Z"
   },
   {
    "duration": 16,
    "start_time": "2024-03-27T21:08:16.239Z"
   },
   {
    "duration": 329,
    "start_time": "2024-03-27T21:08:16.256Z"
   },
   {
    "duration": 171,
    "start_time": "2024-03-27T21:08:16.586Z"
   },
   {
    "duration": 179,
    "start_time": "2024-03-27T21:08:16.759Z"
   },
   {
    "duration": 14,
    "start_time": "2024-03-27T21:08:16.939Z"
   },
   {
    "duration": 14,
    "start_time": "2024-03-27T21:08:16.957Z"
   },
   {
    "duration": 22,
    "start_time": "2024-03-27T21:08:16.973Z"
   },
   {
    "duration": 2781,
    "start_time": "2024-03-27T21:08:16.996Z"
   },
   {
    "duration": 16,
    "start_time": "2024-03-27T21:08:19.779Z"
   },
   {
    "duration": 5,
    "start_time": "2024-03-27T21:08:19.797Z"
   },
   {
    "duration": 15,
    "start_time": "2024-03-27T21:08:19.803Z"
   },
   {
    "duration": 15,
    "start_time": "2024-03-27T21:08:19.820Z"
   },
   {
    "duration": 9,
    "start_time": "2024-03-27T21:08:19.836Z"
   },
   {
    "duration": 25,
    "start_time": "2024-03-27T21:08:19.847Z"
   },
   {
    "duration": 19,
    "start_time": "2024-03-27T21:08:19.873Z"
   },
   {
    "duration": 7,
    "start_time": "2024-03-27T21:08:19.894Z"
   },
   {
    "duration": 29,
    "start_time": "2024-03-27T21:08:19.902Z"
   },
   {
    "duration": 24,
    "start_time": "2024-03-27T21:08:19.933Z"
   },
   {
    "duration": 13,
    "start_time": "2024-03-27T21:08:19.958Z"
   },
   {
    "duration": 13,
    "start_time": "2024-03-27T21:08:19.973Z"
   },
   {
    "duration": 30,
    "start_time": "2024-03-27T21:08:19.987Z"
   },
   {
    "duration": 12,
    "start_time": "2024-03-27T21:08:20.019Z"
   },
   {
    "duration": 21,
    "start_time": "2024-03-27T21:08:20.033Z"
   },
   {
    "duration": 94507,
    "start_time": "2024-03-27T21:08:20.056Z"
   },
   {
    "duration": 6,
    "start_time": "2024-03-27T21:09:54.565Z"
   },
   {
    "duration": 88,
    "start_time": "2024-03-27T21:09:54.573Z"
   },
   {
    "duration": 1060879,
    "start_time": "2024-03-27T21:09:54.662Z"
   },
   {
    "duration": 28208,
    "start_time": "2024-03-29T18:30:01.422Z"
   },
   {
    "duration": 2051,
    "start_time": "2024-03-29T18:30:29.633Z"
   },
   {
    "duration": 3,
    "start_time": "2024-03-29T18:30:31.686Z"
   },
   {
    "duration": 324,
    "start_time": "2024-03-29T18:30:31.691Z"
   },
   {
    "duration": 3,
    "start_time": "2024-03-29T18:30:32.017Z"
   },
   {
    "duration": 26,
    "start_time": "2024-03-29T18:30:32.022Z"
   },
   {
    "duration": 24,
    "start_time": "2024-03-29T18:30:32.049Z"
   },
   {
    "duration": 31,
    "start_time": "2024-03-29T18:30:32.075Z"
   },
   {
    "duration": 40,
    "start_time": "2024-03-29T18:30:32.108Z"
   },
   {
    "duration": 101,
    "start_time": "2024-03-29T18:30:32.151Z"
   },
   {
    "duration": 5,
    "start_time": "2024-03-29T18:30:32.253Z"
   },
   {
    "duration": 79,
    "start_time": "2024-03-29T18:30:32.260Z"
   },
   {
    "duration": 18,
    "start_time": "2024-03-29T18:30:32.341Z"
   },
   {
    "duration": 103,
    "start_time": "2024-03-29T18:30:32.361Z"
   },
   {
    "duration": 42,
    "start_time": "2024-03-29T18:30:32.466Z"
   },
   {
    "duration": 39,
    "start_time": "2024-03-29T18:30:32.509Z"
   },
   {
    "duration": 15,
    "start_time": "2024-03-29T18:30:32.549Z"
   },
   {
    "duration": 68,
    "start_time": "2024-03-29T18:30:32.566Z"
   },
   {
    "duration": 29,
    "start_time": "2024-03-29T18:30:32.635Z"
   },
   {
    "duration": 23,
    "start_time": "2024-03-29T18:30:32.665Z"
   },
   {
    "duration": 1698,
    "start_time": "2024-03-29T18:30:32.690Z"
   },
   {
    "duration": 5,
    "start_time": "2024-03-29T18:30:34.389Z"
   },
   {
    "duration": 20,
    "start_time": "2024-03-29T18:30:34.396Z"
   },
   {
    "duration": 241,
    "start_time": "2024-03-29T18:30:34.417Z"
   },
   {
    "duration": 157,
    "start_time": "2024-03-29T18:30:34.660Z"
   },
   {
    "duration": 177,
    "start_time": "2024-03-29T18:30:34.819Z"
   },
   {
    "duration": 13,
    "start_time": "2024-03-29T18:30:34.998Z"
   },
   {
    "duration": 13,
    "start_time": "2024-03-29T18:30:35.014Z"
   },
   {
    "duration": 23,
    "start_time": "2024-03-29T18:30:35.028Z"
   },
   {
    "duration": 2638,
    "start_time": "2024-03-29T18:30:35.053Z"
   },
   {
    "duration": 16,
    "start_time": "2024-03-29T18:30:37.692Z"
   },
   {
    "duration": 52,
    "start_time": "2024-03-29T18:30:37.709Z"
   },
   {
    "duration": 27,
    "start_time": "2024-03-29T18:30:37.763Z"
   },
   {
    "duration": 29,
    "start_time": "2024-03-29T18:30:37.791Z"
   },
   {
    "duration": 35,
    "start_time": "2024-03-29T18:30:37.822Z"
   },
   {
    "duration": 18,
    "start_time": "2024-03-29T18:30:37.859Z"
   },
   {
    "duration": 31,
    "start_time": "2024-03-29T18:30:37.879Z"
   },
   {
    "duration": 13,
    "start_time": "2024-03-29T18:30:37.911Z"
   },
   {
    "duration": 25,
    "start_time": "2024-03-29T18:30:37.926Z"
   },
   {
    "duration": 60,
    "start_time": "2024-03-29T18:30:37.953Z"
   },
   {
    "duration": 44,
    "start_time": "2024-03-29T18:30:38.014Z"
   },
   {
    "duration": 22,
    "start_time": "2024-03-29T18:30:38.060Z"
   },
   {
    "duration": 30,
    "start_time": "2024-03-29T18:30:38.084Z"
   },
   {
    "duration": 6,
    "start_time": "2024-03-29T18:30:38.116Z"
   },
   {
    "duration": 35,
    "start_time": "2024-03-29T18:30:38.123Z"
   },
   {
    "duration": 62457,
    "start_time": "2024-03-29T18:30:38.160Z"
   },
   {
    "duration": 5,
    "start_time": "2024-03-29T18:31:40.619Z"
   },
   {
    "duration": 99,
    "start_time": "2024-03-29T18:31:40.627Z"
   },
   {
    "duration": 997801,
    "start_time": "2024-03-29T18:31:40.728Z"
   },
   {
    "duration": 10,
    "start_time": "2024-03-29T22:21:03.664Z"
   },
   {
    "duration": 44,
    "start_time": "2024-03-29T22:21:04.093Z"
   },
   {
    "duration": 29278,
    "start_time": "2024-03-29T22:21:15.985Z"
   },
   {
    "duration": 2190,
    "start_time": "2024-03-29T22:21:45.265Z"
   },
   {
    "duration": 4,
    "start_time": "2024-03-29T22:21:47.456Z"
   },
   {
    "duration": 384,
    "start_time": "2024-03-29T22:21:47.461Z"
   },
   {
    "duration": 3,
    "start_time": "2024-03-29T22:21:47.848Z"
   },
   {
    "duration": 8,
    "start_time": "2024-03-29T22:21:47.853Z"
   },
   {
    "duration": 5,
    "start_time": "2024-03-29T22:21:47.863Z"
   },
   {
    "duration": 5,
    "start_time": "2024-03-29T22:21:47.870Z"
   },
   {
    "duration": 6,
    "start_time": "2024-03-29T22:21:47.878Z"
   },
   {
    "duration": 42,
    "start_time": "2024-03-29T22:21:47.886Z"
   },
   {
    "duration": 3,
    "start_time": "2024-03-29T22:21:47.929Z"
   },
   {
    "duration": 61,
    "start_time": "2024-03-29T22:21:47.934Z"
   },
   {
    "duration": 4,
    "start_time": "2024-03-29T22:21:47.997Z"
   },
   {
    "duration": 17,
    "start_time": "2024-03-29T22:21:48.004Z"
   },
   {
    "duration": 4,
    "start_time": "2024-03-29T22:21:48.023Z"
   },
   {
    "duration": 46,
    "start_time": "2024-03-29T22:21:48.028Z"
   },
   {
    "duration": 5,
    "start_time": "2024-03-29T22:21:48.076Z"
   },
   {
    "duration": 4,
    "start_time": "2024-03-29T22:21:48.083Z"
   },
   {
    "duration": 7,
    "start_time": "2024-03-29T22:21:48.089Z"
   },
   {
    "duration": 13,
    "start_time": "2024-03-29T22:21:48.098Z"
   },
   {
    "duration": 1732,
    "start_time": "2024-03-29T22:21:48.113Z"
   },
   {
    "duration": 5,
    "start_time": "2024-03-29T22:21:49.847Z"
   },
   {
    "duration": 27,
    "start_time": "2024-03-29T22:21:49.853Z"
   },
   {
    "duration": 258,
    "start_time": "2024-03-29T22:21:49.882Z"
   },
   {
    "duration": 165,
    "start_time": "2024-03-29T22:21:50.142Z"
   },
   {
    "duration": 203,
    "start_time": "2024-03-29T22:21:50.309Z"
   },
   {
    "duration": 5,
    "start_time": "2024-03-29T22:21:50.514Z"
   },
   {
    "duration": 97,
    "start_time": "2024-03-29T22:21:50.521Z"
   },
   {
    "duration": 14,
    "start_time": "2024-03-29T22:21:50.620Z"
   },
   {
    "duration": 4,
    "start_time": "2024-03-29T22:21:50.635Z"
   },
   {
    "duration": 40,
    "start_time": "2024-03-29T22:21:50.640Z"
   },
   {
    "duration": 2762,
    "start_time": "2024-03-29T22:21:50.683Z"
   },
   {
    "duration": 24,
    "start_time": "2024-03-29T22:21:53.447Z"
   },
   {
    "duration": 30,
    "start_time": "2024-03-29T22:21:53.473Z"
   },
   {
    "duration": 15,
    "start_time": "2024-03-29T22:21:53.504Z"
   },
   {
    "duration": 40,
    "start_time": "2024-03-29T22:21:53.520Z"
   },
   {
    "duration": 12,
    "start_time": "2024-03-29T22:21:53.562Z"
   },
   {
    "duration": 3,
    "start_time": "2024-03-29T22:21:53.577Z"
   },
   {
    "duration": 22,
    "start_time": "2024-03-29T22:21:53.582Z"
   },
   {
    "duration": 4,
    "start_time": "2024-03-29T22:21:53.606Z"
   },
   {
    "duration": 3,
    "start_time": "2024-03-29T22:21:53.614Z"
   },
   {
    "duration": 8,
    "start_time": "2024-03-29T22:21:53.618Z"
   },
   {
    "duration": 10,
    "start_time": "2024-03-29T22:21:53.627Z"
   },
   {
    "duration": 11,
    "start_time": "2024-03-29T22:21:53.638Z"
   },
   {
    "duration": 8,
    "start_time": "2024-03-29T22:21:53.651Z"
   },
   {
    "duration": 12,
    "start_time": "2024-03-29T22:21:53.660Z"
   },
   {
    "duration": 24,
    "start_time": "2024-03-29T22:21:53.674Z"
   },
   {
    "duration": 67176,
    "start_time": "2024-03-29T22:21:53.700Z"
   },
   {
    "duration": 5,
    "start_time": "2024-03-29T22:23:00.880Z"
   },
   {
    "duration": 155,
    "start_time": "2024-03-29T22:23:00.887Z"
   },
   {
    "duration": 9151,
    "start_time": "2024-03-29T22:26:53.281Z"
   },
   {
    "duration": 1863,
    "start_time": "2024-03-29T22:27:02.434Z"
   },
   {
    "duration": 4,
    "start_time": "2024-03-29T22:27:04.298Z"
   },
   {
    "duration": 127,
    "start_time": "2024-03-29T22:27:04.304Z"
   },
   {
    "duration": 3,
    "start_time": "2024-03-29T22:27:04.433Z"
   },
   {
    "duration": 15,
    "start_time": "2024-03-29T22:27:04.438Z"
   },
   {
    "duration": 5,
    "start_time": "2024-03-29T22:27:04.455Z"
   },
   {
    "duration": 22,
    "start_time": "2024-03-29T22:27:04.461Z"
   },
   {
    "duration": 14,
    "start_time": "2024-03-29T22:27:04.485Z"
   },
   {
    "duration": 70,
    "start_time": "2024-03-29T22:27:04.502Z"
   },
   {
    "duration": 8,
    "start_time": "2024-03-29T22:27:04.575Z"
   },
   {
    "duration": 38,
    "start_time": "2024-03-29T22:27:04.585Z"
   },
   {
    "duration": 4,
    "start_time": "2024-03-29T22:27:04.624Z"
   },
   {
    "duration": 43,
    "start_time": "2024-03-29T22:27:04.630Z"
   },
   {
    "duration": 5,
    "start_time": "2024-03-29T22:27:04.676Z"
   },
   {
    "duration": 43,
    "start_time": "2024-03-29T22:27:04.684Z"
   },
   {
    "duration": 14,
    "start_time": "2024-03-29T22:27:04.728Z"
   },
   {
    "duration": 14,
    "start_time": "2024-03-29T22:27:04.743Z"
   },
   {
    "duration": 23,
    "start_time": "2024-03-29T22:27:04.758Z"
   },
   {
    "duration": 14,
    "start_time": "2024-03-29T22:27:04.783Z"
   },
   {
    "duration": 1627,
    "start_time": "2024-03-29T22:27:04.798Z"
   },
   {
    "duration": 4,
    "start_time": "2024-03-29T22:27:06.427Z"
   },
   {
    "duration": 30,
    "start_time": "2024-03-29T22:27:06.433Z"
   },
   {
    "duration": 336,
    "start_time": "2024-03-29T22:27:06.464Z"
   },
   {
    "duration": 164,
    "start_time": "2024-03-29T22:27:06.802Z"
   },
   {
    "duration": 188,
    "start_time": "2024-03-29T22:27:06.967Z"
   },
   {
    "duration": 4,
    "start_time": "2024-03-29T22:27:07.156Z"
   },
   {
    "duration": 72,
    "start_time": "2024-03-29T22:27:07.163Z"
   },
   {
    "duration": 34,
    "start_time": "2024-03-29T22:27:07.237Z"
   },
   {
    "duration": 7,
    "start_time": "2024-03-29T22:27:07.273Z"
   },
   {
    "duration": 24,
    "start_time": "2024-03-29T22:27:07.283Z"
   },
   {
    "duration": 2760,
    "start_time": "2024-03-29T22:27:07.309Z"
   },
   {
    "duration": 20,
    "start_time": "2024-03-29T22:27:10.072Z"
   },
   {
    "duration": 27,
    "start_time": "2024-03-29T22:27:10.093Z"
   },
   {
    "duration": 18,
    "start_time": "2024-03-29T22:27:10.123Z"
   },
   {
    "duration": 34,
    "start_time": "2024-03-29T22:27:10.143Z"
   },
   {
    "duration": 18,
    "start_time": "2024-03-29T22:27:10.179Z"
   },
   {
    "duration": 10,
    "start_time": "2024-03-29T22:27:10.198Z"
   },
   {
    "duration": 38,
    "start_time": "2024-03-29T22:27:10.209Z"
   },
   {
    "duration": 36,
    "start_time": "2024-03-29T22:27:10.249Z"
   },
   {
    "duration": 18,
    "start_time": "2024-03-29T22:27:10.286Z"
   },
   {
    "duration": 27,
    "start_time": "2024-03-29T22:27:10.306Z"
   },
   {
    "duration": 44,
    "start_time": "2024-03-29T22:27:10.335Z"
   },
   {
    "duration": 49,
    "start_time": "2024-03-29T22:27:10.382Z"
   },
   {
    "duration": 39,
    "start_time": "2024-03-29T22:27:10.433Z"
   },
   {
    "duration": 31,
    "start_time": "2024-03-29T22:27:10.474Z"
   },
   {
    "duration": 31,
    "start_time": "2024-03-29T22:27:10.507Z"
   },
   {
    "duration": 67502,
    "start_time": "2024-03-29T22:27:10.540Z"
   },
   {
    "duration": 3,
    "start_time": "2024-03-29T22:28:18.044Z"
   },
   {
    "duration": 86,
    "start_time": "2024-03-29T22:28:18.049Z"
   },
   {
    "duration": 9235,
    "start_time": "2024-03-29T22:31:51.583Z"
   },
   {
    "duration": 1877,
    "start_time": "2024-03-29T22:32:00.821Z"
   },
   {
    "duration": 4,
    "start_time": "2024-03-29T22:32:02.699Z"
   },
   {
    "duration": 147,
    "start_time": "2024-03-29T22:32:02.704Z"
   },
   {
    "duration": 3,
    "start_time": "2024-03-29T22:32:02.853Z"
   },
   {
    "duration": 41,
    "start_time": "2024-03-29T22:32:02.857Z"
   },
   {
    "duration": 104,
    "start_time": "2024-03-29T22:32:02.900Z"
   },
   {
    "duration": 20,
    "start_time": "2024-03-29T22:32:03.006Z"
   },
   {
    "duration": 18,
    "start_time": "2024-03-29T22:32:03.028Z"
   },
   {
    "duration": 65,
    "start_time": "2024-03-29T22:32:03.049Z"
   },
   {
    "duration": 3,
    "start_time": "2024-03-29T22:32:03.115Z"
   },
   {
    "duration": 52,
    "start_time": "2024-03-29T22:32:03.119Z"
   },
   {
    "duration": 5,
    "start_time": "2024-03-29T22:32:03.174Z"
   },
   {
    "duration": 31,
    "start_time": "2024-03-29T22:32:03.184Z"
   },
   {
    "duration": 16,
    "start_time": "2024-03-29T22:32:03.217Z"
   },
   {
    "duration": 14,
    "start_time": "2024-03-29T22:32:03.235Z"
   },
   {
    "duration": 12,
    "start_time": "2024-03-29T22:32:03.250Z"
   },
   {
    "duration": 9,
    "start_time": "2024-03-29T22:32:03.264Z"
   },
   {
    "duration": 18,
    "start_time": "2024-03-29T22:32:03.275Z"
   },
   {
    "duration": 12,
    "start_time": "2024-03-29T22:32:03.295Z"
   },
   {
    "duration": 1589,
    "start_time": "2024-03-29T22:32:03.308Z"
   },
   {
    "duration": 5,
    "start_time": "2024-03-29T22:32:04.898Z"
   },
   {
    "duration": 12,
    "start_time": "2024-03-29T22:32:04.905Z"
   },
   {
    "duration": 325,
    "start_time": "2024-03-29T22:32:04.918Z"
   },
   {
    "duration": 161,
    "start_time": "2024-03-29T22:32:05.245Z"
   },
   {
    "duration": 201,
    "start_time": "2024-03-29T22:32:05.408Z"
   },
   {
    "duration": 4,
    "start_time": "2024-03-29T22:32:05.610Z"
   },
   {
    "duration": 57,
    "start_time": "2024-03-29T22:32:05.615Z"
   },
   {
    "duration": 16,
    "start_time": "2024-03-29T22:32:05.675Z"
   },
   {
    "duration": 4,
    "start_time": "2024-03-29T22:32:05.692Z"
   },
   {
    "duration": 17,
    "start_time": "2024-03-29T22:32:05.697Z"
   },
   {
    "duration": 2778,
    "start_time": "2024-03-29T22:32:05.716Z"
   },
   {
    "duration": 16,
    "start_time": "2024-03-29T22:32:08.496Z"
   },
   {
    "duration": 25,
    "start_time": "2024-03-29T22:32:08.514Z"
   },
   {
    "duration": 7,
    "start_time": "2024-03-29T22:32:08.541Z"
   },
   {
    "duration": 39,
    "start_time": "2024-03-29T22:32:08.549Z"
   },
   {
    "duration": 11,
    "start_time": "2024-03-29T22:32:08.589Z"
   },
   {
    "duration": 3,
    "start_time": "2024-03-29T22:32:08.602Z"
   },
   {
    "duration": 31,
    "start_time": "2024-03-29T22:32:08.606Z"
   },
   {
    "duration": 9,
    "start_time": "2024-03-29T22:32:08.639Z"
   },
   {
    "duration": 22,
    "start_time": "2024-03-29T22:32:08.652Z"
   },
   {
    "duration": 8,
    "start_time": "2024-03-29T22:32:08.676Z"
   },
   {
    "duration": 3,
    "start_time": "2024-03-29T22:32:08.686Z"
   },
   {
    "duration": 11,
    "start_time": "2024-03-29T22:32:08.691Z"
   },
   {
    "duration": 8,
    "start_time": "2024-03-29T22:32:08.704Z"
   },
   {
    "duration": 5,
    "start_time": "2024-03-29T22:32:08.714Z"
   },
   {
    "duration": 14,
    "start_time": "2024-03-29T22:32:08.720Z"
   },
   {
    "duration": 9178,
    "start_time": "2024-03-29T22:32:48.468Z"
   },
   {
    "duration": 1951,
    "start_time": "2024-03-29T22:32:57.648Z"
   },
   {
    "duration": 4,
    "start_time": "2024-03-29T22:32:59.600Z"
   },
   {
    "duration": 118,
    "start_time": "2024-03-29T22:32:59.606Z"
   },
   {
    "duration": 3,
    "start_time": "2024-03-29T22:32:59.725Z"
   },
   {
    "duration": 8,
    "start_time": "2024-03-29T22:32:59.729Z"
   },
   {
    "duration": 6,
    "start_time": "2024-03-29T22:32:59.739Z"
   },
   {
    "duration": 8,
    "start_time": "2024-03-29T22:32:59.747Z"
   },
   {
    "duration": 10,
    "start_time": "2024-03-29T22:32:59.757Z"
   },
   {
    "duration": 44,
    "start_time": "2024-03-29T22:32:59.779Z"
   },
   {
    "duration": 4,
    "start_time": "2024-03-29T22:32:59.825Z"
   },
   {
    "duration": 54,
    "start_time": "2024-03-29T22:32:59.830Z"
   },
   {
    "duration": 6,
    "start_time": "2024-03-29T22:32:59.886Z"
   },
   {
    "duration": 42,
    "start_time": "2024-03-29T22:32:59.894Z"
   },
   {
    "duration": 7,
    "start_time": "2024-03-29T22:32:59.938Z"
   },
   {
    "duration": 31,
    "start_time": "2024-03-29T22:32:59.946Z"
   },
   {
    "duration": 8,
    "start_time": "2024-03-29T22:32:59.979Z"
   },
   {
    "duration": 4,
    "start_time": "2024-03-29T22:32:59.991Z"
   },
   {
    "duration": 19,
    "start_time": "2024-03-29T22:32:59.997Z"
   },
   {
    "duration": 42,
    "start_time": "2024-03-29T22:33:00.018Z"
   },
   {
    "duration": 1692,
    "start_time": "2024-03-29T22:33:00.061Z"
   },
   {
    "duration": 6,
    "start_time": "2024-03-29T22:33:01.755Z"
   },
   {
    "duration": 65,
    "start_time": "2024-03-29T22:33:01.763Z"
   },
   {
    "duration": 391,
    "start_time": "2024-03-29T22:33:01.829Z"
   },
   {
    "duration": 157,
    "start_time": "2024-03-29T22:33:02.222Z"
   },
   {
    "duration": 188,
    "start_time": "2024-03-29T22:33:02.381Z"
   },
   {
    "duration": 5,
    "start_time": "2024-03-29T22:33:02.572Z"
   },
   {
    "duration": 83,
    "start_time": "2024-03-29T22:33:02.582Z"
   },
   {
    "duration": 46,
    "start_time": "2024-03-29T22:33:02.667Z"
   },
   {
    "duration": 21,
    "start_time": "2024-03-29T22:33:02.714Z"
   },
   {
    "duration": 44,
    "start_time": "2024-03-29T22:33:02.736Z"
   },
   {
    "duration": 2762,
    "start_time": "2024-03-29T22:33:02.782Z"
   },
   {
    "duration": 16,
    "start_time": "2024-03-29T22:33:05.546Z"
   },
   {
    "duration": 35,
    "start_time": "2024-03-29T22:33:05.570Z"
   },
   {
    "duration": 9,
    "start_time": "2024-03-29T22:33:05.607Z"
   },
   {
    "duration": 29,
    "start_time": "2024-03-29T22:33:05.617Z"
   },
   {
    "duration": 9,
    "start_time": "2024-03-29T22:33:05.648Z"
   },
   {
    "duration": 19,
    "start_time": "2024-03-29T22:33:05.658Z"
   },
   {
    "duration": 15,
    "start_time": "2024-03-29T22:33:05.679Z"
   },
   {
    "duration": 5,
    "start_time": "2024-03-29T22:33:05.695Z"
   },
   {
    "duration": 11,
    "start_time": "2024-03-29T22:33:05.701Z"
   },
   {
    "duration": 32,
    "start_time": "2024-03-29T22:33:05.714Z"
   },
   {
    "duration": 14,
    "start_time": "2024-03-29T22:33:05.748Z"
   },
   {
    "duration": 37,
    "start_time": "2024-03-29T22:33:05.763Z"
   },
   {
    "duration": 55,
    "start_time": "2024-03-29T22:33:05.802Z"
   },
   {
    "duration": 13,
    "start_time": "2024-03-29T22:33:05.859Z"
   },
   {
    "duration": 31,
    "start_time": "2024-03-29T22:33:05.874Z"
   },
   {
    "duration": 67053,
    "start_time": "2024-03-29T22:33:05.906Z"
   },
   {
    "duration": 4,
    "start_time": "2024-03-29T22:34:12.961Z"
   },
   {
    "duration": 79,
    "start_time": "2024-03-29T22:34:12.971Z"
   },
   {
    "duration": 9176,
    "start_time": "2024-03-29T22:34:20.184Z"
   },
   {
    "duration": 1902,
    "start_time": "2024-03-29T22:34:29.362Z"
   },
   {
    "duration": 3,
    "start_time": "2024-03-29T22:34:31.266Z"
   },
   {
    "duration": 197,
    "start_time": "2024-03-29T22:34:31.271Z"
   },
   {
    "duration": 3,
    "start_time": "2024-03-29T22:34:31.469Z"
   },
   {
    "duration": 46,
    "start_time": "2024-03-29T22:34:31.474Z"
   },
   {
    "duration": 79,
    "start_time": "2024-03-29T22:34:31.522Z"
   },
   {
    "duration": 31,
    "start_time": "2024-03-29T22:34:31.603Z"
   },
   {
    "duration": 57,
    "start_time": "2024-03-29T22:34:31.636Z"
   },
   {
    "duration": 72,
    "start_time": "2024-03-29T22:34:31.696Z"
   },
   {
    "duration": 3,
    "start_time": "2024-03-29T22:34:31.769Z"
   },
   {
    "duration": 43,
    "start_time": "2024-03-29T22:34:31.774Z"
   },
   {
    "duration": 12,
    "start_time": "2024-03-29T22:34:31.819Z"
   },
   {
    "duration": 63,
    "start_time": "2024-03-29T22:34:31.832Z"
   },
   {
    "duration": 26,
    "start_time": "2024-03-29T22:34:31.897Z"
   },
   {
    "duration": 53,
    "start_time": "2024-03-29T22:34:31.925Z"
   },
   {
    "duration": 16,
    "start_time": "2024-03-29T22:34:31.980Z"
   },
   {
    "duration": 32,
    "start_time": "2024-03-29T22:34:31.997Z"
   },
   {
    "duration": 21,
    "start_time": "2024-03-29T22:34:32.030Z"
   },
   {
    "duration": 15,
    "start_time": "2024-03-29T22:34:32.052Z"
   },
   {
    "duration": 1432,
    "start_time": "2024-03-29T22:34:32.069Z"
   },
   {
    "duration": 6,
    "start_time": "2024-03-29T22:34:33.502Z"
   },
   {
    "duration": 21,
    "start_time": "2024-03-29T22:34:33.509Z"
   },
   {
    "duration": 303,
    "start_time": "2024-03-29T22:34:33.532Z"
   },
   {
    "duration": 154,
    "start_time": "2024-03-29T22:34:33.837Z"
   },
   {
    "duration": 186,
    "start_time": "2024-03-29T22:34:33.993Z"
   },
   {
    "duration": 4,
    "start_time": "2024-03-29T22:34:34.181Z"
   },
   {
    "duration": 31,
    "start_time": "2024-03-29T22:34:34.188Z"
   },
   {
    "duration": 14,
    "start_time": "2024-03-29T22:34:34.220Z"
   },
   {
    "duration": 4,
    "start_time": "2024-03-29T22:34:34.236Z"
   },
   {
    "duration": 42,
    "start_time": "2024-03-29T22:34:34.242Z"
   },
   {
    "duration": 2572,
    "start_time": "2024-03-29T22:34:34.285Z"
   },
   {
    "duration": 22,
    "start_time": "2024-03-29T22:34:36.858Z"
   },
   {
    "duration": 5,
    "start_time": "2024-03-29T22:34:36.881Z"
   },
   {
    "duration": 4,
    "start_time": "2024-03-29T22:34:36.888Z"
   },
   {
    "duration": 16,
    "start_time": "2024-03-29T22:34:36.893Z"
   },
   {
    "duration": 9,
    "start_time": "2024-03-29T22:34:36.910Z"
   },
   {
    "duration": 7,
    "start_time": "2024-03-29T22:34:36.921Z"
   },
   {
    "duration": 46,
    "start_time": "2024-03-29T22:34:36.929Z"
   },
   {
    "duration": 5,
    "start_time": "2024-03-29T22:34:36.977Z"
   },
   {
    "duration": 13,
    "start_time": "2024-03-29T22:34:36.983Z"
   },
   {
    "duration": 4,
    "start_time": "2024-03-29T22:34:36.998Z"
   },
   {
    "duration": 11,
    "start_time": "2024-03-29T22:34:37.004Z"
   },
   {
    "duration": 8,
    "start_time": "2024-03-29T22:34:37.016Z"
   },
   {
    "duration": 4,
    "start_time": "2024-03-29T22:34:37.026Z"
   },
   {
    "duration": 6,
    "start_time": "2024-03-29T22:34:37.032Z"
   },
   {
    "duration": 6,
    "start_time": "2024-03-29T22:34:37.040Z"
   },
   {
    "duration": 8604,
    "start_time": "2024-03-29T22:35:19.882Z"
   },
   {
    "duration": 1762,
    "start_time": "2024-03-29T22:35:28.488Z"
   },
   {
    "duration": 4,
    "start_time": "2024-03-29T22:35:30.252Z"
   },
   {
    "duration": 137,
    "start_time": "2024-03-29T22:35:30.257Z"
   },
   {
    "duration": 3,
    "start_time": "2024-03-29T22:35:30.397Z"
   },
   {
    "duration": 67,
    "start_time": "2024-03-29T22:35:30.402Z"
   },
   {
    "duration": 89,
    "start_time": "2024-03-29T22:35:30.471Z"
   },
   {
    "duration": 152,
    "start_time": "2024-03-29T22:35:30.562Z"
   },
   {
    "duration": 69,
    "start_time": "2024-03-29T22:35:30.716Z"
   },
   {
    "duration": 67,
    "start_time": "2024-03-29T22:35:30.786Z"
   },
   {
    "duration": 3,
    "start_time": "2024-03-29T22:35:30.855Z"
   },
   {
    "duration": 79,
    "start_time": "2024-03-29T22:35:30.860Z"
   },
   {
    "duration": 16,
    "start_time": "2024-03-29T22:35:30.941Z"
   },
   {
    "duration": 92,
    "start_time": "2024-03-29T22:35:30.960Z"
   },
   {
    "duration": 45,
    "start_time": "2024-03-29T22:35:31.054Z"
   },
   {
    "duration": 42,
    "start_time": "2024-03-29T22:35:31.100Z"
   },
   {
    "duration": 47,
    "start_time": "2024-03-29T22:35:31.144Z"
   },
   {
    "duration": 49,
    "start_time": "2024-03-29T22:35:31.193Z"
   },
   {
    "duration": 62,
    "start_time": "2024-03-29T22:35:31.244Z"
   },
   {
    "duration": 70,
    "start_time": "2024-03-29T22:35:31.308Z"
   },
   {
    "duration": 1541,
    "start_time": "2024-03-29T22:35:31.380Z"
   },
   {
    "duration": 5,
    "start_time": "2024-03-29T22:35:32.922Z"
   },
   {
    "duration": 6,
    "start_time": "2024-03-29T22:35:32.928Z"
   },
   {
    "duration": 310,
    "start_time": "2024-03-29T22:35:32.935Z"
   },
   {
    "duration": 153,
    "start_time": "2024-03-29T22:35:33.247Z"
   },
   {
    "duration": 177,
    "start_time": "2024-03-29T22:35:33.402Z"
   },
   {
    "duration": 4,
    "start_time": "2024-03-29T22:35:33.580Z"
   },
   {
    "duration": 35,
    "start_time": "2024-03-29T22:35:33.585Z"
   },
   {
    "duration": 14,
    "start_time": "2024-03-29T22:35:33.621Z"
   },
   {
    "duration": 4,
    "start_time": "2024-03-29T22:35:33.636Z"
   },
   {
    "duration": 39,
    "start_time": "2024-03-29T22:35:33.641Z"
   },
   {
    "duration": 2588,
    "start_time": "2024-03-29T22:35:33.681Z"
   },
   {
    "duration": 15,
    "start_time": "2024-03-29T22:35:36.271Z"
   },
   {
    "duration": 28,
    "start_time": "2024-03-29T22:35:36.288Z"
   },
   {
    "duration": 7,
    "start_time": "2024-03-29T22:35:36.318Z"
   },
   {
    "duration": 17,
    "start_time": "2024-03-29T22:35:36.326Z"
   },
   {
    "duration": 9,
    "start_time": "2024-03-29T22:35:36.344Z"
   },
   {
    "duration": 2,
    "start_time": "2024-03-29T22:35:36.355Z"
   },
   {
    "duration": 20,
    "start_time": "2024-03-29T22:35:36.359Z"
   },
   {
    "duration": 9,
    "start_time": "2024-03-29T22:35:36.381Z"
   },
   {
    "duration": 5,
    "start_time": "2024-03-29T22:35:36.393Z"
   },
   {
    "duration": 23,
    "start_time": "2024-03-29T22:35:36.399Z"
   },
   {
    "duration": 23,
    "start_time": "2024-03-29T22:35:36.423Z"
   },
   {
    "duration": 26,
    "start_time": "2024-03-29T22:35:36.447Z"
   },
   {
    "duration": 22,
    "start_time": "2024-03-29T22:35:36.475Z"
   },
   {
    "duration": 13,
    "start_time": "2024-03-29T22:35:36.498Z"
   },
   {
    "duration": 6,
    "start_time": "2024-03-29T22:35:36.513Z"
   },
   {
    "duration": 8494,
    "start_time": "2024-03-29T22:36:03.821Z"
   },
   {
    "duration": 1682,
    "start_time": "2024-03-29T22:36:12.317Z"
   },
   {
    "duration": 3,
    "start_time": "2024-03-29T22:36:14.001Z"
   },
   {
    "duration": 97,
    "start_time": "2024-03-29T22:36:14.006Z"
   },
   {
    "duration": 3,
    "start_time": "2024-03-29T22:36:14.105Z"
   },
   {
    "duration": 17,
    "start_time": "2024-03-29T22:36:14.110Z"
   },
   {
    "duration": 10,
    "start_time": "2024-03-29T22:36:14.129Z"
   },
   {
    "duration": 20,
    "start_time": "2024-03-29T22:36:14.141Z"
   },
   {
    "duration": 18,
    "start_time": "2024-03-29T22:36:14.163Z"
   },
   {
    "duration": 82,
    "start_time": "2024-03-29T22:36:14.182Z"
   },
   {
    "duration": 2,
    "start_time": "2024-03-29T22:36:14.266Z"
   },
   {
    "duration": 31,
    "start_time": "2024-03-29T22:36:14.270Z"
   },
   {
    "duration": 4,
    "start_time": "2024-03-29T22:36:14.302Z"
   },
   {
    "duration": 59,
    "start_time": "2024-03-29T22:36:14.309Z"
   },
   {
    "duration": 4,
    "start_time": "2024-03-29T22:36:14.370Z"
   },
   {
    "duration": 18,
    "start_time": "2024-03-29T22:36:14.376Z"
   },
   {
    "duration": 3,
    "start_time": "2024-03-29T22:36:14.395Z"
   },
   {
    "duration": 28,
    "start_time": "2024-03-29T22:36:14.400Z"
   },
   {
    "duration": 11,
    "start_time": "2024-03-29T22:36:14.429Z"
   },
   {
    "duration": 16,
    "start_time": "2024-03-29T22:36:14.441Z"
   },
   {
    "duration": 1479,
    "start_time": "2024-03-29T22:36:14.458Z"
   },
   {
    "duration": 4,
    "start_time": "2024-03-29T22:36:15.939Z"
   },
   {
    "duration": 13,
    "start_time": "2024-03-29T22:36:15.945Z"
   },
   {
    "duration": 320,
    "start_time": "2024-03-29T22:36:15.959Z"
   },
   {
    "duration": 153,
    "start_time": "2024-03-29T22:36:16.281Z"
   },
   {
    "duration": 191,
    "start_time": "2024-03-29T22:36:16.436Z"
   },
   {
    "duration": 3,
    "start_time": "2024-03-29T22:36:16.629Z"
   },
   {
    "duration": 44,
    "start_time": "2024-03-29T22:36:16.634Z"
   },
   {
    "duration": 12,
    "start_time": "2024-03-29T22:36:16.680Z"
   },
   {
    "duration": 3,
    "start_time": "2024-03-29T22:36:16.694Z"
   },
   {
    "duration": 20,
    "start_time": "2024-03-29T22:36:16.698Z"
   },
   {
    "duration": 2555,
    "start_time": "2024-03-29T22:36:16.720Z"
   },
   {
    "duration": 18,
    "start_time": "2024-03-29T22:36:19.277Z"
   },
   {
    "duration": 9,
    "start_time": "2024-03-29T22:36:19.297Z"
   },
   {
    "duration": 4,
    "start_time": "2024-03-29T22:36:19.308Z"
   },
   {
    "duration": 22,
    "start_time": "2024-03-29T22:36:19.314Z"
   },
   {
    "duration": 37,
    "start_time": "2024-03-29T22:36:19.338Z"
   },
   {
    "duration": 3,
    "start_time": "2024-03-29T22:36:19.377Z"
   },
   {
    "duration": 18,
    "start_time": "2024-03-29T22:36:19.382Z"
   },
   {
    "duration": 6,
    "start_time": "2024-03-29T22:36:19.401Z"
   },
   {
    "duration": 7,
    "start_time": "2024-03-29T22:36:19.411Z"
   },
   {
    "duration": 4,
    "start_time": "2024-03-29T22:36:19.419Z"
   },
   {
    "duration": 5,
    "start_time": "2024-03-29T22:36:19.424Z"
   },
   {
    "duration": 7,
    "start_time": "2024-03-29T22:36:19.430Z"
   },
   {
    "duration": 31,
    "start_time": "2024-03-29T22:36:19.439Z"
   },
   {
    "duration": 6,
    "start_time": "2024-03-29T22:36:19.472Z"
   },
   {
    "duration": 14,
    "start_time": "2024-03-29T22:36:19.479Z"
   },
   {
    "duration": 8635,
    "start_time": "2024-03-29T22:36:35.309Z"
   },
   {
    "duration": 1789,
    "start_time": "2024-03-29T22:36:43.946Z"
   },
   {
    "duration": 4,
    "start_time": "2024-03-29T22:36:45.737Z"
   },
   {
    "duration": 132,
    "start_time": "2024-03-29T22:36:45.742Z"
   },
   {
    "duration": 3,
    "start_time": "2024-03-29T22:36:45.876Z"
   },
   {
    "duration": 10,
    "start_time": "2024-03-29T22:36:45.881Z"
   },
   {
    "duration": 20,
    "start_time": "2024-03-29T22:36:45.892Z"
   },
   {
    "duration": 22,
    "start_time": "2024-03-29T22:36:45.914Z"
   },
   {
    "duration": 19,
    "start_time": "2024-03-29T22:36:45.938Z"
   },
   {
    "duration": 67,
    "start_time": "2024-03-29T22:36:45.958Z"
   },
   {
    "duration": 34,
    "start_time": "2024-03-29T22:36:46.027Z"
   },
   {
    "duration": 47,
    "start_time": "2024-03-29T22:36:46.063Z"
   },
   {
    "duration": 5,
    "start_time": "2024-03-29T22:36:46.111Z"
   },
   {
    "duration": 43,
    "start_time": "2024-03-29T22:36:46.119Z"
   },
   {
    "duration": 5,
    "start_time": "2024-03-29T22:36:46.164Z"
   },
   {
    "duration": 19,
    "start_time": "2024-03-29T22:36:46.171Z"
   },
   {
    "duration": 4,
    "start_time": "2024-03-29T22:36:46.192Z"
   },
   {
    "duration": 5,
    "start_time": "2024-03-29T22:36:46.197Z"
   },
   {
    "duration": 8,
    "start_time": "2024-03-29T22:36:46.204Z"
   },
   {
    "duration": 6,
    "start_time": "2024-03-29T22:36:46.213Z"
   },
   {
    "duration": 1497,
    "start_time": "2024-03-29T22:36:46.220Z"
   },
   {
    "duration": 5,
    "start_time": "2024-03-29T22:36:47.719Z"
   },
   {
    "duration": 8,
    "start_time": "2024-03-29T22:36:47.725Z"
   },
   {
    "duration": 293,
    "start_time": "2024-03-29T22:36:47.735Z"
   },
   {
    "duration": 150,
    "start_time": "2024-03-29T22:36:48.029Z"
   },
   {
    "duration": 181,
    "start_time": "2024-03-29T22:36:48.181Z"
   },
   {
    "duration": 3,
    "start_time": "2024-03-29T22:36:48.369Z"
   },
   {
    "duration": 47,
    "start_time": "2024-03-29T22:36:48.374Z"
   },
   {
    "duration": 16,
    "start_time": "2024-03-29T22:36:48.423Z"
   },
   {
    "duration": 4,
    "start_time": "2024-03-29T22:36:48.441Z"
   },
   {
    "duration": 33,
    "start_time": "2024-03-29T22:36:48.448Z"
   },
   {
    "duration": 2553,
    "start_time": "2024-03-29T22:36:48.483Z"
   },
   {
    "duration": 15,
    "start_time": "2024-03-29T22:36:51.038Z"
   },
   {
    "duration": 21,
    "start_time": "2024-03-29T22:36:51.054Z"
   },
   {
    "duration": 58,
    "start_time": "2024-03-29T22:36:51.076Z"
   },
   {
    "duration": 34,
    "start_time": "2024-03-29T22:36:51.135Z"
   },
   {
    "duration": 10,
    "start_time": "2024-03-29T22:36:51.171Z"
   },
   {
    "duration": 21,
    "start_time": "2024-03-29T22:36:51.182Z"
   },
   {
    "duration": 34,
    "start_time": "2024-03-29T22:36:51.204Z"
   },
   {
    "duration": 14,
    "start_time": "2024-03-29T22:36:51.240Z"
   },
   {
    "duration": 23,
    "start_time": "2024-03-29T22:36:51.258Z"
   },
   {
    "duration": 10,
    "start_time": "2024-03-29T22:36:51.283Z"
   },
   {
    "duration": 14,
    "start_time": "2024-03-29T22:36:51.295Z"
   },
   {
    "duration": 16,
    "start_time": "2024-03-29T22:36:51.310Z"
   },
   {
    "duration": 18,
    "start_time": "2024-03-29T22:36:51.327Z"
   },
   {
    "duration": 5,
    "start_time": "2024-03-29T22:36:51.347Z"
   },
   {
    "duration": 24,
    "start_time": "2024-03-29T22:36:51.353Z"
   },
   {
    "duration": 8674,
    "start_time": "2024-03-29T22:37:33.698Z"
   },
   {
    "duration": 1750,
    "start_time": "2024-03-29T22:37:42.374Z"
   },
   {
    "duration": 4,
    "start_time": "2024-03-29T22:37:44.126Z"
   },
   {
    "duration": 88,
    "start_time": "2024-03-29T22:37:44.132Z"
   },
   {
    "duration": 3,
    "start_time": "2024-03-29T22:37:44.223Z"
   },
   {
    "duration": 6,
    "start_time": "2024-03-29T22:37:44.227Z"
   },
   {
    "duration": 6,
    "start_time": "2024-03-29T22:37:44.234Z"
   },
   {
    "duration": 13,
    "start_time": "2024-03-29T22:37:44.241Z"
   },
   {
    "duration": 5,
    "start_time": "2024-03-29T22:37:44.256Z"
   },
   {
    "duration": 46,
    "start_time": "2024-03-29T22:37:44.262Z"
   },
   {
    "duration": 4,
    "start_time": "2024-03-29T22:37:44.309Z"
   },
   {
    "duration": 61,
    "start_time": "2024-03-29T22:37:44.314Z"
   },
   {
    "duration": 4,
    "start_time": "2024-03-29T22:37:44.376Z"
   },
   {
    "duration": 18,
    "start_time": "2024-03-29T22:37:44.384Z"
   },
   {
    "duration": 5,
    "start_time": "2024-03-29T22:37:44.403Z"
   },
   {
    "duration": 13,
    "start_time": "2024-03-29T22:37:44.410Z"
   },
   {
    "duration": 4,
    "start_time": "2024-03-29T22:37:44.424Z"
   },
   {
    "duration": 40,
    "start_time": "2024-03-29T22:37:44.430Z"
   },
   {
    "duration": 8,
    "start_time": "2024-03-29T22:37:44.471Z"
   },
   {
    "duration": 10,
    "start_time": "2024-03-29T22:37:44.481Z"
   },
   {
    "duration": 1469,
    "start_time": "2024-03-29T22:37:44.492Z"
   },
   {
    "duration": 5,
    "start_time": "2024-03-29T22:37:45.963Z"
   },
   {
    "duration": 9,
    "start_time": "2024-03-29T22:37:45.970Z"
   },
   {
    "duration": 319,
    "start_time": "2024-03-29T22:37:45.981Z"
   },
   {
    "duration": 160,
    "start_time": "2024-03-29T22:37:46.302Z"
   },
   {
    "duration": 190,
    "start_time": "2024-03-29T22:37:46.464Z"
   },
   {
    "duration": 4,
    "start_time": "2024-03-29T22:37:46.656Z"
   },
   {
    "duration": 31,
    "start_time": "2024-03-29T22:37:46.669Z"
   },
   {
    "duration": 10,
    "start_time": "2024-03-29T22:37:46.702Z"
   },
   {
    "duration": 20,
    "start_time": "2024-03-29T22:37:46.714Z"
   },
   {
    "duration": 32,
    "start_time": "2024-03-29T22:37:46.735Z"
   },
   {
    "duration": 12,
    "start_time": "2024-03-29T22:37:46.770Z"
   },
   {
    "duration": 3,
    "start_time": "2024-03-29T22:37:46.784Z"
   },
   {
    "duration": 20,
    "start_time": "2024-03-29T22:37:46.789Z"
   },
   {
    "duration": 2565,
    "start_time": "2024-03-29T22:37:46.810Z"
   },
   {
    "duration": 16,
    "start_time": "2024-03-29T22:37:49.377Z"
   },
   {
    "duration": 13,
    "start_time": "2024-03-29T22:37:49.394Z"
   },
   {
    "duration": 6,
    "start_time": "2024-03-29T22:37:49.408Z"
   },
   {
    "duration": 19,
    "start_time": "2024-03-29T22:37:49.416Z"
   },
   {
    "duration": 12,
    "start_time": "2024-03-29T22:37:49.437Z"
   },
   {
    "duration": 2,
    "start_time": "2024-03-29T22:37:49.469Z"
   },
   {
    "duration": 20,
    "start_time": "2024-03-29T22:37:49.472Z"
   },
   {
    "duration": 4,
    "start_time": "2024-03-29T22:37:49.494Z"
   },
   {
    "duration": 10,
    "start_time": "2024-03-29T22:37:49.499Z"
   },
   {
    "duration": 5,
    "start_time": "2024-03-29T22:37:49.510Z"
   },
   {
    "duration": 5,
    "start_time": "2024-03-29T22:37:49.517Z"
   },
   {
    "duration": 7,
    "start_time": "2024-03-29T22:37:49.523Z"
   },
   {
    "duration": 7,
    "start_time": "2024-03-29T22:37:49.531Z"
   },
   {
    "duration": 6,
    "start_time": "2024-03-29T22:37:49.540Z"
   },
   {
    "duration": 5,
    "start_time": "2024-03-29T22:37:49.548Z"
   },
   {
    "duration": 8659,
    "start_time": "2024-03-29T22:38:53.535Z"
   },
   {
    "duration": 1799,
    "start_time": "2024-03-29T22:39:02.196Z"
   },
   {
    "duration": 4,
    "start_time": "2024-03-29T22:39:03.996Z"
   },
   {
    "duration": 86,
    "start_time": "2024-03-29T22:39:04.001Z"
   },
   {
    "duration": 3,
    "start_time": "2024-03-29T22:39:04.089Z"
   },
   {
    "duration": 15,
    "start_time": "2024-03-29T22:39:04.094Z"
   },
   {
    "duration": 8,
    "start_time": "2024-03-29T22:39:04.110Z"
   },
   {
    "duration": 8,
    "start_time": "2024-03-29T22:39:04.119Z"
   },
   {
    "duration": 4,
    "start_time": "2024-03-29T22:39:04.129Z"
   },
   {
    "duration": 58,
    "start_time": "2024-03-29T22:39:04.135Z"
   },
   {
    "duration": 3,
    "start_time": "2024-03-29T22:39:04.195Z"
   },
   {
    "duration": 42,
    "start_time": "2024-03-29T22:39:04.200Z"
   },
   {
    "duration": 5,
    "start_time": "2024-03-29T22:39:04.243Z"
   },
   {
    "duration": 19,
    "start_time": "2024-03-29T22:39:04.269Z"
   },
   {
    "duration": 21,
    "start_time": "2024-03-29T22:39:04.289Z"
   },
   {
    "duration": 26,
    "start_time": "2024-03-29T22:39:04.312Z"
   },
   {
    "duration": 3,
    "start_time": "2024-03-29T22:39:04.340Z"
   },
   {
    "duration": 6,
    "start_time": "2024-03-29T22:39:04.344Z"
   },
   {
    "duration": 9,
    "start_time": "2024-03-29T22:39:04.351Z"
   },
   {
    "duration": 9,
    "start_time": "2024-03-29T22:39:04.361Z"
   },
   {
    "duration": 1513,
    "start_time": "2024-03-29T22:39:04.372Z"
   },
   {
    "duration": 5,
    "start_time": "2024-03-29T22:39:05.887Z"
   },
   {
    "duration": 11,
    "start_time": "2024-03-29T22:39:05.894Z"
   },
   {
    "duration": 337,
    "start_time": "2024-03-29T22:39:05.907Z"
   },
   {
    "duration": 154,
    "start_time": "2024-03-29T22:39:06.245Z"
   },
   {
    "duration": 186,
    "start_time": "2024-03-29T22:39:06.401Z"
   },
   {
    "duration": 4,
    "start_time": "2024-03-29T22:39:06.589Z"
   },
   {
    "duration": 36,
    "start_time": "2024-03-29T22:39:06.594Z"
   },
   {
    "duration": 8,
    "start_time": "2024-03-29T22:39:06.632Z"
   },
   {
    "duration": 22,
    "start_time": "2024-03-29T22:39:06.642Z"
   },
   {
    "duration": 7,
    "start_time": "2024-03-29T22:39:06.670Z"
   },
   {
    "duration": 15,
    "start_time": "2024-03-29T22:39:06.679Z"
   },
   {
    "duration": 3,
    "start_time": "2024-03-29T22:39:06.696Z"
   },
   {
    "duration": 17,
    "start_time": "2024-03-29T22:39:06.701Z"
   },
   {
    "duration": 2550,
    "start_time": "2024-03-29T22:39:06.719Z"
   },
   {
    "duration": 15,
    "start_time": "2024-03-29T22:39:09.271Z"
   },
   {
    "duration": 13,
    "start_time": "2024-03-29T22:39:09.288Z"
   },
   {
    "duration": 4,
    "start_time": "2024-03-29T22:39:09.303Z"
   },
   {
    "duration": 14,
    "start_time": "2024-03-29T22:39:09.308Z"
   },
   {
    "duration": 9,
    "start_time": "2024-03-29T22:39:09.324Z"
   },
   {
    "duration": 3,
    "start_time": "2024-03-29T22:39:09.337Z"
   },
   {
    "duration": 13,
    "start_time": "2024-03-29T22:39:09.369Z"
   },
   {
    "duration": 13,
    "start_time": "2024-03-29T22:39:09.383Z"
   },
   {
    "duration": 3,
    "start_time": "2024-03-29T22:39:09.398Z"
   },
   {
    "duration": 6,
    "start_time": "2024-03-29T22:39:09.403Z"
   },
   {
    "duration": 4,
    "start_time": "2024-03-29T22:39:09.411Z"
   },
   {
    "duration": 9,
    "start_time": "2024-03-29T22:39:09.416Z"
   },
   {
    "duration": 3,
    "start_time": "2024-03-29T22:39:09.427Z"
   },
   {
    "duration": 4,
    "start_time": "2024-03-29T22:39:09.432Z"
   },
   {
    "duration": 5,
    "start_time": "2024-03-29T22:39:09.437Z"
   },
   {
    "duration": 62890,
    "start_time": "2024-03-29T22:39:09.444Z"
   },
   {
    "duration": 3,
    "start_time": "2024-03-29T22:40:12.336Z"
   },
   {
    "duration": 95,
    "start_time": "2024-03-29T22:40:12.340Z"
   },
   {
    "duration": 1008401,
    "start_time": "2024-03-29T22:40:12.437Z"
   },
   {
    "duration": 86,
    "start_time": "2024-03-29T22:57:00.842Z"
   },
   {
    "duration": 4,
    "start_time": "2024-03-29T23:05:02.147Z"
   },
   {
    "duration": 18,
    "start_time": "2024-03-29T23:12:16.032Z"
   },
   {
    "duration": 1465,
    "start_time": "2024-03-29T23:13:15.619Z"
   },
   {
    "duration": 7,
    "start_time": "2024-03-29T23:13:31.145Z"
   },
   {
    "duration": 130,
    "start_time": "2024-03-29T23:15:43.932Z"
   },
   {
    "duration": 84,
    "start_time": "2024-03-29T23:16:09.402Z"
   },
   {
    "duration": 1869,
    "start_time": "2024-03-29T23:16:30.692Z"
   },
   {
    "duration": 289,
    "start_time": "2024-03-29T23:18:23.842Z"
   },
   {
    "duration": 450,
    "start_time": "2024-03-29T23:18:45.461Z"
   },
   {
    "duration": 453,
    "start_time": "2024-03-29T23:19:25.012Z"
   },
   {
    "duration": 500,
    "start_time": "2024-03-29T23:20:10.963Z"
   },
   {
    "duration": 41,
    "start_time": "2024-03-29T23:20:55.964Z"
   },
   {
    "duration": 8,
    "start_time": "2024-03-29T23:21:23.807Z"
   },
   {
    "duration": 8,
    "start_time": "2024-03-29T23:21:37.453Z"
   },
   {
    "duration": 115,
    "start_time": "2024-03-29T23:25:28.575Z"
   },
   {
    "duration": 3,
    "start_time": "2024-03-29T23:29:25.023Z"
   },
   {
    "duration": 26016,
    "start_time": "2024-03-30T09:37:10.736Z"
   },
   {
    "duration": 3853,
    "start_time": "2024-03-30T09:37:36.755Z"
   },
   {
    "duration": 4,
    "start_time": "2024-03-30T09:37:40.610Z"
   },
   {
    "duration": 275,
    "start_time": "2024-03-30T09:37:40.617Z"
   },
   {
    "duration": 3,
    "start_time": "2024-03-30T09:37:40.894Z"
   },
   {
    "duration": 6,
    "start_time": "2024-03-30T09:37:40.899Z"
   },
   {
    "duration": 8,
    "start_time": "2024-03-30T09:37:40.906Z"
   },
   {
    "duration": 9,
    "start_time": "2024-03-30T09:37:40.916Z"
   },
   {
    "duration": 4,
    "start_time": "2024-03-30T09:37:40.927Z"
   },
   {
    "duration": 43,
    "start_time": "2024-03-30T09:37:40.934Z"
   },
   {
    "duration": 4,
    "start_time": "2024-03-30T09:37:40.979Z"
   },
   {
    "duration": 40,
    "start_time": "2024-03-30T09:37:40.984Z"
   },
   {
    "duration": 4,
    "start_time": "2024-03-30T09:37:41.026Z"
   },
   {
    "duration": 44,
    "start_time": "2024-03-30T09:37:41.032Z"
   },
   {
    "duration": 6,
    "start_time": "2024-03-30T09:37:41.077Z"
   },
   {
    "duration": 16,
    "start_time": "2024-03-30T09:37:41.084Z"
   },
   {
    "duration": 3,
    "start_time": "2024-03-30T09:37:41.102Z"
   },
   {
    "duration": 6,
    "start_time": "2024-03-30T09:37:41.106Z"
   },
   {
    "duration": 9,
    "start_time": "2024-03-30T09:37:41.113Z"
   },
   {
    "duration": 6,
    "start_time": "2024-03-30T09:37:41.124Z"
   },
   {
    "duration": 1408,
    "start_time": "2024-03-30T09:37:41.131Z"
   },
   {
    "duration": 5,
    "start_time": "2024-03-30T09:37:42.540Z"
   },
   {
    "duration": 21,
    "start_time": "2024-03-30T09:37:42.546Z"
   },
   {
    "duration": 289,
    "start_time": "2024-03-30T09:37:42.568Z"
   },
   {
    "duration": 140,
    "start_time": "2024-03-30T09:37:42.858Z"
   },
   {
    "duration": 160,
    "start_time": "2024-03-30T09:37:43.000Z"
   },
   {
    "duration": 3,
    "start_time": "2024-03-30T09:37:43.164Z"
   },
   {
    "duration": 29,
    "start_time": "2024-03-30T09:37:43.170Z"
   },
   {
    "duration": 7,
    "start_time": "2024-03-30T09:37:43.200Z"
   },
   {
    "duration": 11,
    "start_time": "2024-03-30T09:37:43.209Z"
   },
   {
    "duration": 7,
    "start_time": "2024-03-30T09:37:43.221Z"
   },
   {
    "duration": 41,
    "start_time": "2024-03-30T09:37:43.229Z"
   },
   {
    "duration": 4,
    "start_time": "2024-03-30T09:37:43.271Z"
   },
   {
    "duration": 14,
    "start_time": "2024-03-30T09:37:43.276Z"
   },
   {
    "duration": 39,
    "start_time": "2024-03-30T09:37:43.291Z"
   },
   {
    "duration": 25807,
    "start_time": "2024-03-30T21:59:03.781Z"
   },
   {
    "duration": 1684,
    "start_time": "2024-03-30T21:59:29.591Z"
   },
   {
    "duration": 3,
    "start_time": "2024-03-30T21:59:31.277Z"
   },
   {
    "duration": 292,
    "start_time": "2024-03-30T21:59:31.281Z"
   },
   {
    "duration": 3,
    "start_time": "2024-03-30T21:59:31.575Z"
   },
   {
    "duration": 10,
    "start_time": "2024-03-30T21:59:31.579Z"
   },
   {
    "duration": 5,
    "start_time": "2024-03-30T21:59:31.590Z"
   },
   {
    "duration": 29,
    "start_time": "2024-03-30T21:59:31.597Z"
   },
   {
    "duration": 17,
    "start_time": "2024-03-30T21:59:31.628Z"
   },
   {
    "duration": 54,
    "start_time": "2024-03-30T21:59:31.646Z"
   },
   {
    "duration": 2,
    "start_time": "2024-03-30T21:59:31.702Z"
   },
   {
    "duration": 34,
    "start_time": "2024-03-30T21:59:31.705Z"
   },
   {
    "duration": 3,
    "start_time": "2024-03-30T21:59:31.740Z"
   },
   {
    "duration": 21,
    "start_time": "2024-03-30T21:59:31.745Z"
   },
   {
    "duration": 8,
    "start_time": "2024-03-30T21:59:31.767Z"
   },
   {
    "duration": 22,
    "start_time": "2024-03-30T21:59:31.776Z"
   },
   {
    "duration": 3,
    "start_time": "2024-03-30T21:59:31.799Z"
   },
   {
    "duration": 10,
    "start_time": "2024-03-30T21:59:31.803Z"
   },
   {
    "duration": 7,
    "start_time": "2024-03-30T21:59:31.815Z"
   },
   {
    "duration": 20,
    "start_time": "2024-03-30T21:59:31.823Z"
   },
   {
    "duration": 1387,
    "start_time": "2024-03-30T21:59:31.845Z"
   },
   {
    "duration": 4,
    "start_time": "2024-03-30T21:59:33.234Z"
   },
   {
    "duration": 23,
    "start_time": "2024-03-30T21:59:33.240Z"
   },
   {
    "duration": 196,
    "start_time": "2024-03-30T21:59:33.265Z"
   },
   {
    "duration": 131,
    "start_time": "2024-03-30T21:59:33.462Z"
   },
   {
    "duration": 145,
    "start_time": "2024-03-30T21:59:33.594Z"
   },
   {
    "duration": 3,
    "start_time": "2024-03-30T21:59:33.740Z"
   },
   {
    "duration": 26,
    "start_time": "2024-03-30T21:59:33.744Z"
   },
   {
    "duration": 6,
    "start_time": "2024-03-30T21:59:33.771Z"
   },
   {
    "duration": 23,
    "start_time": "2024-03-30T21:59:33.778Z"
   },
   {
    "duration": 6,
    "start_time": "2024-03-30T21:59:33.803Z"
   },
   {
    "duration": 30,
    "start_time": "2024-03-30T21:59:33.811Z"
   },
   {
    "duration": 10,
    "start_time": "2024-03-30T21:59:33.842Z"
   },
   {
    "duration": 25,
    "start_time": "2024-03-30T21:59:33.853Z"
   },
   {
    "duration": 1981,
    "start_time": "2024-03-30T21:59:33.879Z"
   },
   {
    "duration": 12,
    "start_time": "2024-03-30T21:59:35.862Z"
   },
   {
    "duration": 22,
    "start_time": "2024-03-30T21:59:35.875Z"
   },
   {
    "duration": 3,
    "start_time": "2024-03-30T21:59:35.899Z"
   },
   {
    "duration": 16,
    "start_time": "2024-03-30T21:59:35.904Z"
   },
   {
    "duration": 9,
    "start_time": "2024-03-30T21:59:35.921Z"
   },
   {
    "duration": 12,
    "start_time": "2024-03-30T21:59:35.934Z"
   },
   {
    "duration": 16,
    "start_time": "2024-03-30T21:59:35.947Z"
   },
   {
    "duration": 17,
    "start_time": "2024-03-30T21:59:35.965Z"
   },
   {
    "duration": 22,
    "start_time": "2024-03-30T21:59:35.983Z"
   },
   {
    "duration": 23,
    "start_time": "2024-03-30T21:59:36.007Z"
   },
   {
    "duration": 30,
    "start_time": "2024-03-30T21:59:36.032Z"
   },
   {
    "duration": 27,
    "start_time": "2024-03-30T21:59:36.063Z"
   },
   {
    "duration": 11,
    "start_time": "2024-03-30T21:59:36.092Z"
   },
   {
    "duration": 17,
    "start_time": "2024-03-30T21:59:36.104Z"
   },
   {
    "duration": 33,
    "start_time": "2024-03-30T21:59:36.122Z"
   },
   {
    "duration": 76037,
    "start_time": "2024-03-30T21:59:36.157Z"
   },
   {
    "duration": 6,
    "start_time": "2024-03-30T22:00:52.196Z"
   },
   {
    "duration": 71,
    "start_time": "2024-03-30T22:00:52.203Z"
   },
   {
    "duration": 8192,
    "start_time": "2024-03-30T22:02:25.242Z"
   },
   {
    "duration": 1536,
    "start_time": "2024-03-30T22:02:33.436Z"
   },
   {
    "duration": 4,
    "start_time": "2024-03-30T22:02:34.973Z"
   },
   {
    "duration": 107,
    "start_time": "2024-03-30T22:02:34.979Z"
   },
   {
    "duration": 3,
    "start_time": "2024-03-30T22:02:35.087Z"
   },
   {
    "duration": 5,
    "start_time": "2024-03-30T22:02:35.091Z"
   },
   {
    "duration": 10,
    "start_time": "2024-03-30T22:02:35.098Z"
   },
   {
    "duration": 19,
    "start_time": "2024-03-30T22:02:35.110Z"
   },
   {
    "duration": 27,
    "start_time": "2024-03-30T22:02:35.131Z"
   },
   {
    "duration": 51,
    "start_time": "2024-03-30T22:02:35.161Z"
   },
   {
    "duration": 3,
    "start_time": "2024-03-30T22:02:35.213Z"
   },
   {
    "duration": 42,
    "start_time": "2024-03-30T22:02:35.217Z"
   },
   {
    "duration": 3,
    "start_time": "2024-03-30T22:02:35.261Z"
   },
   {
    "duration": 19,
    "start_time": "2024-03-30T22:02:35.265Z"
   },
   {
    "duration": 11,
    "start_time": "2024-03-30T22:02:35.285Z"
   },
   {
    "duration": 27,
    "start_time": "2024-03-30T22:02:35.297Z"
   },
   {
    "duration": 5,
    "start_time": "2024-03-30T22:02:35.325Z"
   },
   {
    "duration": 6,
    "start_time": "2024-03-30T22:02:35.331Z"
   },
   {
    "duration": 19,
    "start_time": "2024-03-30T22:02:35.338Z"
   },
   {
    "duration": 23,
    "start_time": "2024-03-30T22:02:35.358Z"
   },
   {
    "duration": 1273,
    "start_time": "2024-03-30T22:02:35.383Z"
   },
   {
    "duration": 4,
    "start_time": "2024-03-30T22:02:36.658Z"
   },
   {
    "duration": 10,
    "start_time": "2024-03-30T22:02:36.663Z"
   },
   {
    "duration": 241,
    "start_time": "2024-03-30T22:02:36.674Z"
   },
   {
    "duration": 138,
    "start_time": "2024-03-30T22:02:36.916Z"
   },
   {
    "duration": 162,
    "start_time": "2024-03-30T22:02:37.055Z"
   },
   {
    "duration": 3,
    "start_time": "2024-03-30T22:02:37.218Z"
   },
   {
    "duration": 25,
    "start_time": "2024-03-30T22:02:37.224Z"
   },
   {
    "duration": 6,
    "start_time": "2024-03-30T22:02:37.250Z"
   },
   {
    "duration": 14,
    "start_time": "2024-03-30T22:02:37.257Z"
   },
   {
    "duration": 6,
    "start_time": "2024-03-30T22:02:37.272Z"
   },
   {
    "duration": 11,
    "start_time": "2024-03-30T22:02:37.279Z"
   },
   {
    "duration": 3,
    "start_time": "2024-03-30T22:02:37.291Z"
   },
   {
    "duration": 23,
    "start_time": "2024-03-30T22:02:37.295Z"
   },
   {
    "duration": 2115,
    "start_time": "2024-03-30T22:02:37.319Z"
   },
   {
    "duration": 12,
    "start_time": "2024-03-30T22:02:39.435Z"
   },
   {
    "duration": 7,
    "start_time": "2024-03-30T22:02:39.448Z"
   },
   {
    "duration": 4,
    "start_time": "2024-03-30T22:02:39.456Z"
   },
   {
    "duration": 13,
    "start_time": "2024-03-30T22:02:39.461Z"
   },
   {
    "duration": 7,
    "start_time": "2024-03-30T22:02:39.475Z"
   },
   {
    "duration": 1,
    "start_time": "2024-03-30T22:02:39.502Z"
   },
   {
    "duration": 10,
    "start_time": "2024-03-30T22:02:39.505Z"
   },
   {
    "duration": 9,
    "start_time": "2024-03-30T22:02:39.516Z"
   },
   {
    "duration": 17,
    "start_time": "2024-03-30T22:02:39.526Z"
   },
   {
    "duration": 5,
    "start_time": "2024-03-30T22:02:39.544Z"
   },
   {
    "duration": 6,
    "start_time": "2024-03-30T22:02:39.550Z"
   },
   {
    "duration": 10,
    "start_time": "2024-03-30T22:02:39.558Z"
   },
   {
    "duration": 3,
    "start_time": "2024-03-30T22:02:39.569Z"
   },
   {
    "duration": 3,
    "start_time": "2024-03-30T22:02:39.573Z"
   },
   {
    "duration": 9,
    "start_time": "2024-03-30T22:02:39.578Z"
   },
   {
    "duration": 63190,
    "start_time": "2024-03-30T22:02:39.588Z"
   },
   {
    "duration": 3,
    "start_time": "2024-03-30T22:03:42.780Z"
   },
   {
    "duration": 68,
    "start_time": "2024-03-30T22:03:42.784Z"
   },
   {
    "duration": 35236,
    "start_time": "2024-03-30T22:03:42.853Z"
   },
   {
    "duration": 0,
    "start_time": "2024-03-30T22:04:18.091Z"
   },
   {
    "duration": 0,
    "start_time": "2024-03-30T22:04:18.091Z"
   },
   {
    "duration": 0,
    "start_time": "2024-03-30T22:04:18.092Z"
   },
   {
    "duration": 0,
    "start_time": "2024-03-30T22:04:18.093Z"
   },
   {
    "duration": 0,
    "start_time": "2024-03-30T22:04:18.094Z"
   },
   {
    "duration": 0,
    "start_time": "2024-03-30T22:04:18.095Z"
   },
   {
    "duration": 5,
    "start_time": "2024-03-30T22:04:19.492Z"
   },
   {
    "duration": 1532,
    "start_time": "2024-03-30T22:04:19.698Z"
   },
   {
    "duration": 109,
    "start_time": "2024-03-30T22:05:10.249Z"
   },
   {
    "duration": 1053,
    "start_time": "2024-03-30T22:05:10.735Z"
   },
   {
    "duration": 8243,
    "start_time": "2024-03-30T22:06:10.090Z"
   },
   {
    "duration": 1540,
    "start_time": "2024-03-30T22:06:18.336Z"
   },
   {
    "duration": 4,
    "start_time": "2024-03-30T22:06:19.877Z"
   },
   {
    "duration": 86,
    "start_time": "2024-03-30T22:06:19.883Z"
   },
   {
    "duration": 3,
    "start_time": "2024-03-30T22:06:19.970Z"
   },
   {
    "duration": 7,
    "start_time": "2024-03-30T22:06:19.975Z"
   },
   {
    "duration": 7,
    "start_time": "2024-03-30T22:06:19.983Z"
   },
   {
    "duration": 24,
    "start_time": "2024-03-30T22:06:19.991Z"
   },
   {
    "duration": 32,
    "start_time": "2024-03-30T22:06:20.017Z"
   },
   {
    "duration": 44,
    "start_time": "2024-03-30T22:06:20.051Z"
   },
   {
    "duration": 2,
    "start_time": "2024-03-30T22:06:20.096Z"
   },
   {
    "duration": 50,
    "start_time": "2024-03-30T22:06:20.100Z"
   },
   {
    "duration": 4,
    "start_time": "2024-03-30T22:06:20.151Z"
   },
   {
    "duration": 20,
    "start_time": "2024-03-30T22:06:20.156Z"
   },
   {
    "duration": 6,
    "start_time": "2024-03-30T22:06:20.177Z"
   },
   {
    "duration": 17,
    "start_time": "2024-03-30T22:06:20.184Z"
   },
   {
    "duration": 2,
    "start_time": "2024-03-30T22:06:20.203Z"
   },
   {
    "duration": 6,
    "start_time": "2024-03-30T22:06:20.207Z"
   },
   {
    "duration": 6,
    "start_time": "2024-03-30T22:06:20.214Z"
   },
   {
    "duration": 6,
    "start_time": "2024-03-30T22:06:20.221Z"
   },
   {
    "duration": 1348,
    "start_time": "2024-03-30T22:06:20.228Z"
   },
   {
    "duration": 5,
    "start_time": "2024-03-30T22:06:21.577Z"
   },
   {
    "duration": 9,
    "start_time": "2024-03-30T22:06:21.583Z"
   },
   {
    "duration": 173,
    "start_time": "2024-03-30T22:06:21.593Z"
   },
   {
    "duration": 128,
    "start_time": "2024-03-30T22:06:21.768Z"
   },
   {
    "duration": 147,
    "start_time": "2024-03-30T22:06:21.901Z"
   },
   {
    "duration": 3,
    "start_time": "2024-03-30T22:06:22.050Z"
   },
   {
    "duration": 32,
    "start_time": "2024-03-30T22:06:22.056Z"
   },
   {
    "duration": 16,
    "start_time": "2024-03-30T22:06:22.089Z"
   },
   {
    "duration": 7,
    "start_time": "2024-03-30T22:06:22.106Z"
   },
   {
    "duration": 6,
    "start_time": "2024-03-30T22:06:22.114Z"
   },
   {
    "duration": 13,
    "start_time": "2024-03-30T22:06:22.121Z"
   },
   {
    "duration": 3,
    "start_time": "2024-03-30T22:06:22.135Z"
   },
   {
    "duration": 16,
    "start_time": "2024-03-30T22:06:22.140Z"
   },
   {
    "duration": 1999,
    "start_time": "2024-03-30T22:06:22.157Z"
   },
   {
    "duration": 12,
    "start_time": "2024-03-30T22:06:24.157Z"
   },
   {
    "duration": 9,
    "start_time": "2024-03-30T22:06:24.171Z"
   },
   {
    "duration": 7,
    "start_time": "2024-03-30T22:06:24.182Z"
   },
   {
    "duration": 28,
    "start_time": "2024-03-30T22:06:24.190Z"
   },
   {
    "duration": 8,
    "start_time": "2024-03-30T22:06:24.220Z"
   },
   {
    "duration": 2,
    "start_time": "2024-03-30T22:06:24.229Z"
   },
   {
    "duration": 20,
    "start_time": "2024-03-30T22:06:24.232Z"
   },
   {
    "duration": 4,
    "start_time": "2024-03-30T22:06:24.253Z"
   },
   {
    "duration": 3,
    "start_time": "2024-03-30T22:06:24.259Z"
   },
   {
    "duration": 7,
    "start_time": "2024-03-30T22:06:24.264Z"
   },
   {
    "duration": 7,
    "start_time": "2024-03-30T22:06:24.272Z"
   },
   {
    "duration": 7,
    "start_time": "2024-03-30T22:06:24.301Z"
   },
   {
    "duration": 3,
    "start_time": "2024-03-30T22:06:24.309Z"
   },
   {
    "duration": 4,
    "start_time": "2024-03-30T22:06:24.314Z"
   },
   {
    "duration": 17,
    "start_time": "2024-03-30T22:06:24.319Z"
   },
   {
    "duration": 64550,
    "start_time": "2024-03-30T22:06:24.338Z"
   },
   {
    "duration": 3,
    "start_time": "2024-03-30T22:07:28.890Z"
   },
   {
    "duration": 74,
    "start_time": "2024-03-30T22:07:28.894Z"
   },
   {
    "duration": 148353,
    "start_time": "2024-03-30T22:07:28.970Z"
   },
   {
    "duration": 0,
    "start_time": "2024-03-30T22:09:57.324Z"
   },
   {
    "duration": 0,
    "start_time": "2024-03-30T22:09:57.325Z"
   },
   {
    "duration": 0,
    "start_time": "2024-03-30T22:09:57.326Z"
   },
   {
    "duration": 0,
    "start_time": "2024-03-30T22:09:57.327Z"
   },
   {
    "duration": 0,
    "start_time": "2024-03-30T22:09:57.327Z"
   },
   {
    "duration": 0,
    "start_time": "2024-03-30T22:09:57.328Z"
   },
   {
    "duration": 5,
    "start_time": "2024-03-30T22:09:58.315Z"
   },
   {
    "duration": 1541,
    "start_time": "2024-03-30T22:09:58.568Z"
   },
   {
    "duration": 5,
    "start_time": "2024-03-30T22:11:44.671Z"
   },
   {
    "duration": 5,
    "start_time": "2024-03-30T22:11:44.942Z"
   },
   {
    "duration": 1006,
    "start_time": "2024-03-30T22:11:49.937Z"
   },
   {
    "duration": 1017,
    "start_time": "2024-03-30T22:11:52.169Z"
   },
   {
    "duration": 4,
    "start_time": "2024-03-30T22:12:10.339Z"
   },
   {
    "duration": 4,
    "start_time": "2024-03-30T22:12:10.655Z"
   },
   {
    "duration": 153,
    "start_time": "2024-03-30T22:12:11.570Z"
   },
   {
    "duration": 119,
    "start_time": "2024-03-30T22:12:12.123Z"
   },
   {
    "duration": 9,
    "start_time": "2024-03-30T22:32:06.691Z"
   },
   {
    "duration": 9,
    "start_time": "2024-03-30T22:32:19.539Z"
   },
   {
    "duration": 9,
    "start_time": "2024-03-30T22:32:27.920Z"
   },
   {
    "duration": 4,
    "start_time": "2024-03-30T22:32:53.886Z"
   },
   {
    "duration": 24,
    "start_time": "2024-03-30T22:33:00.370Z"
   },
   {
    "duration": 4,
    "start_time": "2024-03-30T22:33:40.244Z"
   },
   {
    "duration": 39,
    "start_time": "2024-03-30T22:33:40.535Z"
   },
   {
    "duration": 854,
    "start_time": "2024-03-30T22:33:53.966Z"
   },
   {
    "duration": 3,
    "start_time": "2024-03-30T22:34:00.141Z"
   },
   {
    "duration": 21,
    "start_time": "2024-03-30T22:34:00.428Z"
   },
   {
    "duration": 7,
    "start_time": "2024-03-30T22:34:01.609Z"
   },
   {
    "duration": 3,
    "start_time": "2024-03-30T22:36:30.484Z"
   },
   {
    "duration": 18,
    "start_time": "2024-03-30T22:36:38.115Z"
   },
   {
    "duration": 4,
    "start_time": "2024-03-30T22:36:53.254Z"
   },
   {
    "duration": 21,
    "start_time": "2024-03-30T22:36:53.520Z"
   },
   {
    "duration": 10,
    "start_time": "2024-03-30T22:39:15.890Z"
   },
   {
    "duration": 4,
    "start_time": "2024-03-30T22:40:02.346Z"
   },
   {
    "duration": 38,
    "start_time": "2024-03-30T22:40:02.797Z"
   },
   {
    "duration": 3,
    "start_time": "2024-03-30T22:41:12.615Z"
   },
   {
    "duration": 18,
    "start_time": "2024-03-30T22:41:13.021Z"
   },
   {
    "duration": 5,
    "start_time": "2024-03-30T22:41:17.303Z"
   },
   {
    "duration": 18,
    "start_time": "2024-03-30T22:41:17.601Z"
   },
   {
    "duration": 5,
    "start_time": "2024-03-30T22:42:00.285Z"
   },
   {
    "duration": 40,
    "start_time": "2024-03-30T22:42:00.559Z"
   },
   {
    "duration": 4,
    "start_time": "2024-03-30T22:42:59.146Z"
   },
   {
    "duration": 22,
    "start_time": "2024-03-30T22:42:59.726Z"
   },
   {
    "duration": 5,
    "start_time": "2024-03-30T22:43:41.586Z"
   },
   {
    "duration": 21,
    "start_time": "2024-03-30T22:43:41.868Z"
   },
   {
    "duration": 4,
    "start_time": "2024-03-30T22:44:03.943Z"
   },
   {
    "duration": 18,
    "start_time": "2024-03-30T22:44:04.215Z"
   },
   {
    "duration": 21,
    "start_time": "2024-03-30T22:44:08.736Z"
   },
   {
    "duration": 21,
    "start_time": "2024-03-30T22:44:19.012Z"
   },
   {
    "duration": 38,
    "start_time": "2024-03-30T22:44:26.626Z"
   },
   {
    "duration": 39,
    "start_time": "2024-03-30T22:46:35.372Z"
   },
   {
    "duration": 45,
    "start_time": "2024-03-30T22:46:41.696Z"
   },
   {
    "duration": 42,
    "start_time": "2024-03-30T22:46:53.233Z"
   },
   {
    "duration": 45,
    "start_time": "2024-03-30T22:47:20.095Z"
   },
   {
    "duration": 40,
    "start_time": "2024-03-30T22:48:12.865Z"
   },
   {
    "duration": 55,
    "start_time": "2024-03-30T22:48:18.832Z"
   },
   {
    "duration": 40,
    "start_time": "2024-03-30T22:49:18.907Z"
   },
   {
    "duration": 47,
    "start_time": "2024-03-30T22:49:24.238Z"
   },
   {
    "duration": 39,
    "start_time": "2024-03-30T22:50:39.394Z"
   },
   {
    "duration": 47,
    "start_time": "2024-03-30T22:50:48.369Z"
   },
   {
    "duration": 53,
    "start_time": "2024-03-30T22:51:06.789Z"
   },
   {
    "duration": 40,
    "start_time": "2024-03-30T22:52:45.404Z"
   },
   {
    "duration": 61,
    "start_time": "2024-03-30T22:52:53.206Z"
   },
   {
    "duration": 42,
    "start_time": "2024-03-30T22:53:10.365Z"
   },
   {
    "duration": 33,
    "start_time": "2024-03-30T22:54:19.076Z"
   },
   {
    "duration": 38,
    "start_time": "2024-03-30T22:54:26.553Z"
   },
   {
    "duration": 40,
    "start_time": "2024-03-30T22:54:36.381Z"
   },
   {
    "duration": 24,
    "start_time": "2024-03-30T22:55:06.231Z"
   },
   {
    "duration": 24,
    "start_time": "2024-03-30T22:55:09.678Z"
   },
   {
    "duration": 24,
    "start_time": "2024-03-30T22:55:16.152Z"
   },
   {
    "duration": 12,
    "start_time": "2024-03-30T22:56:55.393Z"
   },
   {
    "duration": 10,
    "start_time": "2024-03-30T22:57:40.964Z"
   },
   {
    "duration": 9,
    "start_time": "2024-03-30T22:57:49.326Z"
   },
   {
    "duration": 24,
    "start_time": "2024-03-30T22:58:04.491Z"
   },
   {
    "duration": 27,
    "start_time": "2024-03-30T22:58:09.541Z"
   },
   {
    "duration": 9,
    "start_time": "2024-03-30T22:58:28.218Z"
   },
   {
    "duration": 10,
    "start_time": "2024-03-30T22:58:37.540Z"
   },
   {
    "duration": 41,
    "start_time": "2024-03-30T23:06:16.868Z"
   },
   {
    "duration": 44,
    "start_time": "2024-03-30T23:06:28.069Z"
   },
   {
    "duration": 38,
    "start_time": "2024-03-30T23:07:18.241Z"
   },
   {
    "duration": 48,
    "start_time": "2024-03-30T23:10:47.131Z"
   },
   {
    "duration": 9,
    "start_time": "2024-03-30T23:33:22.662Z"
   },
   {
    "duration": 10,
    "start_time": "2024-03-30T23:34:22.426Z"
   },
   {
    "duration": 8,
    "start_time": "2024-03-30T23:35:09.619Z"
   },
   {
    "duration": 8,
    "start_time": "2024-03-30T23:35:26.470Z"
   },
   {
    "duration": 8,
    "start_time": "2024-03-30T23:35:35.092Z"
   },
   {
    "duration": 14,
    "start_time": "2024-03-30T23:37:06.705Z"
   },
   {
    "duration": 26,
    "start_time": "2024-03-30T23:39:49.427Z"
   },
   {
    "duration": 24,
    "start_time": "2024-03-30T23:40:06.441Z"
   },
   {
    "duration": 27,
    "start_time": "2024-03-30T23:41:43.165Z"
   },
   {
    "duration": 24,
    "start_time": "2024-03-30T23:41:54.946Z"
   },
   {
    "duration": 8110,
    "start_time": "2024-03-30T23:42:10.029Z"
   },
   {
    "duration": 1471,
    "start_time": "2024-03-30T23:42:18.141Z"
   },
   {
    "duration": 3,
    "start_time": "2024-03-30T23:42:19.613Z"
   },
   {
    "duration": 84,
    "start_time": "2024-03-30T23:42:19.618Z"
   },
   {
    "duration": 2,
    "start_time": "2024-03-30T23:42:19.703Z"
   },
   {
    "duration": 4,
    "start_time": "2024-03-30T23:42:19.707Z"
   },
   {
    "duration": 3,
    "start_time": "2024-03-30T23:42:19.712Z"
   },
   {
    "duration": 5,
    "start_time": "2024-03-30T23:42:19.716Z"
   },
   {
    "duration": 4,
    "start_time": "2024-03-30T23:42:19.722Z"
   },
   {
    "duration": 29,
    "start_time": "2024-03-30T23:42:19.728Z"
   },
   {
    "duration": 3,
    "start_time": "2024-03-30T23:42:19.758Z"
   },
   {
    "duration": 48,
    "start_time": "2024-03-30T23:42:19.762Z"
   },
   {
    "duration": 3,
    "start_time": "2024-03-30T23:42:19.811Z"
   },
   {
    "duration": 14,
    "start_time": "2024-03-30T23:42:19.815Z"
   },
   {
    "duration": 3,
    "start_time": "2024-03-30T23:42:19.830Z"
   },
   {
    "duration": 11,
    "start_time": "2024-03-30T23:42:19.834Z"
   },
   {
    "duration": 2,
    "start_time": "2024-03-30T23:42:19.846Z"
   },
   {
    "duration": 3,
    "start_time": "2024-03-30T23:42:19.849Z"
   },
   {
    "duration": 6,
    "start_time": "2024-03-30T23:42:19.853Z"
   },
   {
    "duration": 1584,
    "start_time": "2024-03-30T23:42:19.860Z"
   },
   {
    "duration": 4,
    "start_time": "2024-03-30T23:42:21.445Z"
   },
   {
    "duration": 20,
    "start_time": "2024-03-30T23:42:21.451Z"
   },
   {
    "duration": 159,
    "start_time": "2024-03-30T23:42:21.472Z"
   },
   {
    "duration": 127,
    "start_time": "2024-03-30T23:42:21.633Z"
   },
   {
    "duration": 143,
    "start_time": "2024-03-30T23:42:21.761Z"
   },
   {
    "duration": 5,
    "start_time": "2024-03-30T23:42:21.906Z"
   },
   {
    "duration": 33,
    "start_time": "2024-03-30T23:42:21.912Z"
   },
   {
    "duration": 22,
    "start_time": "2024-03-30T23:42:21.949Z"
   },
   {
    "duration": 9,
    "start_time": "2024-03-30T23:42:21.973Z"
   },
   {
    "duration": 24,
    "start_time": "2024-03-30T23:42:21.984Z"
   },
   {
    "duration": 15,
    "start_time": "2024-03-30T23:42:22.009Z"
   },
   {
    "duration": 14,
    "start_time": "2024-03-30T23:42:22.026Z"
   },
   {
    "duration": 22,
    "start_time": "2024-03-30T23:42:22.042Z"
   },
   {
    "duration": 10,
    "start_time": "2024-03-30T23:42:22.066Z"
   },
   {
    "duration": 19,
    "start_time": "2024-03-30T23:42:22.077Z"
   },
   {
    "duration": 36,
    "start_time": "2024-03-30T23:42:22.098Z"
   },
   {
    "duration": 37,
    "start_time": "2024-03-30T23:42:22.135Z"
   },
   {
    "duration": 3,
    "start_time": "2024-03-30T23:42:22.173Z"
   },
   {
    "duration": 17,
    "start_time": "2024-03-30T23:42:22.177Z"
   },
   {
    "duration": 2028,
    "start_time": "2024-03-30T23:42:22.196Z"
   },
   {
    "duration": 11,
    "start_time": "2024-03-30T23:42:24.226Z"
   },
   {
    "duration": 7,
    "start_time": "2024-03-30T23:42:24.239Z"
   },
   {
    "duration": 3,
    "start_time": "2024-03-30T23:42:24.247Z"
   },
   {
    "duration": 10,
    "start_time": "2024-03-30T23:42:24.251Z"
   },
   {
    "duration": 7,
    "start_time": "2024-03-30T23:42:24.262Z"
   },
   {
    "duration": 5,
    "start_time": "2024-03-30T23:42:24.271Z"
   },
   {
    "duration": 30,
    "start_time": "2024-03-30T23:42:24.278Z"
   },
   {
    "duration": 3,
    "start_time": "2024-03-30T23:42:24.309Z"
   },
   {
    "duration": 12,
    "start_time": "2024-03-30T23:42:24.313Z"
   },
   {
    "duration": 3,
    "start_time": "2024-03-30T23:42:24.326Z"
   },
   {
    "duration": 7,
    "start_time": "2024-03-30T23:42:24.330Z"
   },
   {
    "duration": 10,
    "start_time": "2024-03-30T23:42:24.339Z"
   },
   {
    "duration": 3,
    "start_time": "2024-03-30T23:42:24.350Z"
   },
   {
    "duration": 11,
    "start_time": "2024-03-30T23:42:24.354Z"
   },
   {
    "duration": 6,
    "start_time": "2024-03-30T23:42:24.366Z"
   },
   {
    "duration": 63368,
    "start_time": "2024-03-30T23:42:24.372Z"
   },
   {
    "duration": 4,
    "start_time": "2024-03-30T23:43:27.741Z"
   },
   {
    "duration": 68,
    "start_time": "2024-03-30T23:43:27.746Z"
   },
   {
    "duration": 130122,
    "start_time": "2024-03-30T23:43:27.815Z"
   },
   {
    "duration": 0,
    "start_time": "2024-03-30T23:45:37.939Z"
   },
   {
    "duration": 0,
    "start_time": "2024-03-30T23:45:37.940Z"
   },
   {
    "duration": 0,
    "start_time": "2024-03-30T23:45:37.941Z"
   },
   {
    "duration": 0,
    "start_time": "2024-03-30T23:45:37.942Z"
   },
   {
    "duration": 0,
    "start_time": "2024-03-30T23:45:37.942Z"
   },
   {
    "duration": 31,
    "start_time": "2024-03-30T23:45:52.416Z"
   },
   {
    "duration": 28,
    "start_time": "2024-03-30T23:47:10.481Z"
   },
   {
    "duration": 8225,
    "start_time": "2024-03-30T23:47:57.427Z"
   },
   {
    "duration": 1458,
    "start_time": "2024-03-30T23:48:05.654Z"
   },
   {
    "duration": 3,
    "start_time": "2024-03-30T23:48:07.113Z"
   },
   {
    "duration": 94,
    "start_time": "2024-03-30T23:48:07.118Z"
   },
   {
    "duration": 3,
    "start_time": "2024-03-30T23:48:07.213Z"
   },
   {
    "duration": 24,
    "start_time": "2024-03-30T23:48:07.216Z"
   },
   {
    "duration": 11,
    "start_time": "2024-03-30T23:48:07.241Z"
   },
   {
    "duration": 8,
    "start_time": "2024-03-30T23:48:07.253Z"
   },
   {
    "duration": 5,
    "start_time": "2024-03-30T23:48:07.263Z"
   },
   {
    "duration": 30,
    "start_time": "2024-03-30T23:48:07.270Z"
   },
   {
    "duration": 3,
    "start_time": "2024-03-30T23:48:07.301Z"
   },
   {
    "duration": 22,
    "start_time": "2024-03-30T23:48:07.305Z"
   },
   {
    "duration": 3,
    "start_time": "2024-03-30T23:48:07.328Z"
   },
   {
    "duration": 17,
    "start_time": "2024-03-30T23:48:07.333Z"
   },
   {
    "duration": 5,
    "start_time": "2024-03-30T23:48:07.351Z"
   },
   {
    "duration": 10,
    "start_time": "2024-03-30T23:48:07.358Z"
   },
   {
    "duration": 3,
    "start_time": "2024-03-30T23:48:07.369Z"
   },
   {
    "duration": 28,
    "start_time": "2024-03-30T23:48:07.374Z"
   },
   {
    "duration": 17,
    "start_time": "2024-03-30T23:48:07.403Z"
   },
   {
    "duration": 1490,
    "start_time": "2024-03-30T23:48:07.422Z"
   },
   {
    "duration": 4,
    "start_time": "2024-03-30T23:48:08.914Z"
   },
   {
    "duration": 32,
    "start_time": "2024-03-30T23:48:08.920Z"
   },
   {
    "duration": 157,
    "start_time": "2024-03-30T23:48:08.953Z"
   },
   {
    "duration": 138,
    "start_time": "2024-03-30T23:48:09.111Z"
   },
   {
    "duration": 146,
    "start_time": "2024-03-30T23:48:09.250Z"
   },
   {
    "duration": 6,
    "start_time": "2024-03-30T23:48:09.398Z"
   },
   {
    "duration": 61,
    "start_time": "2024-03-30T23:48:09.405Z"
   },
   {
    "duration": 22,
    "start_time": "2024-03-30T23:48:09.469Z"
   },
   {
    "duration": 9,
    "start_time": "2024-03-30T23:48:09.493Z"
   },
   {
    "duration": 10,
    "start_time": "2024-03-30T23:48:09.504Z"
   },
   {
    "duration": 10,
    "start_time": "2024-03-30T23:48:09.515Z"
   },
   {
    "duration": 44,
    "start_time": "2024-03-30T23:48:09.526Z"
   },
   {
    "duration": 13,
    "start_time": "2024-03-30T23:48:09.571Z"
   },
   {
    "duration": 2135,
    "start_time": "2024-03-30T23:48:09.585Z"
   },
   {
    "duration": 14,
    "start_time": "2024-03-30T23:48:11.722Z"
   },
   {
    "duration": 12,
    "start_time": "2024-03-30T23:48:11.737Z"
   },
   {
    "duration": 13,
    "start_time": "2024-03-30T23:48:11.751Z"
   },
   {
    "duration": 29,
    "start_time": "2024-03-30T23:48:11.765Z"
   },
   {
    "duration": 34,
    "start_time": "2024-03-30T23:48:11.795Z"
   },
   {
    "duration": 5,
    "start_time": "2024-03-30T23:48:11.831Z"
   },
   {
    "duration": 17,
    "start_time": "2024-03-30T23:48:11.838Z"
   },
   {
    "duration": 18,
    "start_time": "2024-03-30T23:48:11.856Z"
   },
   {
    "duration": 4,
    "start_time": "2024-03-30T23:48:11.875Z"
   },
   {
    "duration": 15,
    "start_time": "2024-03-30T23:48:11.880Z"
   },
   {
    "duration": 12,
    "start_time": "2024-03-30T23:48:11.897Z"
   },
   {
    "duration": 31,
    "start_time": "2024-03-30T23:48:11.910Z"
   },
   {
    "duration": 8,
    "start_time": "2024-03-30T23:48:11.942Z"
   },
   {
    "duration": 30,
    "start_time": "2024-03-30T23:48:11.951Z"
   },
   {
    "duration": 20,
    "start_time": "2024-03-30T23:48:11.982Z"
   },
   {
    "duration": 5592,
    "start_time": "2024-03-30T23:48:12.003Z"
   },
   {
    "duration": 0,
    "start_time": "2024-03-30T23:48:17.596Z"
   },
   {
    "duration": 0,
    "start_time": "2024-03-30T23:48:17.597Z"
   },
   {
    "duration": 0,
    "start_time": "2024-03-30T23:48:17.601Z"
   },
   {
    "duration": 0,
    "start_time": "2024-03-30T23:48:17.602Z"
   },
   {
    "duration": 0,
    "start_time": "2024-03-30T23:48:17.602Z"
   },
   {
    "duration": 0,
    "start_time": "2024-03-30T23:48:17.603Z"
   },
   {
    "duration": 0,
    "start_time": "2024-03-30T23:48:17.604Z"
   },
   {
    "duration": 54,
    "start_time": "2024-03-30T23:49:03.460Z"
   },
   {
    "duration": 5,
    "start_time": "2024-03-30T23:51:09.600Z"
   },
   {
    "duration": 9,
    "start_time": "2024-03-30T23:51:16.788Z"
   },
   {
    "duration": 5,
    "start_time": "2024-03-30T23:51:59.792Z"
   },
   {
    "duration": 9,
    "start_time": "2024-03-30T23:52:01.563Z"
   },
   {
    "duration": 8093,
    "start_time": "2024-03-30T23:52:26.359Z"
   },
   {
    "duration": 1490,
    "start_time": "2024-03-30T23:52:34.454Z"
   },
   {
    "duration": 4,
    "start_time": "2024-03-30T23:52:35.945Z"
   },
   {
    "duration": 85,
    "start_time": "2024-03-30T23:52:35.951Z"
   },
   {
    "duration": 3,
    "start_time": "2024-03-30T23:52:36.037Z"
   },
   {
    "duration": 5,
    "start_time": "2024-03-30T23:52:36.041Z"
   },
   {
    "duration": 7,
    "start_time": "2024-03-30T23:52:36.047Z"
   },
   {
    "duration": 22,
    "start_time": "2024-03-30T23:52:36.056Z"
   },
   {
    "duration": 4,
    "start_time": "2024-03-30T23:52:36.080Z"
   },
   {
    "duration": 35,
    "start_time": "2024-03-30T23:52:36.086Z"
   },
   {
    "duration": 2,
    "start_time": "2024-03-30T23:52:36.123Z"
   },
   {
    "duration": 30,
    "start_time": "2024-03-30T23:52:36.126Z"
   },
   {
    "duration": 3,
    "start_time": "2024-03-30T23:52:36.157Z"
   },
   {
    "duration": 40,
    "start_time": "2024-03-30T23:52:36.161Z"
   },
   {
    "duration": 3,
    "start_time": "2024-03-30T23:52:36.203Z"
   },
   {
    "duration": 13,
    "start_time": "2024-03-30T23:52:36.208Z"
   },
   {
    "duration": 3,
    "start_time": "2024-03-30T23:52:36.222Z"
   },
   {
    "duration": 6,
    "start_time": "2024-03-30T23:52:36.227Z"
   },
   {
    "duration": 5,
    "start_time": "2024-03-30T23:52:36.234Z"
   },
   {
    "duration": 1691,
    "start_time": "2024-03-30T23:52:36.241Z"
   },
   {
    "duration": 4,
    "start_time": "2024-03-30T23:52:37.933Z"
   },
   {
    "duration": 14,
    "start_time": "2024-03-30T23:52:37.939Z"
   },
   {
    "duration": 157,
    "start_time": "2024-03-30T23:52:37.955Z"
   },
   {
    "duration": 124,
    "start_time": "2024-03-30T23:52:38.114Z"
   },
   {
    "duration": 159,
    "start_time": "2024-03-30T23:52:38.240Z"
   },
   {
    "duration": 4,
    "start_time": "2024-03-30T23:52:38.401Z"
   },
   {
    "duration": 23,
    "start_time": "2024-03-30T23:52:38.406Z"
   },
   {
    "duration": 22,
    "start_time": "2024-03-30T23:52:38.433Z"
   },
   {
    "duration": 12,
    "start_time": "2024-03-30T23:52:38.456Z"
   },
   {
    "duration": 9,
    "start_time": "2024-03-30T23:52:38.469Z"
   },
   {
    "duration": 28,
    "start_time": "2024-03-30T23:52:38.479Z"
   },
   {
    "duration": 29,
    "start_time": "2024-03-30T23:52:38.508Z"
   },
   {
    "duration": 12,
    "start_time": "2024-03-30T23:52:38.538Z"
   },
   {
    "duration": 2157,
    "start_time": "2024-03-30T23:52:38.551Z"
   },
   {
    "duration": 13,
    "start_time": "2024-03-30T23:52:40.709Z"
   },
   {
    "duration": 33,
    "start_time": "2024-03-30T23:52:40.724Z"
   },
   {
    "duration": 8,
    "start_time": "2024-03-30T23:52:40.758Z"
   },
   {
    "duration": 12,
    "start_time": "2024-03-30T23:52:40.767Z"
   },
   {
    "duration": 12,
    "start_time": "2024-03-30T23:52:40.780Z"
   },
   {
    "duration": 8,
    "start_time": "2024-03-30T23:52:40.793Z"
   },
   {
    "duration": 11,
    "start_time": "2024-03-30T23:52:40.802Z"
   },
   {
    "duration": 16,
    "start_time": "2024-03-30T23:52:40.815Z"
   },
   {
    "duration": 7,
    "start_time": "2024-03-30T23:52:40.833Z"
   },
   {
    "duration": 4,
    "start_time": "2024-03-30T23:52:40.842Z"
   },
   {
    "duration": 7,
    "start_time": "2024-03-30T23:52:40.847Z"
   },
   {
    "duration": 13,
    "start_time": "2024-03-30T23:52:40.855Z"
   },
   {
    "duration": 7,
    "start_time": "2024-03-30T23:52:40.869Z"
   },
   {
    "duration": 16,
    "start_time": "2024-03-30T23:52:40.877Z"
   },
   {
    "duration": 19,
    "start_time": "2024-03-30T23:52:40.894Z"
   },
   {
    "duration": 5525,
    "start_time": "2024-03-30T23:52:40.914Z"
   },
   {
    "duration": 0,
    "start_time": "2024-03-30T23:52:46.440Z"
   },
   {
    "duration": 0,
    "start_time": "2024-03-30T23:52:46.441Z"
   },
   {
    "duration": 0,
    "start_time": "2024-03-30T23:52:46.442Z"
   },
   {
    "duration": 0,
    "start_time": "2024-03-30T23:52:46.443Z"
   },
   {
    "duration": 0,
    "start_time": "2024-03-30T23:52:46.444Z"
   },
   {
    "duration": 0,
    "start_time": "2024-03-30T23:52:46.445Z"
   },
   {
    "duration": 0,
    "start_time": "2024-03-30T23:52:46.445Z"
   },
   {
    "duration": 5,
    "start_time": "2024-03-30T23:55:55.122Z"
   },
   {
    "duration": 5,
    "start_time": "2024-03-30T23:57:15.696Z"
   },
   {
    "duration": 8095,
    "start_time": "2024-03-30T23:59:43.235Z"
   },
   {
    "duration": 1497,
    "start_time": "2024-03-30T23:59:51.332Z"
   },
   {
    "duration": 3,
    "start_time": "2024-03-30T23:59:52.830Z"
   },
   {
    "duration": 90,
    "start_time": "2024-03-30T23:59:52.835Z"
   },
   {
    "duration": 2,
    "start_time": "2024-03-30T23:59:52.927Z"
   },
   {
    "duration": 29,
    "start_time": "2024-03-30T23:59:52.930Z"
   },
   {
    "duration": 5,
    "start_time": "2024-03-30T23:59:52.961Z"
   },
   {
    "duration": 11,
    "start_time": "2024-03-30T23:59:52.968Z"
   },
   {
    "duration": 19,
    "start_time": "2024-03-30T23:59:52.980Z"
   },
   {
    "duration": 38,
    "start_time": "2024-03-30T23:59:53.001Z"
   },
   {
    "duration": 2,
    "start_time": "2024-03-30T23:59:53.041Z"
   },
   {
    "duration": 54,
    "start_time": "2024-03-30T23:59:53.044Z"
   },
   {
    "duration": 3,
    "start_time": "2024-03-30T23:59:53.099Z"
   },
   {
    "duration": 47,
    "start_time": "2024-03-30T23:59:53.103Z"
   },
   {
    "duration": 13,
    "start_time": "2024-03-30T23:59:53.151Z"
   },
   {
    "duration": 20,
    "start_time": "2024-03-30T23:59:53.165Z"
   },
   {
    "duration": 13,
    "start_time": "2024-03-30T23:59:53.186Z"
   },
   {
    "duration": 16,
    "start_time": "2024-03-30T23:59:53.200Z"
   },
   {
    "duration": 20,
    "start_time": "2024-03-30T23:59:53.218Z"
   },
   {
    "duration": 1565,
    "start_time": "2024-03-30T23:59:53.239Z"
   },
   {
    "duration": 5,
    "start_time": "2024-03-30T23:59:54.806Z"
   },
   {
    "duration": 13,
    "start_time": "2024-03-30T23:59:54.812Z"
   },
   {
    "duration": 164,
    "start_time": "2024-03-30T23:59:54.826Z"
   },
   {
    "duration": 126,
    "start_time": "2024-03-30T23:59:54.991Z"
   },
   {
    "duration": 151,
    "start_time": "2024-03-30T23:59:55.118Z"
   },
   {
    "duration": 4,
    "start_time": "2024-03-30T23:59:55.271Z"
   },
   {
    "duration": 30,
    "start_time": "2024-03-30T23:59:55.276Z"
   },
   {
    "duration": 22,
    "start_time": "2024-03-30T23:59:55.309Z"
   },
   {
    "duration": 9,
    "start_time": "2024-03-30T23:59:55.333Z"
   },
   {
    "duration": 26,
    "start_time": "2024-03-30T23:59:55.343Z"
   },
   {
    "duration": 9,
    "start_time": "2024-03-30T23:59:55.370Z"
   },
   {
    "duration": 40,
    "start_time": "2024-03-30T23:59:55.380Z"
   },
   {
    "duration": 11,
    "start_time": "2024-03-30T23:59:55.421Z"
   },
   {
    "duration": 2157,
    "start_time": "2024-03-30T23:59:55.434Z"
   },
   {
    "duration": 15,
    "start_time": "2024-03-30T23:59:57.593Z"
   },
   {
    "duration": 19,
    "start_time": "2024-03-30T23:59:57.609Z"
   },
   {
    "duration": 7,
    "start_time": "2024-03-30T23:59:57.629Z"
   },
   {
    "duration": 13,
    "start_time": "2024-03-30T23:59:57.637Z"
   },
   {
    "duration": 18,
    "start_time": "2024-03-30T23:59:57.651Z"
   },
   {
    "duration": 3,
    "start_time": "2024-03-30T23:59:57.670Z"
   },
   {
    "duration": 8,
    "start_time": "2024-03-30T23:59:57.675Z"
   },
   {
    "duration": 5,
    "start_time": "2024-03-30T23:59:57.685Z"
   },
   {
    "duration": 3,
    "start_time": "2024-03-30T23:59:57.692Z"
   },
   {
    "duration": 12,
    "start_time": "2024-03-30T23:59:57.697Z"
   },
   {
    "duration": 9,
    "start_time": "2024-03-30T23:59:57.710Z"
   },
   {
    "duration": 8,
    "start_time": "2024-03-30T23:59:57.720Z"
   },
   {
    "duration": 6,
    "start_time": "2024-03-30T23:59:57.729Z"
   },
   {
    "duration": 5,
    "start_time": "2024-03-30T23:59:57.737Z"
   },
   {
    "duration": 15,
    "start_time": "2024-03-30T23:59:57.743Z"
   },
   {
    "duration": 5847,
    "start_time": "2024-03-30T23:59:57.759Z"
   },
   {
    "duration": 0,
    "start_time": "2024-03-31T00:00:03.608Z"
   },
   {
    "duration": 0,
    "start_time": "2024-03-31T00:00:03.609Z"
   },
   {
    "duration": 0,
    "start_time": "2024-03-31T00:00:03.610Z"
   },
   {
    "duration": 0,
    "start_time": "2024-03-31T00:00:03.611Z"
   },
   {
    "duration": 0,
    "start_time": "2024-03-31T00:00:03.611Z"
   },
   {
    "duration": 0,
    "start_time": "2024-03-31T00:00:03.613Z"
   },
   {
    "duration": 0,
    "start_time": "2024-03-31T00:00:03.613Z"
   },
   {
    "duration": 3,
    "start_time": "2024-03-31T00:01:57.766Z"
   },
   {
    "duration": 4,
    "start_time": "2024-03-31T00:02:35.724Z"
   },
   {
    "duration": 3,
    "start_time": "2024-03-31T00:02:56.568Z"
   },
   {
    "duration": 4,
    "start_time": "2024-03-31T00:02:56.866Z"
   },
   {
    "duration": 3,
    "start_time": "2024-03-31T00:03:06.601Z"
   },
   {
    "duration": 4,
    "start_time": "2024-03-31T00:03:07.064Z"
   },
   {
    "duration": 8127,
    "start_time": "2024-03-31T00:03:12.812Z"
   },
   {
    "duration": 1509,
    "start_time": "2024-03-31T00:03:20.941Z"
   },
   {
    "duration": 3,
    "start_time": "2024-03-31T00:03:22.451Z"
   },
   {
    "duration": 87,
    "start_time": "2024-03-31T00:03:22.456Z"
   },
   {
    "duration": 3,
    "start_time": "2024-03-31T00:03:22.544Z"
   },
   {
    "duration": 3,
    "start_time": "2024-03-31T00:03:22.549Z"
   },
   {
    "duration": 4,
    "start_time": "2024-03-31T00:03:22.554Z"
   },
   {
    "duration": 6,
    "start_time": "2024-03-31T00:03:22.560Z"
   },
   {
    "duration": 4,
    "start_time": "2024-03-31T00:03:22.568Z"
   },
   {
    "duration": 38,
    "start_time": "2024-03-31T00:03:22.575Z"
   },
   {
    "duration": 3,
    "start_time": "2024-03-31T00:03:22.614Z"
   },
   {
    "duration": 25,
    "start_time": "2024-03-31T00:03:22.618Z"
   },
   {
    "duration": 4,
    "start_time": "2024-03-31T00:03:22.644Z"
   },
   {
    "duration": 26,
    "start_time": "2024-03-31T00:03:22.649Z"
   },
   {
    "duration": 13,
    "start_time": "2024-03-31T00:03:22.676Z"
   },
   {
    "duration": 26,
    "start_time": "2024-03-31T00:03:22.690Z"
   },
   {
    "duration": 3,
    "start_time": "2024-03-31T00:03:22.717Z"
   },
   {
    "duration": 5,
    "start_time": "2024-03-31T00:03:22.721Z"
   },
   {
    "duration": 5,
    "start_time": "2024-03-31T00:03:22.727Z"
   },
   {
    "duration": 1527,
    "start_time": "2024-03-31T00:03:22.733Z"
   },
   {
    "duration": 4,
    "start_time": "2024-03-31T00:03:24.261Z"
   },
   {
    "duration": 15,
    "start_time": "2024-03-31T00:03:24.267Z"
   },
   {
    "duration": 162,
    "start_time": "2024-03-31T00:03:24.284Z"
   },
   {
    "duration": 123,
    "start_time": "2024-03-31T00:03:24.447Z"
   },
   {
    "duration": 146,
    "start_time": "2024-03-31T00:03:24.572Z"
   },
   {
    "duration": 4,
    "start_time": "2024-03-31T00:03:24.720Z"
   },
   {
    "duration": 23,
    "start_time": "2024-03-31T00:03:24.725Z"
   },
   {
    "duration": 23,
    "start_time": "2024-03-31T00:03:24.751Z"
   },
   {
    "duration": 27,
    "start_time": "2024-03-31T00:03:24.776Z"
   },
   {
    "duration": 10,
    "start_time": "2024-03-31T00:03:24.804Z"
   },
   {
    "duration": 10,
    "start_time": "2024-03-31T00:03:24.815Z"
   },
   {
    "duration": 30,
    "start_time": "2024-03-31T00:03:24.826Z"
   },
   {
    "duration": 12,
    "start_time": "2024-03-31T00:03:24.858Z"
   },
   {
    "duration": 2131,
    "start_time": "2024-03-31T00:03:24.871Z"
   },
   {
    "duration": 14,
    "start_time": "2024-03-31T00:03:27.004Z"
   },
   {
    "duration": 9,
    "start_time": "2024-03-31T00:03:27.019Z"
   },
   {
    "duration": 6,
    "start_time": "2024-03-31T00:03:27.030Z"
   },
   {
    "duration": 9,
    "start_time": "2024-03-31T00:03:27.038Z"
   },
   {
    "duration": 5,
    "start_time": "2024-03-31T00:03:27.049Z"
   },
   {
    "duration": 7,
    "start_time": "2024-03-31T00:03:27.056Z"
   },
   {
    "duration": 15,
    "start_time": "2024-03-31T00:03:27.064Z"
   },
   {
    "duration": 9,
    "start_time": "2024-03-31T00:03:27.080Z"
   },
   {
    "duration": 2,
    "start_time": "2024-03-31T00:03:27.102Z"
   },
   {
    "duration": 35,
    "start_time": "2024-03-31T00:03:27.106Z"
   },
   {
    "duration": 5,
    "start_time": "2024-03-31T00:03:27.142Z"
   },
   {
    "duration": 11,
    "start_time": "2024-03-31T00:03:27.148Z"
   },
   {
    "duration": 6,
    "start_time": "2024-03-31T00:03:27.160Z"
   },
   {
    "duration": 5,
    "start_time": "2024-03-31T00:03:27.167Z"
   },
   {
    "duration": 8,
    "start_time": "2024-03-31T00:03:27.173Z"
   },
   {
    "duration": 7,
    "start_time": "2024-03-31T00:03:27.182Z"
   },
   {
    "duration": 691,
    "start_time": "2024-03-31T00:03:27.190Z"
   },
   {
    "duration": 0,
    "start_time": "2024-03-31T00:03:27.883Z"
   },
   {
    "duration": 0,
    "start_time": "2024-03-31T00:03:27.885Z"
   },
   {
    "duration": 0,
    "start_time": "2024-03-31T00:03:27.886Z"
   },
   {
    "duration": 0,
    "start_time": "2024-03-31T00:03:27.888Z"
   },
   {
    "duration": 0,
    "start_time": "2024-03-31T00:03:27.889Z"
   },
   {
    "duration": 0,
    "start_time": "2024-03-31T00:03:27.890Z"
   },
   {
    "duration": 0,
    "start_time": "2024-03-31T00:03:27.901Z"
   },
   {
    "duration": 8157,
    "start_time": "2024-03-31T00:04:21.390Z"
   },
   {
    "duration": 1506,
    "start_time": "2024-03-31T00:04:29.549Z"
   },
   {
    "duration": 3,
    "start_time": "2024-03-31T00:04:31.059Z"
   },
   {
    "duration": 147,
    "start_time": "2024-03-31T00:04:31.063Z"
   },
   {
    "duration": 3,
    "start_time": "2024-03-31T00:04:31.212Z"
   },
   {
    "duration": 26,
    "start_time": "2024-03-31T00:04:31.216Z"
   },
   {
    "duration": 30,
    "start_time": "2024-03-31T00:04:31.243Z"
   },
   {
    "duration": 48,
    "start_time": "2024-03-31T00:04:31.275Z"
   },
   {
    "duration": 31,
    "start_time": "2024-03-31T00:04:31.325Z"
   },
   {
    "duration": 44,
    "start_time": "2024-03-31T00:04:31.357Z"
   },
   {
    "duration": 11,
    "start_time": "2024-03-31T00:04:31.402Z"
   },
   {
    "duration": 38,
    "start_time": "2024-03-31T00:04:31.415Z"
   },
   {
    "duration": 12,
    "start_time": "2024-03-31T00:04:31.454Z"
   },
   {
    "duration": 42,
    "start_time": "2024-03-31T00:04:31.467Z"
   },
   {
    "duration": 21,
    "start_time": "2024-03-31T00:04:31.510Z"
   },
   {
    "duration": 32,
    "start_time": "2024-03-31T00:04:31.532Z"
   },
   {
    "duration": 9,
    "start_time": "2024-03-31T00:04:31.565Z"
   },
   {
    "duration": 19,
    "start_time": "2024-03-31T00:04:31.575Z"
   },
   {
    "duration": 26,
    "start_time": "2024-03-31T00:04:31.595Z"
   },
   {
    "duration": 1506,
    "start_time": "2024-03-31T00:04:31.622Z"
   },
   {
    "duration": 5,
    "start_time": "2024-03-31T00:04:33.129Z"
   },
   {
    "duration": 21,
    "start_time": "2024-03-31T00:04:33.135Z"
   },
   {
    "duration": 167,
    "start_time": "2024-03-31T00:04:33.157Z"
   },
   {
    "duration": 123,
    "start_time": "2024-03-31T00:04:33.326Z"
   },
   {
    "duration": 144,
    "start_time": "2024-03-31T00:04:33.451Z"
   },
   {
    "duration": 7,
    "start_time": "2024-03-31T00:04:33.596Z"
   },
   {
    "duration": 35,
    "start_time": "2024-03-31T00:04:33.607Z"
   },
   {
    "duration": 22,
    "start_time": "2024-03-31T00:04:33.643Z"
   },
   {
    "duration": 10,
    "start_time": "2024-03-31T00:04:33.666Z"
   },
   {
    "duration": 28,
    "start_time": "2024-03-31T00:04:33.677Z"
   },
   {
    "duration": 9,
    "start_time": "2024-03-31T00:04:33.706Z"
   },
   {
    "duration": 30,
    "start_time": "2024-03-31T00:04:33.716Z"
   },
   {
    "duration": 13,
    "start_time": "2024-03-31T00:04:33.748Z"
   },
   {
    "duration": 2160,
    "start_time": "2024-03-31T00:04:33.762Z"
   },
   {
    "duration": 12,
    "start_time": "2024-03-31T00:04:35.924Z"
   },
   {
    "duration": 40,
    "start_time": "2024-03-31T00:04:35.937Z"
   },
   {
    "duration": 25,
    "start_time": "2024-03-31T00:04:35.978Z"
   },
   {
    "duration": 39,
    "start_time": "2024-03-31T00:04:36.005Z"
   },
   {
    "duration": 6,
    "start_time": "2024-03-31T00:04:36.045Z"
   },
   {
    "duration": 3,
    "start_time": "2024-03-31T00:04:36.052Z"
   },
   {
    "duration": 7,
    "start_time": "2024-03-31T00:04:36.056Z"
   },
   {
    "duration": 5,
    "start_time": "2024-03-31T00:04:36.064Z"
   },
   {
    "duration": 6,
    "start_time": "2024-03-31T00:04:36.070Z"
   },
   {
    "duration": 8,
    "start_time": "2024-03-31T00:04:36.077Z"
   },
   {
    "duration": 5,
    "start_time": "2024-03-31T00:04:36.086Z"
   },
   {
    "duration": 7,
    "start_time": "2024-03-31T00:04:36.092Z"
   },
   {
    "duration": 12,
    "start_time": "2024-03-31T00:04:36.100Z"
   },
   {
    "duration": 26,
    "start_time": "2024-03-31T00:04:36.114Z"
   },
   {
    "duration": 12,
    "start_time": "2024-03-31T00:04:36.141Z"
   },
   {
    "duration": 7,
    "start_time": "2024-03-31T00:04:36.154Z"
   },
   {
    "duration": 2196,
    "start_time": "2024-03-31T00:04:36.162Z"
   },
   {
    "duration": 3,
    "start_time": "2024-03-31T00:04:38.359Z"
   },
   {
    "duration": 53,
    "start_time": "2024-03-31T00:04:38.363Z"
   },
   {
    "duration": 83159,
    "start_time": "2024-03-31T00:04:38.417Z"
   },
   {
    "duration": 4,
    "start_time": "2024-03-31T00:06:01.577Z"
   },
   {
    "duration": 402,
    "start_time": "2024-03-31T00:06:01.582Z"
   },
   {
    "duration": 0,
    "start_time": "2024-03-31T00:06:01.985Z"
   },
   {
    "duration": 0,
    "start_time": "2024-03-31T00:06:01.986Z"
   },
   {
    "duration": 8,
    "start_time": "2024-03-31T00:16:16.388Z"
   },
   {
    "duration": 16,
    "start_time": "2024-03-31T00:18:45.642Z"
   },
   {
    "duration": 8278,
    "start_time": "2024-03-31T00:18:52.220Z"
   },
   {
    "duration": 1516,
    "start_time": "2024-03-31T00:19:00.500Z"
   },
   {
    "duration": 3,
    "start_time": "2024-03-31T00:19:02.017Z"
   },
   {
    "duration": 91,
    "start_time": "2024-03-31T00:19:02.022Z"
   },
   {
    "duration": 3,
    "start_time": "2024-03-31T00:19:02.114Z"
   },
   {
    "duration": 4,
    "start_time": "2024-03-31T00:19:02.118Z"
   },
   {
    "duration": 3,
    "start_time": "2024-03-31T00:19:02.123Z"
   },
   {
    "duration": 4,
    "start_time": "2024-03-31T00:19:02.128Z"
   },
   {
    "duration": 6,
    "start_time": "2024-03-31T00:19:02.133Z"
   },
   {
    "duration": 36,
    "start_time": "2024-03-31T00:19:02.141Z"
   },
   {
    "duration": 3,
    "start_time": "2024-03-31T00:19:02.178Z"
   },
   {
    "duration": 40,
    "start_time": "2024-03-31T00:19:02.182Z"
   },
   {
    "duration": 3,
    "start_time": "2024-03-31T00:19:02.223Z"
   },
   {
    "duration": 16,
    "start_time": "2024-03-31T00:19:02.227Z"
   },
   {
    "duration": 10,
    "start_time": "2024-03-31T00:19:02.244Z"
   },
   {
    "duration": 15,
    "start_time": "2024-03-31T00:19:02.255Z"
   },
   {
    "duration": 16,
    "start_time": "2024-03-31T00:19:02.271Z"
   },
   {
    "duration": 5,
    "start_time": "2024-03-31T00:19:02.288Z"
   },
   {
    "duration": 11,
    "start_time": "2024-03-31T00:19:02.294Z"
   },
   {
    "duration": 1538,
    "start_time": "2024-03-31T00:19:02.306Z"
   },
   {
    "duration": 4,
    "start_time": "2024-03-31T00:19:03.845Z"
   },
   {
    "duration": 11,
    "start_time": "2024-03-31T00:19:03.850Z"
   },
   {
    "duration": 158,
    "start_time": "2024-03-31T00:19:03.862Z"
   },
   {
    "duration": 123,
    "start_time": "2024-03-31T00:19:04.022Z"
   },
   {
    "duration": 146,
    "start_time": "2024-03-31T00:19:04.146Z"
   },
   {
    "duration": 10,
    "start_time": "2024-03-31T00:19:04.293Z"
   },
   {
    "duration": 24,
    "start_time": "2024-03-31T00:19:04.304Z"
   },
   {
    "duration": 22,
    "start_time": "2024-03-31T00:19:04.331Z"
   },
   {
    "duration": 9,
    "start_time": "2024-03-31T00:19:04.355Z"
   },
   {
    "duration": 8,
    "start_time": "2024-03-31T00:19:04.365Z"
   },
   {
    "duration": 34,
    "start_time": "2024-03-31T00:19:04.374Z"
   },
   {
    "duration": 29,
    "start_time": "2024-03-31T00:19:04.409Z"
   },
   {
    "duration": 11,
    "start_time": "2024-03-31T00:19:04.440Z"
   },
   {
    "duration": 2144,
    "start_time": "2024-03-31T00:19:04.452Z"
   },
   {
    "duration": 13,
    "start_time": "2024-03-31T00:19:06.597Z"
   },
   {
    "duration": 10,
    "start_time": "2024-03-31T00:19:06.611Z"
   },
   {
    "duration": 7,
    "start_time": "2024-03-31T00:19:06.622Z"
   },
   {
    "duration": 12,
    "start_time": "2024-03-31T00:19:06.630Z"
   },
   {
    "duration": 5,
    "start_time": "2024-03-31T00:19:06.643Z"
   },
   {
    "duration": 9,
    "start_time": "2024-03-31T00:19:06.649Z"
   },
   {
    "duration": 10,
    "start_time": "2024-03-31T00:19:06.659Z"
   },
   {
    "duration": 6,
    "start_time": "2024-03-31T00:19:06.670Z"
   },
   {
    "duration": 5,
    "start_time": "2024-03-31T00:19:06.677Z"
   },
   {
    "duration": 8,
    "start_time": "2024-03-31T00:19:06.684Z"
   },
   {
    "duration": 2,
    "start_time": "2024-03-31T00:19:06.701Z"
   },
   {
    "duration": 12,
    "start_time": "2024-03-31T00:19:06.705Z"
   },
   {
    "duration": 8,
    "start_time": "2024-03-31T00:19:06.719Z"
   },
   {
    "duration": 11,
    "start_time": "2024-03-31T00:19:06.728Z"
   },
   {
    "duration": 5,
    "start_time": "2024-03-31T00:19:06.740Z"
   },
   {
    "duration": 7,
    "start_time": "2024-03-31T00:19:06.746Z"
   },
   {
    "duration": 1958,
    "start_time": "2024-03-31T00:19:06.754Z"
   },
   {
    "duration": 4,
    "start_time": "2024-03-31T00:19:08.713Z"
   },
   {
    "duration": 24,
    "start_time": "2024-03-31T00:19:08.718Z"
   },
   {
    "duration": 80122,
    "start_time": "2024-03-31T00:19:08.743Z"
   },
   {
    "duration": 4,
    "start_time": "2024-03-31T00:20:28.866Z"
   },
   {
    "duration": 346,
    "start_time": "2024-03-31T00:20:28.872Z"
   },
   {
    "duration": 0,
    "start_time": "2024-03-31T00:20:29.219Z"
   },
   {
    "duration": 0,
    "start_time": "2024-03-31T00:20:29.221Z"
   },
   {
    "duration": 25,
    "start_time": "2024-03-31T00:23:47.364Z"
   },
   {
    "duration": 18,
    "start_time": "2024-03-31T00:49:10.519Z"
   },
   {
    "duration": 130,
    "start_time": "2024-03-31T00:49:38.960Z"
   },
   {
    "duration": 27,
    "start_time": "2024-03-31T00:50:29.773Z"
   },
   {
    "duration": 0,
    "start_time": "2024-03-31T00:52:44.438Z"
   },
   {
    "duration": 0,
    "start_time": "2024-03-31T00:52:44.441Z"
   },
   {
    "duration": 26,
    "start_time": "2024-03-31T00:52:47.971Z"
   },
   {
    "duration": 0,
    "start_time": "2024-03-31T00:54:05.984Z"
   },
   {
    "duration": 420626,
    "start_time": "2024-03-31T00:54:07.619Z"
   },
   {
    "duration": 25,
    "start_time": "2024-03-31T01:01:14.042Z"
   },
   {
    "duration": 56,
    "start_time": "2024-03-31T01:01:55.601Z"
   },
   {
    "duration": 26,
    "start_time": "2024-03-31T01:03:06.623Z"
   },
   {
    "duration": 27,
    "start_time": "2024-03-31T01:03:17.587Z"
   },
   {
    "duration": 49,
    "start_time": "2024-03-31T01:03:31.765Z"
   },
   {
    "duration": 35,
    "start_time": "2024-03-31T01:04:45.309Z"
   },
   {
    "duration": 26,
    "start_time": "2024-03-31T01:04:51.252Z"
   },
   {
    "duration": 24,
    "start_time": "2024-03-31T01:05:35.668Z"
   },
   {
    "duration": 0,
    "start_time": "2024-03-31T01:08:48.203Z"
   },
   {
    "duration": 56480,
    "start_time": "2024-03-31T01:08:49.883Z"
   },
   {
    "duration": 56225,
    "start_time": "2024-03-31T01:10:41.300Z"
   },
   {
    "duration": 26,
    "start_time": "2024-03-31T01:14:27.318Z"
   },
   {
    "duration": 26,
    "start_time": "2024-03-31T01:15:43.010Z"
   },
   {
    "duration": 25,
    "start_time": "2024-03-31T01:16:20.695Z"
   },
   {
    "duration": 24,
    "start_time": "2024-03-31T01:16:50.417Z"
   },
   {
    "duration": 26,
    "start_time": "2024-03-31T01:18:18.555Z"
   },
   {
    "duration": 25,
    "start_time": "2024-03-31T01:18:44.799Z"
   },
   {
    "duration": 27,
    "start_time": "2024-03-31T01:19:18.211Z"
   },
   {
    "duration": 25,
    "start_time": "2024-03-31T01:19:49.975Z"
   },
   {
    "duration": 24,
    "start_time": "2024-03-31T01:20:49.041Z"
   },
   {
    "duration": 25,
    "start_time": "2024-03-31T01:22:18.024Z"
   },
   {
    "duration": 9,
    "start_time": "2024-03-31T01:24:40.621Z"
   },
   {
    "duration": 11,
    "start_time": "2024-03-31T01:25:07.993Z"
   },
   {
    "duration": 10,
    "start_time": "2024-03-31T01:25:31.837Z"
   },
   {
    "duration": 10,
    "start_time": "2024-03-31T01:26:09.542Z"
   },
   {
    "duration": 9,
    "start_time": "2024-03-31T01:26:53.493Z"
   },
   {
    "duration": 8,
    "start_time": "2024-03-31T01:26:58.341Z"
   },
   {
    "duration": 21,
    "start_time": "2024-03-31T01:29:55.785Z"
   },
   {
    "duration": 11,
    "start_time": "2024-03-31T01:30:19.739Z"
   },
   {
    "duration": 14,
    "start_time": "2024-03-31T01:31:08.384Z"
   },
   {
    "duration": 45898,
    "start_time": "2024-03-31T01:32:34.265Z"
   },
   {
    "duration": 0,
    "start_time": "2024-03-31T01:33:20.164Z"
   },
   {
    "duration": 56466,
    "start_time": "2024-03-31T01:33:21.559Z"
   },
   {
    "duration": 69864,
    "start_time": "2024-03-31T01:35:21.109Z"
   },
   {
    "duration": 57718,
    "start_time": "2024-03-31T01:36:32.808Z"
   },
   {
    "duration": 19,
    "start_time": "2024-03-31T01:38:01.089Z"
   },
   {
    "duration": 186,
    "start_time": "2024-03-31T01:43:27.562Z"
   },
   {
    "duration": 11916,
    "start_time": "2024-03-31T01:46:27.515Z"
   },
   {
    "duration": 1520,
    "start_time": "2024-03-31T01:46:39.433Z"
   },
   {
    "duration": 3,
    "start_time": "2024-03-31T01:46:40.954Z"
   },
   {
    "duration": 88,
    "start_time": "2024-03-31T01:46:40.958Z"
   },
   {
    "duration": 2,
    "start_time": "2024-03-31T01:46:41.048Z"
   },
   {
    "duration": 3,
    "start_time": "2024-03-31T01:46:41.052Z"
   },
   {
    "duration": 4,
    "start_time": "2024-03-31T01:46:41.056Z"
   },
   {
    "duration": 4,
    "start_time": "2024-03-31T01:46:41.062Z"
   },
   {
    "duration": 5,
    "start_time": "2024-03-31T01:46:41.067Z"
   },
   {
    "duration": 33,
    "start_time": "2024-03-31T01:46:41.075Z"
   },
   {
    "duration": 3,
    "start_time": "2024-03-31T01:46:41.109Z"
   },
   {
    "duration": 24,
    "start_time": "2024-03-31T01:46:41.113Z"
   },
   {
    "duration": 3,
    "start_time": "2024-03-31T01:46:41.139Z"
   },
   {
    "duration": 14,
    "start_time": "2024-03-31T01:46:41.143Z"
   },
   {
    "duration": 4,
    "start_time": "2024-03-31T01:46:41.158Z"
   },
   {
    "duration": 46,
    "start_time": "2024-03-31T01:46:41.164Z"
   },
   {
    "duration": 4,
    "start_time": "2024-03-31T01:46:41.211Z"
   },
   {
    "duration": 5,
    "start_time": "2024-03-31T01:46:41.216Z"
   },
   {
    "duration": 7,
    "start_time": "2024-03-31T01:46:41.222Z"
   },
   {
    "duration": 1562,
    "start_time": "2024-03-31T01:46:41.230Z"
   },
   {
    "duration": 4,
    "start_time": "2024-03-31T01:46:42.794Z"
   },
   {
    "duration": 21,
    "start_time": "2024-03-31T01:46:42.799Z"
   },
   {
    "duration": 158,
    "start_time": "2024-03-31T01:46:42.821Z"
   },
   {
    "duration": 126,
    "start_time": "2024-03-31T01:46:42.981Z"
   },
   {
    "duration": 143,
    "start_time": "2024-03-31T01:46:43.108Z"
   },
   {
    "duration": 5,
    "start_time": "2024-03-31T01:46:43.252Z"
   },
   {
    "duration": 24,
    "start_time": "2024-03-31T01:46:43.258Z"
   },
   {
    "duration": 24,
    "start_time": "2024-03-31T01:46:43.301Z"
   },
   {
    "duration": 10,
    "start_time": "2024-03-31T01:46:43.326Z"
   },
   {
    "duration": 11,
    "start_time": "2024-03-31T01:46:43.337Z"
   },
   {
    "duration": 9,
    "start_time": "2024-03-31T01:46:43.349Z"
   },
   {
    "duration": 60,
    "start_time": "2024-03-31T01:46:43.359Z"
   },
   {
    "duration": 11,
    "start_time": "2024-03-31T01:46:43.421Z"
   },
   {
    "duration": 2199,
    "start_time": "2024-03-31T01:46:43.434Z"
   },
   {
    "duration": 12,
    "start_time": "2024-03-31T01:46:45.634Z"
   },
   {
    "duration": 86,
    "start_time": "2024-03-31T01:46:45.648Z"
   },
   {
    "duration": 29,
    "start_time": "2024-03-31T01:46:45.735Z"
   },
   {
    "duration": 20,
    "start_time": "2024-03-31T01:46:45.766Z"
   },
   {
    "duration": 19,
    "start_time": "2024-03-31T01:46:45.788Z"
   },
   {
    "duration": 21,
    "start_time": "2024-03-31T01:46:45.808Z"
   },
   {
    "duration": 14,
    "start_time": "2024-03-31T01:46:45.830Z"
   },
   {
    "duration": 38,
    "start_time": "2024-03-31T01:46:45.845Z"
   },
   {
    "duration": 11,
    "start_time": "2024-03-31T01:46:45.884Z"
   },
   {
    "duration": 14,
    "start_time": "2024-03-31T01:46:45.896Z"
   },
   {
    "duration": 29,
    "start_time": "2024-03-31T01:46:45.912Z"
   },
   {
    "duration": 24,
    "start_time": "2024-03-31T01:46:45.942Z"
   },
   {
    "duration": 9,
    "start_time": "2024-03-31T01:46:45.968Z"
   },
   {
    "duration": 12,
    "start_time": "2024-03-31T01:46:45.979Z"
   },
   {
    "duration": 21,
    "start_time": "2024-03-31T01:46:45.992Z"
   },
   {
    "duration": 1988,
    "start_time": "2024-03-31T01:46:46.014Z"
   },
   {
    "duration": 3,
    "start_time": "2024-03-31T01:46:48.003Z"
   },
   {
    "duration": 32,
    "start_time": "2024-03-31T01:46:48.008Z"
   },
   {
    "duration": 137,
    "start_time": "2024-03-31T01:46:48.041Z"
   },
   {
    "duration": 0,
    "start_time": "2024-03-31T01:46:48.180Z"
   },
   {
    "duration": 0,
    "start_time": "2024-03-31T01:46:48.181Z"
   },
   {
    "duration": 0,
    "start_time": "2024-03-31T01:46:48.181Z"
   },
   {
    "duration": 0,
    "start_time": "2024-03-31T01:46:48.182Z"
   },
   {
    "duration": 0,
    "start_time": "2024-03-31T01:46:48.183Z"
   },
   {
    "duration": 27,
    "start_time": "2024-03-31T01:47:11.161Z"
   },
   {
    "duration": 9,
    "start_time": "2024-03-31T01:47:21.545Z"
   },
   {
    "duration": 13,
    "start_time": "2024-03-31T01:48:10.621Z"
   },
   {
    "duration": 21114,
    "start_time": "2024-03-31T01:48:24.890Z"
   },
   {
    "duration": 0,
    "start_time": "2024-03-31T01:48:46.007Z"
   },
   {
    "duration": 25,
    "start_time": "2024-03-31T01:48:52.881Z"
   },
   {
    "duration": 44711,
    "start_time": "2024-03-31T01:50:21.320Z"
   },
   {
    "duration": 56116,
    "start_time": "2024-03-31T01:51:07.759Z"
   },
   {
    "duration": 105760,
    "start_time": "2024-03-31T01:53:17.355Z"
   },
   {
    "duration": 23,
    "start_time": "2024-03-31T01:55:27.199Z"
   },
   {
    "duration": 22,
    "start_time": "2024-03-31T01:56:42.547Z"
   },
   {
    "duration": 29170,
    "start_time": "2024-03-31T20:36:58.594Z"
   },
   {
    "duration": 11404,
    "start_time": "2024-03-31T20:47:11.349Z"
   },
   {
    "duration": 2293,
    "start_time": "2024-03-31T20:47:22.755Z"
   },
   {
    "duration": 4,
    "start_time": "2024-03-31T20:47:25.050Z"
   },
   {
    "duration": 263,
    "start_time": "2024-03-31T20:47:25.065Z"
   },
   {
    "duration": 4,
    "start_time": "2024-03-31T20:47:25.329Z"
   },
   {
    "duration": 7,
    "start_time": "2024-03-31T20:47:25.334Z"
   },
   {
    "duration": 6,
    "start_time": "2024-03-31T20:47:25.343Z"
   },
   {
    "duration": 5,
    "start_time": "2024-03-31T20:47:25.350Z"
   },
   {
    "duration": 8,
    "start_time": "2024-03-31T20:47:25.356Z"
   },
   {
    "duration": 44,
    "start_time": "2024-03-31T20:47:25.367Z"
   },
   {
    "duration": 3,
    "start_time": "2024-03-31T20:47:25.413Z"
   },
   {
    "duration": 60,
    "start_time": "2024-03-31T20:47:25.417Z"
   },
   {
    "duration": 4,
    "start_time": "2024-03-31T20:47:25.479Z"
   },
   {
    "duration": 37,
    "start_time": "2024-03-31T20:47:25.484Z"
   },
   {
    "duration": 8,
    "start_time": "2024-03-31T20:47:25.522Z"
   },
   {
    "duration": 15,
    "start_time": "2024-03-31T20:47:25.532Z"
   },
   {
    "duration": 3,
    "start_time": "2024-03-31T20:47:25.548Z"
   },
   {
    "duration": 13,
    "start_time": "2024-03-31T20:47:25.552Z"
   },
   {
    "duration": 11,
    "start_time": "2024-03-31T20:47:25.567Z"
   },
   {
    "duration": 1878,
    "start_time": "2024-03-31T20:47:25.580Z"
   },
   {
    "duration": 4,
    "start_time": "2024-03-31T20:47:27.460Z"
   },
   {
    "duration": 18,
    "start_time": "2024-03-31T20:47:27.466Z"
   },
   {
    "duration": 222,
    "start_time": "2024-03-31T20:47:27.486Z"
   },
   {
    "duration": 168,
    "start_time": "2024-03-31T20:47:27.710Z"
   },
   {
    "duration": 165,
    "start_time": "2024-03-31T20:47:27.880Z"
   },
   {
    "duration": 4,
    "start_time": "2024-03-31T20:47:28.047Z"
   },
   {
    "duration": 46,
    "start_time": "2024-03-31T20:47:28.053Z"
   },
   {
    "duration": 27,
    "start_time": "2024-03-31T20:47:28.102Z"
   },
   {
    "duration": 11,
    "start_time": "2024-03-31T20:47:28.130Z"
   },
   {
    "duration": 33,
    "start_time": "2024-03-31T20:47:28.143Z"
   },
   {
    "duration": 11,
    "start_time": "2024-03-31T20:47:28.179Z"
   },
   {
    "duration": 35,
    "start_time": "2024-03-31T20:47:28.191Z"
   },
   {
    "duration": 41,
    "start_time": "2024-03-31T20:47:28.227Z"
   },
   {
    "duration": 2766,
    "start_time": "2024-03-31T20:47:28.271Z"
   },
   {
    "duration": 15,
    "start_time": "2024-03-31T20:47:31.038Z"
   },
   {
    "duration": 44,
    "start_time": "2024-03-31T20:47:31.054Z"
   },
   {
    "duration": 104,
    "start_time": "2024-03-31T20:47:31.100Z"
   },
   {
    "duration": 53,
    "start_time": "2024-03-31T20:47:31.206Z"
   },
   {
    "duration": 26,
    "start_time": "2024-03-31T20:47:31.260Z"
   },
   {
    "duration": 24,
    "start_time": "2024-03-31T20:47:31.287Z"
   },
   {
    "duration": 16,
    "start_time": "2024-03-31T20:47:31.313Z"
   },
   {
    "duration": 40,
    "start_time": "2024-03-31T20:47:31.330Z"
   },
   {
    "duration": 22,
    "start_time": "2024-03-31T20:47:31.371Z"
   },
   {
    "duration": 16,
    "start_time": "2024-03-31T20:47:31.394Z"
   },
   {
    "duration": 18,
    "start_time": "2024-03-31T20:47:31.411Z"
   },
   {
    "duration": 38,
    "start_time": "2024-03-31T20:47:31.430Z"
   },
   {
    "duration": 22,
    "start_time": "2024-03-31T20:47:31.470Z"
   },
   {
    "duration": 21,
    "start_time": "2024-03-31T20:47:31.494Z"
   },
   {
    "duration": 39,
    "start_time": "2024-03-31T20:47:31.517Z"
   },
   {
    "duration": 1784,
    "start_time": "2024-03-31T20:47:31.558Z"
   },
   {
    "duration": 4,
    "start_time": "2024-03-31T20:47:33.344Z"
   },
   {
    "duration": 33,
    "start_time": "2024-03-31T20:47:33.351Z"
   },
   {
    "duration": 189191,
    "start_time": "2024-03-31T20:47:33.385Z"
   },
   {
    "duration": 178,
    "start_time": "2024-03-31T20:50:42.578Z"
   },
   {
    "duration": 0,
    "start_time": "2024-03-31T20:50:42.757Z"
   },
   {
    "duration": 0,
    "start_time": "2024-03-31T20:50:42.758Z"
   },
   {
    "duration": 0,
    "start_time": "2024-03-31T20:50:42.764Z"
   },
   {
    "duration": 0,
    "start_time": "2024-03-31T20:50:42.765Z"
   },
   {
    "duration": 45,
    "start_time": "2024-03-31T21:03:46.784Z"
   },
   {
    "duration": 12,
    "start_time": "2024-03-31T21:04:18.510Z"
   },
   {
    "duration": 26,
    "start_time": "2024-03-31T21:05:02.047Z"
   },
   {
    "duration": 24,
    "start_time": "2024-03-31T21:07:23.362Z"
   },
   {
    "duration": 22,
    "start_time": "2024-03-31T21:08:30.656Z"
   },
   {
    "duration": 12,
    "start_time": "2024-03-31T21:08:50.251Z"
   },
   {
    "duration": 3,
    "start_time": "2024-03-31T21:11:58.777Z"
   },
   {
    "duration": 7,
    "start_time": "2024-03-31T21:11:59.433Z"
   },
   {
    "duration": 4,
    "start_time": "2024-03-31T21:12:00.124Z"
   },
   {
    "duration": 3,
    "start_time": "2024-03-31T21:12:00.786Z"
   },
   {
    "duration": 3,
    "start_time": "2024-03-31T21:12:01.389Z"
   },
   {
    "duration": 4,
    "start_time": "2024-03-31T21:12:02.122Z"
   },
   {
    "duration": 2,
    "start_time": "2024-03-31T21:12:02.339Z"
   },
   {
    "duration": 3,
    "start_time": "2024-03-31T21:12:02.674Z"
   },
   {
    "duration": 5,
    "start_time": "2024-03-31T21:12:02.972Z"
   },
   {
    "duration": 3,
    "start_time": "2024-03-31T21:12:04.205Z"
   },
   {
    "duration": 1837,
    "start_time": "2024-03-31T21:12:04.906Z"
   },
   {
    "duration": 4,
    "start_time": "2024-03-31T21:12:06.744Z"
   },
   {
    "duration": 14,
    "start_time": "2024-03-31T21:12:06.943Z"
   },
   {
    "duration": 291458,
    "start_time": "2024-03-31T21:12:14.628Z"
   },
   {
    "duration": 217,
    "start_time": "2024-03-31T21:17:06.087Z"
   },
   {
    "duration": 8718,
    "start_time": "2024-03-31T21:17:40.427Z"
   },
   {
    "duration": 274,
    "start_time": "2024-03-31T21:17:57.421Z"
   },
   {
    "duration": 11258,
    "start_time": "2024-03-31T21:19:23.405Z"
   },
   {
    "duration": 3182,
    "start_time": "2024-03-31T21:19:34.665Z"
   },
   {
    "duration": 2175,
    "start_time": "2024-03-31T21:19:37.849Z"
   },
   {
    "duration": 4,
    "start_time": "2024-03-31T21:19:40.026Z"
   },
   {
    "duration": 107,
    "start_time": "2024-03-31T21:19:40.032Z"
   },
   {
    "duration": 3,
    "start_time": "2024-03-31T21:19:40.140Z"
   },
   {
    "duration": 7,
    "start_time": "2024-03-31T21:19:40.144Z"
   },
   {
    "duration": 7,
    "start_time": "2024-03-31T21:19:40.152Z"
   },
   {
    "duration": 13,
    "start_time": "2024-03-31T21:19:40.160Z"
   },
   {
    "duration": 5,
    "start_time": "2024-03-31T21:19:40.175Z"
   },
   {
    "duration": 43,
    "start_time": "2024-03-31T21:19:40.181Z"
   },
   {
    "duration": 4,
    "start_time": "2024-03-31T21:19:40.225Z"
   },
   {
    "duration": 47,
    "start_time": "2024-03-31T21:19:40.230Z"
   },
   {
    "duration": 5,
    "start_time": "2024-03-31T21:19:40.279Z"
   },
   {
    "duration": 22,
    "start_time": "2024-03-31T21:19:40.286Z"
   },
   {
    "duration": 7,
    "start_time": "2024-03-31T21:19:40.310Z"
   },
   {
    "duration": 12,
    "start_time": "2024-03-31T21:19:40.319Z"
   },
   {
    "duration": 34,
    "start_time": "2024-03-31T21:19:40.332Z"
   },
   {
    "duration": 4,
    "start_time": "2024-03-31T21:19:40.367Z"
   },
   {
    "duration": 8,
    "start_time": "2024-03-31T21:19:40.372Z"
   },
   {
    "duration": 2131,
    "start_time": "2024-03-31T21:19:40.381Z"
   },
   {
    "duration": 4,
    "start_time": "2024-03-31T21:19:42.514Z"
   },
   {
    "duration": 10,
    "start_time": "2024-03-31T21:19:42.520Z"
   },
   {
    "duration": 337,
    "start_time": "2024-03-31T21:19:42.532Z"
   },
   {
    "duration": 305,
    "start_time": "2024-03-31T21:19:42.871Z"
   },
   {
    "duration": 304,
    "start_time": "2024-03-31T21:19:43.177Z"
   },
   {
    "duration": 5,
    "start_time": "2024-03-31T21:19:43.483Z"
   },
   {
    "duration": 32,
    "start_time": "2024-03-31T21:19:43.491Z"
   },
   {
    "duration": 57,
    "start_time": "2024-03-31T21:19:43.526Z"
   },
   {
    "duration": 16,
    "start_time": "2024-03-31T21:19:43.585Z"
   },
   {
    "duration": 15,
    "start_time": "2024-03-31T21:19:43.603Z"
   },
   {
    "duration": 20,
    "start_time": "2024-03-31T21:19:43.620Z"
   },
   {
    "duration": 74,
    "start_time": "2024-03-31T21:19:43.641Z"
   },
   {
    "duration": 19,
    "start_time": "2024-03-31T21:19:43.717Z"
   },
   {
    "duration": 1393,
    "start_time": "2024-03-31T21:19:43.738Z"
   },
   {
    "duration": 15,
    "start_time": "2024-03-31T21:19:45.133Z"
   },
   {
    "duration": 34,
    "start_time": "2024-03-31T21:19:45.149Z"
   },
   {
    "duration": 5,
    "start_time": "2024-03-31T21:19:45.185Z"
   },
   {
    "duration": 23,
    "start_time": "2024-03-31T21:19:45.192Z"
   },
   {
    "duration": 16,
    "start_time": "2024-03-31T21:19:45.217Z"
   },
   {
    "duration": 24,
    "start_time": "2024-03-31T21:19:45.234Z"
   },
   {
    "duration": 26,
    "start_time": "2024-03-31T21:19:45.259Z"
   },
   {
    "duration": 19,
    "start_time": "2024-03-31T21:19:45.287Z"
   },
   {
    "duration": 28,
    "start_time": "2024-03-31T21:19:45.308Z"
   },
   {
    "duration": 11,
    "start_time": "2024-03-31T21:19:45.338Z"
   },
   {
    "duration": 15,
    "start_time": "2024-03-31T21:19:45.350Z"
   },
   {
    "duration": 22,
    "start_time": "2024-03-31T21:19:45.366Z"
   },
   {
    "duration": 30,
    "start_time": "2024-03-31T21:19:45.389Z"
   },
   {
    "duration": 34,
    "start_time": "2024-03-31T21:19:45.421Z"
   },
   {
    "duration": 14,
    "start_time": "2024-03-31T21:19:45.456Z"
   },
   {
    "duration": 17,
    "start_time": "2024-03-31T21:19:45.471Z"
   },
   {
    "duration": 1959,
    "start_time": "2024-03-31T21:19:45.489Z"
   },
   {
    "duration": 3,
    "start_time": "2024-03-31T21:19:47.450Z"
   },
   {
    "duration": 27,
    "start_time": "2024-03-31T21:19:47.455Z"
   },
   {
    "duration": 1495,
    "start_time": "2024-03-31T21:19:47.484Z"
   },
   {
    "duration": 25,
    "start_time": "2024-03-31T21:19:48.980Z"
   },
   {
    "duration": 14,
    "start_time": "2024-03-31T21:19:49.007Z"
   },
   {
    "duration": 608,
    "start_time": "2024-03-31T21:19:49.023Z"
   },
   {
    "duration": 0,
    "start_time": "2024-03-31T21:19:49.633Z"
   },
   {
    "duration": 0,
    "start_time": "2024-03-31T21:19:49.633Z"
   },
   {
    "duration": 51,
    "start_time": "2024-03-31T22:04:05.709Z"
   },
   {
    "duration": 30942,
    "start_time": "2024-03-31T22:06:16.334Z"
   },
   {
    "duration": 0,
    "start_time": "2024-03-31T22:09:12.324Z"
   },
   {
    "duration": 11945,
    "start_time": "2024-03-31T22:09:16.044Z"
   },
   {
    "duration": 12017,
    "start_time": "2024-03-31T22:09:39.958Z"
   },
   {
    "duration": 3465,
    "start_time": "2024-03-31T22:09:51.978Z"
   },
   {
    "duration": 1946,
    "start_time": "2024-03-31T22:09:55.445Z"
   },
   {
    "duration": 3,
    "start_time": "2024-03-31T22:09:57.393Z"
   },
   {
    "duration": 92,
    "start_time": "2024-03-31T22:09:57.398Z"
   },
   {
    "duration": 3,
    "start_time": "2024-03-31T22:09:57.492Z"
   },
   {
    "duration": 5,
    "start_time": "2024-03-31T22:09:57.497Z"
   },
   {
    "duration": 6,
    "start_time": "2024-03-31T22:09:57.503Z"
   },
   {
    "duration": 4,
    "start_time": "2024-03-31T22:09:57.511Z"
   },
   {
    "duration": 5,
    "start_time": "2024-03-31T22:09:57.519Z"
   },
   {
    "duration": 71,
    "start_time": "2024-03-31T22:09:57.526Z"
   },
   {
    "duration": 3,
    "start_time": "2024-03-31T22:09:57.599Z"
   },
   {
    "duration": 32,
    "start_time": "2024-03-31T22:09:57.603Z"
   },
   {
    "duration": 4,
    "start_time": "2024-03-31T22:09:57.636Z"
   },
   {
    "duration": 51,
    "start_time": "2024-03-31T22:09:57.642Z"
   },
   {
    "duration": 13,
    "start_time": "2024-03-31T22:09:57.695Z"
   },
   {
    "duration": 20,
    "start_time": "2024-03-31T22:09:57.710Z"
   },
   {
    "duration": 4,
    "start_time": "2024-03-31T22:09:57.731Z"
   },
   {
    "duration": 5,
    "start_time": "2024-03-31T22:09:57.736Z"
   },
   {
    "duration": 7,
    "start_time": "2024-03-31T22:09:57.743Z"
   },
   {
    "duration": 2145,
    "start_time": "2024-03-31T22:09:57.751Z"
   },
   {
    "duration": 5,
    "start_time": "2024-03-31T22:09:59.897Z"
   },
   {
    "duration": 10,
    "start_time": "2024-03-31T22:09:59.904Z"
   },
   {
    "duration": 373,
    "start_time": "2024-03-31T22:09:59.916Z"
   },
   {
    "duration": 306,
    "start_time": "2024-03-31T22:10:00.291Z"
   },
   {
    "duration": 316,
    "start_time": "2024-03-31T22:10:00.599Z"
   },
   {
    "duration": 5,
    "start_time": "2024-03-31T22:10:00.917Z"
   },
   {
    "duration": 107,
    "start_time": "2024-03-31T22:10:00.925Z"
   },
   {
    "duration": 72,
    "start_time": "2024-03-31T22:10:01.033Z"
   },
   {
    "duration": 34,
    "start_time": "2024-03-31T22:10:01.106Z"
   },
   {
    "duration": 79,
    "start_time": "2024-03-31T22:10:01.141Z"
   },
   {
    "duration": 57,
    "start_time": "2024-03-31T22:10:01.222Z"
   },
   {
    "duration": 89,
    "start_time": "2024-03-31T22:10:01.281Z"
   },
   {
    "duration": 56,
    "start_time": "2024-03-31T22:10:01.371Z"
   },
   {
    "duration": 1458,
    "start_time": "2024-03-31T22:10:01.429Z"
   },
   {
    "duration": 17,
    "start_time": "2024-03-31T22:10:02.889Z"
   },
   {
    "duration": 13,
    "start_time": "2024-03-31T22:10:02.907Z"
   },
   {
    "duration": 35,
    "start_time": "2024-03-31T22:10:02.921Z"
   },
   {
    "duration": 35,
    "start_time": "2024-03-31T22:10:02.958Z"
   },
   {
    "duration": 27,
    "start_time": "2024-03-31T22:10:02.994Z"
   },
   {
    "duration": 31,
    "start_time": "2024-03-31T22:10:03.023Z"
   },
   {
    "duration": 47,
    "start_time": "2024-03-31T22:10:03.056Z"
   },
   {
    "duration": 67,
    "start_time": "2024-03-31T22:10:03.105Z"
   },
   {
    "duration": 19,
    "start_time": "2024-03-31T22:10:03.174Z"
   },
   {
    "duration": 20,
    "start_time": "2024-03-31T22:10:03.194Z"
   },
   {
    "duration": 25,
    "start_time": "2024-03-31T22:10:03.216Z"
   },
   {
    "duration": 29,
    "start_time": "2024-03-31T22:10:03.243Z"
   },
   {
    "duration": 10,
    "start_time": "2024-03-31T22:10:03.274Z"
   },
   {
    "duration": 18,
    "start_time": "2024-03-31T22:10:03.286Z"
   },
   {
    "duration": 12,
    "start_time": "2024-03-31T22:10:03.305Z"
   },
   {
    "duration": 6,
    "start_time": "2024-03-31T22:10:03.319Z"
   },
   {
    "duration": 17,
    "start_time": "2024-03-31T22:10:03.327Z"
   },
   {
    "duration": 2444,
    "start_time": "2024-03-31T22:10:03.346Z"
   },
   {
    "duration": 4,
    "start_time": "2024-03-31T22:10:05.792Z"
   },
   {
    "duration": 22,
    "start_time": "2024-03-31T22:10:05.797Z"
   },
   {
    "duration": 178,
    "start_time": "2024-03-31T22:10:05.820Z"
   },
   {
    "duration": 0,
    "start_time": "2024-03-31T22:10:05.999Z"
   },
   {
    "duration": 0,
    "start_time": "2024-03-31T22:10:06.000Z"
   },
   {
    "duration": 0,
    "start_time": "2024-03-31T22:10:06.002Z"
   },
   {
    "duration": 0,
    "start_time": "2024-03-31T22:10:06.003Z"
   },
   {
    "duration": 0,
    "start_time": "2024-03-31T22:10:06.004Z"
   },
   {
    "duration": 32,
    "start_time": "2024-03-31T22:10:57.877Z"
   },
   {
    "duration": 11,
    "start_time": "2024-03-31T22:11:02.046Z"
   },
   {
    "duration": 11874,
    "start_time": "2024-03-31T22:11:28.771Z"
   },
   {
    "duration": 3392,
    "start_time": "2024-03-31T22:11:40.647Z"
   },
   {
    "duration": 1940,
    "start_time": "2024-03-31T22:11:44.041Z"
   },
   {
    "duration": 5,
    "start_time": "2024-03-31T22:11:45.982Z"
   },
   {
    "duration": 92,
    "start_time": "2024-03-31T22:11:45.989Z"
   },
   {
    "duration": 2,
    "start_time": "2024-03-31T22:11:46.083Z"
   },
   {
    "duration": 11,
    "start_time": "2024-03-31T22:11:46.087Z"
   },
   {
    "duration": 11,
    "start_time": "2024-03-31T22:11:46.099Z"
   },
   {
    "duration": 6,
    "start_time": "2024-03-31T22:11:46.112Z"
   },
   {
    "duration": 4,
    "start_time": "2024-03-31T22:11:46.120Z"
   },
   {
    "duration": 50,
    "start_time": "2024-03-31T22:11:46.126Z"
   },
   {
    "duration": 3,
    "start_time": "2024-03-31T22:11:46.177Z"
   },
   {
    "duration": 36,
    "start_time": "2024-03-31T22:11:46.182Z"
   },
   {
    "duration": 4,
    "start_time": "2024-03-31T22:11:46.221Z"
   },
   {
    "duration": 21,
    "start_time": "2024-03-31T22:11:46.226Z"
   },
   {
    "duration": 39,
    "start_time": "2024-03-31T22:11:46.248Z"
   },
   {
    "duration": 12,
    "start_time": "2024-03-31T22:11:46.289Z"
   },
   {
    "duration": 4,
    "start_time": "2024-03-31T22:11:46.303Z"
   },
   {
    "duration": 19,
    "start_time": "2024-03-31T22:11:46.308Z"
   },
   {
    "duration": 7,
    "start_time": "2024-03-31T22:11:46.329Z"
   },
   {
    "duration": 2126,
    "start_time": "2024-03-31T22:11:46.338Z"
   },
   {
    "duration": 5,
    "start_time": "2024-03-31T22:11:48.465Z"
   },
   {
    "duration": 23,
    "start_time": "2024-03-31T22:11:48.472Z"
   },
   {
    "duration": 359,
    "start_time": "2024-03-31T22:11:48.496Z"
   },
   {
    "duration": 307,
    "start_time": "2024-03-31T22:11:48.857Z"
   },
   {
    "duration": 334,
    "start_time": "2024-03-31T22:11:49.166Z"
   },
   {
    "duration": 5,
    "start_time": "2024-03-31T22:11:49.501Z"
   },
   {
    "duration": 40,
    "start_time": "2024-03-31T22:11:49.508Z"
   },
   {
    "duration": 44,
    "start_time": "2024-03-31T22:11:49.549Z"
   },
   {
    "duration": 13,
    "start_time": "2024-03-31T22:11:49.594Z"
   },
   {
    "duration": 11,
    "start_time": "2024-03-31T22:11:49.609Z"
   },
   {
    "duration": 21,
    "start_time": "2024-03-31T22:11:49.622Z"
   },
   {
    "duration": 61,
    "start_time": "2024-03-31T22:11:49.645Z"
   },
   {
    "duration": 14,
    "start_time": "2024-03-31T22:11:49.708Z"
   },
   {
    "duration": 1461,
    "start_time": "2024-03-31T22:11:49.724Z"
   },
   {
    "duration": 17,
    "start_time": "2024-03-31T22:11:51.186Z"
   },
   {
    "duration": 14,
    "start_time": "2024-03-31T22:11:51.205Z"
   },
   {
    "duration": 12,
    "start_time": "2024-03-31T22:11:51.221Z"
   },
   {
    "duration": 37,
    "start_time": "2024-03-31T22:11:51.235Z"
   },
   {
    "duration": 14,
    "start_time": "2024-03-31T22:11:51.274Z"
   },
   {
    "duration": 35,
    "start_time": "2024-03-31T22:11:51.292Z"
   },
   {
    "duration": 31,
    "start_time": "2024-03-31T22:11:51.328Z"
   },
   {
    "duration": 5,
    "start_time": "2024-03-31T22:11:51.360Z"
   },
   {
    "duration": 17,
    "start_time": "2024-03-31T22:11:51.366Z"
   },
   {
    "duration": 13,
    "start_time": "2024-03-31T22:11:51.385Z"
   },
   {
    "duration": 16,
    "start_time": "2024-03-31T22:11:51.400Z"
   },
   {
    "duration": 15,
    "start_time": "2024-03-31T22:11:51.418Z"
   },
   {
    "duration": 12,
    "start_time": "2024-03-31T22:11:51.434Z"
   },
   {
    "duration": 10,
    "start_time": "2024-03-31T22:11:51.448Z"
   },
   {
    "duration": 4,
    "start_time": "2024-03-31T22:11:51.459Z"
   },
   {
    "duration": 12,
    "start_time": "2024-03-31T22:11:51.464Z"
   },
   {
    "duration": 11,
    "start_time": "2024-03-31T22:11:51.478Z"
   },
   {
    "duration": 2335,
    "start_time": "2024-03-31T22:11:51.490Z"
   },
   {
    "duration": 3,
    "start_time": "2024-03-31T22:11:53.827Z"
   },
   {
    "duration": 24,
    "start_time": "2024-03-31T22:11:53.832Z"
   },
   {
    "duration": 179,
    "start_time": "2024-03-31T22:11:53.858Z"
   },
   {
    "duration": 0,
    "start_time": "2024-03-31T22:11:54.039Z"
   },
   {
    "duration": 0,
    "start_time": "2024-03-31T22:11:54.040Z"
   },
   {
    "duration": 0,
    "start_time": "2024-03-31T22:11:54.042Z"
   },
   {
    "duration": 0,
    "start_time": "2024-03-31T22:11:54.043Z"
   },
   {
    "duration": 0,
    "start_time": "2024-03-31T22:11:54.045Z"
   },
   {
    "duration": 3507,
    "start_time": "2024-03-31T22:12:36.204Z"
   },
   {
    "duration": 42,
    "start_time": "2024-03-31T22:12:50.566Z"
   },
   {
    "duration": 10,
    "start_time": "2024-03-31T22:12:56.225Z"
   },
   {
    "duration": 11973,
    "start_time": "2024-03-31T22:14:22.286Z"
   },
   {
    "duration": 3405,
    "start_time": "2024-03-31T22:14:34.263Z"
   },
   {
    "duration": 6,
    "start_time": "2024-03-31T22:14:37.670Z"
   },
   {
    "duration": 42,
    "start_time": "2024-03-31T22:14:50.458Z"
   },
   {
    "duration": 9,
    "start_time": "2024-03-31T22:14:51.929Z"
   },
   {
    "duration": 193638,
    "start_time": "2024-03-31T22:17:04.200Z"
   },
   {
    "duration": 33,
    "start_time": "2024-03-31T22:20:17.839Z"
   },
   {
    "duration": 0,
    "start_time": "2024-03-31T22:20:17.874Z"
   },
   {
    "duration": 33,
    "start_time": "2024-03-31T22:20:24.595Z"
   },
   {
    "duration": 9,
    "start_time": "2024-03-31T22:20:27.366Z"
   },
   {
    "duration": 31,
    "start_time": "2024-03-31T22:20:37.446Z"
   },
   {
    "duration": 10,
    "start_time": "2024-03-31T22:20:37.768Z"
   },
   {
    "duration": 18580,
    "start_time": "2024-03-31T22:21:38.525Z"
   },
   {
    "duration": 20181,
    "start_time": "2024-03-31T22:22:16.369Z"
   },
   {
    "duration": 3426,
    "start_time": "2024-03-31T22:22:36.552Z"
   },
   {
    "duration": 1936,
    "start_time": "2024-03-31T22:22:39.980Z"
   },
   {
    "duration": 4,
    "start_time": "2024-03-31T22:22:41.919Z"
   },
   {
    "duration": 93,
    "start_time": "2024-03-31T22:22:41.924Z"
   },
   {
    "duration": 3,
    "start_time": "2024-03-31T22:22:42.018Z"
   },
   {
    "duration": 3,
    "start_time": "2024-03-31T22:22:42.022Z"
   },
   {
    "duration": 4,
    "start_time": "2024-03-31T22:22:42.027Z"
   },
   {
    "duration": 5,
    "start_time": "2024-03-31T22:22:42.032Z"
   },
   {
    "duration": 3,
    "start_time": "2024-03-31T22:22:42.039Z"
   },
   {
    "duration": 49,
    "start_time": "2024-03-31T22:22:42.044Z"
   },
   {
    "duration": 3,
    "start_time": "2024-03-31T22:22:42.095Z"
   },
   {
    "duration": 28,
    "start_time": "2024-03-31T22:22:42.099Z"
   },
   {
    "duration": 3,
    "start_time": "2024-03-31T22:22:42.129Z"
   },
   {
    "duration": 22,
    "start_time": "2024-03-31T22:22:42.133Z"
   },
   {
    "duration": 34,
    "start_time": "2024-03-31T22:22:42.156Z"
   },
   {
    "duration": 30,
    "start_time": "2024-03-31T22:22:42.191Z"
   },
   {
    "duration": 4,
    "start_time": "2024-03-31T22:22:42.222Z"
   },
   {
    "duration": 9,
    "start_time": "2024-03-31T22:22:42.227Z"
   },
   {
    "duration": 7,
    "start_time": "2024-03-31T22:22:42.237Z"
   },
   {
    "duration": 2055,
    "start_time": "2024-03-31T22:22:42.245Z"
   },
   {
    "duration": 5,
    "start_time": "2024-03-31T22:22:44.301Z"
   },
   {
    "duration": 10,
    "start_time": "2024-03-31T22:22:44.308Z"
   },
   {
    "duration": 360,
    "start_time": "2024-03-31T22:22:44.320Z"
   },
   {
    "duration": 428,
    "start_time": "2024-03-31T22:22:44.682Z"
   },
   {
    "duration": 311,
    "start_time": "2024-03-31T22:22:45.112Z"
   },
   {
    "duration": 5,
    "start_time": "2024-03-31T22:22:45.425Z"
   },
   {
    "duration": 78,
    "start_time": "2024-03-31T22:22:45.433Z"
   },
   {
    "duration": 31,
    "start_time": "2024-03-31T22:22:45.513Z"
   },
   {
    "duration": 12,
    "start_time": "2024-03-31T22:22:45.545Z"
   },
   {
    "duration": 18,
    "start_time": "2024-03-31T22:22:45.559Z"
   },
   {
    "duration": 12,
    "start_time": "2024-03-31T22:22:45.587Z"
   },
   {
    "duration": 73,
    "start_time": "2024-03-31T22:22:45.600Z"
   },
   {
    "duration": 16,
    "start_time": "2024-03-31T22:22:45.674Z"
   },
   {
    "duration": 1386,
    "start_time": "2024-03-31T22:22:45.691Z"
   },
   {
    "duration": 16,
    "start_time": "2024-03-31T22:22:47.087Z"
   },
   {
    "duration": 4,
    "start_time": "2024-03-31T22:22:47.104Z"
   },
   {
    "duration": 4,
    "start_time": "2024-03-31T22:22:47.110Z"
   },
   {
    "duration": 10,
    "start_time": "2024-03-31T22:22:47.116Z"
   },
   {
    "duration": 5,
    "start_time": "2024-03-31T22:22:47.128Z"
   },
   {
    "duration": 13,
    "start_time": "2024-03-31T22:22:47.134Z"
   },
   {
    "duration": 53,
    "start_time": "2024-03-31T22:22:47.149Z"
   },
   {
    "duration": 3,
    "start_time": "2024-03-31T22:22:47.203Z"
   },
   {
    "duration": 15,
    "start_time": "2024-03-31T22:22:47.207Z"
   },
   {
    "duration": 4,
    "start_time": "2024-03-31T22:22:47.224Z"
   },
   {
    "duration": 16,
    "start_time": "2024-03-31T22:22:47.229Z"
   },
   {
    "duration": 25,
    "start_time": "2024-03-31T22:22:47.247Z"
   },
   {
    "duration": 5,
    "start_time": "2024-03-31T22:22:47.274Z"
   },
   {
    "duration": 9,
    "start_time": "2024-03-31T22:22:47.281Z"
   },
   {
    "duration": 4,
    "start_time": "2024-03-31T22:22:47.291Z"
   },
   {
    "duration": 6,
    "start_time": "2024-03-31T22:22:47.297Z"
   },
   {
    "duration": 10,
    "start_time": "2024-03-31T22:22:47.305Z"
   },
   {
    "duration": 2155,
    "start_time": "2024-03-31T22:22:47.317Z"
   },
   {
    "duration": 3,
    "start_time": "2024-03-31T22:22:49.474Z"
   },
   {
    "duration": 26,
    "start_time": "2024-03-31T22:22:49.478Z"
   },
   {
    "duration": 176,
    "start_time": "2024-03-31T22:22:49.505Z"
   },
   {
    "duration": 0,
    "start_time": "2024-03-31T22:22:49.682Z"
   },
   {
    "duration": 0,
    "start_time": "2024-03-31T22:22:49.687Z"
   },
   {
    "duration": 0,
    "start_time": "2024-03-31T22:22:49.688Z"
   },
   {
    "duration": 1,
    "start_time": "2024-03-31T22:22:49.689Z"
   },
   {
    "duration": 0,
    "start_time": "2024-03-31T22:22:49.691Z"
   },
   {
    "duration": 16,
    "start_time": "2024-03-31T22:36:16.505Z"
   },
   {
    "duration": 11,
    "start_time": "2024-03-31T22:39:14.108Z"
   },
   {
    "duration": 300,
    "start_time": "2024-03-31T22:39:33.904Z"
   },
   {
    "duration": 286,
    "start_time": "2024-03-31T22:41:39.556Z"
   },
   {
    "duration": 349,
    "start_time": "2024-03-31T22:43:46.564Z"
   },
   {
    "duration": 28,
    "start_time": "2024-03-31T22:45:19.712Z"
   },
   {
    "duration": 5,
    "start_time": "2024-04-01T01:11:04.668Z"
   },
   {
    "duration": 537,
    "start_time": "2024-04-01T01:11:13.951Z"
   },
   {
    "duration": 18,
    "start_time": "2024-04-01T01:11:29.751Z"
   },
   {
    "duration": 300,
    "start_time": "2024-04-01T01:12:10.915Z"
   },
   {
    "duration": 304,
    "start_time": "2024-04-01T01:12:39.119Z"
   },
   {
    "duration": 666,
    "start_time": "2024-04-01T01:14:47.616Z"
   },
   {
    "duration": 355,
    "start_time": "2024-04-01T01:16:04.484Z"
   },
   {
    "duration": 491,
    "start_time": "2024-04-01T01:17:41.931Z"
   },
   {
    "duration": 713,
    "start_time": "2024-04-01T01:18:43.931Z"
   },
   {
    "duration": 360,
    "start_time": "2024-04-01T01:18:58.544Z"
   },
   {
    "duration": 359,
    "start_time": "2024-04-01T01:20:38.370Z"
   },
   {
    "duration": 367,
    "start_time": "2024-04-01T01:21:04.254Z"
   },
   {
    "duration": 363,
    "start_time": "2024-04-01T01:21:13.079Z"
   },
   {
    "duration": 345,
    "start_time": "2024-04-01T01:21:20.875Z"
   },
   {
    "duration": 664,
    "start_time": "2024-04-01T01:21:42.445Z"
   },
   {
    "duration": 316,
    "start_time": "2024-04-01T01:21:48.926Z"
   },
   {
    "duration": 226,
    "start_time": "2024-04-01T01:22:35.238Z"
   },
   {
    "duration": 81,
    "start_time": "2024-04-01T01:22:55.019Z"
   },
   {
    "duration": 17,
    "start_time": "2024-04-01T01:23:14.856Z"
   },
   {
    "duration": 84,
    "start_time": "2024-04-01T01:23:17.825Z"
   },
   {
    "duration": 282,
    "start_time": "2024-04-01T01:24:30.310Z"
   },
   {
    "duration": 134,
    "start_time": "2024-04-01T01:24:44.967Z"
   },
   {
    "duration": 834,
    "start_time": "2024-04-01T01:28:02.276Z"
   },
   {
    "duration": 319,
    "start_time": "2024-04-01T01:32:41.689Z"
   },
   {
    "duration": 344,
    "start_time": "2024-04-01T01:33:16.645Z"
   },
   {
    "duration": 224,
    "start_time": "2024-04-01T01:33:38.469Z"
   },
   {
    "duration": 189,
    "start_time": "2024-04-01T01:34:45.617Z"
   },
   {
    "duration": 465,
    "start_time": "2024-04-01T01:34:51.424Z"
   },
   {
    "duration": 456,
    "start_time": "2024-04-01T01:35:25.873Z"
   },
   {
    "duration": 475,
    "start_time": "2024-04-01T01:36:41.669Z"
   },
   {
    "duration": 429,
    "start_time": "2024-04-01T01:37:12.062Z"
   },
   {
    "duration": 457,
    "start_time": "2024-04-01T01:37:18.982Z"
   },
   {
    "duration": 477,
    "start_time": "2024-04-01T01:37:40.324Z"
   },
   {
    "duration": 510,
    "start_time": "2024-04-01T01:37:48.613Z"
   },
   {
    "duration": 515,
    "start_time": "2024-04-01T01:40:21.508Z"
   },
   {
    "duration": 530,
    "start_time": "2024-04-01T01:42:44.196Z"
   },
   {
    "duration": 488,
    "start_time": "2024-04-01T01:43:38.039Z"
   },
   {
    "duration": 461,
    "start_time": "2024-04-01T01:43:54.871Z"
   },
   {
    "duration": 518,
    "start_time": "2024-04-01T01:44:31.296Z"
   },
   {
    "duration": 461,
    "start_time": "2024-04-01T01:44:47.539Z"
   },
   {
    "duration": 461,
    "start_time": "2024-04-01T01:44:53.441Z"
   },
   {
    "duration": 431,
    "start_time": "2024-04-01T01:45:00.281Z"
   },
   {
    "duration": 19,
    "start_time": "2024-04-01T02:00:56.758Z"
   },
   {
    "duration": 15,
    "start_time": "2024-04-01T02:01:57.328Z"
   },
   {
    "duration": 24,
    "start_time": "2024-04-01T02:02:03.156Z"
   },
   {
    "duration": 14,
    "start_time": "2024-04-01T02:02:16.323Z"
   },
   {
    "duration": 14,
    "start_time": "2024-04-01T02:02:31.382Z"
   },
   {
    "duration": 10,
    "start_time": "2024-04-01T02:03:44.226Z"
   },
   {
    "duration": 26,
    "start_time": "2024-04-01T02:04:02.472Z"
   },
   {
    "duration": 17,
    "start_time": "2024-04-01T02:05:08.123Z"
   },
   {
    "duration": 9,
    "start_time": "2024-04-01T02:05:26.213Z"
   },
   {
    "duration": 29,
    "start_time": "2024-04-01T02:05:33.965Z"
   },
   {
    "duration": 125,
    "start_time": "2024-04-01T02:32:58.743Z"
   },
   {
    "duration": 20318,
    "start_time": "2024-04-01T02:38:10.458Z"
   },
   {
    "duration": 3394,
    "start_time": "2024-04-01T02:38:30.778Z"
   },
   {
    "duration": 1976,
    "start_time": "2024-04-01T02:38:34.174Z"
   },
   {
    "duration": 4,
    "start_time": "2024-04-01T02:38:36.151Z"
   },
   {
    "duration": 99,
    "start_time": "2024-04-01T02:38:36.157Z"
   },
   {
    "duration": 3,
    "start_time": "2024-04-01T02:38:36.257Z"
   },
   {
    "duration": 10,
    "start_time": "2024-04-01T02:38:36.262Z"
   },
   {
    "duration": 5,
    "start_time": "2024-04-01T02:38:36.273Z"
   },
   {
    "duration": 4,
    "start_time": "2024-04-01T02:38:36.279Z"
   },
   {
    "duration": 6,
    "start_time": "2024-04-01T02:38:36.285Z"
   },
   {
    "duration": 48,
    "start_time": "2024-04-01T02:38:36.292Z"
   },
   {
    "duration": 3,
    "start_time": "2024-04-01T02:38:36.342Z"
   },
   {
    "duration": 50,
    "start_time": "2024-04-01T02:38:36.347Z"
   },
   {
    "duration": 4,
    "start_time": "2024-04-01T02:38:36.399Z"
   },
   {
    "duration": 19,
    "start_time": "2024-04-01T02:38:36.404Z"
   },
   {
    "duration": 4,
    "start_time": "2024-04-01T02:38:36.424Z"
   },
   {
    "duration": 14,
    "start_time": "2024-04-01T02:38:36.429Z"
   },
   {
    "duration": 43,
    "start_time": "2024-04-01T02:38:36.445Z"
   },
   {
    "duration": 4,
    "start_time": "2024-04-01T02:38:36.490Z"
   },
   {
    "duration": 8,
    "start_time": "2024-04-01T02:38:36.495Z"
   },
   {
    "duration": 2032,
    "start_time": "2024-04-01T02:38:36.504Z"
   },
   {
    "duration": 4,
    "start_time": "2024-04-01T02:38:38.538Z"
   },
   {
    "duration": 10,
    "start_time": "2024-04-01T02:38:38.544Z"
   },
   {
    "duration": 463,
    "start_time": "2024-04-01T02:38:38.557Z"
   },
   {
    "duration": 286,
    "start_time": "2024-04-01T02:38:39.022Z"
   },
   {
    "duration": 307,
    "start_time": "2024-04-01T02:38:39.310Z"
   },
   {
    "duration": 6,
    "start_time": "2024-04-01T02:38:39.619Z"
   },
   {
    "duration": 37,
    "start_time": "2024-04-01T02:38:39.626Z"
   },
   {
    "duration": 44,
    "start_time": "2024-04-01T02:38:39.664Z"
   },
   {
    "duration": 11,
    "start_time": "2024-04-01T02:38:39.710Z"
   },
   {
    "duration": 11,
    "start_time": "2024-04-01T02:38:39.723Z"
   },
   {
    "duration": 25,
    "start_time": "2024-04-01T02:38:39.735Z"
   },
   {
    "duration": 49,
    "start_time": "2024-04-01T02:38:39.762Z"
   },
   {
    "duration": 16,
    "start_time": "2024-04-01T02:38:39.812Z"
   },
   {
    "duration": 1400,
    "start_time": "2024-04-01T02:38:39.829Z"
   },
   {
    "duration": 16,
    "start_time": "2024-04-01T02:38:41.231Z"
   },
   {
    "duration": 7,
    "start_time": "2024-04-01T02:38:41.248Z"
   },
   {
    "duration": 4,
    "start_time": "2024-04-01T02:38:41.257Z"
   },
   {
    "duration": 10,
    "start_time": "2024-04-01T02:38:41.288Z"
   },
   {
    "duration": 6,
    "start_time": "2024-04-01T02:38:41.300Z"
   },
   {
    "duration": 13,
    "start_time": "2024-04-01T02:38:41.310Z"
   },
   {
    "duration": 25,
    "start_time": "2024-04-01T02:38:41.324Z"
   },
   {
    "duration": 4,
    "start_time": "2024-04-01T02:38:41.351Z"
   },
   {
    "duration": 37,
    "start_time": "2024-04-01T02:38:41.356Z"
   },
   {
    "duration": 4,
    "start_time": "2024-04-01T02:38:41.394Z"
   },
   {
    "duration": 3,
    "start_time": "2024-04-01T02:38:41.400Z"
   },
   {
    "duration": 4,
    "start_time": "2024-04-01T02:38:41.404Z"
   },
   {
    "duration": 4,
    "start_time": "2024-04-01T02:38:41.410Z"
   },
   {
    "duration": 5,
    "start_time": "2024-04-01T02:38:41.416Z"
   },
   {
    "duration": 6,
    "start_time": "2024-04-01T02:38:41.423Z"
   },
   {
    "duration": 12,
    "start_time": "2024-04-01T02:38:41.431Z"
   },
   {
    "duration": 7,
    "start_time": "2024-04-01T02:38:41.445Z"
   },
   {
    "duration": 2122,
    "start_time": "2024-04-01T02:38:41.454Z"
   },
   {
    "duration": 10,
    "start_time": "2024-04-01T02:38:43.578Z"
   },
   {
    "duration": 27,
    "start_time": "2024-04-01T02:38:43.589Z"
   },
   {
    "duration": 187,
    "start_time": "2024-04-01T02:38:43.618Z"
   },
   {
    "duration": 0,
    "start_time": "2024-04-01T02:38:43.807Z"
   },
   {
    "duration": 0,
    "start_time": "2024-04-01T02:38:43.808Z"
   },
   {
    "duration": 0,
    "start_time": "2024-04-01T02:38:43.809Z"
   },
   {
    "duration": 465,
    "start_time": "2024-04-01T02:40:53.172Z"
   },
   {
    "duration": 16,
    "start_time": "2024-04-01T02:40:59.009Z"
   },
   {
    "duration": 18177,
    "start_time": "2024-04-01T17:43:21.471Z"
   },
   {
    "duration": 7486,
    "start_time": "2024-04-01T17:43:39.650Z"
   },
   {
    "duration": 1689,
    "start_time": "2024-04-01T17:43:47.137Z"
   },
   {
    "duration": 3,
    "start_time": "2024-04-01T17:43:48.827Z"
   },
   {
    "duration": 272,
    "start_time": "2024-04-01T17:43:48.832Z"
   },
   {
    "duration": 2,
    "start_time": "2024-04-01T17:43:49.106Z"
   },
   {
    "duration": 26,
    "start_time": "2024-04-01T17:43:49.110Z"
   },
   {
    "duration": 5,
    "start_time": "2024-04-01T17:43:49.137Z"
   },
   {
    "duration": 7,
    "start_time": "2024-04-01T17:43:49.144Z"
   },
   {
    "duration": 12,
    "start_time": "2024-04-01T17:43:49.152Z"
   },
   {
    "duration": 48,
    "start_time": "2024-04-01T17:43:49.165Z"
   },
   {
    "duration": 3,
    "start_time": "2024-04-01T17:43:49.214Z"
   },
   {
    "duration": 25,
    "start_time": "2024-04-01T17:43:49.218Z"
   },
   {
    "duration": 3,
    "start_time": "2024-04-01T17:43:49.246Z"
   },
   {
    "duration": 50,
    "start_time": "2024-04-01T17:43:49.251Z"
   },
   {
    "duration": 3,
    "start_time": "2024-04-01T17:43:49.303Z"
   },
   {
    "duration": 22,
    "start_time": "2024-04-01T17:43:49.308Z"
   },
   {
    "duration": 3,
    "start_time": "2024-04-01T17:43:49.331Z"
   },
   {
    "duration": 13,
    "start_time": "2024-04-01T17:43:49.335Z"
   },
   {
    "duration": 14,
    "start_time": "2024-04-01T17:43:49.349Z"
   },
   {
    "duration": 1704,
    "start_time": "2024-04-01T17:43:49.364Z"
   },
   {
    "duration": 4,
    "start_time": "2024-04-01T17:43:51.069Z"
   },
   {
    "duration": 35,
    "start_time": "2024-04-01T17:43:51.074Z"
   },
   {
    "duration": 369,
    "start_time": "2024-04-01T17:43:51.110Z"
   },
   {
    "duration": 279,
    "start_time": "2024-04-01T17:43:51.480Z"
   },
   {
    "duration": 273,
    "start_time": "2024-04-01T17:43:51.760Z"
   },
   {
    "duration": 5,
    "start_time": "2024-04-01T17:43:52.034Z"
   },
   {
    "duration": 47,
    "start_time": "2024-04-01T17:43:52.040Z"
   },
   {
    "duration": 25,
    "start_time": "2024-04-01T17:43:52.088Z"
   },
   {
    "duration": 9,
    "start_time": "2024-04-01T17:43:52.115Z"
   },
   {
    "duration": 13,
    "start_time": "2024-04-01T17:43:52.125Z"
   },
   {
    "duration": 25,
    "start_time": "2024-04-01T17:43:52.139Z"
   },
   {
    "duration": 40,
    "start_time": "2024-04-01T17:43:52.165Z"
   },
   {
    "duration": 12,
    "start_time": "2024-04-01T17:43:52.207Z"
   },
   {
    "duration": 1131,
    "start_time": "2024-04-01T17:43:52.221Z"
   },
   {
    "duration": 13,
    "start_time": "2024-04-01T17:43:53.353Z"
   },
   {
    "duration": 20,
    "start_time": "2024-04-01T17:43:53.367Z"
   },
   {
    "duration": 6,
    "start_time": "2024-04-01T17:43:53.388Z"
   },
   {
    "duration": 11,
    "start_time": "2024-04-01T17:43:53.395Z"
   },
   {
    "duration": 5,
    "start_time": "2024-04-01T17:43:53.407Z"
   },
   {
    "duration": 16,
    "start_time": "2024-04-01T17:43:53.415Z"
   },
   {
    "duration": 17,
    "start_time": "2024-04-01T17:43:53.432Z"
   },
   {
    "duration": 16,
    "start_time": "2024-04-01T17:43:53.451Z"
   },
   {
    "duration": 25,
    "start_time": "2024-04-01T17:43:53.468Z"
   },
   {
    "duration": 9,
    "start_time": "2024-04-01T17:43:53.494Z"
   },
   {
    "duration": 4,
    "start_time": "2024-04-01T17:43:53.504Z"
   },
   {
    "duration": 4,
    "start_time": "2024-04-01T17:43:53.510Z"
   },
   {
    "duration": 5,
    "start_time": "2024-04-01T17:43:53.516Z"
   },
   {
    "duration": 12,
    "start_time": "2024-04-01T17:43:53.522Z"
   },
   {
    "duration": 21,
    "start_time": "2024-04-01T17:43:53.535Z"
   },
   {
    "duration": 15,
    "start_time": "2024-04-01T17:43:53.557Z"
   },
   {
    "duration": 1436,
    "start_time": "2024-04-01T17:43:53.573Z"
   },
   {
    "duration": 3,
    "start_time": "2024-04-01T17:43:55.011Z"
   },
   {
    "duration": 19,
    "start_time": "2024-04-01T17:43:55.016Z"
   },
   {
    "duration": 1126,
    "start_time": "2024-04-01T17:43:55.036Z"
   },
   {
    "duration": 19,
    "start_time": "2024-04-01T17:43:56.163Z"
   },
   {
    "duration": 460,
    "start_time": "2024-04-01T17:43:56.183Z"
   },
   {
    "duration": 14,
    "start_time": "2024-04-01T17:43:56.644Z"
   },
   {
    "duration": 32485,
    "start_time": "2024-04-05T09:25:22.752Z"
   },
   {
    "duration": 7588,
    "start_time": "2024-04-05T09:25:55.239Z"
   },
   {
    "duration": 1617,
    "start_time": "2024-04-05T09:26:02.829Z"
   },
   {
    "duration": 3,
    "start_time": "2024-04-05T09:26:04.448Z"
   },
   {
    "duration": 287,
    "start_time": "2024-04-05T09:26:04.453Z"
   },
   {
    "duration": 3,
    "start_time": "2024-04-05T09:26:04.741Z"
   },
   {
    "duration": 15,
    "start_time": "2024-04-05T09:26:04.745Z"
   },
   {
    "duration": 19,
    "start_time": "2024-04-05T09:26:04.761Z"
   },
   {
    "duration": 9,
    "start_time": "2024-04-05T09:26:04.781Z"
   },
   {
    "duration": 5,
    "start_time": "2024-04-05T09:26:04.792Z"
   },
   {
    "duration": 41,
    "start_time": "2024-04-05T09:26:04.799Z"
   },
   {
    "duration": 3,
    "start_time": "2024-04-05T09:26:04.841Z"
   },
   {
    "duration": 56,
    "start_time": "2024-04-05T09:26:04.846Z"
   },
   {
    "duration": 4,
    "start_time": "2024-04-05T09:26:04.903Z"
   },
   {
    "duration": 21,
    "start_time": "2024-04-05T09:26:04.909Z"
   },
   {
    "duration": 6,
    "start_time": "2024-04-05T09:26:04.932Z"
   },
   {
    "duration": 14,
    "start_time": "2024-04-05T09:26:04.940Z"
   },
   {
    "duration": 11,
    "start_time": "2024-04-05T09:26:04.955Z"
   },
   {
    "duration": 17,
    "start_time": "2024-04-05T09:26:04.968Z"
   },
   {
    "duration": 15,
    "start_time": "2024-04-05T09:26:04.987Z"
   },
   {
    "duration": 1589,
    "start_time": "2024-04-05T09:26:05.003Z"
   },
   {
    "duration": 4,
    "start_time": "2024-04-05T09:26:06.593Z"
   },
   {
    "duration": 163,
    "start_time": "2024-04-05T09:26:06.599Z"
   },
   {
    "duration": 317,
    "start_time": "2024-04-05T09:26:06.763Z"
   },
   {
    "duration": 359,
    "start_time": "2024-04-05T09:26:07.082Z"
   },
   {
    "duration": 261,
    "start_time": "2024-04-05T09:26:07.442Z"
   },
   {
    "duration": 4,
    "start_time": "2024-04-05T09:26:07.704Z"
   },
   {
    "duration": 33,
    "start_time": "2024-04-05T09:26:07.711Z"
   },
   {
    "duration": 27,
    "start_time": "2024-04-05T09:26:07.746Z"
   },
   {
    "duration": 21,
    "start_time": "2024-04-05T09:26:07.774Z"
   },
   {
    "duration": 16,
    "start_time": "2024-04-05T09:26:07.801Z"
   },
   {
    "duration": 24,
    "start_time": "2024-04-05T09:26:07.818Z"
   },
   {
    "duration": 35,
    "start_time": "2024-04-05T09:26:07.843Z"
   },
   {
    "duration": 12,
    "start_time": "2024-04-05T09:26:07.879Z"
   },
   {
    "duration": 1125,
    "start_time": "2024-04-05T09:26:07.892Z"
   },
   {
    "duration": 13,
    "start_time": "2024-04-05T09:26:09.019Z"
   },
   {
    "duration": 622,
    "start_time": "2024-04-05T09:26:09.033Z"
   },
   {
    "duration": 677,
    "start_time": "2024-04-05T09:26:09.656Z"
   },
   {
    "duration": 54,
    "start_time": "2024-04-05T09:26:10.334Z"
   },
   {
    "duration": 7,
    "start_time": "2024-04-05T09:26:10.390Z"
   },
   {
    "duration": 18,
    "start_time": "2024-04-05T09:26:10.398Z"
   },
   {
    "duration": 7,
    "start_time": "2024-04-05T09:26:10.417Z"
   },
   {
    "duration": 7,
    "start_time": "2024-04-05T09:26:10.425Z"
   },
   {
    "duration": 20,
    "start_time": "2024-04-05T09:26:10.434Z"
   },
   {
    "duration": 2,
    "start_time": "2024-04-05T09:26:10.456Z"
   },
   {
    "duration": 8,
    "start_time": "2024-04-05T09:26:10.459Z"
   },
   {
    "duration": 7,
    "start_time": "2024-04-05T09:26:10.468Z"
   },
   {
    "duration": 5,
    "start_time": "2024-04-05T09:26:10.476Z"
   },
   {
    "duration": 5,
    "start_time": "2024-04-05T09:26:10.483Z"
   },
   {
    "duration": 6,
    "start_time": "2024-04-05T09:26:10.489Z"
   },
   {
    "duration": 5,
    "start_time": "2024-04-05T09:26:10.496Z"
   },
   {
    "duration": 7,
    "start_time": "2024-04-05T09:26:10.502Z"
   },
   {
    "duration": 1588,
    "start_time": "2024-04-05T09:26:10.510Z"
   },
   {
    "duration": 3,
    "start_time": "2024-04-05T09:26:12.101Z"
   },
   {
    "duration": 20,
    "start_time": "2024-04-05T09:26:12.105Z"
   },
   {
    "duration": 1207,
    "start_time": "2024-04-05T09:26:12.126Z"
   },
   {
    "duration": 18,
    "start_time": "2024-04-05T09:26:13.335Z"
   },
   {
    "duration": 471,
    "start_time": "2024-04-05T09:26:13.355Z"
   },
   {
    "duration": 13,
    "start_time": "2024-04-05T09:26:13.828Z"
   },
   {
    "duration": 11,
    "start_time": "2024-04-05T09:29:45.651Z"
   },
   {
    "duration": 4,
    "start_time": "2024-04-05T09:29:58.468Z"
   },
   {
    "duration": 4,
    "start_time": "2024-04-05T09:30:08.445Z"
   },
   {
    "duration": 13,
    "start_time": "2024-04-05T09:52:11.033Z"
   }
  ],
  "colab": {
   "provenance": []
  },
  "kernelspec": {
   "display_name": "Python 3 (ipykernel)",
   "language": "python",
   "name": "python3"
  },
  "language_info": {
   "codemirror_mode": {
    "name": "ipython",
    "version": 3
   },
   "file_extension": ".py",
   "mimetype": "text/x-python",
   "name": "python",
   "nbconvert_exporter": "python",
   "pygments_lexer": "ipython3",
   "version": "3.9.5"
  },
  "toc": {
   "base_numbering": 1,
   "nav_menu": {
    "height": "140px",
    "width": "233px"
   },
   "number_sections": true,
   "sideBar": true,
   "skip_h1_title": true,
   "title_cell": "Table of Contents",
   "title_sidebar": "Contents",
   "toc_cell": false,
   "toc_position": {},
   "toc_section_display": true,
   "toc_window_display": false
  }
 },
 "nbformat": 4,
 "nbformat_minor": 1
}
